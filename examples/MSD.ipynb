{
 "cells": [
  {
   "cell_type": "code",
   "execution_count": 62,
   "metadata": {},
   "outputs": [
    {
     "name": "stderr",
     "output_type": "stream",
     "text": [
      "WARNING: replacing module JuliaMBD.\n"
     ]
    },
    {
     "data": {
      "text/plain": [
       "Main.JuliaMBD"
      ]
     },
     "metadata": {},
     "output_type": "display_data"
    }
   ],
   "source": [
    "include(\"../src/JuliaMBD.jl\")"
   ]
  },
  {
   "cell_type": "code",
   "execution_count": 63,
   "metadata": {},
   "outputs": [],
   "source": [
    "using DifferentialEquations\n",
    "using Plots\n",
    "import .JuliaMBD"
   ]
  },
  {
   "cell_type": "code",
   "execution_count": 86,
   "metadata": {},
   "outputs": [
    {
     "data": {
      "text/plain": [
       "MSD (generic function with 1 method)"
      ]
     },
     "metadata": {},
     "output_type": "display_data"
    }
   ],
   "source": [
    "## MSD\n",
    "\n",
    "function MSD(;M, D, k, g = 9.8)\n",
    "    b = JuliaMBD.SubSystemBlock(:MSD)\n",
    "\n",
    "    JuliaMBD.addparameter!(b, :M, M)\n",
    "    JuliaMBD.addparameter!(b, :D, D)\n",
    "    JuliaMBD.addparameter!(b, :k, k)\n",
    "    JuliaMBD.addparameter!(b, :g, g)\n",
    "\n",
    "    in1 = JuliaMBD.Inport(:in1)\n",
    "    JuliaMBD.add!(b, in1)\n",
    "\n",
    "    out1 = JuliaMBD.Outport(:out1)\n",
    "    JuliaMBD.add!(b, out1)\n",
    "\n",
    "    constant1 = JuliaMBD.Constant(value = :(M*g))\n",
    "    JuliaMBD.add!(b, constant1)\n",
    "\n",
    "    gain1 = JuliaMBD.Gain(K = :D)\n",
    "    JuliaMBD.add!(b, gain1)\n",
    "\n",
    "    gain2 = JuliaMBD.Gain(K = :k)\n",
    "    JuliaMBD.add!(b, gain2)\n",
    "\n",
    "    gain3 = JuliaMBD.Gain(K = :(1/M))\n",
    "    JuliaMBD.add!(b, gain3)\n",
    "\n",
    "    int1 = JuliaMBD.Integrator(sin = JuliaMBD.OutPort(:int1sin), sout = JuliaMBD.OutPort(:int1sout))\n",
    "    JuliaMBD.add!(b, int1)\n",
    "\n",
    "    int2 = JuliaMBD.Integrator(initialcondition = :(M*g/k), sin = JuliaMBD.OutPort(:int2sin), sout = JuliaMBD.OutPort(:int2sout))\n",
    "    JuliaMBD.add!(b, int2)\n",
    "\n",
    "    sum1 = JuliaMBD.Add(signs=[:+, :+, :-, :-])\n",
    "    JuliaMBD.add!(b, sum1)\n",
    "\n",
    "    JuliaMBD.LineSignal(in1.env[:out], sum1.env[:in1])\n",
    "    JuliaMBD.LineSignal(constant1.env[:out], sum1.env[:in2])\n",
    "    JuliaMBD.LineSignal(gain1.env[:out], sum1.env[:in3])\n",
    "    JuliaMBD.LineSignal(gain2.env[:out], sum1.env[:in4])\n",
    "    JuliaMBD.LineSignal(sum1.env[:out], gain3.env[:in])\n",
    "\n",
    "    JuliaMBD.LineSignal(gain3.env[:out], int1.env[:in])\n",
    "    JuliaMBD.LineSignal(int1.env[:out], int2.env[:in])\n",
    "    JuliaMBD.LineSignal(int1.env[:out], gain1.env[:in])\n",
    "\n",
    "    JuliaMBD.LineSignal(int2.env[:out], gain2.env[:in])\n",
    "    JuliaMBD.LineSignal(int2.env[:out], out1.env[:in])\n",
    "\n",
    "    JuliaMBD.addscope!(b, :x, out1.env[:in])\n",
    "    b\n",
    "end"
   ]
  },
  {
   "cell_type": "code",
   "execution_count": 87,
   "metadata": {},
   "outputs": [
    {
     "data": {
      "text/plain": [
       "Test (generic function with 1 method)"
      ]
     },
     "metadata": {},
     "output_type": "display_data"
    }
   ],
   "source": [
    "## test\n",
    "\n",
    "function Test(;M, D, k, f, p_cycle, p_width)\n",
    "    b = JuliaMBD.SubSystemBlock(:Test)\n",
    "\n",
    "    # JuliaMBD.addparameter!(b, :M, M)\n",
    "    # JuliaMBD.addparameter!(b, :D, D)\n",
    "    # JuliaMBD.addparameter!(b, :k, k)\n",
    "    # JuliaMBD.addparameter!(b, :f, f)\n",
    "    # JuliaMBD.addparameter!(b, :p_cycle, p_cycle)\n",
    "    # JuliaMBD.addparameter!(b, :p_width, p_width)\n",
    "    # JuliaMBD.addparameter!(b, :g, 9.8)\n",
    "\n",
    "    msd = MSD(M=M, D=D, k=k)\n",
    "    JuliaMBD.add!(b, msd)\n",
    "\n",
    "    pulse = JuliaMBD.PulseGenerator(amplitude=f, period=p_cycle, pulsewidth=p_width, phasedelay=10.0)\n",
    "    JuliaMBD.LineSignal(b.timeport, pulse.env[:time])\n",
    "    JuliaMBD.add!(b, pulse)\n",
    "\n",
    "    JuliaMBD.LineSignal(pulse.env[:out], msd.env[:in1])\n",
    "\n",
    "    JuliaMBD.addscope!(b, :F, pulse.env[:out])\n",
    "    b\n",
    "end"
   ]
  },
  {
   "cell_type": "code",
   "execution_count": 93,
   "metadata": {},
   "outputs": [
    {
     "data": {
      "text/plain": [
       ":(function MSD_sfunc(int1sin, int2sin, in1; M = 10, D = 10, k = 10, g = 9.8, time = 0)\n",
       "      ()\n",
       "      var\"##989\" = k\n",
       "      var\"##994\" = 0.0\n",
       "      var\"##986\" = D\n",
       "      var\"##980\" = in1\n",
       "      var\"##983\" = M * g\n",
       "      var\"##982\" = var\"##983\"\n",
       "      var\"##992\" = 1 / M\n",
       "      begin\n",
       "          var\"##1012\" = int2sin\n",
       "          var\"##1013\" = int2sin\n",
       "      end\n",
       "      var\"##987\" = var\"##1012\"\n",
       "      var\"##988\" = var\"##989\" * var\"##987\"\n",
       "      begin\n",
       "          var\"##1007\" = var\"##988\"\n",
       "      end\n",
       "      var\"##981\" = var\"##1013\"\n",
       "      out1 = var\"##981\"\n",
       "      begin\n",
       "      end\n",
       "      var\"##998\" = (nothing, nothing)\n",
       "      begin\n",
       "          var\"##1005\" = var\"##982\"\n",
       "      end\n",
       "      begin\n",
       "          var\"##1010\" = int1sin\n",
       "          var\"##1011\" = int1sin\n",
       "      end\n",
       "      var\"##984\" = var\"##1011\"\n",
       "      var\"##985\" = var\"##986\" * var\"##984\"\n",
       "      begin\n",
       "          var\"##1006\" = var\"##985\"\n",
       "      end\n",
       "      var\"##1002\" = var\"##1006\"\n",
       "      var\"##996\" = var\"##1010\"\n",
       "      begin\n",
       "          var\"##1004\" = var\"##980\"\n",
       "      end\n",
       "      var\"##995\" = (nothing, nothing)\n",
       "      var\"##1000\" = var\"##1004\"\n",
       "      var\"##1001\" = var\"##1005\"\n",
       "      var\"##997\" = (M * g) / k\n",
       "      int2sout = var\"##996\"\n",
       "      begin\n",
       "      end\n",
       "      var\"##1003\" = var\"##1007\"\n",
       "      var\"##999\" = (((0 + var\"##1000\") + var\"##1001\") - var\"##1002\") - var\"##1003\"\n",
       "      begin\n",
       "          var\"##1008\" = var\"##999\"\n",
       "      end\n",
       "      var\"##990\" = var\"##1008\"\n",
       "      var\"##991\" = var\"##992\" * var\"##990\"\n",
       "      begin\n",
       "          var\"##1009\" = var\"##991\"\n",
       "      end\n",
       "      var\"##993\" = var\"##1009\"\n",
       "      int1sout = var\"##993\"\n",
       "      begin\n",
       "      end\n",
       "      (int1sout, int2sout, 0)\n",
       "  end)"
      ]
     },
     "metadata": {},
     "output_type": "display_data"
    }
   ],
   "source": [
    "b = MSD(M=10, D=10, k=10)\n",
    "JuliaMBD.expr_sfunc(b)"
   ]
  },
  {
   "cell_type": "code",
   "execution_count": 88,
   "metadata": {},
   "outputs": [
    {
     "data": {
      "text/plain": [
       "\"Block(Test)\""
      ]
     },
     "metadata": {},
     "output_type": "display_data"
    }
   ],
   "source": [
    "b = Test(M=10, D=10, k=10, f=10, p_cycle=20, p_width=50)"
   ]
  },
  {
   "cell_type": "code",
   "execution_count": 89,
   "metadata": {},
   "outputs": [],
   "source": [
    "eval(JuliaMBD.expr_sfunc(b))\n",
    "eval(JuliaMBD.expr_ofunc(b))\n",
    "eval(JuliaMBD.expr_ifunc(b))\n",
    "m = JuliaMBD.ODEModel(\n",
    "    b,\n",
    "    eval(JuliaMBD.expr_odemodel_ifunc(b)),\n",
    "    eval(JuliaMBD.expr_odemodel_sfunc(b)),\n",
    "    eval(JuliaMBD.expr_odemodel_ofunc(b))\n",
    ");"
   ]
  },
  {
   "cell_type": "code",
   "execution_count": 90,
   "metadata": {},
   "outputs": [
    {
     "ename": "UndefVarError",
     "evalue": "UndefVarError: M not defined",
     "output_type": "error",
     "traceback": [
      "UndefVarError: M not defined\n",
      "\n",
      "Stacktrace:\n",
      " [1] Test_ifunc(; time::Int64, int1sin::Int64, int2sin::Int64)\n",
      "   @ Main ./none:0\n",
      " [2] (::var\"#209#210\")(p::Vector{Any})\n",
      "   @ Main ./none:0\n",
      " [3] odesolve(blk::Main.JuliaMBD.ODEModel, params::Vector{Any}, tspan::Tuple{Float64, Float64}; alg::Tsit5{typeof(OrdinaryDiffEq.trivial_limiter!), typeof(OrdinaryDiffEq.trivial_limiter!), Static.False}, kwargs::Base.Pairs{Symbol, Union{}, Tuple{}, NamedTuple{(), Tuple{}}})\n",
      "   @ Main.JuliaMBD /workspaces/JuliaMBD/src/_ode.jl:16\n",
      " [4] simulate(blk::Main.JuliaMBD.ODEModel, tspan::Tuple{Float64, Float64}; n::Int64, alg::Tsit5{typeof(OrdinaryDiffEq.trivial_limiter!), typeof(OrdinaryDiffEq.trivial_limiter!), Static.False}, kwargs::Base.Pairs{Symbol, Union{}, Tuple{}, NamedTuple{(), Tuple{}}})\n",
      "   @ Main.JuliaMBD /workspaces/JuliaMBD/src/_ode.jl:28\n",
      " [5] simulate(blk::Main.JuliaMBD.ODEModel, tspan::Tuple{Float64, Float64})\n",
      "   @ Main.JuliaMBD /workspaces/JuliaMBD/src/_ode.jl:25\n",
      " [6] top-level scope\n",
      "   @ /workspaces/JuliaMBD/examples/MSD.ipynb:1"
     ]
    }
   ],
   "source": [
    "result = JuliaMBD.simulate(m, (0.0, 60.0))\n",
    "plot(result)"
   ]
  },
  {
   "cell_type": "code",
   "execution_count": null,
   "metadata": {},
   "outputs": [],
   "source": []
  }
 ],
 "metadata": {
  "kernelspec": {
   "display_name": "Julia 1.8.3",
   "language": "julia",
   "name": "julia-1.8"
  },
  "language_info": {
   "file_extension": ".jl",
   "mimetype": "application/julia",
   "name": "julia",
   "version": "1.8.3"
  }
 },
 "nbformat": 4,
 "nbformat_minor": 2
}
