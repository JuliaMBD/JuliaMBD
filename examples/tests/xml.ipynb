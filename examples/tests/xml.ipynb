{
 "cells": [
  {
   "cell_type": "code",
   "execution_count": 1,
   "metadata": {},
   "outputs": [],
   "source": [
    "using EzXML"
   ]
  },
  {
   "cell_type": "code",
   "execution_count": 2,
   "metadata": {},
   "outputs": [
    {
     "data": {
      "text/plain": [
       "Main.JuliaMBD"
      ]
     },
     "metadata": {},
     "output_type": "display_data"
    }
   ],
   "source": [
    "include(\"../../src/JuliaMBD.jl\")"
   ]
  },
  {
   "cell_type": "code",
   "execution_count": 37,
   "metadata": {},
   "outputs": [],
   "source": [
    "using JSON"
   ]
  },
  {
   "cell_type": "code",
   "execution_count": 3,
   "metadata": {},
   "outputs": [],
   "source": [
    "using .JuliaMBD"
   ]
  },
  {
   "cell_type": "code",
   "execution_count": 43,
   "metadata": {},
   "outputs": [
    {
     "data": {
      "text/plain": [
       "mkxmlblock (generic function with 3 methods)"
      ]
     },
     "metadata": {},
     "output_type": "display_data"
    }
   ],
   "source": [
    "function mkmxCell(; id::Int=-1, style::String=\"\", parent::Int=-1, type::Symbol = :none)\n",
    "    node = ElementNode(\"mxCell\")\n",
    "    if style != \"\"\n",
    "        link!(node, AttributeNode(\"style\", style))\n",
    "    end\n",
    "    if id >= 0\n",
    "        link!(node, AttributeNode(\"id\", string(id)))\n",
    "    end\n",
    "    if parent >= 0\n",
    "        link!(node, AttributeNode(\"parent\", string(parent)))\n",
    "    end\n",
    "    if type == :vertex\n",
    "        link!(node, AttributeNode(\"vertex\", \"1\"))\n",
    "    end\n",
    "    node\n",
    "end\n",
    "\n",
    "function mkmxGeometry(; x::Float64 = 0.0, y::Float64 = 0.0, width::Float64, height::Float64)\n",
    "    node = ElementNode(\"mxGeometry\")\n",
    "    if x != 0.0\n",
    "        link!(node, AttributeNode(\"x\", string(x)))\n",
    "    end\n",
    "    if y != 0.0\n",
    "        link!(node, AttributeNode(\"y\", string(y)))\n",
    "    end\n",
    "    link!(node, AttributeNode(\"width\", string(width)))\n",
    "    link!(node, AttributeNode(\"height\", string(height)))\n",
    "    link!(node, AttributeNode(\"as\", \"geometry\"))\n",
    "    node\n",
    "end\n",
    "\n",
    "function mkuserblock(; block::Symbol, id::Int, parent::Int, width::Float64=90.0, height::Float64=60.0)\n",
    "    node = ElementNode(\"object\")\n",
    "    link!(node, AttributeNode(\"label\", \"%block%\"))\n",
    "    link!(node, AttributeNode(\"block\", string(block)))\n",
    "    link!(node, AttributeNode(\"type\", \"block\"))\n",
    "    link!(node, AttributeNode(\"name\", \"\"))\n",
    "    link!(node, AttributeNode(\"placeholders\", \"1\"))\n",
    "    link!(node, AttributeNode(\"id\", string(id)))\n",
    "    tmp = mkmxCell(\n",
    "        parent=parent,\n",
    "        style=\"rounded=0;whiteSpace=wrap;html=1;fontSize=11;points=[[0,0.5,0,0,0],[1,0.5,0,0,0]];metaEdit=1;snapToPoint=0;resizable=1;rotatable=0;allowArrows=0;container=1;resizeHeight=0;connectable=0;collapsible=0;movable=1;\",\n",
    "        type=:vertex\n",
    "    )\n",
    "    link!(tmp, mkmxGeometry(width=width, height=height))\n",
    "    link!(node, tmp)\n",
    "    node\n",
    "end\n",
    "\n",
    "function mkinport(; name::Symbol, id::Int, parent::Int, width::Float64=10.0, height::Float64=10.0, x=-5.0, y=25.0)\n",
    "    node = ElementNode(\"object\")\n",
    "    link!(node, AttributeNode(\"label\", \"\"))\n",
    "    link!(node, AttributeNode(\"type\", \"inport\"))\n",
    "    link!(node, AttributeNode(\"name\", string(name)))\n",
    "    link!(node, AttributeNode(\"id\", string(id)))\n",
    "    tmp = mkmxCell(\n",
    "        parent=parent,\n",
    "        style=\"whiteSpace=wrap;html=1;aspect=fixed;snapToPoint=1;resizable=0;metaEdit=1;points=[[0,0.5,0,0,0]];editable=1;movable=1;rotatable=1;deletable=1;locked=0;connectable=1;noLabel=0;overflow=visible;\",\n",
    "        type=:vertex\n",
    "    )\n",
    "    link!(tmp, mkmxGeometry(width=width, height=height, x=x, y=y))\n",
    "    link!(node, tmp)\n",
    "    node\n",
    "end\n",
    "\n",
    "function mkoutport(; name::Symbol, id::Int, parent::Int, width::Float64=10.0, height::Float64=10.0, x=85.0, y=25.0)\n",
    "    node = ElementNode(\"object\")\n",
    "    link!(node, AttributeNode(\"label\", \"\"))\n",
    "    link!(node, AttributeNode(\"type\", \"outport\"))\n",
    "    link!(node, AttributeNode(\"name\", string(name)))\n",
    "    link!(node, AttributeNode(\"id\", string(id)))\n",
    "    tmp = mkmxCell(\n",
    "        parent=parent,\n",
    "        style=\"whiteSpace=wrap;html=1;aspect=fixed;snapToPoint=1;resizable=0;metaEdit=1;points=[[1,0.5,0,0,0]];editable=1;movable=1;rotatable=1;deletable=1;locked=0;connectable=1;noLabel=0;overflow=visible;fillColor=#000000;\",\n",
    "        type=:vertex\n",
    "    )\n",
    "    link!(tmp, mkmxGeometry(width=width, height=height, x=x, y=y))\n",
    "    link!(node, tmp)\n",
    "    node\n",
    "end\n",
    "\n",
    "function addxmlparams(node, k)\n",
    "    link!(node, AttributeNode(string(k), \"\"))\n",
    "end\n",
    "\n",
    "function getsymbol(p, env)\n",
    "    for (k,x) = env\n",
    "        if p == x\n",
    "            return k\n",
    "        end\n",
    "    end\n",
    "    return :none\n",
    "end\n",
    "    \n",
    "function mkxmlblock(b::JuliaMBD.AbstractBlock, width::Float64=90.0, height::Float64=60.0)\n",
    "    id = 2\n",
    "    xmlb = mkuserblock(; block=b.name, id=id, parent=1, width=width, height=height)\n",
    "    id += 1\n",
    "    xmlinports = []\n",
    "    y = collect(range(0.0, height, length(b.inports)+2))\n",
    "    for (i,p) = enumerate(b.inports)\n",
    "        k = getsymbol(p, b.env)\n",
    "        push!(xmlinports, mkinport(name=k, id=id, parent=2, y=y[i+1]-5))\n",
    "        id += 1\n",
    "    end\n",
    "    xmloutports = []\n",
    "    y = collect(range(0.0, height, length(b.outports)+2))\n",
    "    for (i,p) = enumerate(b.outports)\n",
    "        k = getsymbol(p, b.env)\n",
    "        push!(xmloutports, mkoutport(name=k, id=id, parent=2, y=y[i+1]-5))\n",
    "        id += 1\n",
    "    end\n",
    "\n",
    "    for p = b.parameterports\n",
    "        k = getsymbol(p, b.env)\n",
    "        addxmlparams(xmlb, k)\n",
    "    end\n",
    "    mxgraph = ElementNode(\"mxGraphModel\")\n",
    "    root = ElementNode(\"root\")\n",
    "    link!(mxgraph, root)\n",
    "    link!(root, mkmxCell(id=0))\n",
    "    link!(root, mkmxCell(id=1, parent=0))\n",
    "    link!(root, xmlb)\n",
    "    for x = xmlinports\n",
    "        link!(root, x)\n",
    "    end\n",
    "    for x = xmloutports\n",
    "        link!(root, x)\n",
    "    end\n",
    "    io = IOBuffer()\n",
    "    print(io, mxgraph)\n",
    "    str = String(take!(io)) |> x->replace(x, \"<\"=>\"&lt;\") |> x->replace(x, \">\"=>\"&gt;\")\n",
    "    \n",
    "    data = Dict()\n",
    "    data[\"xml\"] = str\n",
    "    data[\"w\"] = width\n",
    "    data[\"h\"] = height\n",
    "    data[\"aspect\"] = \"fixed\"\n",
    "    data[\"title\"] = string(b.name)\n",
    "    \"<mxlibrary>[$(JSON.json(data))]</mxlibrary>\"\n",
    "end"
   ]
  },
  {
   "cell_type": "code",
   "execution_count": 45,
   "metadata": {},
   "outputs": [
    {
     "data": {
      "text/plain": [
       "\"&lt;html&gt;\""
      ]
     },
     "metadata": {},
     "output_type": "display_data"
    }
   ],
   "source": [
    "\"<html>\" |> x->replace(x, \"<\"=>\"&lt;\") |> x->replace(x, \">\"=>\"&gt;\")"
   ]
  },
  {
   "cell_type": "code",
   "execution_count": 22,
   "metadata": {},
   "outputs": [
    {
     "data": {
      "text/plain": [
       "test (generic function with 1 method)"
      ]
     },
     "metadata": {},
     "output_type": "display_data"
    }
   ],
   "source": [
    "@model test begin\n",
    "    @parameter begin\n",
    "        b\n",
    "        a = 1\n",
    "    end\n",
    "    @block begin\n",
    "        in1 = Inport(:x)\n",
    "        in2 = Inport(:y)\n",
    "        out1 = Outport(:z)\n",
    "    end\n",
    "end"
   ]
  },
  {
   "cell_type": "code",
   "execution_count": 44,
   "metadata": {},
   "outputs": [
    {
     "name": "stdout",
     "output_type": "stream",
     "text": [
      "<mxlibrary>[{\"xml\":\"&lt;mxGraphModel&gt;&lt;root&gt;&lt;mxCell id=\\\"0\\\"/&gt;&lt;mxCell id=\\\"1\\\" parent=\\\"0\\\"/&gt;&lt;object label=\\\"%block%\\\" block=\\\"test\\\" type=\\\"block\\\" name=\\\"\\\" placeholders=\\\"1\\\" id=\\\"2\\\" b=\\\"\\\" a=\\\"\\\"&gt;&lt;mxCell style=\\\"rounded=0;whiteSpace=wrap;html=1;fontSize=11;points=[[0,0.5,0,0,0],[1,0.5,0,0,0]];metaEdit=1;snapToPoint=0;resizable=1;rotatable=0;allowArrows=0;container=1;resizeHeight=0;connectable=0;collapsible=0;movable=1;\\\" parent=\\\"1\\\" vertex=\\\"1\\\"&gt;&lt;mxGeometry width=\\\"90.0\\\" height=\\\"60.0\\\" as=\\\"geometry\\\"/&gt;&lt;/mxCell&gt;&lt;/object&gt;&lt;object label=\\\"\\\" type=\\\"inport\\\" name=\\\"x\\\" id=\\\"3\\\"&gt;&lt;mxCell style=\\\"whiteSpace=wrap;html=1;aspect=fixed;snapToPoint=1;resizable=0;metaEdit=1;points=[[0,0.5,0,0,0]];editable=1;movable=1;rotatable=1;deletable=1;locked=0;connectable=1;noLabel=0;overflow=visible;\\\" parent=\\\"2\\\" vertex=\\\"1\\\"&gt;&lt;mxGeometry x=\\\"-5.0\\\" y=\\\"15.0\\\" width=\\\"10.0\\\" height=\\\"10.0\\\" as=\\\"geometry\\\"/&gt;&lt;/mxCell&gt;&lt;/object&gt;&lt;object label=\\\"\\\" type=\\\"inport\\\" name=\\\"y\\\" id=\\\"4\\\"&gt;&lt;mxCell style=\\\"whiteSpace=wrap;html=1;aspect=fixed;snapToPoint=1;resizable=0;metaEdit=1;points=[[0,0.5,0,0,0]];editable=1;movable=1;rotatable=1;deletable=1;locked=0;connectable=1;noLabel=0;overflow=visible;\\\" parent=\\\"2\\\" vertex=\\\"1\\\"&gt;&lt;mxGeometry x=\\\"-5.0\\\" y=\\\"35.0\\\" width=\\\"10.0\\\" height=\\\"10.0\\\" as=\\\"geometry\\\"/&gt;&lt;/mxCell&gt;&lt;/object&gt;&lt;object label=\\\"\\\" type=\\\"outport\\\" name=\\\"z\\\" id=\\\"5\\\"&gt;&lt;mxCell style=\\\"whiteSpace=wrap;html=1;aspect=fixed;snapToPoint=1;resizable=0;metaEdit=1;points=[[1,0.5,0,0,0]];editable=1;movable=1;rotatable=1;deletable=1;locked=0;connectable=1;noLabel=0;overflow=visible;fillColor=#000000;\\\" parent=\\\"2\\\" vertex=\\\"1\\\"&gt;&lt;mxGeometry x=\\\"85.0\\\" y=\\\"25.0\\\" width=\\\"10.0\\\" height=\\\"10.0\\\" as=\\\"geometry\\\"/&gt;&lt;/mxCell&gt;&lt;/object&gt;&lt;/root&gt;&lt;/mxGraphModel&gt;\",\"aspect\":\"fixed\",\"w\":90.0,\"title\":\"test\",\"h\":60.0}]</mxlibrary>\n"
     ]
    }
   ],
   "source": [
    "println(mkxmlblock(test(b=1)))"
   ]
  },
  {
   "cell_type": "code",
   "execution_count": 26,
   "metadata": {},
   "outputs": [
    {
     "data": {
      "text/plain": [
       "\"<html>\\\\n\""
      ]
     },
     "metadata": {},
     "output_type": "display_data"
    }
   ],
   "source": [
    "{\n",
    "    \"xml\": \"&lt;mxGraphModel&gt;&lt;root&gt;&lt;mxCell id=\\\"0\\\"/&gt;&lt;mxCell id=\\\"1\\\" parent=\\\"0\\\"/&gt;&lt;object label=\\\"%block%\\\" block=\\\"UserDefined\\\" type=\\\"block\\\" name=\\\"\\\" placeholders=\\\"1\\\" id=\\\"2\\\"&gt;&lt;mxCell style=\\\"rounded=0;whiteSpace=wrap;html=1;fontSize=11;points=[[0,0.5,0,0,0],[1,0.5,0,0,0]];metaEdit=1;snapToPoint=0;resizable=1;rotatable=0;allowArrows=0;container=1;resizeHeight=0;connectable=0;collapsible=0;movable=1;\\\" vertex=\\\"1\\\" parent=\\\"1\\\"&gt;&lt;mxGeometry width=\\\"90\\\" height=\\\"60\\\" as=\\\"geometry\\\"/&gt;&lt;/mxCell&gt;&lt;/object&gt;&lt;object label=\\\"&amp;lt;p style=&amp;quot;line-height: 100%;&amp;quot;&amp;gt;&amp;lt;br&amp;gt;&amp;lt;/p&amp;gt;\\\" type=\\\"inport\\\" name=\\\"in\\\" id=\\\"3\\\"&gt;&lt;mxCell style=\\\"whiteSpace=wrap;html=1;aspect=fixed;snapToPoint=1;resizable=0;metaEdit=1;points=[[0,0.5,0,0,0]];editable=1;movable=1;rotatable=1;deletable=1;locked=0;connectable=1;noLabel=0;overflow=visible;direction=east;\\\" vertex=\\\"1\\\" parent=\\\"2\\\"&gt;&lt;mxGeometry x=\\\"-5.42857142857143\\\" y=\\\"25\\\" width=\\\"10\\\" height=\\\"10\\\" as=\\\"geometry\\\"/&gt;&lt;/mxCell&gt;&lt;/object&gt;&lt;object label=\\\"&amp;lt;p style=&amp;quot;line-height: 100%;&amp;quot;&amp;gt;&amp;lt;br&amp;gt;&amp;lt;/p&amp;gt;\\\" type=\\\"outport\\\" name=\\\"out\\\" id=\\\"4\\\"&gt;&lt;mxCell style=\\\"whiteSpace=wrap;html=1;aspect=fixed;snapToPoint=1;resizable=0;metaEdit=1;points=[[1,0.5,0,0,0]];editable=1;movable=1;rotatable=1;deletable=1;locked=0;connectable=1;noLabel=0;overflow=visible;fillColor=#000000;\\\" vertex=\\\"1\\\" parent=\\\"2\\\"&gt;&lt;mxGeometry x=\\\"84.57142857142858\\\" y=\\\"25\\\" width=\\\"10\\\" height=\\\"10\\\" as=\\\"geometry\\\"/&gt;&lt;/mxCell&gt;&lt;/object&gt;&lt;/root&gt;&lt;/mxGraphModel&gt;\",\n",
    "    \"w\": 90,\n",
    "    \"h\": 60,\n",
    "    \"aspect\": \"fixed\",\n",
    "    \"title\": \"User-defined block\"\n",
    "  },"
   ]
  },
  {
   "cell_type": "code",
   "execution_count": 29,
   "metadata": {},
   "outputs": [
    {
     "data": {
      "text/plain": [
       "\"<html>\\n\""
      ]
     },
     "metadata": {},
     "output_type": "display_data"
    }
   ],
   "source": [
    "unescape_string(\"<html>\\n\")"
   ]
  },
  {
   "cell_type": "code",
   "execution_count": 2,
   "metadata": {},
   "outputs": [
    {
     "data": {
      "text/plain": [
       "\"<mxGraphModel>\\n  <root>\\n    <mxCell id=\\\"0\\\"/>\\n    <mxCell id=\\\"1\\\" parent=\\\"0\\\"/>\\n    <object label=\\\"%block%\\\" block=\\\"UserDefined\\\" type=\\\"block\\\" name=\\\"\\\" placeholders=\\\"1\\\" id=\\\"2\\\">\\n      <mxCell style=\\\"rounded=0;whiteSpace=wrap;html=1;fontSize=11;points=[[0,0.5,0,0,0],[1,0.5,0,0,0\" ⋯ 984 bytes ⋯ \"ovable=1;rotatable=1;deletable=1;locked=0;connectable=1;noLabel=0;overflow=visible;fillColor=#000000;\\\" vertex=\\\"1\\\" parent=\\\"2\\\">\\n        <mxGeometry x=\\\"84.57142857142858\\\" y=\\\"25\\\" width=\\\"10\\\" height=\\\"10\\\" as=\\\"geometry\\\"/>\\n      </mxCell>\\n    </object>\\n  </root>\\n</mxGraphModel>\\n\""
      ]
     },
     "metadata": {},
     "output_type": "display_data"
    }
   ],
   "source": [
    "\"\"\"\n",
    "<mxGraphModel>\n",
    "  <root>\n",
    "    <mxCell id=\\\"0\\\"/>\n",
    "    <mxCell id=\\\"1\\\" parent=\\\"0\\\"/>\n",
    "    <object label=\\\"%block%\\\" block=\\\"UserDefined\\\" type=\\\"block\\\" name=\\\"\\\" placeholders=\\\"1\\\" id=\\\"2\\\">\n",
    "      <mxCell style=\\\"rounded=0;whiteSpace=wrap;html=1;fontSize=11;points=[[0,0.5,0,0,0],[1,0.5,0,0,0]];metaEdit=1;snapToPoint=0;resizable=1;rotatable=0;allowArrows=0;container=1;resizeHeight=0;connectable=0;collapsible=0;movable=1;\\\" vertex=\\\"1\\\" parent=\\\"1\\\">\n",
    "        <mxGeometry width=\\\"90\\\" height=\\\"60\\\" as=\\\"geometry\\\"/>\n",
    "      </mxCell>\n",
    "    </object>\n",
    "    <object label=\\\"&lt;p style=&quot;line-height: 100%;&quot;&gt;&lt;br&gt;&lt;/p&gt;\\\" type=\\\"inport\\\" name=\\\"in\\\" id=\\\"3\\\">\n",
    "      <mxCell style=\\\"whiteSpace=wrap;html=1;aspect=fixed;snapToPoint=1;resizable=0;metaEdit=1;points=[[0,0.5,0,0,0]];editable=1;movable=1;rotatable=1;deletable=1;locked=0;connectable=1;noLabel=0;overflow=visible;direction=east;\\\" vertex=\\\"1\\\" parent=\\\"2\\\">\n",
    "        <mxGeometry x=\\\"-5.42857142857143\\\" y=\\\"25\\\" width=\\\"10\\\" height=\\\"10\\\" as=\\\"geometry\\\"/>\n",
    "      </mxCell>\n",
    "    </object>\n",
    "    <object label=\\\"&lt;p style=&quot;line-height: 100%;&quot;&gt;&lt;br&gt;&lt;/p&gt;\\\" type=\\\"outport\\\" name=\\\"out\\\" id=\\\"4\\\">\n",
    "      <mxCell style=\\\"whiteSpace=wrap;html=1;aspect=fixed;snapToPoint=1;resizable=0;metaEdit=1;points=[[1,0.5,0,0,0]];editable=1;movable=1;rotatable=1;deletable=1;locked=0;connectable=1;noLabel=0;overflow=visible;fillColor=#000000;\\\" vertex=\\\"1\\\" parent=\\\"2\\\">\n",
    "        <mxGeometry x=\\\"84.57142857142858\\\" y=\\\"25\\\" width=\\\"10\\\" height=\\\"10\\\" as=\\\"geometry\\\"/>\n",
    "      </mxCell>\n",
    "    </object>\n",
    "  </root>\n",
    "</mxGraphModel>\n",
    "\"\"\""
   ]
  },
  {
   "cell_type": "code",
   "execution_count": 46,
   "metadata": {},
   "outputs": [
    {
     "data": {
      "text/plain": [
       "mkoutport (generic function with 1 method)"
      ]
     },
     "metadata": {},
     "output_type": "display_data"
    }
   ],
   "source": []
  },
  {
   "cell_type": "code",
   "execution_count": 30,
   "metadata": {},
   "outputs": [
    {
     "name": "stdout",
     "output_type": "stream",
     "text": [
      "<object label=\"%block%\" block=\"Gain\" type=\"block\" name=\"\" placeholders=\"1\" id=\"2\"><mxCell style=\"rounded=0;whiteSpace=wrap;html=1;fontSize=11;points=[[0,0.5,0,0,0],[1,0.5,0,0,0]];metaEdit=1;snapToPoint=0;resizable=1;rotatable=0;allowArrows=0;container=1;resizeHeight=0;connectable=0;collapsible=0;movable=1;\" id=\"2\" parent=\"1\" vertex=\"1\"><mxGeometry width=\"90\" height=\"60\" as=\"geometry\"/></mxCell></object>"
     ]
    }
   ],
   "source": [
    "print(stdout, mkuserblock(block=:Gain, id=2, parent=1))"
   ]
  },
  {
   "cell_type": "code",
   "execution_count": 3,
   "metadata": {},
   "outputs": [
    {
     "data": {
      "text/plain": [
       "EzXML.Node(<ELEMENT_NODE[mxGraphModel]@0x0000aaaaf399fff0>)"
      ]
     },
     "metadata": {},
     "output_type": "display_data"
    }
   ],
   "source": [
    "node = ElementNode(\"mxGraphModel\")"
   ]
  },
  {
   "cell_type": "code",
   "execution_count": 4,
   "metadata": {},
   "outputs": [
    {
     "data": {
      "text/plain": [
       "EzXML.Node(<ELEMENT_NODE[root]@0x0000aaaaf2f7cb40>)"
      ]
     },
     "metadata": {},
     "output_type": "display_data"
    }
   ],
   "source": [
    "link!(node, ElementNode(\"root\"))"
   ]
  },
  {
   "cell_type": "code",
   "execution_count": 5,
   "metadata": {},
   "outputs": [
    {
     "data": {
      "text/plain": [
       "EzXML.Node(<ELEMENT_NODE[mxGraphModel]@0x0000aaaaf399fff0>)"
      ]
     },
     "metadata": {},
     "output_type": "display_data"
    }
   ],
   "source": [
    "node"
   ]
  },
  {
   "cell_type": "code",
   "execution_count": 10,
   "metadata": {},
   "outputs": [
    {
     "data": {
      "text/plain": [
       "EzXML.Node(<ELEMENT_NODE[mxGraphModel]@0x0000aaaaf399fff0>)"
      ]
     },
     "metadata": {},
     "output_type": "display_data"
    }
   ],
   "source": [
    "doc = XMLDocument()\n",
    "setroot!(doc, node)"
   ]
  },
  {
   "cell_type": "code",
   "execution_count": 9,
   "metadata": {},
   "outputs": [
    {
     "data": {
      "text/plain": [
       "EzXML.Node"
      ]
     },
     "metadata": {},
     "output_type": "display_data"
    }
   ],
   "source": [
    "typeof(doc)"
   ]
  },
  {
   "cell_type": "code",
   "execution_count": 11,
   "metadata": {},
   "outputs": [
    {
     "data": {
      "text/plain": [
       "76"
      ]
     },
     "metadata": {},
     "output_type": "display_data"
    }
   ],
   "source": [
    "write(\"test.xml\", doc)"
   ]
  },
  {
   "cell_type": "code",
   "execution_count": null,
   "metadata": {},
   "outputs": [],
   "source": []
  }
 ],
 "metadata": {
  "kernelspec": {
   "display_name": "Julia 1.8.3",
   "language": "julia",
   "name": "julia-1.8"
  },
  "language_info": {
   "file_extension": ".jl",
   "mimetype": "application/julia",
   "name": "julia",
   "version": "1.8.3"
  }
 },
 "nbformat": 4,
 "nbformat_minor": 2
}
