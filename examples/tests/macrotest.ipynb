{
 "cells": [
  {
   "cell_type": "code",
   "execution_count": 1,
   "metadata": {},
   "outputs": [
    {
     "data": {
      "text/plain": [
       "Main.JuliaMBD"
      ]
     },
     "metadata": {},
     "output_type": "display_data"
    }
   ],
   "source": [
    "include(\"../src/JuliaMBD.jl\")"
   ]
  },
  {
   "cell_type": "code",
   "execution_count": 2,
   "metadata": {},
   "outputs": [],
   "source": [
    "using DifferentialEquations\n",
    "using Plots\n",
    "import .JuliaMBD\n",
    "import LookupTable"
   ]
  },
  {
   "cell_type": "code",
   "execution_count": 11,
   "metadata": {},
   "outputs": [
    {
     "data": {
      "text/plain": [
       ":(addparameter!(m, :x, x, Auto))"
      ]
     },
     "metadata": {},
     "output_type": "display_data"
    }
   ],
   "source": [
    "@macroexpand JuliaMBD.@parameter m x"
   ]
  },
  {
   "cell_type": "code",
   "execution_count": 14,
   "metadata": {},
   "outputs": [
    {
     "data": {
      "text/plain": [
       "quote\n",
       "    \u001b[90m#= /workspaces/JuliaMBD/examples/macrotest.ipynb:2 =#\u001b[39m\n",
       "    addparameter!(m, :x, 10, Float64)\n",
       "    \u001b[90m#= /workspaces/JuliaMBD/examples/macrotest.ipynb:3 =#\u001b[39m\n",
       "    addparameter!(m, :y, 10, Auto)\n",
       "end"
      ]
     },
     "metadata": {},
     "output_type": "display_data"
    }
   ],
   "source": [
    "@macroexpand JuliaMBD.@parameter m begin\n",
    "    x::Float64 = 10\n",
    "    y = 10\n",
    "end"
   ]
  },
  {
   "cell_type": "code",
   "execution_count": 17,
   "metadata": {},
   "outputs": [
    {
     "data": {
      "text/plain": [
       "quote\n",
       "    \u001b[90m#= /workspaces/JuliaMBD/src/_macro.jl:39 =#\u001b[39m\n",
       "    x = x\n",
       "    \u001b[90m#= /workspaces/JuliaMBD/src/_macro.jl:40 =#\u001b[39m\n",
       "    add!(m, x)\n",
       "end"
      ]
     },
     "metadata": {},
     "output_type": "display_data"
    }
   ],
   "source": [
    "@macroexpand JuliaMBD.@block m x = x"
   ]
  },
  {
   "cell_type": "code",
   "execution_count": 66,
   "metadata": {},
   "outputs": [
    {
     "data": {
      "text/plain": [
       "quote\n",
       "    \u001b[90m#= /workspaces/JuliaMBD/examples/macrotest.ipynb:2 =#\u001b[39m\n",
       "    JuliaMBD.addscope!(m, :x, getport(y, :u))\n",
       "end"
      ]
     },
     "metadata": {},
     "output_type": "display_data"
    }
   ],
   "source": [
    "@macroexpand JuliaMBD.@scope m begin\n",
    "    y.u => x\n",
    "end"
   ]
  },
  {
   "cell_type": "code",
   "execution_count": 33,
   "metadata": {},
   "outputs": [
    {
     "name": "stdout",
     "output_type": "stream",
     "text": [
      "Expr\n",
      "  head: Symbol .\n",
      "  args: Array{Any}((2,))\n",
      "    1: Symbol a\n",
      "    2: QuoteNode\n",
      "      value: Symbol x\n"
     ]
    }
   ],
   "source": [
    "Meta.dump(:(a.x))"
   ]
  },
  {
   "cell_type": "code",
   "execution_count": 34,
   "metadata": {},
   "outputs": [
    {
     "data": {
      "text/plain": [
       ":(a.x)"
      ]
     },
     "metadata": {},
     "output_type": "display_data"
    }
   ],
   "source": [
    "uu = Expr(:., :a, Expr(:quote, :x))"
   ]
  },
  {
   "cell_type": "code",
   "execution_count": 48,
   "metadata": {},
   "outputs": [
    {
     "data": {
      "text/plain": [
       "2"
      ]
     },
     "metadata": {},
     "output_type": "display_data"
    }
   ],
   "source": [
    "length(uu.args)"
   ]
  },
  {
   "cell_type": "code",
   "execution_count": 60,
   "metadata": {},
   "outputs": [
    {
     "data": {
      "text/plain": [
       "QuoteNode"
      ]
     },
     "metadata": {},
     "output_type": "display_data"
    }
   ],
   "source": [
    "typeof(uu.args[2])"
   ]
  },
  {
   "cell_type": "code",
   "execution_count": 64,
   "metadata": {},
   "outputs": [
    {
     "data": {
      "text/plain": [
       ":(getport(x, :a))"
      ]
     },
     "metadata": {},
     "output_type": "display_data"
    }
   ],
   "source": [
    "JuliaMBD._togetport(:(x.a))"
   ]
  },
  {
   "cell_type": "code",
   "execution_count": 42,
   "metadata": {},
   "outputs": [
    {
     "data": {
      "text/plain": [
       ":(x.a)"
      ]
     },
     "metadata": {},
     "output_type": "display_data"
    }
   ],
   "source": [
    "uu = :(x.a)"
   ]
  },
  {
   "cell_type": "code",
   "execution_count": 69,
   "metadata": {},
   "outputs": [
    {
     "data": {
      "text/plain": [
       ":(JuliaMBD.LineSignal(getport(x, :out), getport(a, :in)))"
      ]
     },
     "metadata": {},
     "output_type": "display_data"
    }
   ],
   "source": [
    "@macroexpand @JuliaMBD.connect m x.out => a.in"
   ]
  },
  {
   "cell_type": "code",
   "execution_count": 70,
   "metadata": {},
   "outputs": [
    {
     "data": {
      "text/plain": [
       "quote\n",
       "    \u001b[90m#= /workspaces/JuliaMBD/examples/macrotest.ipynb:2 =#\u001b[39m\n",
       "    JuliaMBD.LineSignal(getport(x, :out), getport(a, :in))\n",
       "    \u001b[90m#= /workspaces/JuliaMBD/examples/macrotest.ipynb:3 =#\u001b[39m\n",
       "    begin\n",
       "        \u001b[90m#= /workspaces/JuliaMBD/examples/macrotest.ipynb:4 =#\u001b[39m\n",
       "        JuliaMBD.addparameter!(m, :v, x, Auto)\n",
       "    end\n",
       "end"
      ]
     },
     "metadata": {},
     "output_type": "display_data"
    }
   ],
   "source": [
    "@macroexpand @JuliaMBD.connect m begin\n",
    "    x.out => a.in\n",
    "    @JuliaMBD.parameter m begin\n",
    "        v\n",
    "    end\n",
    "end"
   ]
  },
  {
   "cell_type": "code",
   "execution_count": 3,
   "metadata": {},
   "outputs": [],
   "source": [
    "import JuliaMBD: @model, @parameter, @connect"
   ]
  },
  {
   "cell_type": "code",
   "execution_count": 4,
   "metadata": {},
   "outputs": [
    {
     "data": {
      "text/plain": [
       ":(function (:FF)(; x::Float32 = 0, y = :y)\n",
       "      \u001b[90m#= /workspaces/JuliaMBD/examples/macrotest.ipynb:2 =#\u001b[39m\n",
       "      begin\n",
       "          \u001b[90m#= /workspaces/JuliaMBD/examples/macrotest.ipynb:3 =#\u001b[39m\n",
       "          JuliaMBD.addparameter!(tmp, :x, x, Float32)\n",
       "          \u001b[90m#= /workspaces/JuliaMBD/examples/macrotest.ipynb:4 =#\u001b[39m\n",
       "          JuliaMBD.addparameter!(tmp, :y, x, Auto)\n",
       "      end\n",
       "      \u001b[90m#= /workspaces/JuliaMBD/examples/macrotest.ipynb:6 =#\u001b[39m\n",
       "      begin\n",
       "          \u001b[90m#= /workspaces/JuliaMBD/examples/macrotest.ipynb:7 =#\u001b[39m\n",
       "          JuliaMBD.LineSignal(getport(x, :u), y)\n",
       "      end\n",
       "  end)"
      ]
     },
     "metadata": {},
     "output_type": "display_data"
    }
   ],
   "source": [
    "@macroexpand @model :FF begin\n",
    "@parameter begin\n",
    "        x::Float32\n",
    "        y\n",
    "    end\n",
    "    @connect begin\n",
    "        x.u => y\n",
    "    end\n",
    "end"
   ]
  },
  {
   "cell_type": "code",
   "execution_count": 100,
   "metadata": {},
   "outputs": [],
   "source": [
    "xs = quote\n",
    "    @model :FF begin\n",
    "@parameter begin\n",
    "        x = 10\n",
    "        y\n",
    "    end\n",
    "    @connect begin\n",
    "        x.u => y\n",
    "    end\n",
    "end\n",
    "end\n",
    "res = []\n",
    "JuliaMBD.getargs(xs, res)\n"
   ]
  },
  {
   "cell_type": "code",
   "execution_count": 101,
   "metadata": {},
   "outputs": [
    {
     "data": {
      "text/plain": [
       "2-element Vector{Any}:\n",
       " :($(Expr(:kw, :x, 10)))\n",
       " :y"
      ]
     },
     "metadata": {},
     "output_type": "display_data"
    }
   ],
   "source": [
    "res"
   ]
  },
  {
   "cell_type": "code",
   "execution_count": 82,
   "metadata": {},
   "outputs": [
    {
     "data": {
      "text/plain": [
       "4-element Vector{Any}:\n",
       " Symbol(\"@model\")\n",
       " :(\u001b[90m#= /workspaces/JuliaMBD/examples/macrotest.ipynb:2 =#\u001b[39m)\n",
       " :(:FF)\n",
       " quote\n",
       "    \u001b[90m#= /workspaces/JuliaMBD/examples/macrotest.ipynb:3 =#\u001b[39m\n",
       "    \u001b[90m#= /workspaces/JuliaMBD/examples/macrotest.ipynb:3 =#\u001b[39m @parameter begin\n",
       "            \u001b[90m#= /workspaces/JuliaMBD/examples/macrotest.ipynb:4 =#\u001b[39m\n",
       "            x\n",
       "            \u001b[90m#= /workspaces/JuliaMBD/examples/macrotest.ipynb:5 =#\u001b[39m\n",
       "            y\n",
       "        end\n",
       "    \u001b[90m#= /workspaces/JuliaMBD/examples/macrotest.ipynb:7 =#\u001b[39m\n",
       "    \u001b[90m#= /workspaces/JuliaMBD/examples/macrotest.ipynb:7 =#\u001b[39m @connect begin\n",
       "            \u001b[90m#= /workspaces/JuliaMBD/examples/macrotest.ipynb:8 =#\u001b[39m\n",
       "            x.u => y\n",
       "        end\n",
       "end"
      ]
     },
     "metadata": {},
     "output_type": "display_data"
    }
   ],
   "source": [
    "xs.args[2].args"
   ]
  },
  {
   "cell_type": "code",
   "execution_count": 7,
   "metadata": {},
   "outputs": [
    {
     "ename": "MethodError",
     "evalue": "MethodError: no method matching zero(::Type{Vector{Float64}})\nClosest candidates are:\n  zero(!Matched::Union{Type{P}, P}) where P<:Dates.Period at /opt/julia/share/julia/stdlib/v1.8/Dates/src/periods.jl:53\n  zero(!Matched::LinearAlgebra.Diagonal{T, StaticArraysCore.SVector{N, T}}) where {N, T} at ~/.julia/packages/StaticArrays/jA1zK/src/SDiagonal.jl:41\n  zero(!Matched::LinearAlgebra.Diagonal) at /opt/julia/share/julia/stdlib/v1.8/LinearAlgebra/src/special.jl:381\n  ...",
     "output_type": "error",
     "traceback": [
      "MethodError: no method matching zero(::Type{Vector{Float64}})\n",
      "Closest candidates are:\n",
      "  zero(!Matched::Union{Type{P}, P}) where P<:Dates.Period at /opt/julia/share/julia/stdlib/v1.8/Dates/src/periods.jl:53\n",
      "  zero(!Matched::LinearAlgebra.Diagonal{T, StaticArraysCore.SVector{N, T}}) where {N, T} at ~/.julia/packages/StaticArrays/jA1zK/src/SDiagonal.jl:41\n",
      "  zero(!Matched::LinearAlgebra.Diagonal) at /opt/julia/share/julia/stdlib/v1.8/LinearAlgebra/src/special.jl:381\n",
      "  ...\n",
      "\n",
      "Stacktrace:\n",
      " [1] top-level scope\n",
      "   @ /workspaces/JuliaMBD/examples/macrotest.ipynb:1"
     ]
    }
   ],
   "source": [
    "zero(Vector{Float64})"
   ]
  },
  {
   "cell_type": "code",
   "execution_count": null,
   "metadata": {},
   "outputs": [],
   "source": []
  }
 ],
 "metadata": {
  "kernelspec": {
   "display_name": "Julia 1.8.3",
   "language": "julia",
   "name": "julia-1.8"
  },
  "language_info": {
   "file_extension": ".jl",
   "mimetype": "application/julia",
   "name": "julia",
   "version": "1.8.3"
  }
 },
 "nbformat": 4,
 "nbformat_minor": 2
}
