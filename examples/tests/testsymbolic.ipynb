{
 "cells": [
  {
   "cell_type": "code",
   "execution_count": 11,
   "metadata": {},
   "outputs": [
    {
     "name": "stderr",
     "output_type": "stream",
     "text": [
      "WARNING: replacing module Symbolic.\n"
     ]
    },
    {
     "data": {
      "text/plain": [
       "Main.Symbolic"
      ]
     },
     "metadata": {},
     "output_type": "display_data"
    }
   ],
   "source": [
    "module Symbolic\n",
    "\n",
    "abstract type AbstractSymbolic end\n",
    "\n",
    "struct SymbolicVal <: AbstractSymbolic\n",
    "    val\n",
    "end\n",
    "\n",
    "struct SymbolicVar <: AbstractSymbolic\n",
    "    var::Symbol\n",
    "end\n",
    "\n",
    "struct SymbolicExpr <: AbstractSymbolic\n",
    "    head::Symbol\n",
    "    args::Vector{AbstractSymbolic}\n",
    "end\n",
    "\n",
    "\"\"\"\n",
    "Operations\n",
    "\"\"\"\n",
    "\n",
    "const operations = [:+, :-, :*, :/, :^, :exp, :sqrt, :log]\n",
    "\n",
    "for op = operations\n",
    "    @eval function Base.$op(x::T, y::S) where {T <: AbstractSymbolic, S <: Number}\n",
    "        SymbolicExpr($(Expr(:quote, op)), [x, SymbolicVal(y)])\n",
    "    end\n",
    "end\n",
    "\n",
    "for op = operations\n",
    "    @eval function Base.$op(x::T, y::S) where {T <: Number, S <: AbstractSymbolic}\n",
    "        SymbolicExpr($(Expr(:quote, op)), [SymbolicVal(x), y])\n",
    "    end\n",
    "end\n",
    "\n",
    "for op = operations\n",
    "    @eval function Base.$op(x::T, y::S) where {T <: AbstractSymbolic, S <: AbstractSymbolic}\n",
    "        SymbolicExpr($(Expr(:quote, op)), [x, y])\n",
    "    end\n",
    "end\n",
    "\n",
    "function _expr(x::SymbolicExpr)\n",
    "    args = [_expr(u) for u = x.args]\n",
    "    Expr(:call, x.head, args...)\n",
    "end\n",
    "\n",
    "function _expr(x::SymbolicVar)\n",
    "    x.var\n",
    "end\n",
    "\n",
    "function _expr(x::SymbolicVal)\n",
    "    x.val\n",
    "end\n",
    "\n",
    "macro param(x)\n",
    "    if typeof(x) == Symbol\n",
    "        :(SymbolicVar($(Expr(:quote, x))))\n",
    "    else\n",
    "        x\n",
    "    end\n",
    "end\n",
    "\n",
    "end"
   ]
  },
  {
   "cell_type": "code",
   "execution_count": 13,
   "metadata": {},
   "outputs": [
    {
     "data": {
      "text/plain": [
       "Main.Symbolic.SymbolicVar(:x)"
      ]
     },
     "metadata": {},
     "output_type": "display_data"
    }
   ],
   "source": [
    "Symbolic.@param x"
   ]
  },
  {
   "cell_type": "code",
   "execution_count": 135,
   "metadata": {},
   "outputs": [
    {
     "data": {
      "text/plain": [
       "Main.Symbolic.SymbolicVal(:x)"
      ]
     },
     "metadata": {},
     "output_type": "display_data"
    }
   ],
   "source": [
    "x = Symbolic.SymbolicVal(:x)"
   ]
  },
  {
   "cell_type": "code",
   "execution_count": 136,
   "metadata": {},
   "outputs": [
    {
     "data": {
      "text/plain": [
       "10"
      ]
     },
     "metadata": {},
     "output_type": "display_data"
    }
   ],
   "source": [
    "y = 10"
   ]
  },
  {
   "cell_type": "code",
   "execution_count": 137,
   "metadata": {},
   "outputs": [
    {
     "data": {
      "text/plain": [
       "Main.Symbolic.SymbolicExpr(:*, Main.Symbolic.AbstractSymbolic[Main.Symbolic.SymbolicVal(:x), Main.Symbolic.SymbolicVal(10)])"
      ]
     },
     "metadata": {},
     "output_type": "display_data"
    }
   ],
   "source": [
    "z = x * y"
   ]
  },
  {
   "cell_type": "code",
   "execution_count": 138,
   "metadata": {},
   "outputs": [
    {
     "data": {
      "text/plain": [
       "Main.Symbolic.SymbolicExpr(:+, Main.Symbolic.AbstractSymbolic[Main.Symbolic.SymbolicExpr(:*, Main.Symbolic.AbstractSymbolic[Main.Symbolic.SymbolicVal(:x), Main.Symbolic.SymbolicVal(10)]), Main.Symbolic.SymbolicVal(10)])"
      ]
     },
     "metadata": {},
     "output_type": "display_data"
    }
   ],
   "source": [
    "f = z + 10"
   ]
  },
  {
   "cell_type": "code",
   "execution_count": 139,
   "metadata": {},
   "outputs": [
    {
     "data": {
      "text/plain": [
       ":(x * 10 + 10)"
      ]
     },
     "metadata": {},
     "output_type": "display_data"
    }
   ],
   "source": [
    "Symbolic._expr(f)"
   ]
  },
  {
   "cell_type": "code",
   "execution_count": 14,
   "metadata": {},
   "outputs": [
    {
     "data": {
      "text/plain": [
       "tes (generic function with 1 method)"
      ]
     },
     "metadata": {},
     "output_type": "display_data"
    }
   ],
   "source": [
    "function tes(; kwargs...)\n",
    "    println(kwargs)\n",
    "end"
   ]
  },
  {
   "cell_type": "code",
   "execution_count": 16,
   "metadata": {},
   "outputs": [
    {
     "name": "stdout",
     "output_type": "stream",
     "text": [
      "Base.Pairs(:a => 0, :b => 1)\n"
     ]
    }
   ],
   "source": [
    "tes(a=0, b=1)"
   ]
  },
  {
   "cell_type": "code",
   "execution_count": null,
   "metadata": {},
   "outputs": [],
   "source": []
  }
 ],
 "metadata": {
  "kernelspec": {
   "display_name": "Julia 1.8.3",
   "language": "julia",
   "name": "julia-1.8"
  },
  "language_info": {
   "file_extension": ".jl",
   "mimetype": "application/julia",
   "name": "julia",
   "version": "1.8.3"
  }
 },
 "nbformat": 4,
 "nbformat_minor": 2
}
