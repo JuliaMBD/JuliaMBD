{
 "cells": [
  {
   "cell_type": "code",
   "execution_count": 1,
   "metadata": {},
   "outputs": [
    {
     "data": {
      "text/plain": [
       "Main.JuliaMBD"
      ]
     },
     "metadata": {},
     "output_type": "display_data"
    }
   ],
   "source": [
    "include(\"../src/JuliaMBD.jl\")"
   ]
  },
  {
   "cell_type": "code",
   "execution_count": 2,
   "metadata": {},
   "outputs": [],
   "source": [
    "using DifferentialEquations\n",
    "using Plots\n",
    "import .JuliaMBD\n",
    "import .JuliaMBD: @model, @parameter, @block, @connect, @scope"
   ]
  },
  {
   "cell_type": "code",
   "execution_count": 6,
   "metadata": {},
   "outputs": [
    {
     "data": {
      "text/plain": [
       "MSD_pfunc (generic function with 1 method)"
      ]
     },
     "metadata": {},
     "output_type": "display_data"
    }
   ],
   "source": [
    "## MSD\n",
    "\n",
    "@model MSD begin\n",
    "    @parameter begin\n",
    "        M\n",
    "        D\n",
    "        k\n",
    "        g = 9.8\n",
    "    end\n",
    "    @block begin\n",
    "        in1 = JuliaMBD.Inport(:in1)\n",
    "        out1 = JuliaMBD.Outport(:out1)\n",
    "        constant1 = JuliaMBD.Constant(value = :(M*g))\n",
    "        gain1 = JuliaMBD.Gain(K = :D)\n",
    "        gain2 = JuliaMBD.Gain(K = :k)\n",
    "        gain3 = JuliaMBD.Gain(K = :(1/M))\n",
    "        int1 = JuliaMBD.Integrator(sin = JuliaMBD.OutPort(:int1sin), sout = JuliaMBD.OutPort(:int1sout))\n",
    "        int2 = JuliaMBD.Integrator(initialcondition = :(M*g/k), sin = JuliaMBD.OutPort(:int2sin), sout = JuliaMBD.OutPort(:int2sout))\n",
    "        sum1 = JuliaMBD.Add(signs=[:+, :+, :-, :-])\n",
    "    end\n",
    "    @connect begin\n",
    "        int1.out => sum1.in1\n",
    "        constant1.out => sum1.in2\n",
    "        gain1.out => sum1.in3\n",
    "        gain2.out => sum1.in4\n",
    "        sum1.out => gain3.in\n",
    "        gain3.out => int1.in\n",
    "        int1.out => int2.in\n",
    "        int1.out => gain1.in\n",
    "        int2.out => gain2.in\n",
    "        int2.out => out1.in\n",
    "    end\n",
    "    @scope begin\n",
    "        out1.in => x\n",
    "        gain3.out => x2\n",
    "    end\n",
    "end"
   ]
  },
  {
   "cell_type": "code",
   "execution_count": 7,
   "metadata": {},
   "outputs": [
    {
     "data": {
      "text/plain": [
       "(8.3, 3, 0)"
      ]
     },
     "metadata": {},
     "output_type": "display_data"
    }
   ],
   "source": [
    "M = 10\n",
    "D = 2\n",
    "k = 3\n",
    "MSD_sfunc(3,4,3)"
   ]
  },
  {
   "cell_type": "code",
   "execution_count": 15,
   "metadata": {},
   "outputs": [
    {
     "data": {
      "text/plain": [
       "Test_pfunc (generic function with 1 method)"
      ]
     },
     "metadata": {},
     "output_type": "display_data"
    }
   ],
   "source": [
    "## test\n",
    "\n",
    "@model Test begin\n",
    "    @parameter begin\n",
    "        M\n",
    "        D\n",
    "        k\n",
    "        f\n",
    "        p_cycle\n",
    "        p_width\n",
    "    end\n",
    "    @block begin\n",
    "        msd = MSD(M=:M, D=:D, k=:k)\n",
    "        pulse = JuliaMBD.PulseGenerator(amplitude=:f, period=:p_cycle, pulsewidth=:p_width, phasedelay=10.0)\n",
    "    end\n",
    "    @connect begin\n",
    "        pulse.out => msd.in1\n",
    "    end\n",
    "    @scope begin\n",
    "        pulse.out => F\n",
    "    end\n",
    "end"
   ]
  },
  {
   "cell_type": "code",
   "execution_count": 19,
   "metadata": {},
   "outputs": [
    {
     "data": {
      "text/plain": [
       ":(function Test_sfunc(int1sin, int2sin; M = 10, D = 1, k = 10, f = 100, p_cycle = 20, p_width = 50, g = 9.8, time = 0)\n",
       "      var\"##718\" = f\n",
       "      var\"##685\" = M * g\n",
       "      var\"##684\" = var\"##685\"\n",
       "      begin\n",
       "          var\"##707\" = var\"##684\"\n",
       "      end\n",
       "      begin\n",
       "          var\"##706\" = int1sin\n",
       "          var\"##712\" = int1sin\n",
       "          var\"##713\" = int1sin\n",
       "      end\n",
       "      var\"##702\" = var\"##706\"\n",
       "      var\"##720\" = p_width\n",
       "      var\"##697\" = (nothing, nothing)\n",
       "      var\"##719\" = p_cycle\n",
       "      var\"##691\" = k\n",
       "      var\"##694\" = 1 / M\n",
       "      var\"##703\" = var\"##707\"\n",
       "      begin\n",
       "          var\"##714\" = int2sin\n",
       "          var\"##715\" = int2sin\n",
       "      end\n",
       "      var\"##689\" = var\"##714\"\n",
       "      var\"##700\" = (nothing, nothing)\n",
       "      var\"##683\" = var\"##715\"\n",
       "      out1 = var\"##683\"\n",
       "      begin\n",
       "      end\n",
       "      var\"##696\" = 0.0\n",
       "      var\"##721\" = 10.0\n",
       "      var\"##698\" = var\"##712\"\n",
       "      begin\n",
       "          var\"##722\" = time\n",
       "      end\n",
       "      var\"##688\" = D\n",
       "      var\"##690\" = var\"##691\" * var\"##689\"\n",
       "      begin\n",
       "          var\"##709\" = var\"##690\"\n",
       "      end\n",
       "      var\"##705\" = var\"##709\"\n",
       "      var\"##699\" = (M * g) / k\n",
       "      int2sout = var\"##698\"\n",
       "      begin\n",
       "      end\n",
       "      var\"##717\" = var\"##722\"\n",
       "      begin\n",
       "          \u001b[90m#= /workspaces/JuliaMBD/src/predefined/Sources/PulseGenerator.jl:27 =#\u001b[39m\n",
       "          var\"##716\" = if var\"##717\" < var\"##721\"\n",
       "                  \u001b[90m#= /workspaces/JuliaMBD/src/predefined/Sources/PulseGenerator.jl:28 =#\u001b[39m\n",
       "                  0\n",
       "              else\n",
       "                  \u001b[90m#= /workspaces/JuliaMBD/src/predefined/Sources/PulseGenerator.jl:30 =#\u001b[39m\n",
       "                  tmpu = (((var\"##717\" - var\"##721\") % var\"##719\") / var\"##719\") * 100\n",
       "                  \u001b[90m#= /workspaces/JuliaMBD/src/predefined/Sources/PulseGenerator.jl:31 =#\u001b[39m\n",
       "                  if tmpu < var\"##720\"\n",
       "                      \u001b[90m#= /workspaces/JuliaMBD/src/predefined/Sources/PulseGenerator.jl:32 =#\u001b[39m\n",
       "                      var\"##718\"\n",
       "                  else\n",
       "                      \u001b[90m#= /workspaces/JuliaMBD/src/predefined/Sources/PulseGenerator.jl:34 =#\u001b[39m\n",
       "                      0\n",
       "                  end\n",
       "              end\n",
       "      end\n",
       "      begin\n",
       "          var\"##723\" = var\"##716\"\n",
       "      end\n",
       "      in1 = var\"##723\"\n",
       "      var\"##682\" = in1\n",
       "      begin\n",
       "      end\n",
       "      var\"##686\" = var\"##713\"\n",
       "      var\"##687\" = var\"##688\" * var\"##686\"\n",
       "      begin\n",
       "          var\"##708\" = var\"##687\"\n",
       "      end\n",
       "      var\"##704\" = var\"##708\"\n",
       "      var\"##701\" = (((0 + var\"##702\") + var\"##703\") - var\"##704\") - var\"##705\"\n",
       "      begin\n",
       "          var\"##710\" = var\"##701\"\n",
       "      end\n",
       "      var\"##692\" = var\"##710\"\n",
       "      var\"##693\" = var\"##694\" * var\"##692\"\n",
       "      begin\n",
       "          var\"##711\" = var\"##693\"\n",
       "      end\n",
       "      var\"##695\" = var\"##711\"\n",
       "      int1sout = var\"##695\"\n",
       "      begin\n",
       "      end\n",
       "      (int1sout, int2sout)\n",
       "  end)"
      ]
     },
     "metadata": {},
     "output_type": "display_data"
    }
   ],
   "source": [
    "b = Test(M=10, D=1, k=10, f=100, p_cycle=20, p_width=50)\n",
    "JuliaMBD.expr_sfunc(b)\n",
    "# Test_sfunc(1,2, M=10, D=10, k=10, f=100, p_cycle=20, p_width=50, time=10000)"
   ]
  },
  {
   "cell_type": "code",
   "execution_count": 11,
   "metadata": {},
   "outputs": [],
   "source": [
    "# eval(JuliaMBD.expr_sfunc(b))\n",
    "# eval(JuliaMBD.expr_ofunc(b))\n",
    "# eval(JuliaMBD.expr_ifunc(b))\n",
    "# eval(JuliaMBD.expr_pfunc(b))\n",
    "m = JuliaMBD.ODEModel(\n",
    "    b,\n",
    "    eval(JuliaMBD.expr_odemodel_pfunc(b)),\n",
    "    eval(JuliaMBD.expr_odemodel_ifunc(b)),\n",
    "    eval(JuliaMBD.expr_odemodel_sfunc(b)),\n",
    "    eval(JuliaMBD.expr_odemodel_ofunc(b))\n",
    ");"
   ]
  },
  {
   "cell_type": "code",
   "execution_count": 12,
   "metadata": {},
   "outputs": [
    {
     "ename": "UndefVarError",
     "evalue": "UndefVarError: f not defined",
     "output_type": "error",
     "traceback": [
      "UndefVarError: f not defined\n",
      "\n",
      "Stacktrace:\n",
      " [1] Test_pfunc\n",
      "   @ ./none:0 [inlined]\n",
      " [2] (::var\"#19#20\")()\n",
      "   @ Main ./none:0\n",
      " [3] simulate(blk::Main.JuliaMBD.ODEModel, tspan::Tuple{Float64, Float64}; n::Int64, alg::Tsit5{typeof(OrdinaryDiffEq.trivial_limiter!), typeof(OrdinaryDiffEq.trivial_limiter!), Static.False}, kwargs::Base.Pairs{Symbol, Union{}, Tuple{}, NamedTuple{(), Tuple{}}})\n",
      "   @ Main.JuliaMBD /workspaces/JuliaMBD/src/_ode.jl:27\n",
      " [4] simulate\n",
      "   @ /workspaces/JuliaMBD/src/_ode.jl:26 [inlined]\n",
      " [5] macro expansion\n",
      "   @ /workspaces/JuliaMBD/examples/MSD2.ipynb:2 [inlined]\n",
      " [6] top-level scope\n",
      "   @ ./timing.jl:262 [inlined]\n",
      " [7] top-level scope\n",
      "   @ /workspaces/JuliaMBD/examples/MSD2.ipynb:0"
     ]
    }
   ],
   "source": [
    "@time begin\n",
    "    result = JuliaMBD.simulate(m, (0.0, 60.0))\n",
    "    plot(result, layout=(3,1))\n",
    "end"
   ]
  },
  {
   "cell_type": "code",
   "execution_count": null,
   "metadata": {},
   "outputs": [],
   "source": []
  }
 ],
 "metadata": {
  "kernelspec": {
   "display_name": "Julia 1.8.3",
   "language": "julia",
   "name": "julia-1.8"
  },
  "language_info": {
   "file_extension": ".jl",
   "mimetype": "application/julia",
   "name": "julia",
   "version": "1.8.3"
  }
 },
 "nbformat": 4,
 "nbformat_minor": 2
}
