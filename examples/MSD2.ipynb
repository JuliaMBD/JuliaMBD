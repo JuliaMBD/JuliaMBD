{
 "cells": [
  {
   "cell_type": "code",
   "execution_count": 1,
   "metadata": {},
   "outputs": [
    {
     "data": {
      "text/plain": [
       "Main.JuliaMBD"
      ]
     },
     "metadata": {},
     "output_type": "display_data"
    }
   ],
   "source": [
    "include(\"../src/JuliaMBD.jl\")"
   ]
  },
  {
   "cell_type": "code",
   "execution_count": 2,
   "metadata": {},
   "outputs": [],
   "source": [
    "using DifferentialEquations\n",
    "using Plots\n",
    "using .JuliaMBD\n",
    "# import .JuliaMBD\n",
    "# import .JuliaMBD: @model, @parameter, @block, @connect, @scope"
   ]
  },
  {
   "cell_type": "code",
   "execution_count": 3,
   "metadata": {},
   "outputs": [
    {
     "data": {
      "text/plain": [
       "MSD (generic function with 1 method)"
      ]
     },
     "metadata": {},
     "output_type": "display_data"
    }
   ],
   "source": [
    "## MSD\n",
    "\n",
    "@model MSD begin\n",
    "    @parameter begin\n",
    "        M\n",
    "        D\n",
    "        k\n",
    "        g = 9.8\n",
    "    end\n",
    "    @block begin\n",
    "        in1 = JuliaMBD.Inport(:in1)\n",
    "        out1 = JuliaMBD.Outport(:out1)\n",
    "        constant1 = JuliaMBD.Constant(value = M*g)\n",
    "        gain1 = JuliaMBD.Gain(K = D)\n",
    "        gain2 = JuliaMBD.Gain(K = k)\n",
    "        gain3 = JuliaMBD.Gain(K = 1/M)\n",
    "        int1 = JuliaMBD.Integrator()\n",
    "        int2 = JuliaMBD.Integrator(initialcondition = M*g/k)\n",
    "        sum1 = JuliaMBD.Add(signs=[:+, :+, :-, :-])\n",
    "    end\n",
    "    @connect begin\n",
    "        in1.out => sum1.in1\n",
    "        constant1.out => sum1.in2\n",
    "        gain1.out => sum1.in3\n",
    "        gain2.out => sum1.in4\n",
    "        sum1.out => gain3.in\n",
    "        gain3.out => int1.in\n",
    "        int1.out => int2.in\n",
    "        int1.out => gain1.in\n",
    "        int2.out => gain2.in\n",
    "        int2.out => out1.in\n",
    "    end\n",
    "    @scope begin\n",
    "        out1.in => x\n",
    "        gain3.out => x2\n",
    "    end\n",
    "end"
   ]
  },
  {
   "cell_type": "code",
   "execution_count": 4,
   "metadata": {},
   "outputs": [
    {
     "data": {
      "text/plain": [
       "Test (generic function with 1 method)"
      ]
     },
     "metadata": {},
     "output_type": "display_data"
    }
   ],
   "source": [
    "## test\n",
    "\n",
    "@model Test begin\n",
    "    @parameter begin\n",
    "        M\n",
    "        D\n",
    "        k\n",
    "        f\n",
    "        p_cycle\n",
    "        p_width\n",
    "    end\n",
    "    @block begin\n",
    "        msd = MSD(M=M, D=D, k=k)\n",
    "        pulse = JuliaMBD.PulseGenerator(amplitude=f, period=p_cycle, pulsewidth=p_width, phasedelay=10.0)\n",
    "    end\n",
    "    @connect begin\n",
    "        pulse.out => msd.in1\n",
    "    end\n",
    "    @scope begin\n",
    "        pulse.out => F\n",
    "    end\n",
    "end"
   ]
  },
  {
   "cell_type": "code",
   "execution_count": 5,
   "metadata": {},
   "outputs": [
    {
     "data": {
      "text/plain": [
       "\"Block(Test)\""
      ]
     },
     "metadata": {},
     "output_type": "display_data"
    }
   ],
   "source": [
    "b = Test(M=10, D=10, k=10, f=100, p_cycle=20, p_width=50)"
   ]
  },
  {
   "cell_type": "code",
   "execution_count": 6,
   "metadata": {},
   "outputs": [],
   "source": [
    "eval(JuliaMBD.expr_sfunc(b))\n",
    "eval(JuliaMBD.expr_ofunc(b))\n",
    "eval(JuliaMBD.expr_ifunc(b))\n",
    "eval(JuliaMBD.expr_pfunc(b))\n",
    "m = JuliaMBD.ODEModel(\n",
    "    b,\n",
    "    eval(JuliaMBD.expr_odemodel_pfunc(b)),\n",
    "    eval(JuliaMBD.expr_odemodel_ifunc(b)),\n",
    "    eval(JuliaMBD.expr_odemodel_sfunc(b)),\n",
    "    eval(JuliaMBD.expr_odemodel_ofunc(b))\n",
    ");"
   ]
  },
  {
   "cell_type": "code",
   "execution_count": 7,
   "metadata": {},
   "outputs": [],
   "source": [
    "@time begin\n",
    "    result = JuliaMBD.simulate(m, (0.0, 60.0))\n",
    "    plot(result, layout=(3,1))\n",
    "end"
   ]
  },
  {
   "cell_type": "code",
   "execution_count": null,
   "metadata": {},
   "outputs": [],
   "source": []
  }
 ],
 "metadata": {
  "kernelspec": {
   "display_name": "Julia 1.8.3",
   "language": "julia",
   "name": "julia-1.8"
  },
  "language_info": {
   "file_extension": ".jl",
   "mimetype": "application/julia",
   "name": "julia",
   "version": "1.8.3"
  }
 },
 "nbformat": 4,
 "nbformat_minor": 2
}
