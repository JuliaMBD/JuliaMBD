{
 "cells": [
  {
   "cell_type": "code",
   "execution_count": 644,
   "metadata": {},
   "outputs": [
    {
     "name": "stderr",
     "output_type": "stream",
     "text": [
      "WARNING: replacing module JuliaMBD.\n"
     ]
    },
    {
     "data": {
      "text/plain": [
       "Main.JuliaMBD"
      ]
     },
     "metadata": {},
     "output_type": "display_data"
    }
   ],
   "source": [
    "include(\"../src/JuliaMBD.jl\")"
   ]
  },
  {
   "cell_type": "code",
   "execution_count": 645,
   "metadata": {},
   "outputs": [],
   "source": [
    "import .JuliaMBD"
   ]
  },
  {
   "cell_type": "code",
   "execution_count": 646,
   "metadata": {},
   "outputs": [
    {
     "data": {
      "text/plain": [
       "\"Line(##3178)\""
      ]
     },
     "metadata": {},
     "output_type": "display_data"
    }
   ],
   "source": [
    "b = JuliaMBD.SimpleBlock(:test)\n",
    "pout = JuliaMBD.OutPort(:a, Float64)\n",
    "pin = JuliaMBD.InPort(:b, Float64)\n",
    "JuliaMBD.set!(b, pout.name, pout)\n",
    "JuliaMBD.set!(b, pin.name, pin)\n",
    "pext = JuliaMBD.OutPort(:ex)\n",
    "JuliaMBD.LineSignal(pext, pin, \"s(t)\")"
   ]
  },
  {
   "cell_type": "code",
   "execution_count": 264,
   "metadata": {},
   "outputs": [
    {
     "data": {
      "text/plain": [
       "4-element Vector{Main.JuliaMBD.AbstractComponent}:\n",
       " \"OutPort(ex)\"\n",
       " \"InPort(b)\"\n",
       " \"Block(test)\"\n",
       " \"OutPort(a)\""
      ]
     },
     "metadata": {},
     "output_type": "display_data"
    }
   ],
   "source": [
    "JuliaMBD.tsort(JuliaMBD.allcomponents(b))"
   ]
  },
  {
   "cell_type": "code",
   "execution_count": 265,
   "metadata": {},
   "outputs": [
    {
     "data": {
      "text/plain": [
       "\"Block(Gain)\""
      ]
     },
     "metadata": {},
     "output_type": "display_data"
    }
   ],
   "source": [
    "bb = JuliaMBD.Gain()"
   ]
  },
  {
   "cell_type": "code",
   "execution_count": 266,
   "metadata": {},
   "outputs": [
    {
     "data": {
      "text/plain": [
       "\"Line(##635)\""
      ]
     },
     "metadata": {},
     "output_type": "display_data"
    }
   ],
   "source": [
    "b1 = JuliaMBD.Inport(:t, Float64)\n",
    "b2 = JuliaMBD.Gain(in=JuliaMBD.InPort(:gainin), out=JuliaMBD.OutPort(:gainout))\n",
    "b3 = JuliaMBD.Outport(:y, Float64)\n",
    "JuliaMBD.ConstSignal(:K, b2.env[:K])\n",
    "JuliaMBD.LineSignal(b1.outports[1], b2.env[:in], \"s(t)\")\n",
    "JuliaMBD.LineSignal(b2.env[:out], b3.inports[1], \"s(t)\")"
   ]
  },
  {
   "cell_type": "code",
   "execution_count": 267,
   "metadata": {},
   "outputs": [
    {
     "data": {
      "text/plain": [
       "10-element Vector{Main.JuliaMBD.AbstractComponent}:\n",
       " \"Parameter(##632)\"\n",
       " \"InPort(t)\"\n",
       " \"Block(Inport)\"\n",
       " \"OutPort(##631)\"\n",
       " \"InPort(gainin)\"\n",
       " \"Block(Gain)\"\n",
       " \"OutPort(gainout)\"\n",
       " \"InPort(##633)\"\n",
       " \"Block(Outport)\"\n",
       " \"OutPort(y)\""
      ]
     },
     "metadata": {},
     "output_type": "display_data"
    }
   ],
   "source": [
    "JuliaMBD.tsort(JuliaMBD.allcomponents(b3))"
   ]
  },
  {
   "cell_type": "code",
   "execution_count": 268,
   "metadata": {},
   "outputs": [
    {
     "data": {
      "text/plain": [
       "10-element Vector{Expr}:\n",
       " :(var\"##632\" = K)\n",
       " :(())\n",
       " :(var\"##631\" = (Float64)(t))\n",
       " quote\n",
       "    var\"##634\" = var\"##631\"\n",
       "end\n",
       " :(gainin = var\"##634\")\n",
       " :(gainout = var\"##632\" * gainin)\n",
       " quote\n",
       "    var\"##635\" = gainout\n",
       "end\n",
       " :(var\"##633\" = var\"##635\")\n",
       " :(y = (Float64)(var\"##633\"))\n",
       " quote\n",
       "end"
      ]
     },
     "metadata": {},
     "output_type": "display_data"
    }
   ],
   "source": [
    "expr = [JuliaMBD._expr(m) for m = JuliaMBD.tsort(JuliaMBD.allcomponents(b3))]\n",
    "    "
   ]
  },
  {
   "cell_type": "code",
   "execution_count": 293,
   "metadata": {},
   "outputs": [
    {
     "data": {
      "text/plain": [
       "Sys1 (generic function with 1 method)"
      ]
     },
     "metadata": {},
     "output_type": "display_data"
    }
   ],
   "source": [
    "function Sys1()\n",
    "    b = JuliaMBD.SubSystemBlock(:Sys1)\n",
    "    b1 = JuliaMBD.Inport(:t, Float64)\n",
    "    b2 = JuliaMBD.Gain(K = JuliaMBD.ParameterPort(:K, Float64))\n",
    "    b3 = JuliaMBD.Outport(:y, Float64)\n",
    "    JuliaMBD.add!(b, b1)\n",
    "    JuliaMBD.add!(b, b2)\n",
    "    JuliaMBD.add!(b, b3)\n",
    "    JuliaMBD.set!(b, :K, b2.env[:K])\n",
    "    JuliaMBD.LineSignal(b1.env[:out], b2.env[:in], \"s(t)\")\n",
    "    JuliaMBD.LineSignal(b2.env[:out], b3.env[:in], \"s(t)\")\n",
    "    b\n",
    "end\n"
   ]
  },
  {
   "cell_type": "code",
   "execution_count": 294,
   "metadata": {},
   "outputs": [
    {
     "data": {
      "text/plain": [
       "\"Block(Sys1)\""
      ]
     },
     "metadata": {},
     "output_type": "display_data"
    }
   ],
   "source": [
    "b = Sys1()"
   ]
  },
  {
   "cell_type": "code",
   "execution_count": 295,
   "metadata": {},
   "outputs": [
    {
     "data": {
      "text/plain": [
       ":(function Sys1_systemfunction(t::Float64; K::Float64)\n",
       "      ()\n",
       "      ()\n",
       "      var\"##692\" = (Float64)(t)\n",
       "      begin\n",
       "          var\"##696\" = var\"##692\"\n",
       "      end\n",
       "      var\"##693\" = var\"##696\"\n",
       "      var\"##694\" = K * var\"##693\"\n",
       "      begin\n",
       "          var\"##697\" = var\"##694\"\n",
       "      end\n",
       "      var\"##695\" = var\"##697\"\n",
       "      y = (Float64)(var\"##695\")\n",
       "      begin\n",
       "      end\n",
       "      (y = (Float64)(y),)\n",
       "  end)"
      ]
     },
     "metadata": {},
     "output_type": "display_data"
    }
   ],
   "source": [
    "expr = JuliaMBD.expr_function(b)"
   ]
  },
  {
   "cell_type": "code",
   "execution_count": 283,
   "metadata": {},
   "outputs": [
    {
     "data": {
      "text/plain": [
       "Sys2 (generic function with 1 method)"
      ]
     },
     "metadata": {},
     "output_type": "display_data"
    }
   ],
   "source": [
    "function Sys2()\n",
    "    b = JuliaMBD.SubSystemBlock(:Sys2)\n",
    "    b1 = JuliaMBD.Inport(:t, Float64)\n",
    "    b2 = Sys1()\n",
    "    b3 = JuliaMBD.Outport(:y, Float64)\n",
    "    JuliaMBD.add!(b, b1)\n",
    "    JuliaMBD.add!(b, b2)\n",
    "    JuliaMBD.add!(b, b3)\n",
    "    JuliaMBD.LineSignal(b1.env[:out], b2.env[:t], \"s(t)\")\n",
    "    JuliaMBD.LineSignal(b2.env[:y], b3.env[:in], \"s(t)\")\n",
    "    b\n",
    "end\n"
   ]
  },
  {
   "cell_type": "code",
   "execution_count": 284,
   "metadata": {},
   "outputs": [
    {
     "data": {
      "text/plain": [
       "\"Block(Sys2)\""
      ]
     },
     "metadata": {},
     "output_type": "display_data"
    }
   ],
   "source": [
    "bb = Sys2()"
   ]
  },
  {
   "cell_type": "code",
   "execution_count": 285,
   "metadata": {},
   "outputs": [
    {
     "data": {
      "text/plain": [
       ":(function Sys2_systemfunction(t::Float64; )\n",
       "      ()\n",
       "      var\"##667\" = (Float64)(t)\n",
       "      begin\n",
       "          var\"##676\" = var\"##667\"\n",
       "      end\n",
       "      t = (Float64)(var\"##676\")\n",
       "      var\"##668\" = (Float64)(t)\n",
       "      begin\n",
       "          var\"##673\" = var\"##668\"\n",
       "      end\n",
       "      var\"##669\" = K\n",
       "      var\"##670\" = var\"##673\"\n",
       "      var\"##671\" = var\"##669\" * var\"##670\"\n",
       "      begin\n",
       "          var\"##674\" = var\"##671\"\n",
       "      end\n",
       "      var\"##672\" = var\"##674\"\n",
       "      y = (Float64)(var\"##672\")\n",
       "      begin\n",
       "          var\"##677\" = (Float64)(y)\n",
       "      end\n",
       "      var\"##675\" = var\"##677\"\n",
       "      y = (Float64)(var\"##675\")\n",
       "      begin\n",
       "      end\n",
       "      (y = (Float64)(y),)\n",
       "  end)"
      ]
     },
     "metadata": {},
     "output_type": "display_data"
    }
   ],
   "source": [
    "JuliaMBD.expr_function(bb)"
   ]
  },
  {
   "cell_type": "code",
   "execution_count": 236,
   "metadata": {},
   "outputs": [
    {
     "ename": "MethodError",
     "evalue": "MethodError: no method matching allcomponents(::Main.JuliaMBD.OutPort{Any})\nClosest candidates are:\n  allcomponents(!Matched::Main.JuliaMBD.AbstractCompositeBlock) at /workspaces/JuliaMBD/src/_tsort.jl:26\n  allcomponents(!Matched::Main.JuliaMBD.AbstractComponent) at /workspaces/JuliaMBD/src/_tsort.jl:37",
     "output_type": "error",
     "traceback": [
      "MethodError: no method matching allcomponents(::Main.JuliaMBD.OutPort{Any})\n",
      "Closest candidates are:\n",
      "  allcomponents(!Matched::Main.JuliaMBD.AbstractCompositeBlock) at /workspaces/JuliaMBD/src/_tsort.jl:26\n",
      "  allcomponents(!Matched::Main.JuliaMBD.AbstractComponent) at /workspaces/JuliaMBD/src/_tsort.jl:37\n",
      "\n",
      "Stacktrace:\n",
      " [1] top-level scope\n",
      "   @ /workspaces/JuliaMBD/examples/testfile.ipynb:1"
     ]
    }
   ],
   "source": [
    "expr = [JuliaMBD._expr(m) for m = JuliaMBD.tsort(JuliaMBD.allcomponents(p))]\n"
   ]
  },
  {
   "cell_type": "code",
   "execution_count": 249,
   "metadata": {},
   "outputs": [
    {
     "data": {
      "text/plain": [
       "\"Line(##610)\""
      ]
     },
     "metadata": {},
     "output_type": "display_data"
    }
   ],
   "source": [
    "b = JuliaMBD.Integrator(in=JuliaMBD.InPort(:in), sin=JuliaMBD.OutPort(:sin), sout=JuliaMBD.OutPort(:sout))\n",
    "JuliaMBD.LineSignal(b.env[:out], b.env[:in], \"s(t)\")"
   ]
  },
  {
   "cell_type": "code",
   "execution_count": 250,
   "metadata": {},
   "outputs": [
    {
     "data": {
      "text/plain": [
       "6-element Vector{Main.JuliaMBD.AbstractComponent}:\n",
       " \"OutPort(sin)\"\n",
       " \"Parameter(initialcondition)\"\n",
       " \"InPort(in)\"\n",
       " \"Parameter(saturationlimits)\"\n",
       " \"Block(Integrator)\"\n",
       " \"OutPort(sout)\""
      ]
     },
     "metadata": {},
     "output_type": "display_data"
    }
   ],
   "source": [
    "JuliaMBD.tsort(JuliaMBD.allcomponents(b.env[:in]))"
   ]
  },
  {
   "cell_type": "code",
   "execution_count": 239,
   "metadata": {},
   "outputs": [
    {
     "data": {
      "text/plain": [
       "11-element Vector{Expr}:\n",
       " :(())\n",
       " :(out = var\"##594\")\n",
       " :(())\n",
       " quote\n",
       "    var\"##598\" = out\n",
       "end\n",
       " :(())\n",
       " :(in = var\"##598\")\n",
       " :(var\"##593\" = in)\n",
       " quote\n",
       "    var\"##597\" = var\"##593\"\n",
       "end\n",
       " :(var\"##595\" = var\"##597\")\n",
       " :(var\"##596\" = var\"##595\")\n",
       " quote\n",
       "end"
      ]
     },
     "metadata": {},
     "output_type": "display_data"
    }
   ],
   "source": [
    "expr = [JuliaMBD._expr(m) for m = JuliaMBD.tsort(JuliaMBD.allcomponents(b.env[:in]))]\n"
   ]
  },
  {
   "cell_type": "code",
   "execution_count": 240,
   "metadata": {},
   "outputs": [
    {
     "data": {
      "text/plain": [
       "\"Block(Add)\""
      ]
     },
     "metadata": {},
     "output_type": "display_data"
    }
   ],
   "source": [
    "b = JuliaMBD.Add(signs=[:+, :-])"
   ]
  },
  {
   "cell_type": "code",
   "execution_count": 241,
   "metadata": {},
   "outputs": [
    {
     "data": {
      "text/plain": [
       "2-element Vector{Main.JuliaMBD.AbstractInPort}:\n",
       " \"InPort(##600)\"\n",
       " \"InPort(##601)\""
      ]
     },
     "metadata": {},
     "output_type": "display_data"
    }
   ],
   "source": [
    "b.inports"
   ]
  },
  {
   "cell_type": "code",
   "execution_count": 647,
   "metadata": {},
   "outputs": [
    {
     "data": {
      "text/plain": [
       "RLC (generic function with 1 method)"
      ]
     },
     "metadata": {},
     "output_type": "display_data"
    }
   ],
   "source": [
    "## RLC\n",
    "\n",
    "function RLC(;R = :R, L = :L, C = :C)\n",
    "    b = JuliaMBD.SubSystemBlock(:RLC)\n",
    "    JuliaMBD.addparameter!(b, :R, R)\n",
    "    JuliaMBD.addparameter!(b, :L, L)\n",
    "    JuliaMBD.addparameter!(b, :C, C)\n",
    "    int1 = JuliaMBD.Integrator(sin = JuliaMBD.OutPort(:int1sin), sout = JuliaMBD.OutPort(:int1sout))\n",
    "    int2 = JuliaMBD.Integrator(sin = JuliaMBD.OutPort(:int2sin), sout = JuliaMBD.OutPort(:int2sout))\n",
    "    in1 = JuliaMBD.Inport(:in1)\n",
    "    out1 = JuliaMBD.Outport(:out1)\n",
    "    gain1 = JuliaMBD.Gain()\n",
    "    gain2 = JuliaMBD.Gain()\n",
    "    gain3 = JuliaMBD.Gain()\n",
    "    sum1 = JuliaMBD.Add(signs=[:+, :-, :-])\n",
    "    JuliaMBD.add!(b, int1)\n",
    "    JuliaMBD.add!(b, int2)\n",
    "    JuliaMBD.add!(b, in1)\n",
    "    JuliaMBD.add!(b, out1)\n",
    "    JuliaMBD.add!(b, gain1)\n",
    "    JuliaMBD.add!(b, gain2)\n",
    "    JuliaMBD.add!(b, gain3)\n",
    "    JuliaMBD.add!(b, sum1)\n",
    "    JuliaMBD.ConstSignal(:R, gain1.env[:K])\n",
    "    JuliaMBD.ConstSignal(:(1/C), gain2.env[:K])\n",
    "    JuliaMBD.ConstSignal(:(1/L), gain3.env[:K])\n",
    "    JuliaMBD.ConstSignal(:R, int1.env[:initialcondition])\n",
    "    JuliaMBD.ConstSignal(:(C/L), int2.env[:initialcondition])\n",
    "    JuliaMBD.LineSignal(in1.env[:out], sum1.env[:in1], \"\")\n",
    "    JuliaMBD.LineSignal(gain1.env[:out], sum1.env[:in2], \"\")\n",
    "    JuliaMBD.LineSignal(int1.env[:out], sum1.env[:in3], \"\")\n",
    "    JuliaMBD.LineSignal(sum1.env[:out], gain3.env[:in], \"\")\n",
    "    JuliaMBD.LineSignal(gain3.env[:out], int2.env[:in], \"\")\n",
    "    JuliaMBD.LineSignal(int2.env[:out], out1.env[:in], \"\")\n",
    "    JuliaMBD.LineSignal(int2.env[:out], gain1.env[:in], \"\")\n",
    "    JuliaMBD.LineSignal(int2.env[:out], gain2.env[:in], \"\")\n",
    "    JuliaMBD.LineSignal(gain2.env[:out], int1.env[:in], \"\")\n",
    "    JuliaMBD.addscope!(b, :gain1, gain1.env[:out])\n",
    "    b\n",
    "end"
   ]
  },
  {
   "cell_type": "code",
   "execution_count": 648,
   "metadata": {},
   "outputs": [
    {
     "data": {
      "text/plain": [
       "RLCTest (generic function with 1 method)"
      ]
     },
     "metadata": {},
     "output_type": "display_data"
    }
   ],
   "source": [
    "## RLC test\n",
    "\n",
    "function RLCTest(;R = :R, L = :L, C = :C, voltage = :voltage)\n",
    "    b = JuliaMBD.SubSystemBlock(:RLCTest)\n",
    "    JuliaMBD.addparameter!(b, :R, R)\n",
    "    JuliaMBD.addparameter!(b, :L, L)\n",
    "    JuliaMBD.addparameter!(b, :C, C)\n",
    "    JuliaMBD.addparameter!(b, :voltage, voltage)\n",
    "    system = RLC(R=R, L=L, C=C)\n",
    "    source = JuliaMBD.Step()\n",
    "    JuliaMBD.LineSignal(b.timeport, source.env[:time], \"\")\n",
    "    JuliaMBD.ConstSignal(0.1, source.env[:steptime])\n",
    "    JuliaMBD.ConstSignal(0.0, source.env[:initialvalue])\n",
    "    JuliaMBD.ConstSignal(voltage, source.env[:finalvalue])\n",
    "    JuliaMBD.add!(b, system)\n",
    "    JuliaMBD.add!(b, source)\n",
    "    JuliaMBD.LineSignal(source.env[:out], system.env[:in1], \"\")\n",
    "    b\n",
    "end"
   ]
  },
  {
   "cell_type": "code",
   "execution_count": 649,
   "metadata": {},
   "outputs": [
    {
     "data": {
      "text/plain": [
       "\"Block(RLCTest)\""
      ]
     },
     "metadata": {},
     "output_type": "display_data"
    }
   ],
   "source": [
    "b = RLC() #R=10, L=100e-3, C=100e-6)\n",
    "b = RLCTest(R=10, L=100e-3, C=100e-6, voltage=5)"
   ]
  },
  {
   "cell_type": "code",
   "execution_count": 650,
   "metadata": {},
   "outputs": [],
   "source": [
    "eval(JuliaMBD.expr_sfunc(b))\n",
    "eval(JuliaMBD.expr_ofunc(b))\n",
    "eval(JuliaMBD.expr_ifunc(b))\n",
    "m = JuliaMBD.ODEModel(\n",
    "    b,\n",
    "    eval(JuliaMBD.expr_odemodel_ifunc(b)),\n",
    "    eval(JuliaMBD.expr_odemodel_sfunc(b)),\n",
    "    eval(JuliaMBD.expr_odemodel_ofunc(b))\n",
    ");"
   ]
  },
  {
   "cell_type": "code",
   "execution_count": 653,
   "metadata": {},
   "outputs": [],
   "source": [
    "using DifferentialEquations\n",
    "using Plots"
   ]
  },
  {
   "cell_type": "code",
   "execution_count": 652,
   "metadata": {},
   "outputs": [],
   "source": [
    "result = JuliaMBD.simulate(m, (0,1));"
   ]
  },
  {
   "cell_type": "code",
   "execution_count": 654,
   "metadata": {},
   "outputs": [
    {
     "data": {
      "image/png": "[encoded data removed]",
      "image/svg+xml": [
       "<?xml version=\"1.0\" encoding=\"utf-8\"?>\n",
       "<svg xmlns=\"http://www.w3.org/2000/svg\" xmlns:xlink=\"http://www.w3.org/1999/xlink\" width=\"600\" height=\"400\" viewBox=\"0 0 2400 1600\">\n",
       "<defs>\n",
       "  <clipPath id=\"clip430\">\n",
       "    <rect x=\"0\" y=\"0\" width=\"2400\" height=\"1600\"/>\n",
       "  </clipPath>\n",
       "</defs>\n",
       "<path clip-path=\"url(#clip430)\" d=\"M0 1600 L2400 1600 L2400 0 L0 0  Z\" fill=\"#ffffff\" fill-rule=\"evenodd\" fill-opacity=\"1\"/>\n",
       "<defs>\n",
       "  <clipPath id=\"clip431\">\n",
       "    <rect x=\"480\" y=\"0\" width=\"1681\" height=\"1600\"/>\n",
       "  </clipPath>\n",
       "</defs>\n",
       "<path clip-path=\"url(#clip430)\" d=\"M246.598 1486.45 L2352.76 1486.45 L2352.76 123.472 L246.598 123.472  Z\" fill=\"#ffffff\" fill-rule=\"evenodd\" fill-opacity=\"1\"/>\n",
       "<defs>\n",
       "  <clipPath id=\"clip432\">\n",
       "    <rect x=\"246\" y=\"123\" width=\"2107\" height=\"1364\"/>\n",
       "  </clipPath>\n",
       "</defs>\n",
       "<polyline clip-path=\"url(#clip432)\" style=\"stroke:#000000; stroke-linecap:round; stroke-linejoin:round; stroke-width:2; stroke-opacity:0.1; fill:none\" points=\"306.206,1486.45 306.206,123.472 \"/>\n",
       "<polyline clip-path=\"url(#clip432)\" style=\"stroke:#000000; stroke-linecap:round; stroke-linejoin:round; stroke-width:2; stroke-opacity:0.1; fill:none\" points=\"802.941,1486.45 802.941,123.472 \"/>\n",
       "<polyline clip-path=\"url(#clip432)\" style=\"stroke:#000000; stroke-linecap:round; stroke-linejoin:round; stroke-width:2; stroke-opacity:0.1; fill:none\" points=\"1299.68,1486.45 1299.68,123.472 \"/>\n",
       "<polyline clip-path=\"url(#clip432)\" style=\"stroke:#000000; stroke-linecap:round; stroke-linejoin:round; stroke-width:2; stroke-opacity:0.1; fill:none\" points=\"1796.41,1486.45 1796.41,123.472 \"/>\n",
       "<polyline clip-path=\"url(#clip432)\" style=\"stroke:#000000; stroke-linecap:round; stroke-linejoin:round; stroke-width:2; stroke-opacity:0.1; fill:none\" points=\"2293.15,1486.45 2293.15,123.472 \"/>\n",
       "<polyline clip-path=\"url(#clip430)\" style=\"stroke:#000000; stroke-linecap:round; stroke-linejoin:round; stroke-width:4; stroke-opacity:1; fill:none\" points=\"246.598,1486.45 2352.76,1486.45 \"/>\n",
       "<polyline clip-path=\"url(#clip430)\" style=\"stroke:#000000; stroke-linecap:round; stroke-linejoin:round; stroke-width:4; stroke-opacity:1; fill:none\" points=\"306.206,1486.45 306.206,1467.55 \"/>\n",
       "<polyline clip-path=\"url(#clip430)\" style=\"stroke:#000000; stroke-linecap:round; stroke-linejoin:round; stroke-width:4; stroke-opacity:1; fill:none\" points=\"802.941,1486.45 802.941,1467.55 \"/>\n",
       "<polyline clip-path=\"url(#clip430)\" style=\"stroke:#000000; stroke-linecap:round; stroke-linejoin:round; stroke-width:4; stroke-opacity:1; fill:none\" points=\"1299.68,1486.45 1299.68,1467.55 \"/>\n",
       "<polyline clip-path=\"url(#clip430)\" style=\"stroke:#000000; stroke-linecap:round; stroke-linejoin:round; stroke-width:4; stroke-opacity:1; fill:none\" points=\"1796.41,1486.45 1796.41,1467.55 \"/>\n",
       "<polyline clip-path=\"url(#clip430)\" style=\"stroke:#000000; stroke-linecap:round; stroke-linejoin:round; stroke-width:4; stroke-opacity:1; fill:none\" points=\"2293.15,1486.45 2293.15,1467.55 \"/>\n",
       "<path clip-path=\"url(#clip430)\" d=\"M268.509 1517.37 Q264.898 1517.37 263.07 1520.93 Q261.264 1524.47 261.264 1531.6 Q261.264 1538.71 263.07 1542.27 Q264.898 1545.82 268.509 1545.82 Q272.144 1545.82 273.949 1542.27 Q275.778 1538.71 275.778 1531.6 Q275.778 1524.47 273.949 1520.93 Q272.144 1517.37 268.509 1517.37 M268.509 1513.66 Q274.32 1513.66 277.375 1518.27 Q280.454 1522.85 280.454 1531.6 Q280.454 1540.33 277.375 1544.94 Q274.32 1549.52 268.509 1549.52 Q262.699 1549.52 259.621 1544.94 Q256.565 1540.33 256.565 1531.6 Q256.565 1522.85 259.621 1518.27 Q262.699 1513.66 268.509 1513.66 Z\" fill=\"#000000\" fill-rule=\"evenodd\" fill-opacity=\"1\" /><path clip-path=\"url(#clip430)\" d=\"M288.671 1542.97 L293.556 1542.97 L293.556 1548.85 L288.671 1548.85 L288.671 1542.97 Z\" fill=\"#000000\" fill-rule=\"evenodd\" fill-opacity=\"1\" /><path clip-path=\"url(#clip430)\" d=\"M313.741 1517.37 Q310.13 1517.37 308.301 1520.93 Q306.495 1524.47 306.495 1531.6 Q306.495 1538.71 308.301 1542.27 Q310.13 1545.82 313.741 1545.82 Q317.375 1545.82 319.18 1542.27 Q321.009 1538.71 321.009 1531.6 Q321.009 1524.47 319.18 1520.93 Q317.375 1517.37 313.741 1517.37 M313.741 1513.66 Q319.551 1513.66 322.606 1518.27 Q325.685 1522.85 325.685 1531.6 Q325.685 1540.33 322.606 1544.94 Q319.551 1549.52 313.741 1549.52 Q307.931 1549.52 304.852 1544.94 Q301.796 1540.33 301.796 1531.6 Q301.796 1522.85 304.852 1518.27 Q307.931 1513.66 313.741 1513.66 Z\" fill=\"#000000\" fill-rule=\"evenodd\" fill-opacity=\"1\" /><path clip-path=\"url(#clip430)\" d=\"M343.903 1517.37 Q340.291 1517.37 338.463 1520.93 Q336.657 1524.47 336.657 1531.6 Q336.657 1538.71 338.463 1542.27 Q340.291 1545.82 343.903 1545.82 Q347.537 1545.82 349.342 1542.27 Q351.171 1538.71 351.171 1531.6 Q351.171 1524.47 349.342 1520.93 Q347.537 1517.37 343.903 1517.37 M343.903 1513.66 Q349.713 1513.66 352.768 1518.27 Q355.847 1522.85 355.847 1531.6 Q355.847 1540.33 352.768 1544.94 Q349.713 1549.52 343.903 1549.52 Q338.092 1549.52 335.014 1544.94 Q331.958 1540.33 331.958 1531.6 Q331.958 1522.85 335.014 1518.27 Q338.092 1513.66 343.903 1513.66 Z\" fill=\"#000000\" fill-rule=\"evenodd\" fill-opacity=\"1\" /><path clip-path=\"url(#clip430)\" d=\"M765.743 1517.37 Q762.131 1517.37 760.303 1520.93 Q758.497 1524.47 758.497 1531.6 Q758.497 1538.71 760.303 1542.27 Q762.131 1545.82 765.743 1545.82 Q769.377 1545.82 771.182 1542.27 Q773.011 1538.71 773.011 1531.6 Q773.011 1524.47 771.182 1520.93 Q769.377 1517.37 765.743 1517.37 M765.743 1513.66 Q771.553 1513.66 774.608 1518.27 Q777.687 1522.85 777.687 1531.6 Q777.687 1540.33 774.608 1544.94 Q771.553 1549.52 765.743 1549.52 Q759.932 1549.52 756.854 1544.94 Q753.798 1540.33 753.798 1531.6 Q753.798 1522.85 756.854 1518.27 Q759.932 1513.66 765.743 1513.66 Z\" fill=\"#000000\" fill-rule=\"evenodd\" fill-opacity=\"1\" /><path clip-path=\"url(#clip430)\" d=\"M785.904 1542.97 L790.789 1542.97 L790.789 1548.85 L785.904 1548.85 L785.904 1542.97 Z\" fill=\"#000000\" fill-rule=\"evenodd\" fill-opacity=\"1\" /><path clip-path=\"url(#clip430)\" d=\"M805.002 1544.91 L821.321 1544.91 L821.321 1548.85 L799.377 1548.85 L799.377 1544.91 Q802.039 1542.16 806.622 1537.53 Q811.228 1532.88 812.409 1531.53 Q814.654 1529.01 815.534 1527.27 Q816.437 1525.51 816.437 1523.82 Q816.437 1521.07 814.492 1519.33 Q812.571 1517.6 809.469 1517.6 Q807.27 1517.6 804.816 1518.36 Q802.386 1519.13 799.608 1520.68 L799.608 1515.95 Q802.432 1514.82 804.886 1514.24 Q807.34 1513.66 809.377 1513.66 Q814.747 1513.66 817.941 1516.35 Q821.136 1519.03 821.136 1523.52 Q821.136 1525.65 820.326 1527.57 Q819.539 1529.47 817.432 1532.07 Q816.853 1532.74 813.752 1535.95 Q810.65 1539.15 805.002 1544.91 Z\" fill=\"#000000\" fill-rule=\"evenodd\" fill-opacity=\"1\" /><path clip-path=\"url(#clip430)\" d=\"M831.182 1514.29 L849.538 1514.29 L849.538 1518.22 L835.464 1518.22 L835.464 1526.7 Q836.483 1526.35 837.501 1526.19 Q838.52 1526 839.538 1526 Q845.325 1526 848.705 1529.17 Q852.085 1532.34 852.085 1537.76 Q852.085 1543.34 848.612 1546.44 Q845.14 1549.52 838.821 1549.52 Q836.645 1549.52 834.376 1549.15 Q832.131 1548.78 829.724 1548.04 L829.724 1543.34 Q831.807 1544.47 834.029 1545.03 Q836.251 1545.58 838.728 1545.58 Q842.733 1545.58 845.071 1543.48 Q847.409 1541.37 847.409 1537.76 Q847.409 1534.15 845.071 1532.04 Q842.733 1529.94 838.728 1529.94 Q836.853 1529.94 834.978 1530.35 Q833.126 1530.77 831.182 1531.65 L831.182 1514.29 Z\" fill=\"#000000\" fill-rule=\"evenodd\" fill-opacity=\"1\" /><path clip-path=\"url(#clip430)\" d=\"M1261.98 1517.37 Q1258.37 1517.37 1256.54 1520.93 Q1254.73 1524.47 1254.73 1531.6 Q1254.73 1538.71 1256.54 1542.27 Q1258.37 1545.82 1261.98 1545.82 Q1265.61 1545.82 1267.42 1542.27 Q1269.25 1538.71 1269.25 1531.6 Q1269.25 1524.47 1267.42 1520.93 Q1265.61 1517.37 1261.98 1517.37 M1261.98 1513.66 Q1267.79 1513.66 1270.85 1518.27 Q1273.92 1522.85 1273.92 1531.6 Q1273.92 1540.33 1270.85 1544.94 Q1267.79 1549.52 1261.98 1549.52 Q1256.17 1549.52 1253.09 1544.94 Q1250.04 1540.33 1250.04 1531.6 Q1250.04 1522.85 1253.09 1518.27 Q1256.17 1513.66 1261.98 1513.66 Z\" fill=\"#000000\" fill-rule=\"evenodd\" fill-opacity=\"1\" /><path clip-path=\"url(#clip430)\" d=\"M1282.14 1542.97 L1287.03 1542.97 L1287.03 1548.85 L1282.14 1548.85 L1282.14 1542.97 Z\" fill=\"#000000\" fill-rule=\"evenodd\" fill-opacity=\"1\" /><path clip-path=\"url(#clip430)\" d=\"M1297.26 1514.29 L1315.61 1514.29 L1315.61 1518.22 L1301.54 1518.22 L1301.54 1526.7 Q1302.56 1526.35 1303.58 1526.19 Q1304.6 1526 1305.61 1526 Q1311.4 1526 1314.78 1529.17 Q1318.16 1532.34 1318.16 1537.76 Q1318.16 1543.34 1314.69 1546.44 Q1311.22 1549.52 1304.9 1549.52 Q1302.72 1549.52 1300.45 1549.15 Q1298.21 1548.78 1295.8 1548.04 L1295.8 1543.34 Q1297.88 1544.47 1300.11 1545.03 Q1302.33 1545.58 1304.8 1545.58 Q1308.81 1545.58 1311.15 1543.48 Q1313.48 1541.37 1313.48 1537.76 Q1313.48 1534.15 1311.15 1532.04 Q1308.81 1529.94 1304.8 1529.94 Q1302.93 1529.94 1301.05 1530.35 Q1299.2 1530.77 1297.26 1531.65 L1297.26 1514.29 Z\" fill=\"#000000\" fill-rule=\"evenodd\" fill-opacity=\"1\" /><path clip-path=\"url(#clip430)\" d=\"M1337.37 1517.37 Q1333.76 1517.37 1331.93 1520.93 Q1330.13 1524.47 1330.13 1531.6 Q1330.13 1538.71 1331.93 1542.27 Q1333.76 1545.82 1337.37 1545.82 Q1341.01 1545.82 1342.81 1542.27 Q1344.64 1538.71 1344.64 1531.6 Q1344.64 1524.47 1342.81 1520.93 Q1341.01 1517.37 1337.37 1517.37 M1337.37 1513.66 Q1343.18 1513.66 1346.24 1518.27 Q1349.32 1522.85 1349.32 1531.6 Q1349.32 1540.33 1346.24 1544.94 Q1343.18 1549.52 1337.37 1549.52 Q1331.56 1549.52 1328.48 1544.94 Q1325.43 1540.33 1325.43 1531.6 Q1325.43 1522.85 1328.48 1518.27 Q1331.56 1513.66 1337.37 1513.66 Z\" fill=\"#000000\" fill-rule=\"evenodd\" fill-opacity=\"1\" /><path clip-path=\"url(#clip430)\" d=\"M1759.21 1517.37 Q1755.6 1517.37 1753.77 1520.93 Q1751.97 1524.47 1751.97 1531.6 Q1751.97 1538.71 1753.77 1542.27 Q1755.6 1545.82 1759.21 1545.82 Q1762.85 1545.82 1764.65 1542.27 Q1766.48 1538.71 1766.48 1531.6 Q1766.48 1524.47 1764.65 1520.93 Q1762.85 1517.37 1759.21 1517.37 M1759.21 1513.66 Q1765.02 1513.66 1768.08 1518.27 Q1771.16 1522.85 1771.16 1531.6 Q1771.16 1540.33 1768.08 1544.94 Q1765.02 1549.52 1759.21 1549.52 Q1753.4 1549.52 1750.32 1544.94 Q1747.27 1540.33 1747.27 1531.6 Q1747.27 1522.85 1750.32 1518.27 Q1753.4 1513.66 1759.21 1513.66 Z\" fill=\"#000000\" fill-rule=\"evenodd\" fill-opacity=\"1\" /><path clip-path=\"url(#clip430)\" d=\"M1779.38 1542.97 L1784.26 1542.97 L1784.26 1548.85 L1779.38 1548.85 L1779.38 1542.97 Z\" fill=\"#000000\" fill-rule=\"evenodd\" fill-opacity=\"1\" /><path clip-path=\"url(#clip430)\" d=\"M1793.26 1514.29 L1815.49 1514.29 L1815.49 1516.28 L1802.94 1548.85 L1798.06 1548.85 L1809.86 1518.22 L1793.26 1518.22 L1793.26 1514.29 Z\" fill=\"#000000\" fill-rule=\"evenodd\" fill-opacity=\"1\" /><path clip-path=\"url(#clip430)\" d=\"M1824.65 1514.29 L1843.01 1514.29 L1843.01 1518.22 L1828.94 1518.22 L1828.94 1526.7 Q1829.95 1526.35 1830.97 1526.19 Q1831.99 1526 1833.01 1526 Q1838.8 1526 1842.18 1529.17 Q1845.56 1532.34 1845.56 1537.76 Q1845.56 1543.34 1842.08 1546.44 Q1838.61 1549.52 1832.29 1549.52 Q1830.12 1549.52 1827.85 1549.15 Q1825.6 1548.78 1823.19 1548.04 L1823.19 1543.34 Q1825.28 1544.47 1827.5 1545.03 Q1829.72 1545.58 1832.2 1545.58 Q1836.2 1545.58 1838.54 1543.48 Q1840.88 1541.37 1840.88 1537.76 Q1840.88 1534.15 1838.54 1532.04 Q1836.2 1529.94 1832.2 1529.94 Q1830.32 1529.94 1828.45 1530.35 Q1826.6 1530.77 1824.65 1531.65 L1824.65 1514.29 Z\" fill=\"#000000\" fill-rule=\"evenodd\" fill-opacity=\"1\" /><path clip-path=\"url(#clip430)\" d=\"M2245.22 1544.91 L2252.86 1544.91 L2252.86 1518.55 L2244.55 1520.21 L2244.55 1515.95 L2252.81 1514.29 L2257.49 1514.29 L2257.49 1544.91 L2265.13 1544.91 L2265.13 1548.85 L2245.22 1548.85 L2245.22 1544.91 Z\" fill=\"#000000\" fill-rule=\"evenodd\" fill-opacity=\"1\" /><path clip-path=\"url(#clip430)\" d=\"M2274.57 1542.97 L2279.46 1542.97 L2279.46 1548.85 L2274.57 1548.85 L2274.57 1542.97 Z\" fill=\"#000000\" fill-rule=\"evenodd\" fill-opacity=\"1\" /><path clip-path=\"url(#clip430)\" d=\"M2299.64 1517.37 Q2296.03 1517.37 2294.2 1520.93 Q2292.4 1524.47 2292.4 1531.6 Q2292.4 1538.71 2294.2 1542.27 Q2296.03 1545.82 2299.64 1545.82 Q2303.27 1545.82 2305.08 1542.27 Q2306.91 1538.71 2306.91 1531.6 Q2306.91 1524.47 2305.08 1520.93 Q2303.27 1517.37 2299.64 1517.37 M2299.64 1513.66 Q2305.45 1513.66 2308.51 1518.27 Q2311.59 1522.85 2311.59 1531.6 Q2311.59 1540.33 2308.51 1544.94 Q2305.45 1549.52 2299.64 1549.52 Q2293.83 1549.52 2290.75 1544.94 Q2287.7 1540.33 2287.7 1531.6 Q2287.7 1522.85 2290.75 1518.27 Q2293.83 1513.66 2299.64 1513.66 Z\" fill=\"#000000\" fill-rule=\"evenodd\" fill-opacity=\"1\" /><path clip-path=\"url(#clip430)\" d=\"M2329.8 1517.37 Q2326.19 1517.37 2324.36 1520.93 Q2322.56 1524.47 2322.56 1531.6 Q2322.56 1538.71 2324.36 1542.27 Q2326.19 1545.82 2329.8 1545.82 Q2333.44 1545.82 2335.24 1542.27 Q2337.07 1538.71 2337.07 1531.6 Q2337.07 1524.47 2335.24 1520.93 Q2333.44 1517.37 2329.8 1517.37 M2329.8 1513.66 Q2335.61 1513.66 2338.67 1518.27 Q2341.75 1522.85 2341.75 1531.6 Q2341.75 1540.33 2338.67 1544.94 Q2335.61 1549.52 2329.8 1549.52 Q2323.99 1549.52 2320.91 1544.94 Q2317.86 1540.33 2317.86 1531.6 Q2317.86 1522.85 2320.91 1518.27 Q2323.99 1513.66 2329.8 1513.66 Z\" fill=\"#000000\" fill-rule=\"evenodd\" fill-opacity=\"1\" /><polyline clip-path=\"url(#clip432)\" style=\"stroke:#000000; stroke-linecap:round; stroke-linejoin:round; stroke-width:2; stroke-opacity:0.1; fill:none\" points=\"246.598,1447.87 2352.76,1447.87 \"/>\n",
       "<polyline clip-path=\"url(#clip432)\" style=\"stroke:#000000; stroke-linecap:round; stroke-linejoin:round; stroke-width:2; stroke-opacity:0.1; fill:none\" points=\"246.598,1126.42 2352.76,1126.42 \"/>\n",
       "<polyline clip-path=\"url(#clip432)\" style=\"stroke:#000000; stroke-linecap:round; stroke-linejoin:round; stroke-width:2; stroke-opacity:0.1; fill:none\" points=\"246.598,804.96 2352.76,804.96 \"/>\n",
       "<polyline clip-path=\"url(#clip432)\" style=\"stroke:#000000; stroke-linecap:round; stroke-linejoin:round; stroke-width:2; stroke-opacity:0.1; fill:none\" points=\"246.598,483.503 2352.76,483.503 \"/>\n",
       "<polyline clip-path=\"url(#clip432)\" style=\"stroke:#000000; stroke-linecap:round; stroke-linejoin:round; stroke-width:2; stroke-opacity:0.1; fill:none\" points=\"246.598,162.047 2352.76,162.047 \"/>\n",
       "<polyline clip-path=\"url(#clip430)\" style=\"stroke:#000000; stroke-linecap:round; stroke-linejoin:round; stroke-width:4; stroke-opacity:1; fill:none\" points=\"246.598,1486.45 246.598,123.472 \"/>\n",
       "<polyline clip-path=\"url(#clip430)\" style=\"stroke:#000000; stroke-linecap:round; stroke-linejoin:round; stroke-width:4; stroke-opacity:1; fill:none\" points=\"246.598,1447.87 265.495,1447.87 \"/>\n",
       "<polyline clip-path=\"url(#clip430)\" style=\"stroke:#000000; stroke-linecap:round; stroke-linejoin:round; stroke-width:4; stroke-opacity:1; fill:none\" points=\"246.598,1126.42 265.495,1126.42 \"/>\n",
       "<polyline clip-path=\"url(#clip430)\" style=\"stroke:#000000; stroke-linecap:round; stroke-linejoin:round; stroke-width:4; stroke-opacity:1; fill:none\" points=\"246.598,804.96 265.495,804.96 \"/>\n",
       "<polyline clip-path=\"url(#clip430)\" style=\"stroke:#000000; stroke-linecap:round; stroke-linejoin:round; stroke-width:4; stroke-opacity:1; fill:none\" points=\"246.598,483.503 265.495,483.503 \"/>\n",
       "<polyline clip-path=\"url(#clip430)\" style=\"stroke:#000000; stroke-linecap:round; stroke-linejoin:round; stroke-width:4; stroke-opacity:1; fill:none\" points=\"246.598,162.047 265.495,162.047 \"/>\n",
       "<path clip-path=\"url(#clip430)\" d=\"M62.9365 1433.67 Q59.3254 1433.67 57.4967 1437.24 Q55.6912 1440.78 55.6912 1447.91 Q55.6912 1455.01 57.4967 1458.58 Q59.3254 1462.12 62.9365 1462.12 Q66.5707 1462.12 68.3763 1458.58 Q70.205 1455.01 70.205 1447.91 Q70.205 1440.78 68.3763 1437.24 Q66.5707 1433.67 62.9365 1433.67 M62.9365 1429.97 Q68.7467 1429.97 71.8022 1434.57 Q74.8809 1439.16 74.8809 1447.91 Q74.8809 1456.63 71.8022 1461.24 Q68.7467 1465.82 62.9365 1465.82 Q57.1264 1465.82 54.0477 1461.24 Q50.9921 1456.63 50.9921 1447.91 Q50.9921 1439.16 54.0477 1434.57 Q57.1264 1429.97 62.9365 1429.97 Z\" fill=\"#000000\" fill-rule=\"evenodd\" fill-opacity=\"1\" /><path clip-path=\"url(#clip430)\" d=\"M83.0984 1459.27 L87.9827 1459.27 L87.9827 1465.15 L83.0984 1465.15 L83.0984 1459.27 Z\" fill=\"#000000\" fill-rule=\"evenodd\" fill-opacity=\"1\" /><path clip-path=\"url(#clip430)\" d=\"M108.168 1433.67 Q104.557 1433.67 102.728 1437.24 Q100.922 1440.78 100.922 1447.91 Q100.922 1455.01 102.728 1458.58 Q104.557 1462.12 108.168 1462.12 Q111.802 1462.12 113.608 1458.58 Q115.436 1455.01 115.436 1447.91 Q115.436 1440.78 113.608 1437.24 Q111.802 1433.67 108.168 1433.67 M108.168 1429.97 Q113.978 1429.97 117.033 1434.57 Q120.112 1439.16 120.112 1447.91 Q120.112 1456.63 117.033 1461.24 Q113.978 1465.82 108.168 1465.82 Q102.358 1465.82 99.2789 1461.24 Q96.2234 1456.63 96.2234 1447.91 Q96.2234 1439.16 99.2789 1434.57 Q102.358 1429.97 108.168 1429.97 Z\" fill=\"#000000\" fill-rule=\"evenodd\" fill-opacity=\"1\" /><path clip-path=\"url(#clip430)\" d=\"M138.33 1433.67 Q134.719 1433.67 132.89 1437.24 Q131.084 1440.78 131.084 1447.91 Q131.084 1455.01 132.89 1458.58 Q134.719 1462.12 138.33 1462.12 Q141.964 1462.12 143.769 1458.58 Q145.598 1455.01 145.598 1447.91 Q145.598 1440.78 143.769 1437.24 Q141.964 1433.67 138.33 1433.67 M138.33 1429.97 Q144.14 1429.97 147.195 1434.57 Q150.274 1439.16 150.274 1447.91 Q150.274 1456.63 147.195 1461.24 Q144.14 1465.82 138.33 1465.82 Q132.519 1465.82 129.441 1461.24 Q126.385 1456.63 126.385 1447.91 Q126.385 1439.16 129.441 1434.57 Q132.519 1429.97 138.33 1429.97 Z\" fill=\"#000000\" fill-rule=\"evenodd\" fill-opacity=\"1\" /><path clip-path=\"url(#clip430)\" d=\"M168.491 1433.67 Q164.88 1433.67 163.052 1437.24 Q161.246 1440.78 161.246 1447.91 Q161.246 1455.01 163.052 1458.58 Q164.88 1462.12 168.491 1462.12 Q172.126 1462.12 173.931 1458.58 Q175.76 1455.01 175.76 1447.91 Q175.76 1440.78 173.931 1437.24 Q172.126 1433.67 168.491 1433.67 M168.491 1429.97 Q174.302 1429.97 177.357 1434.57 Q180.436 1439.16 180.436 1447.91 Q180.436 1456.63 177.357 1461.24 Q174.302 1465.82 168.491 1465.82 Q162.681 1465.82 159.603 1461.24 Q156.547 1456.63 156.547 1447.91 Q156.547 1439.16 159.603 1434.57 Q162.681 1429.97 168.491 1429.97 Z\" fill=\"#000000\" fill-rule=\"evenodd\" fill-opacity=\"1\" /><path clip-path=\"url(#clip430)\" d=\"M198.653 1433.67 Q195.042 1433.67 193.214 1437.24 Q191.408 1440.78 191.408 1447.91 Q191.408 1455.01 193.214 1458.58 Q195.042 1462.12 198.653 1462.12 Q202.288 1462.12 204.093 1458.58 Q205.922 1455.01 205.922 1447.91 Q205.922 1440.78 204.093 1437.24 Q202.288 1433.67 198.653 1433.67 M198.653 1429.97 Q204.464 1429.97 207.519 1434.57 Q210.598 1439.16 210.598 1447.91 Q210.598 1456.63 207.519 1461.24 Q204.464 1465.82 198.653 1465.82 Q192.843 1465.82 189.765 1461.24 Q186.709 1456.63 186.709 1447.91 Q186.709 1439.16 189.765 1434.57 Q192.843 1429.97 198.653 1429.97 Z\" fill=\"#000000\" fill-rule=\"evenodd\" fill-opacity=\"1\" /><path clip-path=\"url(#clip430)\" d=\"M63.9319 1112.22 Q60.3208 1112.22 58.4921 1115.78 Q56.6865 1119.32 56.6865 1126.45 Q56.6865 1133.56 58.4921 1137.12 Q60.3208 1140.66 63.9319 1140.66 Q67.5661 1140.66 69.3717 1137.12 Q71.2004 1133.56 71.2004 1126.45 Q71.2004 1119.32 69.3717 1115.78 Q67.5661 1112.22 63.9319 1112.22 M63.9319 1108.51 Q69.742 1108.51 72.7976 1113.12 Q75.8763 1117.7 75.8763 1126.45 Q75.8763 1135.18 72.7976 1139.78 Q69.742 1144.37 63.9319 1144.37 Q58.1217 1144.37 55.043 1139.78 Q51.9875 1135.18 51.9875 1126.45 Q51.9875 1117.7 55.043 1113.12 Q58.1217 1108.51 63.9319 1108.51 Z\" fill=\"#000000\" fill-rule=\"evenodd\" fill-opacity=\"1\" /><path clip-path=\"url(#clip430)\" d=\"M84.0938 1137.82 L88.978 1137.82 L88.978 1143.7 L84.0938 1143.7 L84.0938 1137.82 Z\" fill=\"#000000\" fill-rule=\"evenodd\" fill-opacity=\"1\" /><path clip-path=\"url(#clip430)\" d=\"M109.163 1112.22 Q105.552 1112.22 103.723 1115.78 Q101.918 1119.32 101.918 1126.45 Q101.918 1133.56 103.723 1137.12 Q105.552 1140.66 109.163 1140.66 Q112.797 1140.66 114.603 1137.12 Q116.432 1133.56 116.432 1126.45 Q116.432 1119.32 114.603 1115.78 Q112.797 1112.22 109.163 1112.22 M109.163 1108.51 Q114.973 1108.51 118.029 1113.12 Q121.107 1117.7 121.107 1126.45 Q121.107 1135.18 118.029 1139.78 Q114.973 1144.37 109.163 1144.37 Q103.353 1144.37 100.274 1139.78 Q97.2187 1135.18 97.2187 1126.45 Q97.2187 1117.7 100.274 1113.12 Q103.353 1108.51 109.163 1108.51 Z\" fill=\"#000000\" fill-rule=\"evenodd\" fill-opacity=\"1\" /><path clip-path=\"url(#clip430)\" d=\"M139.325 1112.22 Q135.714 1112.22 133.885 1115.78 Q132.08 1119.32 132.08 1126.45 Q132.08 1133.56 133.885 1137.12 Q135.714 1140.66 139.325 1140.66 Q142.959 1140.66 144.765 1137.12 Q146.593 1133.56 146.593 1126.45 Q146.593 1119.32 144.765 1115.78 Q142.959 1112.22 139.325 1112.22 M139.325 1108.51 Q145.135 1108.51 148.191 1113.12 Q151.269 1117.7 151.269 1126.45 Q151.269 1135.18 148.191 1139.78 Q145.135 1144.37 139.325 1144.37 Q133.515 1144.37 130.436 1139.78 Q127.381 1135.18 127.381 1126.45 Q127.381 1117.7 130.436 1113.12 Q133.515 1108.51 139.325 1108.51 Z\" fill=\"#000000\" fill-rule=\"evenodd\" fill-opacity=\"1\" /><path clip-path=\"url(#clip430)\" d=\"M163.515 1139.76 L179.834 1139.76 L179.834 1143.7 L157.89 1143.7 L157.89 1139.76 Q160.552 1137.01 165.135 1132.38 Q169.741 1127.72 170.922 1126.38 Q173.167 1123.86 174.047 1122.12 Q174.95 1120.36 174.95 1118.67 Q174.95 1115.92 173.005 1114.18 Q171.084 1112.45 167.982 1112.45 Q165.783 1112.45 163.329 1113.21 Q160.899 1113.97 158.121 1115.53 L158.121 1110.8 Q160.945 1109.67 163.399 1109.09 Q165.853 1108.51 167.89 1108.51 Q173.26 1108.51 176.454 1111.2 Q179.649 1113.88 179.649 1118.37 Q179.649 1120.5 178.839 1122.42 Q178.052 1124.32 175.945 1126.91 Q175.366 1127.59 172.265 1130.8 Q169.163 1134 163.515 1139.76 Z\" fill=\"#000000\" fill-rule=\"evenodd\" fill-opacity=\"1\" /><path clip-path=\"url(#clip430)\" d=\"M189.695 1109.14 L208.051 1109.14 L208.051 1113.07 L193.977 1113.07 L193.977 1121.54 Q194.996 1121.2 196.014 1121.03 Q197.033 1120.85 198.052 1120.85 Q203.839 1120.85 207.218 1124.02 Q210.598 1127.19 210.598 1132.61 Q210.598 1138.19 207.126 1141.29 Q203.653 1144.37 197.334 1144.37 Q195.158 1144.37 192.89 1144 Q190.644 1143.63 188.237 1142.89 L188.237 1138.19 Q190.32 1139.32 192.542 1139.88 Q194.765 1140.43 197.241 1140.43 Q201.246 1140.43 203.584 1138.33 Q205.922 1136.22 205.922 1132.61 Q205.922 1129 203.584 1126.89 Q201.246 1124.78 197.241 1124.78 Q195.366 1124.78 193.491 1125.2 Q191.64 1125.62 189.695 1126.5 L189.695 1109.14 Z\" fill=\"#000000\" fill-rule=\"evenodd\" fill-opacity=\"1\" /><path clip-path=\"url(#clip430)\" d=\"M62.9365 790.759 Q59.3254 790.759 57.4967 794.323 Q55.6912 797.865 55.6912 804.995 Q55.6912 812.101 57.4967 815.666 Q59.3254 819.208 62.9365 819.208 Q66.5707 819.208 68.3763 815.666 Q70.205 812.101 70.205 804.995 Q70.205 797.865 68.3763 794.323 Q66.5707 790.759 62.9365 790.759 M62.9365 787.055 Q68.7467 787.055 71.8022 791.661 Q74.8809 796.245 74.8809 804.995 Q74.8809 813.722 71.8022 818.328 Q68.7467 822.911 62.9365 822.911 Q57.1264 822.911 54.0477 818.328 Q50.9921 813.722 50.9921 804.995 Q50.9921 796.245 54.0477 791.661 Q57.1264 787.055 62.9365 787.055 Z\" fill=\"#000000\" fill-rule=\"evenodd\" fill-opacity=\"1\" /><path clip-path=\"url(#clip430)\" d=\"M83.0984 816.36 L87.9827 816.36 L87.9827 822.24 L83.0984 822.24 L83.0984 816.36 Z\" fill=\"#000000\" fill-rule=\"evenodd\" fill-opacity=\"1\" /><path clip-path=\"url(#clip430)\" d=\"M108.168 790.759 Q104.557 790.759 102.728 794.323 Q100.922 797.865 100.922 804.995 Q100.922 812.101 102.728 815.666 Q104.557 819.208 108.168 819.208 Q111.802 819.208 113.608 815.666 Q115.436 812.101 115.436 804.995 Q115.436 797.865 113.608 794.323 Q111.802 790.759 108.168 790.759 M108.168 787.055 Q113.978 787.055 117.033 791.661 Q120.112 796.245 120.112 804.995 Q120.112 813.722 117.033 818.328 Q113.978 822.911 108.168 822.911 Q102.358 822.911 99.2789 818.328 Q96.2234 813.722 96.2234 804.995 Q96.2234 796.245 99.2789 791.661 Q102.358 787.055 108.168 787.055 Z\" fill=\"#000000\" fill-rule=\"evenodd\" fill-opacity=\"1\" /><path clip-path=\"url(#clip430)\" d=\"M138.33 790.759 Q134.719 790.759 132.89 794.323 Q131.084 797.865 131.084 804.995 Q131.084 812.101 132.89 815.666 Q134.719 819.208 138.33 819.208 Q141.964 819.208 143.769 815.666 Q145.598 812.101 145.598 804.995 Q145.598 797.865 143.769 794.323 Q141.964 790.759 138.33 790.759 M138.33 787.055 Q144.14 787.055 147.195 791.661 Q150.274 796.245 150.274 804.995 Q150.274 813.722 147.195 818.328 Q144.14 822.911 138.33 822.911 Q132.519 822.911 129.441 818.328 Q126.385 813.722 126.385 804.995 Q126.385 796.245 129.441 791.661 Q132.519 787.055 138.33 787.055 Z\" fill=\"#000000\" fill-rule=\"evenodd\" fill-opacity=\"1\" /><path clip-path=\"url(#clip430)\" d=\"M158.538 787.68 L176.894 787.68 L176.894 791.615 L162.82 791.615 L162.82 800.087 Q163.839 799.74 164.857 799.578 Q165.876 799.393 166.894 799.393 Q172.681 799.393 176.061 802.564 Q179.441 805.735 179.441 811.152 Q179.441 816.731 175.968 819.833 Q172.496 822.911 166.177 822.911 Q164.001 822.911 161.732 822.541 Q159.487 822.171 157.08 821.43 L157.08 816.731 Q159.163 817.865 161.385 818.421 Q163.607 818.976 166.084 818.976 Q170.089 818.976 172.427 816.87 Q174.765 814.763 174.765 811.152 Q174.765 807.541 172.427 805.435 Q170.089 803.328 166.084 803.328 Q164.209 803.328 162.334 803.745 Q160.482 804.161 158.538 805.041 L158.538 787.68 Z\" fill=\"#000000\" fill-rule=\"evenodd\" fill-opacity=\"1\" /><path clip-path=\"url(#clip430)\" d=\"M198.653 790.759 Q195.042 790.759 193.214 794.323 Q191.408 797.865 191.408 804.995 Q191.408 812.101 193.214 815.666 Q195.042 819.208 198.653 819.208 Q202.288 819.208 204.093 815.666 Q205.922 812.101 205.922 804.995 Q205.922 797.865 204.093 794.323 Q202.288 790.759 198.653 790.759 M198.653 787.055 Q204.464 787.055 207.519 791.661 Q210.598 796.245 210.598 804.995 Q210.598 813.722 207.519 818.328 Q204.464 822.911 198.653 822.911 Q192.843 822.911 189.765 818.328 Q186.709 813.722 186.709 804.995 Q186.709 796.245 189.765 791.661 Q192.843 787.055 198.653 787.055 Z\" fill=\"#000000\" fill-rule=\"evenodd\" fill-opacity=\"1\" /><path clip-path=\"url(#clip430)\" d=\"M63.9319 469.302 Q60.3208 469.302 58.4921 472.867 Q56.6865 476.409 56.6865 483.538 Q56.6865 490.645 58.4921 494.209 Q60.3208 497.751 63.9319 497.751 Q67.5661 497.751 69.3717 494.209 Q71.2004 490.645 71.2004 483.538 Q71.2004 476.409 69.3717 472.867 Q67.5661 469.302 63.9319 469.302 M63.9319 465.598 Q69.742 465.598 72.7976 470.205 Q75.8763 474.788 75.8763 483.538 Q75.8763 492.265 72.7976 496.871 Q69.742 501.455 63.9319 501.455 Q58.1217 501.455 55.043 496.871 Q51.9875 492.265 51.9875 483.538 Q51.9875 474.788 55.043 470.205 Q58.1217 465.598 63.9319 465.598 Z\" fill=\"#000000\" fill-rule=\"evenodd\" fill-opacity=\"1\" /><path clip-path=\"url(#clip430)\" d=\"M84.0938 494.904 L88.978 494.904 L88.978 500.783 L84.0938 500.783 L84.0938 494.904 Z\" fill=\"#000000\" fill-rule=\"evenodd\" fill-opacity=\"1\" /><path clip-path=\"url(#clip430)\" d=\"M109.163 469.302 Q105.552 469.302 103.723 472.867 Q101.918 476.409 101.918 483.538 Q101.918 490.645 103.723 494.209 Q105.552 497.751 109.163 497.751 Q112.797 497.751 114.603 494.209 Q116.432 490.645 116.432 483.538 Q116.432 476.409 114.603 472.867 Q112.797 469.302 109.163 469.302 M109.163 465.598 Q114.973 465.598 118.029 470.205 Q121.107 474.788 121.107 483.538 Q121.107 492.265 118.029 496.871 Q114.973 501.455 109.163 501.455 Q103.353 501.455 100.274 496.871 Q97.2187 492.265 97.2187 483.538 Q97.2187 474.788 100.274 470.205 Q103.353 465.598 109.163 465.598 Z\" fill=\"#000000\" fill-rule=\"evenodd\" fill-opacity=\"1\" /><path clip-path=\"url(#clip430)\" d=\"M139.325 469.302 Q135.714 469.302 133.885 472.867 Q132.08 476.409 132.08 483.538 Q132.08 490.645 133.885 494.209 Q135.714 497.751 139.325 497.751 Q142.959 497.751 144.765 494.209 Q146.593 490.645 146.593 483.538 Q146.593 476.409 144.765 472.867 Q142.959 469.302 139.325 469.302 M139.325 465.598 Q145.135 465.598 148.191 470.205 Q151.269 474.788 151.269 483.538 Q151.269 492.265 148.191 496.871 Q145.135 501.455 139.325 501.455 Q133.515 501.455 130.436 496.871 Q127.381 492.265 127.381 483.538 Q127.381 474.788 130.436 470.205 Q133.515 465.598 139.325 465.598 Z\" fill=\"#000000\" fill-rule=\"evenodd\" fill-opacity=\"1\" /><path clip-path=\"url(#clip430)\" d=\"M158.306 466.223 L180.528 466.223 L180.528 468.214 L167.982 500.783 L163.098 500.783 L174.903 470.159 L158.306 470.159 L158.306 466.223 Z\" fill=\"#000000\" fill-rule=\"evenodd\" fill-opacity=\"1\" /><path clip-path=\"url(#clip430)\" d=\"M189.695 466.223 L208.051 466.223 L208.051 470.159 L193.977 470.159 L193.977 478.631 Q194.996 478.284 196.014 478.122 Q197.033 477.936 198.052 477.936 Q203.839 477.936 207.218 481.108 Q210.598 484.279 210.598 489.696 Q210.598 495.274 207.126 498.376 Q203.653 501.455 197.334 501.455 Q195.158 501.455 192.89 501.084 Q190.644 500.714 188.237 499.973 L188.237 495.274 Q190.32 496.408 192.542 496.964 Q194.765 497.52 197.241 497.52 Q201.246 497.52 203.584 495.413 Q205.922 493.307 205.922 489.696 Q205.922 486.084 203.584 483.978 Q201.246 481.872 197.241 481.872 Q195.366 481.872 193.491 482.288 Q191.64 482.705 189.695 483.584 L189.695 466.223 Z\" fill=\"#000000\" fill-rule=\"evenodd\" fill-opacity=\"1\" /><path clip-path=\"url(#clip430)\" d=\"M62.9365 147.846 Q59.3254 147.846 57.4967 151.41 Q55.6912 154.952 55.6912 162.082 Q55.6912 169.188 57.4967 172.753 Q59.3254 176.295 62.9365 176.295 Q66.5707 176.295 68.3763 172.753 Q70.205 169.188 70.205 162.082 Q70.205 154.952 68.3763 151.41 Q66.5707 147.846 62.9365 147.846 M62.9365 144.142 Q68.7467 144.142 71.8022 148.748 Q74.8809 153.332 74.8809 162.082 Q74.8809 170.808 71.8022 175.415 Q68.7467 179.998 62.9365 179.998 Q57.1264 179.998 54.0477 175.415 Q50.9921 170.808 50.9921 162.082 Q50.9921 153.332 54.0477 148.748 Q57.1264 144.142 62.9365 144.142 Z\" fill=\"#000000\" fill-rule=\"evenodd\" fill-opacity=\"1\" /><path clip-path=\"url(#clip430)\" d=\"M83.0984 173.447 L87.9827 173.447 L87.9827 179.327 L83.0984 179.327 L83.0984 173.447 Z\" fill=\"#000000\" fill-rule=\"evenodd\" fill-opacity=\"1\" /><path clip-path=\"url(#clip430)\" d=\"M108.168 147.846 Q104.557 147.846 102.728 151.41 Q100.922 154.952 100.922 162.082 Q100.922 169.188 102.728 172.753 Q104.557 176.295 108.168 176.295 Q111.802 176.295 113.608 172.753 Q115.436 169.188 115.436 162.082 Q115.436 154.952 113.608 151.41 Q111.802 147.846 108.168 147.846 M108.168 144.142 Q113.978 144.142 117.033 148.748 Q120.112 153.332 120.112 162.082 Q120.112 170.808 117.033 175.415 Q113.978 179.998 108.168 179.998 Q102.358 179.998 99.2789 175.415 Q96.2234 170.808 96.2234 162.082 Q96.2234 153.332 99.2789 148.748 Q102.358 144.142 108.168 144.142 Z\" fill=\"#000000\" fill-rule=\"evenodd\" fill-opacity=\"1\" /><path clip-path=\"url(#clip430)\" d=\"M129.14 175.392 L136.779 175.392 L136.779 149.026 L128.469 150.693 L128.469 146.434 L136.732 144.767 L141.408 144.767 L141.408 175.392 L149.047 175.392 L149.047 179.327 L129.14 179.327 L129.14 175.392 Z\" fill=\"#000000\" fill-rule=\"evenodd\" fill-opacity=\"1\" /><path clip-path=\"url(#clip430)\" d=\"M168.491 147.846 Q164.88 147.846 163.052 151.41 Q161.246 154.952 161.246 162.082 Q161.246 169.188 163.052 172.753 Q164.88 176.295 168.491 176.295 Q172.126 176.295 173.931 172.753 Q175.76 169.188 175.76 162.082 Q175.76 154.952 173.931 151.41 Q172.126 147.846 168.491 147.846 M168.491 144.142 Q174.302 144.142 177.357 148.748 Q180.436 153.332 180.436 162.082 Q180.436 170.808 177.357 175.415 Q174.302 179.998 168.491 179.998 Q162.681 179.998 159.603 175.415 Q156.547 170.808 156.547 162.082 Q156.547 153.332 159.603 148.748 Q162.681 144.142 168.491 144.142 Z\" fill=\"#000000\" fill-rule=\"evenodd\" fill-opacity=\"1\" /><path clip-path=\"url(#clip430)\" d=\"M198.653 147.846 Q195.042 147.846 193.214 151.41 Q191.408 154.952 191.408 162.082 Q191.408 169.188 193.214 172.753 Q195.042 176.295 198.653 176.295 Q202.288 176.295 204.093 172.753 Q205.922 169.188 205.922 162.082 Q205.922 154.952 204.093 151.41 Q202.288 147.846 198.653 147.846 M198.653 144.142 Q204.464 144.142 207.519 148.748 Q210.598 153.332 210.598 162.082 Q210.598 170.808 207.519 175.415 Q204.464 179.998 198.653 179.998 Q192.843 179.998 189.765 175.415 Q186.709 170.808 186.709 162.082 Q186.709 153.332 189.765 148.748 Q192.843 144.142 198.653 144.142 Z\" fill=\"#000000\" fill-rule=\"evenodd\" fill-opacity=\"1\" /><path clip-path=\"url(#clip430)\" d=\"M1222.93 49.3643 Q1222.93 41.2625 1219.57 36.8065 Q1216.25 32.3505 1210.21 32.3505 Q1204.22 32.3505 1200.86 36.8065 Q1197.53 41.2625 1197.53 49.3643 Q1197.53 57.4256 1200.86 61.8816 Q1204.22 66.3376 1210.21 66.3376 Q1216.25 66.3376 1219.57 61.8816 Q1222.93 57.4256 1222.93 49.3643 M1230.39 66.9452 Q1230.39 78.5308 1225.24 84.1616 Q1220.1 89.8329 1209.48 89.8329 Q1205.55 89.8329 1202.07 89.2252 Q1198.59 88.6581 1195.31 87.4428 L1195.31 80.1917 Q1198.59 81.9741 1201.79 82.8248 Q1204.99 83.6755 1208.31 83.6755 Q1215.64 83.6755 1219.29 79.8271 Q1222.93 76.0193 1222.93 68.282 L1222.93 64.5957 Q1220.62 68.6061 1217.02 70.5911 Q1213.41 72.576 1208.39 72.576 Q1200.04 72.576 1194.94 66.2161 Q1189.84 59.8562 1189.84 49.3643 Q1189.84 38.832 1194.94 32.472 Q1200.04 26.1121 1208.39 26.1121 Q1213.41 26.1121 1217.02 28.0971 Q1220.62 30.082 1222.93 34.0924 L1222.93 27.2059 L1230.39 27.2059 L1230.39 66.9452 Z\" fill=\"#000000\" fill-rule=\"evenodd\" fill-opacity=\"1\" /><path clip-path=\"url(#clip430)\" d=\"M1266.36 49.7694 Q1257.32 49.7694 1253.84 51.8354 Q1250.36 53.9013 1250.36 58.8839 Q1250.36 62.8538 1252.95 65.2034 Q1255.58 67.5124 1260.08 67.5124 Q1266.28 67.5124 1270 63.1374 Q1273.77 58.7219 1273.77 51.4303 L1273.77 49.7694 L1266.36 49.7694 M1281.22 46.6907 L1281.22 72.576 L1273.77 72.576 L1273.77 65.6895 Q1271.22 69.8214 1267.41 71.8063 Q1263.6 73.7508 1258.09 73.7508 Q1251.13 73.7508 1246.99 69.8619 Q1242.9 65.9325 1242.9 59.3701 Q1242.9 51.7138 1248.01 47.825 Q1253.15 43.9361 1263.32 43.9361 L1273.77 43.9361 L1273.77 43.2069 Q1273.77 38.0623 1270.37 35.2672 Q1267.01 32.4315 1260.89 32.4315 Q1257 32.4315 1253.31 33.3632 Q1249.63 34.295 1246.23 36.1584 L1246.23 29.2718 Q1250.32 27.692 1254.16 26.9223 Q1258.01 26.1121 1261.66 26.1121 Q1271.5 26.1121 1276.36 31.2163 Q1281.22 36.3204 1281.22 46.6907 Z\" fill=\"#000000\" fill-rule=\"evenodd\" fill-opacity=\"1\" /><path clip-path=\"url(#clip430)\" d=\"M1296.58 27.2059 L1304.03 27.2059 L1304.03 72.576 L1296.58 72.576 L1296.58 27.2059 M1296.58 9.54393 L1304.03 9.54393 L1304.03 18.9825 L1296.58 18.9825 L1296.58 9.54393 Z\" fill=\"#000000\" fill-rule=\"evenodd\" fill-opacity=\"1\" /><path clip-path=\"url(#clip430)\" d=\"M1357.34 45.1919 L1357.34 72.576 L1349.89 72.576 L1349.89 45.4349 Q1349.89 38.994 1347.38 35.7938 Q1344.86 32.5936 1339.84 32.5936 Q1333.81 32.5936 1330.32 36.4419 Q1326.84 40.2903 1326.84 46.9338 L1326.84 72.576 L1319.34 72.576 L1319.34 27.2059 L1326.84 27.2059 L1326.84 34.2544 Q1329.51 30.163 1333.12 28.1376 Q1336.76 26.1121 1341.5 26.1121 Q1349.32 26.1121 1353.33 30.9732 Q1357.34 35.7938 1357.34 45.1919 Z\" fill=\"#000000\" fill-rule=\"evenodd\" fill-opacity=\"1\" /><path clip-path=\"url(#clip430)\" d=\"M1374.68 65.6895 L1388.05 65.6895 L1388.05 19.5497 L1373.5 22.4663 L1373.5 15.0127 L1387.97 12.096 L1396.15 12.096 L1396.15 65.6895 L1409.52 65.6895 L1409.52 72.576 L1374.68 72.576 L1374.68 65.6895 Z\" fill=\"#000000\" fill-rule=\"evenodd\" fill-opacity=\"1\" /><polyline clip-path=\"url(#clip432)\" style=\"stroke:#009af9; stroke-linecap:round; stroke-linejoin:round; stroke-width:4; stroke-opacity:1; fill:none\" points=\"306.206,162.047 308.195,1447.87 310.184,1447.87 312.173,1447.87 314.162,1447.87 316.151,1447.87 318.14,1447.87 320.129,1447.87 322.117,1447.87 324.106,1447.87 326.095,1447.87 328.084,1447.87 330.073,1447.87 332.062,1447.87 334.051,1447.87 336.04,1447.87 338.029,1447.87 340.018,1447.87 342.007,1447.87 343.996,1447.87 345.985,1447.87 347.974,1447.87 349.962,1447.87 351.951,1447.87 353.94,1447.87 355.929,1447.87 357.918,1447.87 359.907,1447.87 361.896,1447.87 363.885,1447.87 365.874,1447.87 367.863,1447.87 369.852,1447.87 371.841,1447.87 373.83,1447.87 375.819,1447.87 377.808,1447.87 379.796,1447.87 381.785,1447.87 383.774,1447.87 385.763,1447.87 387.752,1447.87 389.741,1447.87 391.73,1447.87 393.719,1447.87 395.708,1447.87 397.697,1447.87 399.686,1447.87 401.675,1447.87 403.664,1447.87 405.653,1447.87 407.641,1447.87 409.63,1447.87 411.619,1447.87 413.608,1447.87 415.597,1447.87 417.586,1447.87 419.575,1447.87 421.564,1447.87 423.553,1447.87 425.542,1447.87 427.531,1447.87 429.52,1447.87 431.509,1447.87 433.498,1447.87 435.486,1447.87 437.475,1447.87 439.464,1447.87 441.453,1447.87 443.442,1447.87 445.431,1447.87 447.42,1447.87 449.409,1447.87 451.398,1447.87 453.387,1447.87 455.376,1447.87 457.365,1447.87 459.354,1447.87 461.343,1447.87 463.332,1447.87 465.32,1447.87 467.309,1447.87 469.298,1447.87 471.287,1447.87 473.276,1447.87 475.265,1447.87 477.254,1447.87 479.243,1447.87 481.232,1447.87 483.221,1447.87 485.21,1447.87 487.199,1447.87 489.188,1447.87 491.177,1447.87 493.165,1447.87 495.154,1447.87 497.143,1447.87 499.132,1447.87 501.121,1447.87 503.11,1447.87 505.099,1447.87 507.088,1447.87 509.077,1447.87 511.066,1447.87 513.055,1447.87 515.044,1447.87 517.033,1447.87 519.022,1447.87 521.011,1447.87 522.999,1447.87 524.988,1447.87 526.977,1447.87 528.966,1447.87 530.955,1447.87 532.944,1447.87 534.933,1447.87 536.922,1447.87 538.911,1447.87 540.9,1447.87 542.889,1447.87 544.878,1447.87 546.867,1447.87 548.856,1447.87 550.844,1447.87 552.833,1447.87 554.822,1447.87 556.811,1447.87 558.8,1447.87 560.789,1447.87 562.778,1447.87 564.767,1447.87 566.756,1447.87 568.745,1447.87 570.734,1447.87 572.723,1447.87 574.712,1447.87 576.701,1447.87 578.689,1447.87 580.678,1447.87 582.667,1447.87 584.656,1447.87 586.645,1447.87 588.634,1447.87 590.623,1447.87 592.612,1447.87 594.601,1447.87 596.59,1447.87 598.579,1447.87 600.568,1447.87 602.557,1447.87 604.546,1447.87 606.535,1447.87 608.523,1447.87 610.512,1447.87 612.501,1447.87 614.49,1447.87 616.479,1447.87 618.468,1447.87 620.457,1447.87 622.446,1447.87 624.435,1447.87 626.424,1447.87 628.413,1447.87 630.402,1447.87 632.391,1447.87 634.38,1447.87 636.368,1447.87 638.357,1447.87 640.346,1447.87 642.335,1447.87 644.324,1447.87 646.313,1447.87 648.302,1447.87 650.291,1447.87 652.28,1447.87 654.269,1447.87 656.258,1447.87 658.247,1447.87 660.236,1447.87 662.225,1447.87 664.214,1447.87 666.202,1447.87 668.191,1447.87 670.18,1447.87 672.169,1447.87 674.158,1447.87 676.147,1447.87 678.136,1447.87 680.125,1447.87 682.114,1447.87 684.103,1447.87 686.092,1447.87 688.081,1447.87 690.07,1447.87 692.059,1447.87 694.047,1447.87 696.036,1447.87 698.025,1447.87 700.014,1447.87 702.003,1447.87 703.992,1447.87 705.981,1447.87 707.97,1447.87 709.959,1447.87 711.948,1447.87 713.937,1447.87 715.926,1447.87 717.915,1447.87 719.904,1447.87 721.892,1447.87 723.881,1447.87 725.87,1447.87 727.859,1447.87 729.848,1447.87 731.837,1447.87 733.826,1447.87 735.815,1447.87 737.804,1447.87 739.793,1447.87 741.782,1447.87 743.771,1447.87 745.76,1447.87 747.749,1447.87 749.738,1447.87 751.726,1447.87 753.715,1447.87 755.704,1447.87 757.693,1447.87 759.682,1447.87 761.671,1447.87 763.66,1447.87 765.649,1447.87 767.638,1447.87 769.627,1447.87 771.616,1447.87 773.605,1447.87 775.594,1447.87 777.583,1447.87 779.571,1447.87 781.56,1447.87 783.549,1447.87 785.538,1447.87 787.527,1447.87 789.516,1447.87 791.505,1447.87 793.494,1447.87 795.483,1447.87 797.472,1447.87 799.461,1447.87 801.45,1447.87 803.439,1447.87 805.428,1447.87 807.417,1447.87 809.405,1447.87 811.394,1447.87 813.383,1447.87 815.372,1447.87 817.361,1447.87 819.35,1447.87 821.339,1447.87 823.328,1447.87 825.317,1447.87 827.306,1447.87 829.295,1447.87 831.284,1447.87 833.273,1447.87 835.262,1447.87 837.25,1447.87 839.239,1447.87 841.228,1447.87 843.217,1447.87 845.206,1447.87 847.195,1447.87 849.184,1447.87 851.173,1447.87 853.162,1447.87 855.151,1447.87 857.14,1447.87 859.129,1447.87 861.118,1447.87 863.107,1447.87 865.095,1447.87 867.084,1447.87 869.073,1447.87 871.062,1447.87 873.051,1447.87 875.04,1447.87 877.029,1447.87 879.018,1447.87 881.007,1447.87 882.996,1447.87 884.985,1447.87 886.974,1447.87 888.963,1447.87 890.952,1447.87 892.941,1447.87 894.929,1447.87 896.918,1447.87 898.907,1447.87 900.896,1447.87 902.885,1447.87 904.874,1447.87 906.863,1447.87 908.852,1447.87 910.841,1447.87 912.83,1447.87 914.819,1447.87 916.808,1447.87 918.797,1447.87 920.786,1447.87 922.774,1447.87 924.763,1447.87 926.752,1447.87 928.741,1447.87 930.73,1447.87 932.719,1447.87 934.708,1447.87 936.697,1447.87 938.686,1447.87 940.675,1447.87 942.664,1447.87 944.653,1447.87 946.642,1447.87 948.631,1447.87 950.62,1447.87 952.608,1447.87 954.597,1447.87 956.586,1447.87 958.575,1447.87 960.564,1447.87 962.553,1447.87 964.542,1447.87 966.531,1447.87 968.52,1447.87 970.509,1447.87 972.498,1447.87 974.487,1447.87 976.476,1447.87 978.465,1447.87 980.453,1447.87 982.442,1447.87 984.431,1447.87 986.42,1447.87 988.409,1447.87 990.398,1447.87 992.387,1447.87 994.376,1447.87 996.365,1447.87 998.354,1447.87 1000.34,1447.87 1002.33,1447.87 1004.32,1447.87 1006.31,1447.87 1008.3,1447.87 1010.29,1447.87 1012.28,1447.87 1014.27,1447.87 1016.25,1447.87 1018.24,1447.87 1020.23,1447.87 1022.22,1447.87 1024.21,1447.87 1026.2,1447.87 1028.19,1447.87 1030.18,1447.87 1032.17,1447.87 1034.15,1447.87 1036.14,1447.87 1038.13,1447.87 1040.12,1447.87 1042.11,1447.87 1044.1,1447.87 1046.09,1447.87 1048.08,1447.87 1050.07,1447.87 1052.05,1447.87 1054.04,1447.87 1056.03,1447.87 1058.02,1447.87 1060.01,1447.87 1062,1447.87 1063.99,1447.87 1065.98,1447.87 1067.97,1447.87 1069.96,1447.87 1071.94,1447.87 1073.93,1447.87 1075.92,1447.87 1077.91,1447.87 1079.9,1447.87 1081.89,1447.87 1083.88,1447.87 1085.87,1447.87 1087.86,1447.87 1089.84,1447.87 1091.83,1447.87 1093.82,1447.87 1095.81,1447.87 1097.8,1447.87 1099.79,1447.87 1101.78,1447.87 1103.77,1447.87 1105.76,1447.87 1107.75,1447.87 1109.73,1447.87 1111.72,1447.87 1113.71,1447.87 1115.7,1447.87 1117.69,1447.87 1119.68,1447.87 1121.67,1447.87 1123.66,1447.87 1125.65,1447.87 1127.63,1447.87 1129.62,1447.87 1131.61,1447.87 1133.6,1447.87 1135.59,1447.87 1137.58,1447.87 1139.57,1447.87 1141.56,1447.87 1143.55,1447.87 1145.53,1447.87 1147.52,1447.87 1149.51,1447.87 1151.5,1447.87 1153.49,1447.87 1155.48,1447.87 1157.47,1447.87 1159.46,1447.87 1161.45,1447.87 1163.44,1447.87 1165.42,1447.87 1167.41,1447.87 1169.4,1447.87 1171.39,1447.87 1173.38,1447.87 1175.37,1447.87 1177.36,1447.87 1179.35,1447.87 1181.34,1447.87 1183.32,1447.87 1185.31,1447.87 1187.3,1447.87 1189.29,1447.87 1191.28,1447.87 1193.27,1447.87 1195.26,1447.87 1197.25,1447.87 1199.24,1447.87 1201.22,1447.87 1203.21,1447.87 1205.2,1447.87 1207.19,1447.87 1209.18,1447.87 1211.17,1447.87 1213.16,1447.87 1215.15,1447.87 1217.14,1447.87 1219.13,1447.87 1221.11,1447.87 1223.1,1447.87 1225.09,1447.87 1227.08,1447.87 1229.07,1447.87 1231.06,1447.87 1233.05,1447.87 1235.04,1447.87 1237.03,1447.87 1239.01,1447.87 1241,1447.87 1242.99,1447.87 1244.98,1447.87 1246.97,1447.87 1248.96,1447.87 1250.95,1447.87 1252.94,1447.87 1254.93,1447.87 1256.91,1447.87 1258.9,1447.87 1260.89,1447.87 1262.88,1447.87 1264.87,1447.87 1266.86,1447.87 1268.85,1447.87 1270.84,1447.87 1272.83,1447.87 1274.82,1447.87 1276.8,1447.87 1278.79,1447.87 1280.78,1447.87 1282.77,1447.87 1284.76,1447.87 1286.75,1447.87 1288.74,1447.87 1290.73,1447.87 1292.72,1447.87 1294.7,1447.87 1296.69,1447.87 1298.68,1447.87 1300.67,1447.87 1302.66,1447.87 1304.65,1447.87 1306.64,1447.87 1308.63,1447.87 1310.62,1447.87 1312.6,1447.87 1314.59,1447.87 1316.58,1447.87 1318.57,1447.87 1320.56,1447.87 1322.55,1447.87 1324.54,1447.87 1326.53,1447.87 1328.52,1447.87 1330.51,1447.87 1332.49,1447.87 1334.48,1447.87 1336.47,1447.87 1338.46,1447.87 1340.45,1447.87 1342.44,1447.87 1344.43,1447.87 1346.42,1447.87 1348.41,1447.87 1350.39,1447.87 1352.38,1447.87 1354.37,1447.87 1356.36,1447.87 1358.35,1447.87 1360.34,1447.87 1362.33,1447.87 1364.32,1447.87 1366.31,1447.87 1368.29,1447.87 1370.28,1447.87 1372.27,1447.87 1374.26,1447.87 1376.25,1447.87 1378.24,1447.87 1380.23,1447.87 1382.22,1447.87 1384.21,1447.87 1386.2,1447.87 1388.18,1447.87 1390.17,1447.87 1392.16,1447.87 1394.15,1447.87 1396.14,1447.87 1398.13,1447.87 1400.12,1447.87 1402.11,1447.87 1404.1,1447.87 1406.08,1447.87 1408.07,1447.87 1410.06,1447.87 1412.05,1447.87 1414.04,1447.87 1416.03,1447.87 1418.02,1447.87 1420.01,1447.87 1422,1447.87 1423.98,1447.87 1425.97,1447.87 1427.96,1447.87 1429.95,1447.87 1431.94,1447.87 1433.93,1447.87 1435.92,1447.87 1437.91,1447.87 1439.9,1447.87 1441.89,1447.87 1443.87,1447.87 1445.86,1447.87 1447.85,1447.87 1449.84,1447.87 1451.83,1447.87 1453.82,1447.87 1455.81,1447.87 1457.8,1447.87 1459.79,1447.87 1461.77,1447.87 1463.76,1447.87 1465.75,1447.87 1467.74,1447.87 1469.73,1447.87 1471.72,1447.87 1473.71,1447.87 1475.7,1447.87 1477.69,1447.87 1479.68,1447.87 1481.66,1447.87 1483.65,1447.87 1485.64,1447.87 1487.63,1447.87 1489.62,1447.87 1491.61,1447.87 1493.6,1447.87 1495.59,1447.87 1497.58,1447.87 1499.56,1447.87 1501.55,1447.87 1503.54,1447.87 1505.53,1447.87 1507.52,1447.87 1509.51,1447.87 1511.5,1447.87 1513.49,1447.87 1515.48,1447.87 1517.46,1447.87 1519.45,1447.87 1521.44,1447.87 1523.43,1447.87 1525.42,1447.87 1527.41,1447.87 1529.4,1447.87 1531.39,1447.87 1533.38,1447.87 1535.37,1447.87 1537.35,1447.87 1539.34,1447.87 1541.33,1447.87 1543.32,1447.87 1545.31,1447.87 1547.3,1447.87 1549.29,1447.87 1551.28,1447.87 1553.27,1447.87 1555.25,1447.87 1557.24,1447.87 1559.23,1447.87 1561.22,1447.87 1563.21,1447.87 1565.2,1447.87 1567.19,1447.87 1569.18,1447.87 1571.17,1447.87 1573.15,1447.87 1575.14,1447.87 1577.13,1447.87 1579.12,1447.87 1581.11,1447.87 1583.1,1447.87 1585.09,1447.87 1587.08,1447.87 1589.07,1447.87 1591.06,1447.87 1593.04,1447.87 1595.03,1447.87 1597.02,1447.87 1599.01,1447.87 1601,1447.87 1602.99,1447.87 1604.98,1447.87 1606.97,1447.87 1608.96,1447.87 1610.94,1447.87 1612.93,1447.87 1614.92,1447.87 1616.91,1447.87 1618.9,1447.87 1620.89,1447.87 1622.88,1447.87 1624.87,1447.87 1626.86,1447.87 1628.84,1447.87 1630.83,1447.87 1632.82,1447.87 1634.81,1447.87 1636.8,1447.87 1638.79,1447.87 1640.78,1447.87 1642.77,1447.87 1644.76,1447.87 1646.75,1447.87 1648.73,1447.87 1650.72,1447.87 1652.71,1447.87 1654.7,1447.87 1656.69,1447.87 1658.68,1447.87 1660.67,1447.87 1662.66,1447.87 1664.65,1447.87 1666.63,1447.87 1668.62,1447.87 1670.61,1447.87 1672.6,1447.87 1674.59,1447.87 1676.58,1447.87 1678.57,1447.87 1680.56,1447.87 1682.55,1447.87 1684.53,1447.87 1686.52,1447.87 1688.51,1447.87 1690.5,1447.87 1692.49,1447.87 1694.48,1447.87 1696.47,1447.87 1698.46,1447.87 1700.45,1447.87 1702.44,1447.87 1704.42,1447.87 1706.41,1447.87 1708.4,1447.87 1710.39,1447.87 1712.38,1447.87 1714.37,1447.87 1716.36,1447.87 1718.35,1447.87 1720.34,1447.87 1722.32,1447.87 1724.31,1447.87 1726.3,1447.87 1728.29,1447.87 1730.28,1447.87 1732.27,1447.87 1734.26,1447.87 1736.25,1447.87 1738.24,1447.87 1740.22,1447.87 1742.21,1447.87 1744.2,1447.87 1746.19,1447.87 1748.18,1447.87 1750.17,1447.87 1752.16,1447.87 1754.15,1447.87 1756.14,1447.87 1758.13,1447.87 1760.11,1447.87 1762.1,1447.87 1764.09,1447.87 1766.08,1447.87 1768.07,1447.87 1770.06,1447.87 1772.05,1447.87 1774.04,1447.87 1776.03,1447.87 1778.01,1447.87 1780,1447.87 1781.99,1447.87 1783.98,1447.87 1785.97,1447.87 1787.96,1447.87 1789.95,1447.87 1791.94,1447.87 1793.93,1447.87 1795.92,1447.87 1797.9,1447.87 1799.89,1447.87 1801.88,1447.87 1803.87,1447.87 1805.86,1447.87 1807.85,1447.87 1809.84,1447.87 1811.83,1447.87 1813.82,1447.87 1815.8,1447.87 1817.79,1447.87 1819.78,1447.87 1821.77,1447.87 1823.76,1447.87 1825.75,1447.87 1827.74,1447.87 1829.73,1447.87 1831.72,1447.87 1833.7,1447.87 1835.69,1447.87 1837.68,1447.87 1839.67,1447.87 1841.66,1447.87 1843.65,1447.87 1845.64,1447.87 1847.63,1447.87 1849.62,1447.87 1851.61,1447.87 1853.59,1447.87 1855.58,1447.87 1857.57,1447.87 1859.56,1447.87 1861.55,1447.87 1863.54,1447.87 1865.53,1447.87 1867.52,1447.87 1869.51,1447.87 1871.49,1447.87 1873.48,1447.87 1875.47,1447.87 1877.46,1447.87 1879.45,1447.87 1881.44,1447.87 1883.43,1447.87 1885.42,1447.87 1887.41,1447.87 1889.39,1447.87 1891.38,1447.87 1893.37,1447.87 1895.36,1447.87 1897.35,1447.87 1899.34,1447.87 1901.33,1447.87 1903.32,1447.87 1905.31,1447.87 1907.3,1447.87 1909.28,1447.87 1911.27,1447.87 1913.26,1447.87 1915.25,1447.87 1917.24,1447.87 1919.23,1447.87 1921.22,1447.87 1923.21,1447.87 1925.2,1447.87 1927.18,1447.87 1929.17,1447.87 1931.16,1447.87 1933.15,1447.87 1935.14,1447.87 1937.13,1447.87 1939.12,1447.87 1941.11,1447.87 1943.1,1447.87 1945.08,1447.87 1947.07,1447.87 1949.06,1447.87 1951.05,1447.87 1953.04,1447.87 1955.03,1447.87 1957.02,1447.87 1959.01,1447.87 1961,1447.87 1962.99,1447.87 1964.97,1447.87 1966.96,1447.87 1968.95,1447.87 1970.94,1447.87 1972.93,1447.87 1974.92,1447.87 1976.91,1447.87 1978.9,1447.87 1980.89,1447.87 1982.87,1447.87 1984.86,1447.87 1986.85,1447.87 1988.84,1447.87 1990.83,1447.87 1992.82,1447.87 1994.81,1447.87 1996.8,1447.87 1998.79,1447.87 2000.77,1447.87 2002.76,1447.87 2004.75,1447.87 2006.74,1447.87 2008.73,1447.87 2010.72,1447.87 2012.71,1447.87 2014.7,1447.87 2016.69,1447.87 2018.68,1447.87 2020.66,1447.87 2022.65,1447.87 2024.64,1447.87 2026.63,1447.87 2028.62,1447.87 2030.61,1447.87 2032.6,1447.87 2034.59,1447.87 2036.58,1447.87 2038.56,1447.87 2040.55,1447.87 2042.54,1447.87 2044.53,1447.87 2046.52,1447.87 2048.51,1447.87 2050.5,1447.87 2052.49,1447.87 2054.48,1447.87 2056.46,1447.87 2058.45,1447.87 2060.44,1447.87 2062.43,1447.87 2064.42,1447.87 2066.41,1447.87 2068.4,1447.87 2070.39,1447.87 2072.38,1447.87 2074.37,1447.87 2076.35,1447.87 2078.34,1447.87 2080.33,1447.87 2082.32,1447.87 2084.31,1447.87 2086.3,1447.87 2088.29,1447.87 2090.28,1447.87 2092.27,1447.87 2094.25,1447.87 2096.24,1447.87 2098.23,1447.87 2100.22,1447.87 2102.21,1447.87 2104.2,1447.87 2106.19,1447.87 2108.18,1447.87 2110.17,1447.87 2112.15,1447.87 2114.14,1447.87 2116.13,1447.87 2118.12,1447.87 2120.11,1447.87 2122.1,1447.87 2124.09,1447.87 2126.08,1447.87 2128.07,1447.87 2130.06,1447.87 2132.04,1447.87 2134.03,1447.87 2136.02,1447.87 2138.01,1447.87 2140,1447.87 2141.99,1447.87 2143.98,1447.87 2145.97,1447.87 2147.96,1447.87 2149.94,1447.87 2151.93,1447.87 2153.92,1447.87 2155.91,1447.87 2157.9,1447.87 2159.89,1447.87 2161.88,1447.87 2163.87,1447.87 2165.86,1447.87 2167.85,1447.87 2169.83,1447.87 2171.82,1447.87 2173.81,1447.87 2175.8,1447.87 2177.79,1447.87 2179.78,1447.87 2181.77,1447.87 2183.76,1447.87 2185.75,1447.87 2187.73,1447.87 2189.72,1447.87 2191.71,1447.87 2193.7,1447.87 2195.69,1447.87 2197.68,1447.87 2199.67,1447.87 2201.66,1447.87 2203.65,1447.87 2205.63,1447.87 2207.62,1447.87 2209.61,1447.87 2211.6,1447.87 2213.59,1447.87 2215.58,1447.87 2217.57,1447.87 2219.56,1447.87 2221.55,1447.87 2223.54,1447.87 2225.52,1447.87 2227.51,1447.87 2229.5,1447.87 2231.49,1447.87 2233.48,1447.87 2235.47,1447.87 2237.46,1447.87 2239.45,1447.87 2241.44,1447.87 2243.42,1447.87 2245.41,1447.87 2247.4,1447.87 2249.39,1447.87 2251.38,1447.87 2253.37,1447.87 2255.36,1447.87 2257.35,1447.87 2259.34,1447.87 2261.32,1447.87 2263.31,1447.87 2265.3,1447.87 2267.29,1447.87 2269.28,1447.87 2271.27,1447.87 2273.26,1447.87 2275.25,1447.87 2277.24,1447.87 2279.23,1447.87 2281.21,1447.87 2283.2,1447.87 2285.19,1447.87 2287.18,1447.87 2289.17,1447.87 2291.16,1447.87 2293.15,1447.87 \"/>\n",
       "</svg>\n"
      ],
      "text/html": [
       "<?xml version=\"1.0\" encoding=\"utf-8\"?>\n",
       "<svg xmlns=\"http://www.w3.org/2000/svg\" xmlns:xlink=\"http://www.w3.org/1999/xlink\" width=\"600\" height=\"400\" viewBox=\"0 0 2400 1600\">\n",
       "<defs>\n",
       "  <clipPath id=\"clip480\">\n",
       "    <rect x=\"0\" y=\"0\" width=\"2400\" height=\"1600\"/>\n",
       "  </clipPath>\n",
       "</defs>\n",
       "<path clip-path=\"url(#clip480)\" d=\"M0 1600 L2400 1600 L2400 0 L0 0  Z\" fill=\"#ffffff\" fill-rule=\"evenodd\" fill-opacity=\"1\"/>\n",
       "<defs>\n",
       "  <clipPath id=\"clip481\">\n",
       "    <rect x=\"480\" y=\"0\" width=\"1681\" height=\"1600\"/>\n",
       "  </clipPath>\n",
       "</defs>\n",
       "<path clip-path=\"url(#clip480)\" d=\"M246.598 1486.45 L2352.76 1486.45 L2352.76 123.472 L246.598 123.472  Z\" fill=\"#ffffff\" fill-rule=\"evenodd\" fill-opacity=\"1\"/>\n",
       "<defs>\n",
       "  <clipPath id=\"clip482\">\n",
       "    <rect x=\"246\" y=\"123\" width=\"2107\" height=\"1364\"/>\n",
       "  </clipPath>\n",
       "</defs>\n",
       "<polyline clip-path=\"url(#clip482)\" style=\"stroke:#000000; stroke-linecap:round; stroke-linejoin:round; stroke-width:2; stroke-opacity:0.1; fill:none\" points=\"306.206,1486.45 306.206,123.472 \"/>\n",
       "<polyline clip-path=\"url(#clip482)\" style=\"stroke:#000000; stroke-linecap:round; stroke-linejoin:round; stroke-width:2; stroke-opacity:0.1; fill:none\" points=\"802.941,1486.45 802.941,123.472 \"/>\n",
       "<polyline clip-path=\"url(#clip482)\" style=\"stroke:#000000; stroke-linecap:round; stroke-linejoin:round; stroke-width:2; stroke-opacity:0.1; fill:none\" points=\"1299.68,1486.45 1299.68,123.472 \"/>\n",
       "<polyline clip-path=\"url(#clip482)\" style=\"stroke:#000000; stroke-linecap:round; stroke-linejoin:round; stroke-width:2; stroke-opacity:0.1; fill:none\" points=\"1796.41,1486.45 1796.41,123.472 \"/>\n",
       "<polyline clip-path=\"url(#clip482)\" style=\"stroke:#000000; stroke-linecap:round; stroke-linejoin:round; stroke-width:2; stroke-opacity:0.1; fill:none\" points=\"2293.15,1486.45 2293.15,123.472 \"/>\n",
       "<polyline clip-path=\"url(#clip480)\" style=\"stroke:#000000; stroke-linecap:round; stroke-linejoin:round; stroke-width:4; stroke-opacity:1; fill:none\" points=\"246.598,1486.45 2352.76,1486.45 \"/>\n",
       "<polyline clip-path=\"url(#clip480)\" style=\"stroke:#000000; stroke-linecap:round; stroke-linejoin:round; stroke-width:4; stroke-opacity:1; fill:none\" points=\"306.206,1486.45 306.206,1467.55 \"/>\n",
       "<polyline clip-path=\"url(#clip480)\" style=\"stroke:#000000; stroke-linecap:round; stroke-linejoin:round; stroke-width:4; stroke-opacity:1; fill:none\" points=\"802.941,1486.45 802.941,1467.55 \"/>\n",
       "<polyline clip-path=\"url(#clip480)\" style=\"stroke:#000000; stroke-linecap:round; stroke-linejoin:round; stroke-width:4; stroke-opacity:1; fill:none\" points=\"1299.68,1486.45 1299.68,1467.55 \"/>\n",
       "<polyline clip-path=\"url(#clip480)\" style=\"stroke:#000000; stroke-linecap:round; stroke-linejoin:round; stroke-width:4; stroke-opacity:1; fill:none\" points=\"1796.41,1486.45 1796.41,1467.55 \"/>\n",
       "<polyline clip-path=\"url(#clip480)\" style=\"stroke:#000000; stroke-linecap:round; stroke-linejoin:round; stroke-width:4; stroke-opacity:1; fill:none\" points=\"2293.15,1486.45 2293.15,1467.55 \"/>\n",
       "<path clip-path=\"url(#clip480)\" d=\"M268.509 1517.37 Q264.898 1517.37 263.07 1520.93 Q261.264 1524.47 261.264 1531.6 Q261.264 1538.71 263.07 1542.27 Q264.898 1545.82 268.509 1545.82 Q272.144 1545.82 273.949 1542.27 Q275.778 1538.71 275.778 1531.6 Q275.778 1524.47 273.949 1520.93 Q272.144 1517.37 268.509 1517.37 M268.509 1513.66 Q274.32 1513.66 277.375 1518.27 Q280.454 1522.85 280.454 1531.6 Q280.454 1540.33 277.375 1544.94 Q274.32 1549.52 268.509 1549.52 Q262.699 1549.52 259.621 1544.94 Q256.565 1540.33 256.565 1531.6 Q256.565 1522.85 259.621 1518.27 Q262.699 1513.66 268.509 1513.66 Z\" fill=\"#000000\" fill-rule=\"evenodd\" fill-opacity=\"1\" /><path clip-path=\"url(#clip480)\" d=\"M288.671 1542.97 L293.556 1542.97 L293.556 1548.85 L288.671 1548.85 L288.671 1542.97 Z\" fill=\"#000000\" fill-rule=\"evenodd\" fill-opacity=\"1\" /><path clip-path=\"url(#clip480)\" d=\"M313.741 1517.37 Q310.13 1517.37 308.301 1520.93 Q306.495 1524.47 306.495 1531.6 Q306.495 1538.71 308.301 1542.27 Q310.13 1545.82 313.741 1545.82 Q317.375 1545.82 319.18 1542.27 Q321.009 1538.71 321.009 1531.6 Q321.009 1524.47 319.18 1520.93 Q317.375 1517.37 313.741 1517.37 M313.741 1513.66 Q319.551 1513.66 322.606 1518.27 Q325.685 1522.85 325.685 1531.6 Q325.685 1540.33 322.606 1544.94 Q319.551 1549.52 313.741 1549.52 Q307.931 1549.52 304.852 1544.94 Q301.796 1540.33 301.796 1531.6 Q301.796 1522.85 304.852 1518.27 Q307.931 1513.66 313.741 1513.66 Z\" fill=\"#000000\" fill-rule=\"evenodd\" fill-opacity=\"1\" /><path clip-path=\"url(#clip480)\" d=\"M343.903 1517.37 Q340.291 1517.37 338.463 1520.93 Q336.657 1524.47 336.657 1531.6 Q336.657 1538.71 338.463 1542.27 Q340.291 1545.82 343.903 1545.82 Q347.537 1545.82 349.342 1542.27 Q351.171 1538.71 351.171 1531.6 Q351.171 1524.47 349.342 1520.93 Q347.537 1517.37 343.903 1517.37 M343.903 1513.66 Q349.713 1513.66 352.768 1518.27 Q355.847 1522.85 355.847 1531.6 Q355.847 1540.33 352.768 1544.94 Q349.713 1549.52 343.903 1549.52 Q338.092 1549.52 335.014 1544.94 Q331.958 1540.33 331.958 1531.6 Q331.958 1522.85 335.014 1518.27 Q338.092 1513.66 343.903 1513.66 Z\" fill=\"#000000\" fill-rule=\"evenodd\" fill-opacity=\"1\" /><path clip-path=\"url(#clip480)\" d=\"M765.743 1517.37 Q762.131 1517.37 760.303 1520.93 Q758.497 1524.47 758.497 1531.6 Q758.497 1538.71 760.303 1542.27 Q762.131 1545.82 765.743 1545.82 Q769.377 1545.82 771.182 1542.27 Q773.011 1538.71 773.011 1531.6 Q773.011 1524.47 771.182 1520.93 Q769.377 1517.37 765.743 1517.37 M765.743 1513.66 Q771.553 1513.66 774.608 1518.27 Q777.687 1522.85 777.687 1531.6 Q777.687 1540.33 774.608 1544.94 Q771.553 1549.52 765.743 1549.52 Q759.932 1549.52 756.854 1544.94 Q753.798 1540.33 753.798 1531.6 Q753.798 1522.85 756.854 1518.27 Q759.932 1513.66 765.743 1513.66 Z\" fill=\"#000000\" fill-rule=\"evenodd\" fill-opacity=\"1\" /><path clip-path=\"url(#clip480)\" d=\"M785.904 1542.97 L790.789 1542.97 L790.789 1548.85 L785.904 1548.85 L785.904 1542.97 Z\" fill=\"#000000\" fill-rule=\"evenodd\" fill-opacity=\"1\" /><path clip-path=\"url(#clip480)\" d=\"M805.002 1544.91 L821.321 1544.91 L821.321 1548.85 L799.377 1548.85 L799.377 1544.91 Q802.039 1542.16 806.622 1537.53 Q811.228 1532.88 812.409 1531.53 Q814.654 1529.01 815.534 1527.27 Q816.437 1525.51 816.437 1523.82 Q816.437 1521.07 814.492 1519.33 Q812.571 1517.6 809.469 1517.6 Q807.27 1517.6 804.816 1518.36 Q802.386 1519.13 799.608 1520.68 L799.608 1515.95 Q802.432 1514.82 804.886 1514.24 Q807.34 1513.66 809.377 1513.66 Q814.747 1513.66 817.941 1516.35 Q821.136 1519.03 821.136 1523.52 Q821.136 1525.65 820.326 1527.57 Q819.539 1529.47 817.432 1532.07 Q816.853 1532.74 813.752 1535.95 Q810.65 1539.15 805.002 1544.91 Z\" fill=\"#000000\" fill-rule=\"evenodd\" fill-opacity=\"1\" /><path clip-path=\"url(#clip480)\" d=\"M831.182 1514.29 L849.538 1514.29 L849.538 1518.22 L835.464 1518.22 L835.464 1526.7 Q836.483 1526.35 837.501 1526.19 Q838.52 1526 839.538 1526 Q845.325 1526 848.705 1529.17 Q852.085 1532.34 852.085 1537.76 Q852.085 1543.34 848.612 1546.44 Q845.14 1549.52 838.821 1549.52 Q836.645 1549.52 834.376 1549.15 Q832.131 1548.78 829.724 1548.04 L829.724 1543.34 Q831.807 1544.47 834.029 1545.03 Q836.251 1545.58 838.728 1545.58 Q842.733 1545.58 845.071 1543.48 Q847.409 1541.37 847.409 1537.76 Q847.409 1534.15 845.071 1532.04 Q842.733 1529.94 838.728 1529.94 Q836.853 1529.94 834.978 1530.35 Q833.126 1530.77 831.182 1531.65 L831.182 1514.29 Z\" fill=\"#000000\" fill-rule=\"evenodd\" fill-opacity=\"1\" /><path clip-path=\"url(#clip480)\" d=\"M1261.98 1517.37 Q1258.37 1517.37 1256.54 1520.93 Q1254.73 1524.47 1254.73 1531.6 Q1254.73 1538.71 1256.54 1542.27 Q1258.37 1545.82 1261.98 1545.82 Q1265.61 1545.82 1267.42 1542.27 Q1269.25 1538.71 1269.25 1531.6 Q1269.25 1524.47 1267.42 1520.93 Q1265.61 1517.37 1261.98 1517.37 M1261.98 1513.66 Q1267.79 1513.66 1270.85 1518.27 Q1273.92 1522.85 1273.92 1531.6 Q1273.92 1540.33 1270.85 1544.94 Q1267.79 1549.52 1261.98 1549.52 Q1256.17 1549.52 1253.09 1544.94 Q1250.04 1540.33 1250.04 1531.6 Q1250.04 1522.85 1253.09 1518.27 Q1256.17 1513.66 1261.98 1513.66 Z\" fill=\"#000000\" fill-rule=\"evenodd\" fill-opacity=\"1\" /><path clip-path=\"url(#clip480)\" d=\"M1282.14 1542.97 L1287.03 1542.97 L1287.03 1548.85 L1282.14 1548.85 L1282.14 1542.97 Z\" fill=\"#000000\" fill-rule=\"evenodd\" fill-opacity=\"1\" /><path clip-path=\"url(#clip480)\" d=\"M1297.26 1514.29 L1315.61 1514.29 L1315.61 1518.22 L1301.54 1518.22 L1301.54 1526.7 Q1302.56 1526.35 1303.58 1526.19 Q1304.6 1526 1305.61 1526 Q1311.4 1526 1314.78 1529.17 Q1318.16 1532.34 1318.16 1537.76 Q1318.16 1543.34 1314.69 1546.44 Q1311.22 1549.52 1304.9 1549.52 Q1302.72 1549.52 1300.45 1549.15 Q1298.21 1548.78 1295.8 1548.04 L1295.8 1543.34 Q1297.88 1544.47 1300.11 1545.03 Q1302.33 1545.58 1304.8 1545.58 Q1308.81 1545.58 1311.15 1543.48 Q1313.48 1541.37 1313.48 1537.76 Q1313.48 1534.15 1311.15 1532.04 Q1308.81 1529.94 1304.8 1529.94 Q1302.93 1529.94 1301.05 1530.35 Q1299.2 1530.77 1297.26 1531.65 L1297.26 1514.29 Z\" fill=\"#000000\" fill-rule=\"evenodd\" fill-opacity=\"1\" /><path clip-path=\"url(#clip480)\" d=\"M1337.37 1517.37 Q1333.76 1517.37 1331.93 1520.93 Q1330.13 1524.47 1330.13 1531.6 Q1330.13 1538.71 1331.93 1542.27 Q1333.76 1545.82 1337.37 1545.82 Q1341.01 1545.82 1342.81 1542.27 Q1344.64 1538.71 1344.64 1531.6 Q1344.64 1524.47 1342.81 1520.93 Q1341.01 1517.37 1337.37 1517.37 M1337.37 1513.66 Q1343.18 1513.66 1346.24 1518.27 Q1349.32 1522.85 1349.32 1531.6 Q1349.32 1540.33 1346.24 1544.94 Q1343.18 1549.52 1337.37 1549.52 Q1331.56 1549.52 1328.48 1544.94 Q1325.43 1540.33 1325.43 1531.6 Q1325.43 1522.85 1328.48 1518.27 Q1331.56 1513.66 1337.37 1513.66 Z\" fill=\"#000000\" fill-rule=\"evenodd\" fill-opacity=\"1\" /><path clip-path=\"url(#clip480)\" d=\"M1759.21 1517.37 Q1755.6 1517.37 1753.77 1520.93 Q1751.97 1524.47 1751.97 1531.6 Q1751.97 1538.71 1753.77 1542.27 Q1755.6 1545.82 1759.21 1545.82 Q1762.85 1545.82 1764.65 1542.27 Q1766.48 1538.71 1766.48 1531.6 Q1766.48 1524.47 1764.65 1520.93 Q1762.85 1517.37 1759.21 1517.37 M1759.21 1513.66 Q1765.02 1513.66 1768.08 1518.27 Q1771.16 1522.85 1771.16 1531.6 Q1771.16 1540.33 1768.08 1544.94 Q1765.02 1549.52 1759.21 1549.52 Q1753.4 1549.52 1750.32 1544.94 Q1747.27 1540.33 1747.27 1531.6 Q1747.27 1522.85 1750.32 1518.27 Q1753.4 1513.66 1759.21 1513.66 Z\" fill=\"#000000\" fill-rule=\"evenodd\" fill-opacity=\"1\" /><path clip-path=\"url(#clip480)\" d=\"M1779.38 1542.97 L1784.26 1542.97 L1784.26 1548.85 L1779.38 1548.85 L1779.38 1542.97 Z\" fill=\"#000000\" fill-rule=\"evenodd\" fill-opacity=\"1\" /><path clip-path=\"url(#clip480)\" d=\"M1793.26 1514.29 L1815.49 1514.29 L1815.49 1516.28 L1802.94 1548.85 L1798.06 1548.85 L1809.86 1518.22 L1793.26 1518.22 L1793.26 1514.29 Z\" fill=\"#000000\" fill-rule=\"evenodd\" fill-opacity=\"1\" /><path clip-path=\"url(#clip480)\" d=\"M1824.65 1514.29 L1843.01 1514.29 L1843.01 1518.22 L1828.94 1518.22 L1828.94 1526.7 Q1829.95 1526.35 1830.97 1526.19 Q1831.99 1526 1833.01 1526 Q1838.8 1526 1842.18 1529.17 Q1845.56 1532.34 1845.56 1537.76 Q1845.56 1543.34 1842.08 1546.44 Q1838.61 1549.52 1832.29 1549.52 Q1830.12 1549.52 1827.85 1549.15 Q1825.6 1548.78 1823.19 1548.04 L1823.19 1543.34 Q1825.28 1544.47 1827.5 1545.03 Q1829.72 1545.58 1832.2 1545.58 Q1836.2 1545.58 1838.54 1543.48 Q1840.88 1541.37 1840.88 1537.76 Q1840.88 1534.15 1838.54 1532.04 Q1836.2 1529.94 1832.2 1529.94 Q1830.32 1529.94 1828.45 1530.35 Q1826.6 1530.77 1824.65 1531.65 L1824.65 1514.29 Z\" fill=\"#000000\" fill-rule=\"evenodd\" fill-opacity=\"1\" /><path clip-path=\"url(#clip480)\" d=\"M2245.22 1544.91 L2252.86 1544.91 L2252.86 1518.55 L2244.55 1520.21 L2244.55 1515.95 L2252.81 1514.29 L2257.49 1514.29 L2257.49 1544.91 L2265.13 1544.91 L2265.13 1548.85 L2245.22 1548.85 L2245.22 1544.91 Z\" fill=\"#000000\" fill-rule=\"evenodd\" fill-opacity=\"1\" /><path clip-path=\"url(#clip480)\" d=\"M2274.57 1542.97 L2279.46 1542.97 L2279.46 1548.85 L2274.57 1548.85 L2274.57 1542.97 Z\" fill=\"#000000\" fill-rule=\"evenodd\" fill-opacity=\"1\" /><path clip-path=\"url(#clip480)\" d=\"M2299.64 1517.37 Q2296.03 1517.37 2294.2 1520.93 Q2292.4 1524.47 2292.4 1531.6 Q2292.4 1538.71 2294.2 1542.27 Q2296.03 1545.82 2299.64 1545.82 Q2303.27 1545.82 2305.08 1542.27 Q2306.91 1538.71 2306.91 1531.6 Q2306.91 1524.47 2305.08 1520.93 Q2303.27 1517.37 2299.64 1517.37 M2299.64 1513.66 Q2305.45 1513.66 2308.51 1518.27 Q2311.59 1522.85 2311.59 1531.6 Q2311.59 1540.33 2308.51 1544.94 Q2305.45 1549.52 2299.64 1549.52 Q2293.83 1549.52 2290.75 1544.94 Q2287.7 1540.33 2287.7 1531.6 Q2287.7 1522.85 2290.75 1518.27 Q2293.83 1513.66 2299.64 1513.66 Z\" fill=\"#000000\" fill-rule=\"evenodd\" fill-opacity=\"1\" /><path clip-path=\"url(#clip480)\" d=\"M2329.8 1517.37 Q2326.19 1517.37 2324.36 1520.93 Q2322.56 1524.47 2322.56 1531.6 Q2322.56 1538.71 2324.36 1542.27 Q2326.19 1545.82 2329.8 1545.82 Q2333.44 1545.82 2335.24 1542.27 Q2337.07 1538.71 2337.07 1531.6 Q2337.07 1524.47 2335.24 1520.93 Q2333.44 1517.37 2329.8 1517.37 M2329.8 1513.66 Q2335.61 1513.66 2338.67 1518.27 Q2341.75 1522.85 2341.75 1531.6 Q2341.75 1540.33 2338.67 1544.94 Q2335.61 1549.52 2329.8 1549.52 Q2323.99 1549.52 2320.91 1544.94 Q2317.86 1540.33 2317.86 1531.6 Q2317.86 1522.85 2320.91 1518.27 Q2323.99 1513.66 2329.8 1513.66 Z\" fill=\"#000000\" fill-rule=\"evenodd\" fill-opacity=\"1\" /><polyline clip-path=\"url(#clip482)\" style=\"stroke:#000000; stroke-linecap:round; stroke-linejoin:round; stroke-width:2; stroke-opacity:0.1; fill:none\" points=\"246.598,1447.87 2352.76,1447.87 \"/>\n",
       "<polyline clip-path=\"url(#clip482)\" style=\"stroke:#000000; stroke-linecap:round; stroke-linejoin:round; stroke-width:2; stroke-opacity:0.1; fill:none\" points=\"246.598,1126.42 2352.76,1126.42 \"/>\n",
       "<polyline clip-path=\"url(#clip482)\" style=\"stroke:#000000; stroke-linecap:round; stroke-linejoin:round; stroke-width:2; stroke-opacity:0.1; fill:none\" points=\"246.598,804.96 2352.76,804.96 \"/>\n",
       "<polyline clip-path=\"url(#clip482)\" style=\"stroke:#000000; stroke-linecap:round; stroke-linejoin:round; stroke-width:2; stroke-opacity:0.1; fill:none\" points=\"246.598,483.503 2352.76,483.503 \"/>\n",
       "<polyline clip-path=\"url(#clip482)\" style=\"stroke:#000000; stroke-linecap:round; stroke-linejoin:round; stroke-width:2; stroke-opacity:0.1; fill:none\" points=\"246.598,162.047 2352.76,162.047 \"/>\n",
       "<polyline clip-path=\"url(#clip480)\" style=\"stroke:#000000; stroke-linecap:round; stroke-linejoin:round; stroke-width:4; stroke-opacity:1; fill:none\" points=\"246.598,1486.45 246.598,123.472 \"/>\n",
       "<polyline clip-path=\"url(#clip480)\" style=\"stroke:#000000; stroke-linecap:round; stroke-linejoin:round; stroke-width:4; stroke-opacity:1; fill:none\" points=\"246.598,1447.87 265.495,1447.87 \"/>\n",
       "<polyline clip-path=\"url(#clip480)\" style=\"stroke:#000000; stroke-linecap:round; stroke-linejoin:round; stroke-width:4; stroke-opacity:1; fill:none\" points=\"246.598,1126.42 265.495,1126.42 \"/>\n",
       "<polyline clip-path=\"url(#clip480)\" style=\"stroke:#000000; stroke-linecap:round; stroke-linejoin:round; stroke-width:4; stroke-opacity:1; fill:none\" points=\"246.598,804.96 265.495,804.96 \"/>\n",
       "<polyline clip-path=\"url(#clip480)\" style=\"stroke:#000000; stroke-linecap:round; stroke-linejoin:round; stroke-width:4; stroke-opacity:1; fill:none\" points=\"246.598,483.503 265.495,483.503 \"/>\n",
       "<polyline clip-path=\"url(#clip480)\" style=\"stroke:#000000; stroke-linecap:round; stroke-linejoin:round; stroke-width:4; stroke-opacity:1; fill:none\" points=\"246.598,162.047 265.495,162.047 \"/>\n",
       "<path clip-path=\"url(#clip480)\" d=\"M62.9365 1433.67 Q59.3254 1433.67 57.4967 1437.24 Q55.6912 1440.78 55.6912 1447.91 Q55.6912 1455.01 57.4967 1458.58 Q59.3254 1462.12 62.9365 1462.12 Q66.5707 1462.12 68.3763 1458.58 Q70.205 1455.01 70.205 1447.91 Q70.205 1440.78 68.3763 1437.24 Q66.5707 1433.67 62.9365 1433.67 M62.9365 1429.97 Q68.7467 1429.97 71.8022 1434.57 Q74.8809 1439.16 74.8809 1447.91 Q74.8809 1456.63 71.8022 1461.24 Q68.7467 1465.82 62.9365 1465.82 Q57.1264 1465.82 54.0477 1461.24 Q50.9921 1456.63 50.9921 1447.91 Q50.9921 1439.16 54.0477 1434.57 Q57.1264 1429.97 62.9365 1429.97 Z\" fill=\"#000000\" fill-rule=\"evenodd\" fill-opacity=\"1\" /><path clip-path=\"url(#clip480)\" d=\"M83.0984 1459.27 L87.9827 1459.27 L87.9827 1465.15 L83.0984 1465.15 L83.0984 1459.27 Z\" fill=\"#000000\" fill-rule=\"evenodd\" fill-opacity=\"1\" /><path clip-path=\"url(#clip480)\" d=\"M108.168 1433.67 Q104.557 1433.67 102.728 1437.24 Q100.922 1440.78 100.922 1447.91 Q100.922 1455.01 102.728 1458.58 Q104.557 1462.12 108.168 1462.12 Q111.802 1462.12 113.608 1458.58 Q115.436 1455.01 115.436 1447.91 Q115.436 1440.78 113.608 1437.24 Q111.802 1433.67 108.168 1433.67 M108.168 1429.97 Q113.978 1429.97 117.033 1434.57 Q120.112 1439.16 120.112 1447.91 Q120.112 1456.63 117.033 1461.24 Q113.978 1465.82 108.168 1465.82 Q102.358 1465.82 99.2789 1461.24 Q96.2234 1456.63 96.2234 1447.91 Q96.2234 1439.16 99.2789 1434.57 Q102.358 1429.97 108.168 1429.97 Z\" fill=\"#000000\" fill-rule=\"evenodd\" fill-opacity=\"1\" /><path clip-path=\"url(#clip480)\" d=\"M138.33 1433.67 Q134.719 1433.67 132.89 1437.24 Q131.084 1440.78 131.084 1447.91 Q131.084 1455.01 132.89 1458.58 Q134.719 1462.12 138.33 1462.12 Q141.964 1462.12 143.769 1458.58 Q145.598 1455.01 145.598 1447.91 Q145.598 1440.78 143.769 1437.24 Q141.964 1433.67 138.33 1433.67 M138.33 1429.97 Q144.14 1429.97 147.195 1434.57 Q150.274 1439.16 150.274 1447.91 Q150.274 1456.63 147.195 1461.24 Q144.14 1465.82 138.33 1465.82 Q132.519 1465.82 129.441 1461.24 Q126.385 1456.63 126.385 1447.91 Q126.385 1439.16 129.441 1434.57 Q132.519 1429.97 138.33 1429.97 Z\" fill=\"#000000\" fill-rule=\"evenodd\" fill-opacity=\"1\" /><path clip-path=\"url(#clip480)\" d=\"M168.491 1433.67 Q164.88 1433.67 163.052 1437.24 Q161.246 1440.78 161.246 1447.91 Q161.246 1455.01 163.052 1458.58 Q164.88 1462.12 168.491 1462.12 Q172.126 1462.12 173.931 1458.58 Q175.76 1455.01 175.76 1447.91 Q175.76 1440.78 173.931 1437.24 Q172.126 1433.67 168.491 1433.67 M168.491 1429.97 Q174.302 1429.97 177.357 1434.57 Q180.436 1439.16 180.436 1447.91 Q180.436 1456.63 177.357 1461.24 Q174.302 1465.82 168.491 1465.82 Q162.681 1465.82 159.603 1461.24 Q156.547 1456.63 156.547 1447.91 Q156.547 1439.16 159.603 1434.57 Q162.681 1429.97 168.491 1429.97 Z\" fill=\"#000000\" fill-rule=\"evenodd\" fill-opacity=\"1\" /><path clip-path=\"url(#clip480)\" d=\"M198.653 1433.67 Q195.042 1433.67 193.214 1437.24 Q191.408 1440.78 191.408 1447.91 Q191.408 1455.01 193.214 1458.58 Q195.042 1462.12 198.653 1462.12 Q202.288 1462.12 204.093 1458.58 Q205.922 1455.01 205.922 1447.91 Q205.922 1440.78 204.093 1437.24 Q202.288 1433.67 198.653 1433.67 M198.653 1429.97 Q204.464 1429.97 207.519 1434.57 Q210.598 1439.16 210.598 1447.91 Q210.598 1456.63 207.519 1461.24 Q204.464 1465.82 198.653 1465.82 Q192.843 1465.82 189.765 1461.24 Q186.709 1456.63 186.709 1447.91 Q186.709 1439.16 189.765 1434.57 Q192.843 1429.97 198.653 1429.97 Z\" fill=\"#000000\" fill-rule=\"evenodd\" fill-opacity=\"1\" /><path clip-path=\"url(#clip480)\" d=\"M63.9319 1112.22 Q60.3208 1112.22 58.4921 1115.78 Q56.6865 1119.32 56.6865 1126.45 Q56.6865 1133.56 58.4921 1137.12 Q60.3208 1140.66 63.9319 1140.66 Q67.5661 1140.66 69.3717 1137.12 Q71.2004 1133.56 71.2004 1126.45 Q71.2004 1119.32 69.3717 1115.78 Q67.5661 1112.22 63.9319 1112.22 M63.9319 1108.51 Q69.742 1108.51 72.7976 1113.12 Q75.8763 1117.7 75.8763 1126.45 Q75.8763 1135.18 72.7976 1139.78 Q69.742 1144.37 63.9319 1144.37 Q58.1217 1144.37 55.043 1139.78 Q51.9875 1135.18 51.9875 1126.45 Q51.9875 1117.7 55.043 1113.12 Q58.1217 1108.51 63.9319 1108.51 Z\" fill=\"#000000\" fill-rule=\"evenodd\" fill-opacity=\"1\" /><path clip-path=\"url(#clip480)\" d=\"M84.0938 1137.82 L88.978 1137.82 L88.978 1143.7 L84.0938 1143.7 L84.0938 1137.82 Z\" fill=\"#000000\" fill-rule=\"evenodd\" fill-opacity=\"1\" /><path clip-path=\"url(#clip480)\" d=\"M109.163 1112.22 Q105.552 1112.22 103.723 1115.78 Q101.918 1119.32 101.918 1126.45 Q101.918 1133.56 103.723 1137.12 Q105.552 1140.66 109.163 1140.66 Q112.797 1140.66 114.603 1137.12 Q116.432 1133.56 116.432 1126.45 Q116.432 1119.32 114.603 1115.78 Q112.797 1112.22 109.163 1112.22 M109.163 1108.51 Q114.973 1108.51 118.029 1113.12 Q121.107 1117.7 121.107 1126.45 Q121.107 1135.18 118.029 1139.78 Q114.973 1144.37 109.163 1144.37 Q103.353 1144.37 100.274 1139.78 Q97.2187 1135.18 97.2187 1126.45 Q97.2187 1117.7 100.274 1113.12 Q103.353 1108.51 109.163 1108.51 Z\" fill=\"#000000\" fill-rule=\"evenodd\" fill-opacity=\"1\" /><path clip-path=\"url(#clip480)\" d=\"M139.325 1112.22 Q135.714 1112.22 133.885 1115.78 Q132.08 1119.32 132.08 1126.45 Q132.08 1133.56 133.885 1137.12 Q135.714 1140.66 139.325 1140.66 Q142.959 1140.66 144.765 1137.12 Q146.593 1133.56 146.593 1126.45 Q146.593 1119.32 144.765 1115.78 Q142.959 1112.22 139.325 1112.22 M139.325 1108.51 Q145.135 1108.51 148.191 1113.12 Q151.269 1117.7 151.269 1126.45 Q151.269 1135.18 148.191 1139.78 Q145.135 1144.37 139.325 1144.37 Q133.515 1144.37 130.436 1139.78 Q127.381 1135.18 127.381 1126.45 Q127.381 1117.7 130.436 1113.12 Q133.515 1108.51 139.325 1108.51 Z\" fill=\"#000000\" fill-rule=\"evenodd\" fill-opacity=\"1\" /><path clip-path=\"url(#clip480)\" d=\"M163.515 1139.76 L179.834 1139.76 L179.834 1143.7 L157.89 1143.7 L157.89 1139.76 Q160.552 1137.01 165.135 1132.38 Q169.741 1127.72 170.922 1126.38 Q173.167 1123.86 174.047 1122.12 Q174.95 1120.36 174.95 1118.67 Q174.95 1115.92 173.005 1114.18 Q171.084 1112.45 167.982 1112.45 Q165.783 1112.45 163.329 1113.21 Q160.899 1113.97 158.121 1115.53 L158.121 1110.8 Q160.945 1109.67 163.399 1109.09 Q165.853 1108.51 167.89 1108.51 Q173.26 1108.51 176.454 1111.2 Q179.649 1113.88 179.649 1118.37 Q179.649 1120.5 178.839 1122.42 Q178.052 1124.32 175.945 1126.91 Q175.366 1127.59 172.265 1130.8 Q169.163 1134 163.515 1139.76 Z\" fill=\"#000000\" fill-rule=\"evenodd\" fill-opacity=\"1\" /><path clip-path=\"url(#clip480)\" d=\"M189.695 1109.14 L208.051 1109.14 L208.051 1113.07 L193.977 1113.07 L193.977 1121.54 Q194.996 1121.2 196.014 1121.03 Q197.033 1120.85 198.052 1120.85 Q203.839 1120.85 207.218 1124.02 Q210.598 1127.19 210.598 1132.61 Q210.598 1138.19 207.126 1141.29 Q203.653 1144.37 197.334 1144.37 Q195.158 1144.37 192.89 1144 Q190.644 1143.63 188.237 1142.89 L188.237 1138.19 Q190.32 1139.32 192.542 1139.88 Q194.765 1140.43 197.241 1140.43 Q201.246 1140.43 203.584 1138.33 Q205.922 1136.22 205.922 1132.61 Q205.922 1129 203.584 1126.89 Q201.246 1124.78 197.241 1124.78 Q195.366 1124.78 193.491 1125.2 Q191.64 1125.62 189.695 1126.5 L189.695 1109.14 Z\" fill=\"#000000\" fill-rule=\"evenodd\" fill-opacity=\"1\" /><path clip-path=\"url(#clip480)\" d=\"M62.9365 790.759 Q59.3254 790.759 57.4967 794.323 Q55.6912 797.865 55.6912 804.995 Q55.6912 812.101 57.4967 815.666 Q59.3254 819.208 62.9365 819.208 Q66.5707 819.208 68.3763 815.666 Q70.205 812.101 70.205 804.995 Q70.205 797.865 68.3763 794.323 Q66.5707 790.759 62.9365 790.759 M62.9365 787.055 Q68.7467 787.055 71.8022 791.661 Q74.8809 796.245 74.8809 804.995 Q74.8809 813.722 71.8022 818.328 Q68.7467 822.911 62.9365 822.911 Q57.1264 822.911 54.0477 818.328 Q50.9921 813.722 50.9921 804.995 Q50.9921 796.245 54.0477 791.661 Q57.1264 787.055 62.9365 787.055 Z\" fill=\"#000000\" fill-rule=\"evenodd\" fill-opacity=\"1\" /><path clip-path=\"url(#clip480)\" d=\"M83.0984 816.36 L87.9827 816.36 L87.9827 822.24 L83.0984 822.24 L83.0984 816.36 Z\" fill=\"#000000\" fill-rule=\"evenodd\" fill-opacity=\"1\" /><path clip-path=\"url(#clip480)\" d=\"M108.168 790.759 Q104.557 790.759 102.728 794.323 Q100.922 797.865 100.922 804.995 Q100.922 812.101 102.728 815.666 Q104.557 819.208 108.168 819.208 Q111.802 819.208 113.608 815.666 Q115.436 812.101 115.436 804.995 Q115.436 797.865 113.608 794.323 Q111.802 790.759 108.168 790.759 M108.168 787.055 Q113.978 787.055 117.033 791.661 Q120.112 796.245 120.112 804.995 Q120.112 813.722 117.033 818.328 Q113.978 822.911 108.168 822.911 Q102.358 822.911 99.2789 818.328 Q96.2234 813.722 96.2234 804.995 Q96.2234 796.245 99.2789 791.661 Q102.358 787.055 108.168 787.055 Z\" fill=\"#000000\" fill-rule=\"evenodd\" fill-opacity=\"1\" /><path clip-path=\"url(#clip480)\" d=\"M138.33 790.759 Q134.719 790.759 132.89 794.323 Q131.084 797.865 131.084 804.995 Q131.084 812.101 132.89 815.666 Q134.719 819.208 138.33 819.208 Q141.964 819.208 143.769 815.666 Q145.598 812.101 145.598 804.995 Q145.598 797.865 143.769 794.323 Q141.964 790.759 138.33 790.759 M138.33 787.055 Q144.14 787.055 147.195 791.661 Q150.274 796.245 150.274 804.995 Q150.274 813.722 147.195 818.328 Q144.14 822.911 138.33 822.911 Q132.519 822.911 129.441 818.328 Q126.385 813.722 126.385 804.995 Q126.385 796.245 129.441 791.661 Q132.519 787.055 138.33 787.055 Z\" fill=\"#000000\" fill-rule=\"evenodd\" fill-opacity=\"1\" /><path clip-path=\"url(#clip480)\" d=\"M158.538 787.68 L176.894 787.68 L176.894 791.615 L162.82 791.615 L162.82 800.087 Q163.839 799.74 164.857 799.578 Q165.876 799.393 166.894 799.393 Q172.681 799.393 176.061 802.564 Q179.441 805.735 179.441 811.152 Q179.441 816.731 175.968 819.833 Q172.496 822.911 166.177 822.911 Q164.001 822.911 161.732 822.541 Q159.487 822.171 157.08 821.43 L157.08 816.731 Q159.163 817.865 161.385 818.421 Q163.607 818.976 166.084 818.976 Q170.089 818.976 172.427 816.87 Q174.765 814.763 174.765 811.152 Q174.765 807.541 172.427 805.435 Q170.089 803.328 166.084 803.328 Q164.209 803.328 162.334 803.745 Q160.482 804.161 158.538 805.041 L158.538 787.68 Z\" fill=\"#000000\" fill-rule=\"evenodd\" fill-opacity=\"1\" /><path clip-path=\"url(#clip480)\" d=\"M198.653 790.759 Q195.042 790.759 193.214 794.323 Q191.408 797.865 191.408 804.995 Q191.408 812.101 193.214 815.666 Q195.042 819.208 198.653 819.208 Q202.288 819.208 204.093 815.666 Q205.922 812.101 205.922 804.995 Q205.922 797.865 204.093 794.323 Q202.288 790.759 198.653 790.759 M198.653 787.055 Q204.464 787.055 207.519 791.661 Q210.598 796.245 210.598 804.995 Q210.598 813.722 207.519 818.328 Q204.464 822.911 198.653 822.911 Q192.843 822.911 189.765 818.328 Q186.709 813.722 186.709 804.995 Q186.709 796.245 189.765 791.661 Q192.843 787.055 198.653 787.055 Z\" fill=\"#000000\" fill-rule=\"evenodd\" fill-opacity=\"1\" /><path clip-path=\"url(#clip480)\" d=\"M63.9319 469.302 Q60.3208 469.302 58.4921 472.867 Q56.6865 476.409 56.6865 483.538 Q56.6865 490.645 58.4921 494.209 Q60.3208 497.751 63.9319 497.751 Q67.5661 497.751 69.3717 494.209 Q71.2004 490.645 71.2004 483.538 Q71.2004 476.409 69.3717 472.867 Q67.5661 469.302 63.9319 469.302 M63.9319 465.598 Q69.742 465.598 72.7976 470.205 Q75.8763 474.788 75.8763 483.538 Q75.8763 492.265 72.7976 496.871 Q69.742 501.455 63.9319 501.455 Q58.1217 501.455 55.043 496.871 Q51.9875 492.265 51.9875 483.538 Q51.9875 474.788 55.043 470.205 Q58.1217 465.598 63.9319 465.598 Z\" fill=\"#000000\" fill-rule=\"evenodd\" fill-opacity=\"1\" /><path clip-path=\"url(#clip480)\" d=\"M84.0938 494.904 L88.978 494.904 L88.978 500.783 L84.0938 500.783 L84.0938 494.904 Z\" fill=\"#000000\" fill-rule=\"evenodd\" fill-opacity=\"1\" /><path clip-path=\"url(#clip480)\" d=\"M109.163 469.302 Q105.552 469.302 103.723 472.867 Q101.918 476.409 101.918 483.538 Q101.918 490.645 103.723 494.209 Q105.552 497.751 109.163 497.751 Q112.797 497.751 114.603 494.209 Q116.432 490.645 116.432 483.538 Q116.432 476.409 114.603 472.867 Q112.797 469.302 109.163 469.302 M109.163 465.598 Q114.973 465.598 118.029 470.205 Q121.107 474.788 121.107 483.538 Q121.107 492.265 118.029 496.871 Q114.973 501.455 109.163 501.455 Q103.353 501.455 100.274 496.871 Q97.2187 492.265 97.2187 483.538 Q97.2187 474.788 100.274 470.205 Q103.353 465.598 109.163 465.598 Z\" fill=\"#000000\" fill-rule=\"evenodd\" fill-opacity=\"1\" /><path clip-path=\"url(#clip480)\" d=\"M139.325 469.302 Q135.714 469.302 133.885 472.867 Q132.08 476.409 132.08 483.538 Q132.08 490.645 133.885 494.209 Q135.714 497.751 139.325 497.751 Q142.959 497.751 144.765 494.209 Q146.593 490.645 146.593 483.538 Q146.593 476.409 144.765 472.867 Q142.959 469.302 139.325 469.302 M139.325 465.598 Q145.135 465.598 148.191 470.205 Q151.269 474.788 151.269 483.538 Q151.269 492.265 148.191 496.871 Q145.135 501.455 139.325 501.455 Q133.515 501.455 130.436 496.871 Q127.381 492.265 127.381 483.538 Q127.381 474.788 130.436 470.205 Q133.515 465.598 139.325 465.598 Z\" fill=\"#000000\" fill-rule=\"evenodd\" fill-opacity=\"1\" /><path clip-path=\"url(#clip480)\" d=\"M158.306 466.223 L180.528 466.223 L180.528 468.214 L167.982 500.783 L163.098 500.783 L174.903 470.159 L158.306 470.159 L158.306 466.223 Z\" fill=\"#000000\" fill-rule=\"evenodd\" fill-opacity=\"1\" /><path clip-path=\"url(#clip480)\" d=\"M189.695 466.223 L208.051 466.223 L208.051 470.159 L193.977 470.159 L193.977 478.631 Q194.996 478.284 196.014 478.122 Q197.033 477.936 198.052 477.936 Q203.839 477.936 207.218 481.108 Q210.598 484.279 210.598 489.696 Q210.598 495.274 207.126 498.376 Q203.653 501.455 197.334 501.455 Q195.158 501.455 192.89 501.084 Q190.644 500.714 188.237 499.973 L188.237 495.274 Q190.32 496.408 192.542 496.964 Q194.765 497.52 197.241 497.52 Q201.246 497.52 203.584 495.413 Q205.922 493.307 205.922 489.696 Q205.922 486.084 203.584 483.978 Q201.246 481.872 197.241 481.872 Q195.366 481.872 193.491 482.288 Q191.64 482.705 189.695 483.584 L189.695 466.223 Z\" fill=\"#000000\" fill-rule=\"evenodd\" fill-opacity=\"1\" /><path clip-path=\"url(#clip480)\" d=\"M62.9365 147.846 Q59.3254 147.846 57.4967 151.41 Q55.6912 154.952 55.6912 162.082 Q55.6912 169.188 57.4967 172.753 Q59.3254 176.295 62.9365 176.295 Q66.5707 176.295 68.3763 172.753 Q70.205 169.188 70.205 162.082 Q70.205 154.952 68.3763 151.41 Q66.5707 147.846 62.9365 147.846 M62.9365 144.142 Q68.7467 144.142 71.8022 148.748 Q74.8809 153.332 74.8809 162.082 Q74.8809 170.808 71.8022 175.415 Q68.7467 179.998 62.9365 179.998 Q57.1264 179.998 54.0477 175.415 Q50.9921 170.808 50.9921 162.082 Q50.9921 153.332 54.0477 148.748 Q57.1264 144.142 62.9365 144.142 Z\" fill=\"#000000\" fill-rule=\"evenodd\" fill-opacity=\"1\" /><path clip-path=\"url(#clip480)\" d=\"M83.0984 173.447 L87.9827 173.447 L87.9827 179.327 L83.0984 179.327 L83.0984 173.447 Z\" fill=\"#000000\" fill-rule=\"evenodd\" fill-opacity=\"1\" /><path clip-path=\"url(#clip480)\" d=\"M108.168 147.846 Q104.557 147.846 102.728 151.41 Q100.922 154.952 100.922 162.082 Q100.922 169.188 102.728 172.753 Q104.557 176.295 108.168 176.295 Q111.802 176.295 113.608 172.753 Q115.436 169.188 115.436 162.082 Q115.436 154.952 113.608 151.41 Q111.802 147.846 108.168 147.846 M108.168 144.142 Q113.978 144.142 117.033 148.748 Q120.112 153.332 120.112 162.082 Q120.112 170.808 117.033 175.415 Q113.978 179.998 108.168 179.998 Q102.358 179.998 99.2789 175.415 Q96.2234 170.808 96.2234 162.082 Q96.2234 153.332 99.2789 148.748 Q102.358 144.142 108.168 144.142 Z\" fill=\"#000000\" fill-rule=\"evenodd\" fill-opacity=\"1\" /><path clip-path=\"url(#clip480)\" d=\"M129.14 175.392 L136.779 175.392 L136.779 149.026 L128.469 150.693 L128.469 146.434 L136.732 144.767 L141.408 144.767 L141.408 175.392 L149.047 175.392 L149.047 179.327 L129.14 179.327 L129.14 175.392 Z\" fill=\"#000000\" fill-rule=\"evenodd\" fill-opacity=\"1\" /><path clip-path=\"url(#clip480)\" d=\"M168.491 147.846 Q164.88 147.846 163.052 151.41 Q161.246 154.952 161.246 162.082 Q161.246 169.188 163.052 172.753 Q164.88 176.295 168.491 176.295 Q172.126 176.295 173.931 172.753 Q175.76 169.188 175.76 162.082 Q175.76 154.952 173.931 151.41 Q172.126 147.846 168.491 147.846 M168.491 144.142 Q174.302 144.142 177.357 148.748 Q180.436 153.332 180.436 162.082 Q180.436 170.808 177.357 175.415 Q174.302 179.998 168.491 179.998 Q162.681 179.998 159.603 175.415 Q156.547 170.808 156.547 162.082 Q156.547 153.332 159.603 148.748 Q162.681 144.142 168.491 144.142 Z\" fill=\"#000000\" fill-rule=\"evenodd\" fill-opacity=\"1\" /><path clip-path=\"url(#clip480)\" d=\"M198.653 147.846 Q195.042 147.846 193.214 151.41 Q191.408 154.952 191.408 162.082 Q191.408 169.188 193.214 172.753 Q195.042 176.295 198.653 176.295 Q202.288 176.295 204.093 172.753 Q205.922 169.188 205.922 162.082 Q205.922 154.952 204.093 151.41 Q202.288 147.846 198.653 147.846 M198.653 144.142 Q204.464 144.142 207.519 148.748 Q210.598 153.332 210.598 162.082 Q210.598 170.808 207.519 175.415 Q204.464 179.998 198.653 179.998 Q192.843 179.998 189.765 175.415 Q186.709 170.808 186.709 162.082 Q186.709 153.332 189.765 148.748 Q192.843 144.142 198.653 144.142 Z\" fill=\"#000000\" fill-rule=\"evenodd\" fill-opacity=\"1\" /><path clip-path=\"url(#clip480)\" d=\"M1222.93 49.3643 Q1222.93 41.2625 1219.57 36.8065 Q1216.25 32.3505 1210.21 32.3505 Q1204.22 32.3505 1200.86 36.8065 Q1197.53 41.2625 1197.53 49.3643 Q1197.53 57.4256 1200.86 61.8816 Q1204.22 66.3376 1210.21 66.3376 Q1216.25 66.3376 1219.57 61.8816 Q1222.93 57.4256 1222.93 49.3643 M1230.39 66.9452 Q1230.39 78.5308 1225.24 84.1616 Q1220.1 89.8329 1209.48 89.8329 Q1205.55 89.8329 1202.07 89.2252 Q1198.59 88.6581 1195.31 87.4428 L1195.31 80.1917 Q1198.59 81.9741 1201.79 82.8248 Q1204.99 83.6755 1208.31 83.6755 Q1215.64 83.6755 1219.29 79.8271 Q1222.93 76.0193 1222.93 68.282 L1222.93 64.5957 Q1220.62 68.6061 1217.02 70.5911 Q1213.41 72.576 1208.39 72.576 Q1200.04 72.576 1194.94 66.2161 Q1189.84 59.8562 1189.84 49.3643 Q1189.84 38.832 1194.94 32.472 Q1200.04 26.1121 1208.39 26.1121 Q1213.41 26.1121 1217.02 28.0971 Q1220.62 30.082 1222.93 34.0924 L1222.93 27.2059 L1230.39 27.2059 L1230.39 66.9452 Z\" fill=\"#000000\" fill-rule=\"evenodd\" fill-opacity=\"1\" /><path clip-path=\"url(#clip480)\" d=\"M1266.36 49.7694 Q1257.32 49.7694 1253.84 51.8354 Q1250.36 53.9013 1250.36 58.8839 Q1250.36 62.8538 1252.95 65.2034 Q1255.58 67.5124 1260.08 67.5124 Q1266.28 67.5124 1270 63.1374 Q1273.77 58.7219 1273.77 51.4303 L1273.77 49.7694 L1266.36 49.7694 M1281.22 46.6907 L1281.22 72.576 L1273.77 72.576 L1273.77 65.6895 Q1271.22 69.8214 1267.41 71.8063 Q1263.6 73.7508 1258.09 73.7508 Q1251.13 73.7508 1246.99 69.8619 Q1242.9 65.9325 1242.9 59.3701 Q1242.9 51.7138 1248.01 47.825 Q1253.15 43.9361 1263.32 43.9361 L1273.77 43.9361 L1273.77 43.2069 Q1273.77 38.0623 1270.37 35.2672 Q1267.01 32.4315 1260.89 32.4315 Q1257 32.4315 1253.31 33.3632 Q1249.63 34.295 1246.23 36.1584 L1246.23 29.2718 Q1250.32 27.692 1254.16 26.9223 Q1258.01 26.1121 1261.66 26.1121 Q1271.5 26.1121 1276.36 31.2163 Q1281.22 36.3204 1281.22 46.6907 Z\" fill=\"#000000\" fill-rule=\"evenodd\" fill-opacity=\"1\" /><path clip-path=\"url(#clip480)\" d=\"M1296.58 27.2059 L1304.03 27.2059 L1304.03 72.576 L1296.58 72.576 L1296.58 27.2059 M1296.58 9.54393 L1304.03 9.54393 L1304.03 18.9825 L1296.58 18.9825 L1296.58 9.54393 Z\" fill=\"#000000\" fill-rule=\"evenodd\" fill-opacity=\"1\" /><path clip-path=\"url(#clip480)\" d=\"M1357.34 45.1919 L1357.34 72.576 L1349.89 72.576 L1349.89 45.4349 Q1349.89 38.994 1347.38 35.7938 Q1344.86 32.5936 1339.84 32.5936 Q1333.81 32.5936 1330.32 36.4419 Q1326.84 40.2903 1326.84 46.9338 L1326.84 72.576 L1319.34 72.576 L1319.34 27.2059 L1326.84 27.2059 L1326.84 34.2544 Q1329.51 30.163 1333.12 28.1376 Q1336.76 26.1121 1341.5 26.1121 Q1349.32 26.1121 1353.33 30.9732 Q1357.34 35.7938 1357.34 45.1919 Z\" fill=\"#000000\" fill-rule=\"evenodd\" fill-opacity=\"1\" /><path clip-path=\"url(#clip480)\" d=\"M1374.68 65.6895 L1388.05 65.6895 L1388.05 19.5497 L1373.5 22.4663 L1373.5 15.0127 L1387.97 12.096 L1396.15 12.096 L1396.15 65.6895 L1409.52 65.6895 L1409.52 72.576 L1374.68 72.576 L1374.68 65.6895 Z\" fill=\"#000000\" fill-rule=\"evenodd\" fill-opacity=\"1\" /><polyline clip-path=\"url(#clip482)\" style=\"stroke:#009af9; stroke-linecap:round; stroke-linejoin:round; stroke-width:4; stroke-opacity:1; fill:none\" points=\"306.206,162.047 308.195,1447.87 310.184,1447.87 312.173,1447.87 314.162,1447.87 316.151,1447.87 318.14,1447.87 320.129,1447.87 322.117,1447.87 324.106,1447.87 326.095,1447.87 328.084,1447.87 330.073,1447.87 332.062,1447.87 334.051,1447.87 336.04,1447.87 338.029,1447.87 340.018,1447.87 342.007,1447.87 343.996,1447.87 345.985,1447.87 347.974,1447.87 349.962,1447.87 351.951,1447.87 353.94,1447.87 355.929,1447.87 357.918,1447.87 359.907,1447.87 361.896,1447.87 363.885,1447.87 365.874,1447.87 367.863,1447.87 369.852,1447.87 371.841,1447.87 373.83,1447.87 375.819,1447.87 377.808,1447.87 379.796,1447.87 381.785,1447.87 383.774,1447.87 385.763,1447.87 387.752,1447.87 389.741,1447.87 391.73,1447.87 393.719,1447.87 395.708,1447.87 397.697,1447.87 399.686,1447.87 401.675,1447.87 403.664,1447.87 405.653,1447.87 407.641,1447.87 409.63,1447.87 411.619,1447.87 413.608,1447.87 415.597,1447.87 417.586,1447.87 419.575,1447.87 421.564,1447.87 423.553,1447.87 425.542,1447.87 427.531,1447.87 429.52,1447.87 431.509,1447.87 433.498,1447.87 435.486,1447.87 437.475,1447.87 439.464,1447.87 441.453,1447.87 443.442,1447.87 445.431,1447.87 447.42,1447.87 449.409,1447.87 451.398,1447.87 453.387,1447.87 455.376,1447.87 457.365,1447.87 459.354,1447.87 461.343,1447.87 463.332,1447.87 465.32,1447.87 467.309,1447.87 469.298,1447.87 471.287,1447.87 473.276,1447.87 475.265,1447.87 477.254,1447.87 479.243,1447.87 481.232,1447.87 483.221,1447.87 485.21,1447.87 487.199,1447.87 489.188,1447.87 491.177,1447.87 493.165,1447.87 495.154,1447.87 497.143,1447.87 499.132,1447.87 501.121,1447.87 503.11,1447.87 505.099,1447.87 507.088,1447.87 509.077,1447.87 511.066,1447.87 513.055,1447.87 515.044,1447.87 517.033,1447.87 519.022,1447.87 521.011,1447.87 522.999,1447.87 524.988,1447.87 526.977,1447.87 528.966,1447.87 530.955,1447.87 532.944,1447.87 534.933,1447.87 536.922,1447.87 538.911,1447.87 540.9,1447.87 542.889,1447.87 544.878,1447.87 546.867,1447.87 548.856,1447.87 550.844,1447.87 552.833,1447.87 554.822,1447.87 556.811,1447.87 558.8,1447.87 560.789,1447.87 562.778,1447.87 564.767,1447.87 566.756,1447.87 568.745,1447.87 570.734,1447.87 572.723,1447.87 574.712,1447.87 576.701,1447.87 578.689,1447.87 580.678,1447.87 582.667,1447.87 584.656,1447.87 586.645,1447.87 588.634,1447.87 590.623,1447.87 592.612,1447.87 594.601,1447.87 596.59,1447.87 598.579,1447.87 600.568,1447.87 602.557,1447.87 604.546,1447.87 606.535,1447.87 608.523,1447.87 610.512,1447.87 612.501,1447.87 614.49,1447.87 616.479,1447.87 618.468,1447.87 620.457,1447.87 622.446,1447.87 624.435,1447.87 626.424,1447.87 628.413,1447.87 630.402,1447.87 632.391,1447.87 634.38,1447.87 636.368,1447.87 638.357,1447.87 640.346,1447.87 642.335,1447.87 644.324,1447.87 646.313,1447.87 648.302,1447.87 650.291,1447.87 652.28,1447.87 654.269,1447.87 656.258,1447.87 658.247,1447.87 660.236,1447.87 662.225,1447.87 664.214,1447.87 666.202,1447.87 668.191,1447.87 670.18,1447.87 672.169,1447.87 674.158,1447.87 676.147,1447.87 678.136,1447.87 680.125,1447.87 682.114,1447.87 684.103,1447.87 686.092,1447.87 688.081,1447.87 690.07,1447.87 692.059,1447.87 694.047,1447.87 696.036,1447.87 698.025,1447.87 700.014,1447.87 702.003,1447.87 703.992,1447.87 705.981,1447.87 707.97,1447.87 709.959,1447.87 711.948,1447.87 713.937,1447.87 715.926,1447.87 717.915,1447.87 719.904,1447.87 721.892,1447.87 723.881,1447.87 725.87,1447.87 727.859,1447.87 729.848,1447.87 731.837,1447.87 733.826,1447.87 735.815,1447.87 737.804,1447.87 739.793,1447.87 741.782,1447.87 743.771,1447.87 745.76,1447.87 747.749,1447.87 749.738,1447.87 751.726,1447.87 753.715,1447.87 755.704,1447.87 757.693,1447.87 759.682,1447.87 761.671,1447.87 763.66,1447.87 765.649,1447.87 767.638,1447.87 769.627,1447.87 771.616,1447.87 773.605,1447.87 775.594,1447.87 777.583,1447.87 779.571,1447.87 781.56,1447.87 783.549,1447.87 785.538,1447.87 787.527,1447.87 789.516,1447.87 791.505,1447.87 793.494,1447.87 795.483,1447.87 797.472,1447.87 799.461,1447.87 801.45,1447.87 803.439,1447.87 805.428,1447.87 807.417,1447.87 809.405,1447.87 811.394,1447.87 813.383,1447.87 815.372,1447.87 817.361,1447.87 819.35,1447.87 821.339,1447.87 823.328,1447.87 825.317,1447.87 827.306,1447.87 829.295,1447.87 831.284,1447.87 833.273,1447.87 835.262,1447.87 837.25,1447.87 839.239,1447.87 841.228,1447.87 843.217,1447.87 845.206,1447.87 847.195,1447.87 849.184,1447.87 851.173,1447.87 853.162,1447.87 855.151,1447.87 857.14,1447.87 859.129,1447.87 861.118,1447.87 863.107,1447.87 865.095,1447.87 867.084,1447.87 869.073,1447.87 871.062,1447.87 873.051,1447.87 875.04,1447.87 877.029,1447.87 879.018,1447.87 881.007,1447.87 882.996,1447.87 884.985,1447.87 886.974,1447.87 888.963,1447.87 890.952,1447.87 892.941,1447.87 894.929,1447.87 896.918,1447.87 898.907,1447.87 900.896,1447.87 902.885,1447.87 904.874,1447.87 906.863,1447.87 908.852,1447.87 910.841,1447.87 912.83,1447.87 914.819,1447.87 916.808,1447.87 918.797,1447.87 920.786,1447.87 922.774,1447.87 924.763,1447.87 926.752,1447.87 928.741,1447.87 930.73,1447.87 932.719,1447.87 934.708,1447.87 936.697,1447.87 938.686,1447.87 940.675,1447.87 942.664,1447.87 944.653,1447.87 946.642,1447.87 948.631,1447.87 950.62,1447.87 952.608,1447.87 954.597,1447.87 956.586,1447.87 958.575,1447.87 960.564,1447.87 962.553,1447.87 964.542,1447.87 966.531,1447.87 968.52,1447.87 970.509,1447.87 972.498,1447.87 974.487,1447.87 976.476,1447.87 978.465,1447.87 980.453,1447.87 982.442,1447.87 984.431,1447.87 986.42,1447.87 988.409,1447.87 990.398,1447.87 992.387,1447.87 994.376,1447.87 996.365,1447.87 998.354,1447.87 1000.34,1447.87 1002.33,1447.87 1004.32,1447.87 1006.31,1447.87 1008.3,1447.87 1010.29,1447.87 1012.28,1447.87 1014.27,1447.87 1016.25,1447.87 1018.24,1447.87 1020.23,1447.87 1022.22,1447.87 1024.21,1447.87 1026.2,1447.87 1028.19,1447.87 1030.18,1447.87 1032.17,1447.87 1034.15,1447.87 1036.14,1447.87 1038.13,1447.87 1040.12,1447.87 1042.11,1447.87 1044.1,1447.87 1046.09,1447.87 1048.08,1447.87 1050.07,1447.87 1052.05,1447.87 1054.04,1447.87 1056.03,1447.87 1058.02,1447.87 1060.01,1447.87 1062,1447.87 1063.99,1447.87 1065.98,1447.87 1067.97,1447.87 1069.96,1447.87 1071.94,1447.87 1073.93,1447.87 1075.92,1447.87 1077.91,1447.87 1079.9,1447.87 1081.89,1447.87 1083.88,1447.87 1085.87,1447.87 1087.86,1447.87 1089.84,1447.87 1091.83,1447.87 1093.82,1447.87 1095.81,1447.87 1097.8,1447.87 1099.79,1447.87 1101.78,1447.87 1103.77,1447.87 1105.76,1447.87 1107.75,1447.87 1109.73,1447.87 1111.72,1447.87 1113.71,1447.87 1115.7,1447.87 1117.69,1447.87 1119.68,1447.87 1121.67,1447.87 1123.66,1447.87 1125.65,1447.87 1127.63,1447.87 1129.62,1447.87 1131.61,1447.87 1133.6,1447.87 1135.59,1447.87 1137.58,1447.87 1139.57,1447.87 1141.56,1447.87 1143.55,1447.87 1145.53,1447.87 1147.52,1447.87 1149.51,1447.87 1151.5,1447.87 1153.49,1447.87 1155.48,1447.87 1157.47,1447.87 1159.46,1447.87 1161.45,1447.87 1163.44,1447.87 1165.42,1447.87 1167.41,1447.87 1169.4,1447.87 1171.39,1447.87 1173.38,1447.87 1175.37,1447.87 1177.36,1447.87 1179.35,1447.87 1181.34,1447.87 1183.32,1447.87 1185.31,1447.87 1187.3,1447.87 1189.29,1447.87 1191.28,1447.87 1193.27,1447.87 1195.26,1447.87 1197.25,1447.87 1199.24,1447.87 1201.22,1447.87 1203.21,1447.87 1205.2,1447.87 1207.19,1447.87 1209.18,1447.87 1211.17,1447.87 1213.16,1447.87 1215.15,1447.87 1217.14,1447.87 1219.13,1447.87 1221.11,1447.87 1223.1,1447.87 1225.09,1447.87 1227.08,1447.87 1229.07,1447.87 1231.06,1447.87 1233.05,1447.87 1235.04,1447.87 1237.03,1447.87 1239.01,1447.87 1241,1447.87 1242.99,1447.87 1244.98,1447.87 1246.97,1447.87 1248.96,1447.87 1250.95,1447.87 1252.94,1447.87 1254.93,1447.87 1256.91,1447.87 1258.9,1447.87 1260.89,1447.87 1262.88,1447.87 1264.87,1447.87 1266.86,1447.87 1268.85,1447.87 1270.84,1447.87 1272.83,1447.87 1274.82,1447.87 1276.8,1447.87 1278.79,1447.87 1280.78,1447.87 1282.77,1447.87 1284.76,1447.87 1286.75,1447.87 1288.74,1447.87 1290.73,1447.87 1292.72,1447.87 1294.7,1447.87 1296.69,1447.87 1298.68,1447.87 1300.67,1447.87 1302.66,1447.87 1304.65,1447.87 1306.64,1447.87 1308.63,1447.87 1310.62,1447.87 1312.6,1447.87 1314.59,1447.87 1316.58,1447.87 1318.57,1447.87 1320.56,1447.87 1322.55,1447.87 1324.54,1447.87 1326.53,1447.87 1328.52,1447.87 1330.51,1447.87 1332.49,1447.87 1334.48,1447.87 1336.47,1447.87 1338.46,1447.87 1340.45,1447.87 1342.44,1447.87 1344.43,1447.87 1346.42,1447.87 1348.41,1447.87 1350.39,1447.87 1352.38,1447.87 1354.37,1447.87 1356.36,1447.87 1358.35,1447.87 1360.34,1447.87 1362.33,1447.87 1364.32,1447.87 1366.31,1447.87 1368.29,1447.87 1370.28,1447.87 1372.27,1447.87 1374.26,1447.87 1376.25,1447.87 1378.24,1447.87 1380.23,1447.87 1382.22,1447.87 1384.21,1447.87 1386.2,1447.87 1388.18,1447.87 1390.17,1447.87 1392.16,1447.87 1394.15,1447.87 1396.14,1447.87 1398.13,1447.87 1400.12,1447.87 1402.11,1447.87 1404.1,1447.87 1406.08,1447.87 1408.07,1447.87 1410.06,1447.87 1412.05,1447.87 1414.04,1447.87 1416.03,1447.87 1418.02,1447.87 1420.01,1447.87 1422,1447.87 1423.98,1447.87 1425.97,1447.87 1427.96,1447.87 1429.95,1447.87 1431.94,1447.87 1433.93,1447.87 1435.92,1447.87 1437.91,1447.87 1439.9,1447.87 1441.89,1447.87 1443.87,1447.87 1445.86,1447.87 1447.85,1447.87 1449.84,1447.87 1451.83,1447.87 1453.82,1447.87 1455.81,1447.87 1457.8,1447.87 1459.79,1447.87 1461.77,1447.87 1463.76,1447.87 1465.75,1447.87 1467.74,1447.87 1469.73,1447.87 1471.72,1447.87 1473.71,1447.87 1475.7,1447.87 1477.69,1447.87 1479.68,1447.87 1481.66,1447.87 1483.65,1447.87 1485.64,1447.87 1487.63,1447.87 1489.62,1447.87 1491.61,1447.87 1493.6,1447.87 1495.59,1447.87 1497.58,1447.87 1499.56,1447.87 1501.55,1447.87 1503.54,1447.87 1505.53,1447.87 1507.52,1447.87 1509.51,1447.87 1511.5,1447.87 1513.49,1447.87 1515.48,1447.87 1517.46,1447.87 1519.45,1447.87 1521.44,1447.87 1523.43,1447.87 1525.42,1447.87 1527.41,1447.87 1529.4,1447.87 1531.39,1447.87 1533.38,1447.87 1535.37,1447.87 1537.35,1447.87 1539.34,1447.87 1541.33,1447.87 1543.32,1447.87 1545.31,1447.87 1547.3,1447.87 1549.29,1447.87 1551.28,1447.87 1553.27,1447.87 1555.25,1447.87 1557.24,1447.87 1559.23,1447.87 1561.22,1447.87 1563.21,1447.87 1565.2,1447.87 1567.19,1447.87 1569.18,1447.87 1571.17,1447.87 1573.15,1447.87 1575.14,1447.87 1577.13,1447.87 1579.12,1447.87 1581.11,1447.87 1583.1,1447.87 1585.09,1447.87 1587.08,1447.87 1589.07,1447.87 1591.06,1447.87 1593.04,1447.87 1595.03,1447.87 1597.02,1447.87 1599.01,1447.87 1601,1447.87 1602.99,1447.87 1604.98,1447.87 1606.97,1447.87 1608.96,1447.87 1610.94,1447.87 1612.93,1447.87 1614.92,1447.87 1616.91,1447.87 1618.9,1447.87 1620.89,1447.87 1622.88,1447.87 1624.87,1447.87 1626.86,1447.87 1628.84,1447.87 1630.83,1447.87 1632.82,1447.87 1634.81,1447.87 1636.8,1447.87 1638.79,1447.87 1640.78,1447.87 1642.77,1447.87 1644.76,1447.87 1646.75,1447.87 1648.73,1447.87 1650.72,1447.87 1652.71,1447.87 1654.7,1447.87 1656.69,1447.87 1658.68,1447.87 1660.67,1447.87 1662.66,1447.87 1664.65,1447.87 1666.63,1447.87 1668.62,1447.87 1670.61,1447.87 1672.6,1447.87 1674.59,1447.87 1676.58,1447.87 1678.57,1447.87 1680.56,1447.87 1682.55,1447.87 1684.53,1447.87 1686.52,1447.87 1688.51,1447.87 1690.5,1447.87 1692.49,1447.87 1694.48,1447.87 1696.47,1447.87 1698.46,1447.87 1700.45,1447.87 1702.44,1447.87 1704.42,1447.87 1706.41,1447.87 1708.4,1447.87 1710.39,1447.87 1712.38,1447.87 1714.37,1447.87 1716.36,1447.87 1718.35,1447.87 1720.34,1447.87 1722.32,1447.87 1724.31,1447.87 1726.3,1447.87 1728.29,1447.87 1730.28,1447.87 1732.27,1447.87 1734.26,1447.87 1736.25,1447.87 1738.24,1447.87 1740.22,1447.87 1742.21,1447.87 1744.2,1447.87 1746.19,1447.87 1748.18,1447.87 1750.17,1447.87 1752.16,1447.87 1754.15,1447.87 1756.14,1447.87 1758.13,1447.87 1760.11,1447.87 1762.1,1447.87 1764.09,1447.87 1766.08,1447.87 1768.07,1447.87 1770.06,1447.87 1772.05,1447.87 1774.04,1447.87 1776.03,1447.87 1778.01,1447.87 1780,1447.87 1781.99,1447.87 1783.98,1447.87 1785.97,1447.87 1787.96,1447.87 1789.95,1447.87 1791.94,1447.87 1793.93,1447.87 1795.92,1447.87 1797.9,1447.87 1799.89,1447.87 1801.88,1447.87 1803.87,1447.87 1805.86,1447.87 1807.85,1447.87 1809.84,1447.87 1811.83,1447.87 1813.82,1447.87 1815.8,1447.87 1817.79,1447.87 1819.78,1447.87 1821.77,1447.87 1823.76,1447.87 1825.75,1447.87 1827.74,1447.87 1829.73,1447.87 1831.72,1447.87 1833.7,1447.87 1835.69,1447.87 1837.68,1447.87 1839.67,1447.87 1841.66,1447.87 1843.65,1447.87 1845.64,1447.87 1847.63,1447.87 1849.62,1447.87 1851.61,1447.87 1853.59,1447.87 1855.58,1447.87 1857.57,1447.87 1859.56,1447.87 1861.55,1447.87 1863.54,1447.87 1865.53,1447.87 1867.52,1447.87 1869.51,1447.87 1871.49,1447.87 1873.48,1447.87 1875.47,1447.87 1877.46,1447.87 1879.45,1447.87 1881.44,1447.87 1883.43,1447.87 1885.42,1447.87 1887.41,1447.87 1889.39,1447.87 1891.38,1447.87 1893.37,1447.87 1895.36,1447.87 1897.35,1447.87 1899.34,1447.87 1901.33,1447.87 1903.32,1447.87 1905.31,1447.87 1907.3,1447.87 1909.28,1447.87 1911.27,1447.87 1913.26,1447.87 1915.25,1447.87 1917.24,1447.87 1919.23,1447.87 1921.22,1447.87 1923.21,1447.87 1925.2,1447.87 1927.18,1447.87 1929.17,1447.87 1931.16,1447.87 1933.15,1447.87 1935.14,1447.87 1937.13,1447.87 1939.12,1447.87 1941.11,1447.87 1943.1,1447.87 1945.08,1447.87 1947.07,1447.87 1949.06,1447.87 1951.05,1447.87 1953.04,1447.87 1955.03,1447.87 1957.02,1447.87 1959.01,1447.87 1961,1447.87 1962.99,1447.87 1964.97,1447.87 1966.96,1447.87 1968.95,1447.87 1970.94,1447.87 1972.93,1447.87 1974.92,1447.87 1976.91,1447.87 1978.9,1447.87 1980.89,1447.87 1982.87,1447.87 1984.86,1447.87 1986.85,1447.87 1988.84,1447.87 1990.83,1447.87 1992.82,1447.87 1994.81,1447.87 1996.8,1447.87 1998.79,1447.87 2000.77,1447.87 2002.76,1447.87 2004.75,1447.87 2006.74,1447.87 2008.73,1447.87 2010.72,1447.87 2012.71,1447.87 2014.7,1447.87 2016.69,1447.87 2018.68,1447.87 2020.66,1447.87 2022.65,1447.87 2024.64,1447.87 2026.63,1447.87 2028.62,1447.87 2030.61,1447.87 2032.6,1447.87 2034.59,1447.87 2036.58,1447.87 2038.56,1447.87 2040.55,1447.87 2042.54,1447.87 2044.53,1447.87 2046.52,1447.87 2048.51,1447.87 2050.5,1447.87 2052.49,1447.87 2054.48,1447.87 2056.46,1447.87 2058.45,1447.87 2060.44,1447.87 2062.43,1447.87 2064.42,1447.87 2066.41,1447.87 2068.4,1447.87 2070.39,1447.87 2072.38,1447.87 2074.37,1447.87 2076.35,1447.87 2078.34,1447.87 2080.33,1447.87 2082.32,1447.87 2084.31,1447.87 2086.3,1447.87 2088.29,1447.87 2090.28,1447.87 2092.27,1447.87 2094.25,1447.87 2096.24,1447.87 2098.23,1447.87 2100.22,1447.87 2102.21,1447.87 2104.2,1447.87 2106.19,1447.87 2108.18,1447.87 2110.17,1447.87 2112.15,1447.87 2114.14,1447.87 2116.13,1447.87 2118.12,1447.87 2120.11,1447.87 2122.1,1447.87 2124.09,1447.87 2126.08,1447.87 2128.07,1447.87 2130.06,1447.87 2132.04,1447.87 2134.03,1447.87 2136.02,1447.87 2138.01,1447.87 2140,1447.87 2141.99,1447.87 2143.98,1447.87 2145.97,1447.87 2147.96,1447.87 2149.94,1447.87 2151.93,1447.87 2153.92,1447.87 2155.91,1447.87 2157.9,1447.87 2159.89,1447.87 2161.88,1447.87 2163.87,1447.87 2165.86,1447.87 2167.85,1447.87 2169.83,1447.87 2171.82,1447.87 2173.81,1447.87 2175.8,1447.87 2177.79,1447.87 2179.78,1447.87 2181.77,1447.87 2183.76,1447.87 2185.75,1447.87 2187.73,1447.87 2189.72,1447.87 2191.71,1447.87 2193.7,1447.87 2195.69,1447.87 2197.68,1447.87 2199.67,1447.87 2201.66,1447.87 2203.65,1447.87 2205.63,1447.87 2207.62,1447.87 2209.61,1447.87 2211.6,1447.87 2213.59,1447.87 2215.58,1447.87 2217.57,1447.87 2219.56,1447.87 2221.55,1447.87 2223.54,1447.87 2225.52,1447.87 2227.51,1447.87 2229.5,1447.87 2231.49,1447.87 2233.48,1447.87 2235.47,1447.87 2237.46,1447.87 2239.45,1447.87 2241.44,1447.87 2243.42,1447.87 2245.41,1447.87 2247.4,1447.87 2249.39,1447.87 2251.38,1447.87 2253.37,1447.87 2255.36,1447.87 2257.35,1447.87 2259.34,1447.87 2261.32,1447.87 2263.31,1447.87 2265.3,1447.87 2267.29,1447.87 2269.28,1447.87 2271.27,1447.87 2273.26,1447.87 2275.25,1447.87 2277.24,1447.87 2279.23,1447.87 2281.21,1447.87 2283.2,1447.87 2285.19,1447.87 2287.18,1447.87 2289.17,1447.87 2291.16,1447.87 2293.15,1447.87 \"/>\n",
       "</svg>\n"
      ]
     },
     "metadata": {},
     "output_type": "display_data"
    }
   ],
   "source": [
    "plot(result)"
   ]
  },
  {
   "cell_type": "code",
   "execution_count": 627,
   "metadata": {},
   "outputs": [
    {
     "data": {
      "text/plain": [
       "2-element Vector{Float64}:\n",
       " 10.0\n",
       "  0.001"
      ]
     },
     "metadata": {},
     "output_type": "display_data"
    }
   ],
   "source": [
    "iv = m.ifunc(params)"
   ]
  },
  {
   "cell_type": "code",
   "execution_count": 629,
   "metadata": {},
   "outputs": [
    {
     "data": {
      "text/plain": [
       "\u001b[38;2;86;182;194mODEProblem\u001b[0m with uType \u001b[38;2;86;182;194mVector{Float64}\u001b[0m and tType \u001b[38;2;86;182;194mInt64\u001b[0m. In-place: \u001b[38;2;86;182;194mtrue\u001b[0m\n",
       "timespan: (0, 1)\n",
       "u0: 2-element Vector{Float64}:\n",
       " 10.0\n",
       "  0.001"
      ]
     },
     "metadata": {},
     "output_type": "display_data"
    }
   ],
   "source": [
    "p = DifferentialEquations.ODEProblem(m.sfunc, iv, [0,1], params)"
   ]
  },
  {
   "cell_type": "code",
   "execution_count": 630,
   "metadata": {},
   "outputs": [
    {
     "data": {
      "text/plain": [
       "retcode: Success\n",
       "Interpolation: specialized 4th order \"free\" interpolation, specialized 2nd order \"free\" stiffness-aware interpolation\n",
       "t: 6-element Vector{Float64}:\n",
       " 0.0\n",
       " 9.999999999999999e-5\n",
       " 0.0010999999999999998\n",
       " 0.011099999999999997\n",
       " 0.11109999999999996\n",
       " 1.0\n",
       "u: 6-element Vector{Vector{Float64}}:\n",
       " [10.0, 0.001]\n",
       " [0.0, 0.0]\n",
       " [0.0, 0.0]\n",
       " [0.0, 0.0]\n",
       " [0.0, 0.0]\n",
       " [0.0, 0.0]"
      ]
     },
     "metadata": {},
     "output_type": "display_data"
    }
   ],
   "source": [
    "sol = DifferentialEquations.solve(p)"
   ]
  },
  {
   "cell_type": "code",
   "execution_count": 632,
   "metadata": {},
   "outputs": [
    {
     "ename": "MethodError",
     "evalue": "MethodError: no method matching -(::Float64, ::Vector{Float64})\nFor element-wise subtraction, use broadcasting with dot syntax: scalar .- array\nClosest candidates are:\n  -(::Union{Float16, Float32, Float64}) at float.jl:381\n  -(::T, !Matched::T) where T<:Union{Float16, Float32, Float64} at float.jl:384\n  -(::Union{Float16, Float32, Float64}, !Matched::BigFloat) at mpfr.jl:465\n  ...",
     "output_type": "error",
     "traceback": [
      "MethodError: no method matching -(::Float64, ::Vector{Float64})\n",
      "For element-wise subtraction, use broadcasting with dot syntax: scalar .- array\n",
      "Closest candidates are:\n",
      "  -(::Union{Float16, Float32, Float64}) at float.jl:381\n",
      "  -(::T, !Matched::T) where T<:Union{Float16, Float32, Float64} at float.jl:384\n",
      "  -(::Union{Float16, Float32, Float64}, !Matched::BigFloat) at mpfr.jl:465\n",
      "  ...\n",
      "\n",
      "Stacktrace:\n",
      " [1] #RLCTest_ofunc#222\n",
      "   @ /workspaces/JuliaMBD/src/predefined/Sources/Step.jl:28 [inlined]\n",
      " [2] RLCTest_ofunc(int1sin::Vector{Float64}, int2sin::Vector{Float64}; R::Int64, L::Float64, C::Float64, voltage::Int64, time::Float64)\n",
      "   @ Main ./none:0\n",
      " [3] (::var\"#229#231\"{ODESolution{Float64, 2, Vector{Vector{Float64}}, Nothing, Nothing, Vector{Float64}, Vector{Vector{Vector{Float64}}}, ODEProblem{Vector{Float64}, Tuple{Float64, Float64}, true, Vector{Real}, ODEFunction{true, SciMLBase.AutoSpecialize, FunctionWrappersWrappers.FunctionWrappersWrapper{Tuple{FunctionWrappers.FunctionWrapper{Nothing, Tuple{Vector{Float64}, Vector{Float64}, Vector{Real}, Float64}}, FunctionWrappers.FunctionWrapper{Nothing, Tuple{Vector{ForwardDiff.Dual{ForwardDiff.Tag{DiffEqBase.OrdinaryDiffEqTag, Float64}, Float64, 1}}, Vector{ForwardDiff.Dual{ForwardDiff.Tag{DiffEqBase.OrdinaryDiffEqTag, Float64}, Float64, 1}}, Vector{Real}, Float64}}, FunctionWrappers.FunctionWrapper{Nothing, Tuple{Vector{ForwardDiff.Dual{ForwardDiff.Tag{DiffEqBase.OrdinaryDiffEqTag, Float64}, Float64, 1}}, Vector{Float64}, Vector{Real}, ForwardDiff.Dual{ForwardDiff.Tag{DiffEqBase.OrdinaryDiffEqTag, Float64}, Float64, 1}}}, FunctionWrappers.FunctionWrapper{Nothing, Tuple{Vector{ForwardDiff.Dual{ForwardDiff.Tag{DiffEqBase.OrdinaryDiffEqTag, Float64}, Float64, 1}}, Vector{ForwardDiff.Dual{ForwardDiff.Tag{DiffEqBase.OrdinaryDiffEqTag, Float64}, Float64, 1}}, Vector{Real}, ForwardDiff.Dual{ForwardDiff.Tag{DiffEqBase.OrdinaryDiffEqTag, Float64}, Float64, 1}}}}, false}, LinearAlgebra.UniformScaling{Bool}, Nothing, Nothing, Nothing, Nothing, Nothing, Nothing, Nothing, Nothing, Nothing, Nothing, Nothing, Nothing, Nothing, typeof(SciMLBase.DEFAULT_OBSERVED), Nothing, Nothing}, Base.Pairs{Symbol, Union{}, Tuple{}, NamedTuple{(), Tuple{}}}, SciMLBase.StandardODEProblem}, CompositeAlgorithm{Tuple{Tsit5{typeof(OrdinaryDiffEq.trivial_limiter!), typeof(OrdinaryDiffEq.trivial_limiter!), Static.False}, Rosenbrock23{1, false, GenericLUFactorization{LinearAlgebra.RowMaximum}, typeof(OrdinaryDiffEq.DEFAULT_PRECS), Val{:forward}, true, nothing}}, OrdinaryDiffEq.AutoSwitchCache{Tsit5{typeof(OrdinaryDiffEq.trivial_limiter!), typeof(OrdinaryDiffEq.trivial_limiter!), Static.False}, Rosenbrock23{0, false, Nothing, typeof(OrdinaryDiffEq.DEFAULT_PRECS), Val{:forward}, true, nothing}, Rational{Int64}, Int64}}, OrdinaryDiffEq.CompositeInterpolationData{ODEFunction{true, SciMLBase.AutoSpecialize, FunctionWrappersWrappers.FunctionWrappersWrapper{Tuple{FunctionWrappers.FunctionWrapper{Nothing, Tuple{Vector{Float64}, Vector{Float64}, Vector{Real}, Float64}}, FunctionWrappers.FunctionWrapper{Nothing, Tuple{Vector{ForwardDiff.Dual{ForwardDiff.Tag{DiffEqBase.OrdinaryDiffEqTag, Float64}, Float64, 1}}, Vector{ForwardDiff.Dual{ForwardDiff.Tag{DiffEqBase.OrdinaryDiffEqTag, Float64}, Float64, 1}}, Vector{Real}, Float64}}, FunctionWrappers.FunctionWrapper{Nothing, Tuple{Vector{ForwardDiff.Dual{ForwardDiff.Tag{DiffEqBase.OrdinaryDiffEqTag, Float64}, Float64, 1}}, Vector{Float64}, Vector{Real}, ForwardDiff.Dual{ForwardDiff.Tag{DiffEqBase.OrdinaryDiffEqTag, Float64}, Float64, 1}}}, FunctionWrappers.FunctionWrapper{Nothing, Tuple{Vector{ForwardDiff.Dual{ForwardDiff.Tag{DiffEqBase.OrdinaryDiffEqTag, Float64}, Float64, 1}}, Vector{ForwardDiff.Dual{ForwardDiff.Tag{DiffEqBase.OrdinaryDiffEqTag, Float64}, Float64, 1}}, Vector{Real}, ForwardDiff.Dual{ForwardDiff.Tag{DiffEqBase.OrdinaryDiffEqTag, Float64}, Float64, 1}}}}, false}, LinearAlgebra.UniformScaling{Bool}, Nothing, Nothing, Nothing, Nothing, Nothing, Nothing, Nothing, Nothing, Nothing, Nothing, Nothing, Nothing, Nothing, typeof(SciMLBase.DEFAULT_OBSERVED), Nothing, Nothing}, Vector{Vector{Float64}}, Vector{Float64}, Vector{Vector{Vector{Float64}}}, OrdinaryDiffEq.CompositeCache{Tuple{OrdinaryDiffEq.Tsit5Cache{Vector{Float64}, Vector{Float64}, Vector{Float64}, OrdinaryDiffEq.Tsit5ConstantCache{Float64, Float64}, typeof(OrdinaryDiffEq.trivial_limiter!), typeof(OrdinaryDiffEq.trivial_limiter!), Static.False}, OrdinaryDiffEq.Rosenbrock23Cache{Vector{Float64}, Vector{Float64}, Vector{Float64}, Matrix{Float64}, Matrix{Float64}, OrdinaryDiffEq.Rosenbrock23Tableau{Float64}, SciMLBase.TimeGradientWrapper{ODEFunction{true, SciMLBase.AutoSpecialize, FunctionWrappersWrappers.FunctionWrappersWrapper{Tuple{FunctionWrappers.FunctionWrapper{Nothing, Tuple{Vector{Float64}, Vector{Float64}, Vector{Real}, Float64}}, FunctionWrappers.FunctionWrapper{Nothing, Tuple{Vector{ForwardDiff.Dual{ForwardDiff.Tag{DiffEqBase.OrdinaryDiffEqTag, Float64}, Float64, 1}}, Vector{ForwardDiff.Dual{ForwardDiff.Tag{DiffEqBase.OrdinaryDiffEqTag, Float64}, Float64, 1}}, Vector{Real}, Float64}}, FunctionWrappers.FunctionWrapper{Nothing, Tuple{Vector{ForwardDiff.Dual{ForwardDiff.Tag{DiffEqBase.OrdinaryDiffEqTag, Float64}, Float64, 1}}, Vector{Float64}, Vector{Real}, ForwardDiff.Dual{ForwardDiff.Tag{DiffEqBase.OrdinaryDiffEqTag, Float64}, Float64, 1}}}, FunctionWrappers.FunctionWrapper{Nothing, Tuple{Vector{ForwardDiff.Dual{ForwardDiff.Tag{DiffEqBase.OrdinaryDiffEqTag, Float64}, Float64, 1}}, Vector{ForwardDiff.Dual{ForwardDiff.Tag{DiffEqBase.OrdinaryDiffEqTag, Float64}, Float64, 1}}, Vector{Real}, ForwardDiff.Dual{ForwardDiff.Tag{DiffEqBase.OrdinaryDiffEqTag, Float64}, Float64, 1}}}}, false}, LinearAlgebra.UniformScaling{Bool}, Nothing, Nothing, Nothing, Nothing, Nothing, Nothing, Nothing, Nothing, Nothing, Nothing, Nothing, Nothing, Nothing, typeof(SciMLBase.DEFAULT_OBSERVED), Nothing, Nothing}, Vector{Float64}, Vector{Real}}, SciMLBase.UJacobianWrapper{ODEFunction{true, SciMLBase.AutoSpecialize, FunctionWrappersWrappers.FunctionWrappersWrapper{Tuple{FunctionWrappers.FunctionWrapper{Nothing, Tuple{Vector{Float64}, Vector{Float64}, Vector{Real}, Float64}}, FunctionWrappers.FunctionWrapper{Nothing, Tuple{Vector{ForwardDiff.Dual{ForwardDiff.Tag{DiffEqBase.OrdinaryDiffEqTag, Float64}, Float64, 1}}, Vector{ForwardDiff.Dual{ForwardDiff.Tag{DiffEqBase.OrdinaryDiffEqTag, Float64}, Float64, 1}}, Vector{Real}, Float64}}, FunctionWrappers.FunctionWrapper{Nothing, Tuple{Vector{ForwardDiff.Dual{ForwardDiff.Tag{DiffEqBase.OrdinaryDiffEqTag, Float64}, Float64, 1}}, Vector{Float64}, Vector{Real}, ForwardDiff.Dual{ForwardDiff.Tag{DiffEqBase.OrdinaryDiffEqTag, Float64}, Float64, 1}}}, FunctionWrappers.FunctionWrapper{Nothing, Tuple{Vector{ForwardDiff.Dual{ForwardDiff.Tag{DiffEqBase.OrdinaryDiffEqTag, Float64}, Float64, 1}}, Vector{ForwardDiff.Dual{ForwardDiff.Tag{DiffEqBase.OrdinaryDiffEqTag, Float64}, Float64, 1}}, Vector{Real}, ForwardDiff.Dual{ForwardDiff.Tag{DiffEqBase.OrdinaryDiffEqTag, Float64}, Float64, 1}}}}, false}, LinearAlgebra.UniformScaling{Bool}, Nothing, Nothing, Nothing, Nothing, Nothing, Nothing, Nothing, Nothing, Nothing, Nothing, Nothing, Nothing, Nothing, typeof(SciMLBase.DEFAULT_OBSERVED), Nothing, Nothing}, Float64, Vector{Real}}, LinearSolve.LinearCache{Matrix{Float64}, Vector{Float64}, Vector{Float64}, SciMLBase.NullParameters, GenericLUFactorization{LinearAlgebra.RowMaximum}, LinearAlgebra.LU{Float64, Matrix{Float64}, Vector{Int64}}, LinearSolve.InvPreconditioner{LinearAlgebra.Diagonal{Float64, Vector{Float64}}}, LinearAlgebra.Diagonal{Float64, Vector{Float64}}, Float64, Nothing}, FiniteDiff.JacobianCache{Vector{Float64}, Vector{Float64}, Vector{Float64}, Vector{Float64}, UnitRange{Int64}, Nothing, Val{:forward}(), Float64}, FiniteDiff.GradientCache{Nothing, Vector{Float64}, Vector{Float64}, Float64, Val{:forward}(), Float64, Val{true}()}, Float64, Rosenbrock23{1, false, GenericLUFactorization{LinearAlgebra.RowMaximum}, typeof(OrdinaryDiffEq.DEFAULT_PRECS), Val{:forward}, true, nothing}, Nothing}}, OrdinaryDiffEq.AutoSwitchCache{Tsit5{typeof(OrdinaryDiffEq.trivial_limiter!), typeof(OrdinaryDiffEq.trivial_limiter!), Static.False}, Rosenbrock23{0, false, Nothing, typeof(OrdinaryDiffEq.DEFAULT_PRECS), Val{:forward}, true, nothing}, Rational{Int64}, Int64}}}, DiffEqBase.DEStats, Vector{Int64}}, Vector{Real}})(t::Float64)\n",
      "   @ Main ./array.jl:0\n",
      " [4] iterate\n",
      "   @ ./generator.jl:47 [inlined]\n",
      " [5] collect(itr::Base.Generator{LinRange{Float64, Int64}, var\"#229#231\"{ODESolution{Float64, 2, Vector{Vector{Float64}}, Nothing, Nothing, Vector{Float64}, Vector{Vector{Vector{Float64}}}, ODEProblem{Vector{Float64}, Tuple{Float64, Float64}, true, Vector{Real}, ODEFunction{true, SciMLBase.AutoSpecialize, FunctionWrappersWrappers.FunctionWrappersWrapper{Tuple{FunctionWrappers.FunctionWrapper{Nothing, Tuple{Vector{Float64}, Vector{Float64}, Vector{Real}, Float64}}, FunctionWrappers.FunctionWrapper{Nothing, Tuple{Vector{ForwardDiff.Dual{ForwardDiff.Tag{DiffEqBase.OrdinaryDiffEqTag, Float64}, Float64, 1}}, Vector{ForwardDiff.Dual{ForwardDiff.Tag{DiffEqBase.OrdinaryDiffEqTag, Float64}, Float64, 1}}, Vector{Real}, Float64}}, FunctionWrappers.FunctionWrapper{Nothing, Tuple{Vector{ForwardDiff.Dual{ForwardDiff.Tag{DiffEqBase.OrdinaryDiffEqTag, Float64}, Float64, 1}}, Vector{Float64}, Vector{Real}, ForwardDiff.Dual{ForwardDiff.Tag{DiffEqBase.OrdinaryDiffEqTag, Float64}, Float64, 1}}}, FunctionWrappers.FunctionWrapper{Nothing, Tuple{Vector{ForwardDiff.Dual{ForwardDiff.Tag{DiffEqBase.OrdinaryDiffEqTag, Float64}, Float64, 1}}, Vector{ForwardDiff.Dual{ForwardDiff.Tag{DiffEqBase.OrdinaryDiffEqTag, Float64}, Float64, 1}}, Vector{Real}, ForwardDiff.Dual{ForwardDiff.Tag{DiffEqBase.OrdinaryDiffEqTag, Float64}, Float64, 1}}}}, false}, LinearAlgebra.UniformScaling{Bool}, Nothing, Nothing, Nothing, Nothing, Nothing, Nothing, Nothing, Nothing, Nothing, Nothing, Nothing, Nothing, Nothing, typeof(SciMLBase.DEFAULT_OBSERVED), Nothing, Nothing}, Base.Pairs{Symbol, Union{}, Tuple{}, NamedTuple{(), Tuple{}}}, SciMLBase.StandardODEProblem}, CompositeAlgorithm{Tuple{Tsit5{typeof(OrdinaryDiffEq.trivial_limiter!), typeof(OrdinaryDiffEq.trivial_limiter!), Static.False}, Rosenbrock23{1, false, GenericLUFactorization{LinearAlgebra.RowMaximum}, typeof(OrdinaryDiffEq.DEFAULT_PRECS), Val{:forward}, true, nothing}}, OrdinaryDiffEq.AutoSwitchCache{Tsit5{typeof(OrdinaryDiffEq.trivial_limiter!), typeof(OrdinaryDiffEq.trivial_limiter!), Static.False}, Rosenbrock23{0, false, Nothing, typeof(OrdinaryDiffEq.DEFAULT_PRECS), Val{:forward}, true, nothing}, Rational{Int64}, Int64}}, OrdinaryDiffEq.CompositeInterpolationData{ODEFunction{true, SciMLBase.AutoSpecialize, FunctionWrappersWrappers.FunctionWrappersWrapper{Tuple{FunctionWrappers.FunctionWrapper{Nothing, Tuple{Vector{Float64}, Vector{Float64}, Vector{Real}, Float64}}, FunctionWrappers.FunctionWrapper{Nothing, Tuple{Vector{ForwardDiff.Dual{ForwardDiff.Tag{DiffEqBase.OrdinaryDiffEqTag, Float64}, Float64, 1}}, Vector{ForwardDiff.Dual{ForwardDiff.Tag{DiffEqBase.OrdinaryDiffEqTag, Float64}, Float64, 1}}, Vector{Real}, Float64}}, FunctionWrappers.FunctionWrapper{Nothing, Tuple{Vector{ForwardDiff.Dual{ForwardDiff.Tag{DiffEqBase.OrdinaryDiffEqTag, Float64}, Float64, 1}}, Vector{Float64}, Vector{Real}, ForwardDiff.Dual{ForwardDiff.Tag{DiffEqBase.OrdinaryDiffEqTag, Float64}, Float64, 1}}}, FunctionWrappers.FunctionWrapper{Nothing, Tuple{Vector{ForwardDiff.Dual{ForwardDiff.Tag{DiffEqBase.OrdinaryDiffEqTag, Float64}, Float64, 1}}, Vector{ForwardDiff.Dual{ForwardDiff.Tag{DiffEqBase.OrdinaryDiffEqTag, Float64}, Float64, 1}}, Vector{Real}, ForwardDiff.Dual{ForwardDiff.Tag{DiffEqBase.OrdinaryDiffEqTag, Float64}, Float64, 1}}}}, false}, LinearAlgebra.UniformScaling{Bool}, Nothing, Nothing, Nothing, Nothing, Nothing, Nothing, Nothing, Nothing, Nothing, Nothing, Nothing, Nothing, Nothing, typeof(SciMLBase.DEFAULT_OBSERVED), Nothing, Nothing}, Vector{Vector{Float64}}, Vector{Float64}, Vector{Vector{Vector{Float64}}}, OrdinaryDiffEq.CompositeCache{Tuple{OrdinaryDiffEq.Tsit5Cache{Vector{Float64}, Vector{Float64}, Vector{Float64}, OrdinaryDiffEq.Tsit5ConstantCache{Float64, Float64}, typeof(OrdinaryDiffEq.trivial_limiter!), typeof(OrdinaryDiffEq.trivial_limiter!), Static.False}, OrdinaryDiffEq.Rosenbrock23Cache{Vector{Float64}, Vector{Float64}, Vector{Float64}, Matrix{Float64}, Matrix{Float64}, OrdinaryDiffEq.Rosenbrock23Tableau{Float64}, SciMLBase.TimeGradientWrapper{ODEFunction{true, SciMLBase.AutoSpecialize, FunctionWrappersWrappers.FunctionWrappersWrapper{Tuple{FunctionWrappers.FunctionWrapper{Nothing, Tuple{Vector{Float64}, Vector{Float64}, Vector{Real}, Float64}}, FunctionWrappers.FunctionWrapper{Nothing, Tuple{Vector{ForwardDiff.Dual{ForwardDiff.Tag{DiffEqBase.OrdinaryDiffEqTag, Float64}, Float64, 1}}, Vector{ForwardDiff.Dual{ForwardDiff.Tag{DiffEqBase.OrdinaryDiffEqTag, Float64}, Float64, 1}}, Vector{Real}, Float64}}, FunctionWrappers.FunctionWrapper{Nothing, Tuple{Vector{ForwardDiff.Dual{ForwardDiff.Tag{DiffEqBase.OrdinaryDiffEqTag, Float64}, Float64, 1}}, Vector{Float64}, Vector{Real}, ForwardDiff.Dual{ForwardDiff.Tag{DiffEqBase.OrdinaryDiffEqTag, Float64}, Float64, 1}}}, FunctionWrappers.FunctionWrapper{Nothing, Tuple{Vector{ForwardDiff.Dual{ForwardDiff.Tag{DiffEqBase.OrdinaryDiffEqTag, Float64}, Float64, 1}}, Vector{ForwardDiff.Dual{ForwardDiff.Tag{DiffEqBase.OrdinaryDiffEqTag, Float64}, Float64, 1}}, Vector{Real}, ForwardDiff.Dual{ForwardDiff.Tag{DiffEqBase.OrdinaryDiffEqTag, Float64}, Float64, 1}}}}, false}, LinearAlgebra.UniformScaling{Bool}, Nothing, Nothing, Nothing, Nothing, Nothing, Nothing, Nothing, Nothing, Nothing, Nothing, Nothing, Nothing, Nothing, typeof(SciMLBase.DEFAULT_OBSERVED), Nothing, Nothing}, Vector{Float64}, Vector{Real}}, SciMLBase.UJacobianWrapper{ODEFunction{true, SciMLBase.AutoSpecialize, FunctionWrappersWrappers.FunctionWrappersWrapper{Tuple{FunctionWrappers.FunctionWrapper{Nothing, Tuple{Vector{Float64}, Vector{Float64}, Vector{Real}, Float64}}, FunctionWrappers.FunctionWrapper{Nothing, Tuple{Vector{ForwardDiff.Dual{ForwardDiff.Tag{DiffEqBase.OrdinaryDiffEqTag, Float64}, Float64, 1}}, Vector{ForwardDiff.Dual{ForwardDiff.Tag{DiffEqBase.OrdinaryDiffEqTag, Float64}, Float64, 1}}, Vector{Real}, Float64}}, FunctionWrappers.FunctionWrapper{Nothing, Tuple{Vector{ForwardDiff.Dual{ForwardDiff.Tag{DiffEqBase.OrdinaryDiffEqTag, Float64}, Float64, 1}}, Vector{Float64}, Vector{Real}, ForwardDiff.Dual{ForwardDiff.Tag{DiffEqBase.OrdinaryDiffEqTag, Float64}, Float64, 1}}}, FunctionWrappers.FunctionWrapper{Nothing, Tuple{Vector{ForwardDiff.Dual{ForwardDiff.Tag{DiffEqBase.OrdinaryDiffEqTag, Float64}, Float64, 1}}, Vector{ForwardDiff.Dual{ForwardDiff.Tag{DiffEqBase.OrdinaryDiffEqTag, Float64}, Float64, 1}}, Vector{Real}, ForwardDiff.Dual{ForwardDiff.Tag{DiffEqBase.OrdinaryDiffEqTag, Float64}, Float64, 1}}}}, false}, LinearAlgebra.UniformScaling{Bool}, Nothing, Nothing, Nothing, Nothing, Nothing, Nothing, Nothing, Nothing, Nothing, Nothing, Nothing, Nothing, Nothing, typeof(SciMLBase.DEFAULT_OBSERVED), Nothing, Nothing}, Float64, Vector{Real}}, LinearSolve.LinearCache{Matrix{Float64}, Vector{Float64}, Vector{Float64}, SciMLBase.NullParameters, GenericLUFactorization{LinearAlgebra.RowMaximum}, LinearAlgebra.LU{Float64, Matrix{Float64}, Vector{Int64}}, LinearSolve.InvPreconditioner{LinearAlgebra.Diagonal{Float64, Vector{Float64}}}, LinearAlgebra.Diagonal{Float64, Vector{Float64}}, Float64, Nothing}, FiniteDiff.JacobianCache{Vector{Float64}, Vector{Float64}, Vector{Float64}, Vector{Float64}, UnitRange{Int64}, Nothing, Val{:forward}(), Float64}, FiniteDiff.GradientCache{Nothing, Vector{Float64}, Vector{Float64}, Float64, Val{:forward}(), Float64, Val{true}()}, Float64, Rosenbrock23{1, false, GenericLUFactorization{LinearAlgebra.RowMaximum}, typeof(OrdinaryDiffEq.DEFAULT_PRECS), Val{:forward}, true, nothing}, Nothing}}, OrdinaryDiffEq.AutoSwitchCache{Tsit5{typeof(OrdinaryDiffEq.trivial_limiter!), typeof(OrdinaryDiffEq.trivial_limiter!), Static.False}, Rosenbrock23{0, false, Nothing, typeof(OrdinaryDiffEq.DEFAULT_PRECS), Val{:forward}, true, nothing}, Rational{Int64}, Int64}}}, DiffEqBase.DEStats, Vector{Int64}}, Vector{Real}}})\n",
      "   @ Base ./array.jl:787\n",
      " [6] (::var\"#228#230\")(x::ODESolution{Float64, 2, Vector{Vector{Float64}}, Nothing, Nothing, Vector{Float64}, Vector{Vector{Vector{Float64}}}, ODEProblem{Vector{Float64}, Tuple{Float64, Float64}, true, Vector{Real}, ODEFunction{true, SciMLBase.AutoSpecialize, FunctionWrappersWrappers.FunctionWrappersWrapper{Tuple{FunctionWrappers.FunctionWrapper{Nothing, Tuple{Vector{Float64}, Vector{Float64}, Vector{Real}, Float64}}, FunctionWrappers.FunctionWrapper{Nothing, Tuple{Vector{ForwardDiff.Dual{ForwardDiff.Tag{DiffEqBase.OrdinaryDiffEqTag, Float64}, Float64, 1}}, Vector{ForwardDiff.Dual{ForwardDiff.Tag{DiffEqBase.OrdinaryDiffEqTag, Float64}, Float64, 1}}, Vector{Real}, Float64}}, FunctionWrappers.FunctionWrapper{Nothing, Tuple{Vector{ForwardDiff.Dual{ForwardDiff.Tag{DiffEqBase.OrdinaryDiffEqTag, Float64}, Float64, 1}}, Vector{Float64}, Vector{Real}, ForwardDiff.Dual{ForwardDiff.Tag{DiffEqBase.OrdinaryDiffEqTag, Float64}, Float64, 1}}}, FunctionWrappers.FunctionWrapper{Nothing, Tuple{Vector{ForwardDiff.Dual{ForwardDiff.Tag{DiffEqBase.OrdinaryDiffEqTag, Float64}, Float64, 1}}, Vector{ForwardDiff.Dual{ForwardDiff.Tag{DiffEqBase.OrdinaryDiffEqTag, Float64}, Float64, 1}}, Vector{Real}, ForwardDiff.Dual{ForwardDiff.Tag{DiffEqBase.OrdinaryDiffEqTag, Float64}, Float64, 1}}}}, false}, LinearAlgebra.UniformScaling{Bool}, Nothing, Nothing, Nothing, Nothing, Nothing, Nothing, Nothing, Nothing, Nothing, Nothing, Nothing, Nothing, Nothing, typeof(SciMLBase.DEFAULT_OBSERVED), Nothing, Nothing}, Base.Pairs{Symbol, Union{}, Tuple{}, NamedTuple{(), Tuple{}}}, SciMLBase.StandardODEProblem}, CompositeAlgorithm{Tuple{Tsit5{typeof(OrdinaryDiffEq.trivial_limiter!), typeof(OrdinaryDiffEq.trivial_limiter!), Static.False}, Rosenbrock23{1, false, GenericLUFactorization{LinearAlgebra.RowMaximum}, typeof(OrdinaryDiffEq.DEFAULT_PRECS), Val{:forward}, true, nothing}}, OrdinaryDiffEq.AutoSwitchCache{Tsit5{typeof(OrdinaryDiffEq.trivial_limiter!), typeof(OrdinaryDiffEq.trivial_limiter!), Static.False}, Rosenbrock23{0, false, Nothing, typeof(OrdinaryDiffEq.DEFAULT_PRECS), Val{:forward}, true, nothing}, Rational{Int64}, Int64}}, OrdinaryDiffEq.CompositeInterpolationData{ODEFunction{true, SciMLBase.AutoSpecialize, FunctionWrappersWrappers.FunctionWrappersWrapper{Tuple{FunctionWrappers.FunctionWrapper{Nothing, Tuple{Vector{Float64}, Vector{Float64}, Vector{Real}, Float64}}, FunctionWrappers.FunctionWrapper{Nothing, Tuple{Vector{ForwardDiff.Dual{ForwardDiff.Tag{DiffEqBase.OrdinaryDiffEqTag, Float64}, Float64, 1}}, Vector{ForwardDiff.Dual{ForwardDiff.Tag{DiffEqBase.OrdinaryDiffEqTag, Float64}, Float64, 1}}, Vector{Real}, Float64}}, FunctionWrappers.FunctionWrapper{Nothing, Tuple{Vector{ForwardDiff.Dual{ForwardDiff.Tag{DiffEqBase.OrdinaryDiffEqTag, Float64}, Float64, 1}}, Vector{Float64}, Vector{Real}, ForwardDiff.Dual{ForwardDiff.Tag{DiffEqBase.OrdinaryDiffEqTag, Float64}, Float64, 1}}}, FunctionWrappers.FunctionWrapper{Nothing, Tuple{Vector{ForwardDiff.Dual{ForwardDiff.Tag{DiffEqBase.OrdinaryDiffEqTag, Float64}, Float64, 1}}, Vector{ForwardDiff.Dual{ForwardDiff.Tag{DiffEqBase.OrdinaryDiffEqTag, Float64}, Float64, 1}}, Vector{Real}, ForwardDiff.Dual{ForwardDiff.Tag{DiffEqBase.OrdinaryDiffEqTag, Float64}, Float64, 1}}}}, false}, LinearAlgebra.UniformScaling{Bool}, Nothing, Nothing, Nothing, Nothing, Nothing, Nothing, Nothing, Nothing, Nothing, Nothing, Nothing, Nothing, Nothing, typeof(SciMLBase.DEFAULT_OBSERVED), Nothing, Nothing}, Vector{Vector{Float64}}, Vector{Float64}, Vector{Vector{Vector{Float64}}}, OrdinaryDiffEq.CompositeCache{Tuple{OrdinaryDiffEq.Tsit5Cache{Vector{Float64}, Vector{Float64}, Vector{Float64}, OrdinaryDiffEq.Tsit5ConstantCache{Float64, Float64}, typeof(OrdinaryDiffEq.trivial_limiter!), typeof(OrdinaryDiffEq.trivial_limiter!), Static.False}, OrdinaryDiffEq.Rosenbrock23Cache{Vector{Float64}, Vector{Float64}, Vector{Float64}, Matrix{Float64}, Matrix{Float64}, OrdinaryDiffEq.Rosenbrock23Tableau{Float64}, SciMLBase.TimeGradientWrapper{ODEFunction{true, SciMLBase.AutoSpecialize, FunctionWrappersWrappers.FunctionWrappersWrapper{Tuple{FunctionWrappers.FunctionWrapper{Nothing, Tuple{Vector{Float64}, Vector{Float64}, Vector{Real}, Float64}}, FunctionWrappers.FunctionWrapper{Nothing, Tuple{Vector{ForwardDiff.Dual{ForwardDiff.Tag{DiffEqBase.OrdinaryDiffEqTag, Float64}, Float64, 1}}, Vector{ForwardDiff.Dual{ForwardDiff.Tag{DiffEqBase.OrdinaryDiffEqTag, Float64}, Float64, 1}}, Vector{Real}, Float64}}, FunctionWrappers.FunctionWrapper{Nothing, Tuple{Vector{ForwardDiff.Dual{ForwardDiff.Tag{DiffEqBase.OrdinaryDiffEqTag, Float64}, Float64, 1}}, Vector{Float64}, Vector{Real}, ForwardDiff.Dual{ForwardDiff.Tag{DiffEqBase.OrdinaryDiffEqTag, Float64}, Float64, 1}}}, FunctionWrappers.FunctionWrapper{Nothing, Tuple{Vector{ForwardDiff.Dual{ForwardDiff.Tag{DiffEqBase.OrdinaryDiffEqTag, Float64}, Float64, 1}}, Vector{ForwardDiff.Dual{ForwardDiff.Tag{DiffEqBase.OrdinaryDiffEqTag, Float64}, Float64, 1}}, Vector{Real}, ForwardDiff.Dual{ForwardDiff.Tag{DiffEqBase.OrdinaryDiffEqTag, Float64}, Float64, 1}}}}, false}, LinearAlgebra.UniformScaling{Bool}, Nothing, Nothing, Nothing, Nothing, Nothing, Nothing, Nothing, Nothing, Nothing, Nothing, Nothing, Nothing, Nothing, typeof(SciMLBase.DEFAULT_OBSERVED), Nothing, Nothing}, Vector{Float64}, Vector{Real}}, SciMLBase.UJacobianWrapper{ODEFunction{true, SciMLBase.AutoSpecialize, FunctionWrappersWrappers.FunctionWrappersWrapper{Tuple{FunctionWrappers.FunctionWrapper{Nothing, Tuple{Vector{Float64}, Vector{Float64}, Vector{Real}, Float64}}, FunctionWrappers.FunctionWrapper{Nothing, Tuple{Vector{ForwardDiff.Dual{ForwardDiff.Tag{DiffEqBase.OrdinaryDiffEqTag, Float64}, Float64, 1}}, Vector{ForwardDiff.Dual{ForwardDiff.Tag{DiffEqBase.OrdinaryDiffEqTag, Float64}, Float64, 1}}, Vector{Real}, Float64}}, FunctionWrappers.FunctionWrapper{Nothing, Tuple{Vector{ForwardDiff.Dual{ForwardDiff.Tag{DiffEqBase.OrdinaryDiffEqTag, Float64}, Float64, 1}}, Vector{Float64}, Vector{Real}, ForwardDiff.Dual{ForwardDiff.Tag{DiffEqBase.OrdinaryDiffEqTag, Float64}, Float64, 1}}}, FunctionWrappers.FunctionWrapper{Nothing, Tuple{Vector{ForwardDiff.Dual{ForwardDiff.Tag{DiffEqBase.OrdinaryDiffEqTag, Float64}, Float64, 1}}, Vector{ForwardDiff.Dual{ForwardDiff.Tag{DiffEqBase.OrdinaryDiffEqTag, Float64}, Float64, 1}}, Vector{Real}, ForwardDiff.Dual{ForwardDiff.Tag{DiffEqBase.OrdinaryDiffEqTag, Float64}, Float64, 1}}}}, false}, LinearAlgebra.UniformScaling{Bool}, Nothing, Nothing, Nothing, Nothing, Nothing, Nothing, Nothing, Nothing, Nothing, Nothing, Nothing, Nothing, Nothing, typeof(SciMLBase.DEFAULT_OBSERVED), Nothing, Nothing}, Float64, Vector{Real}}, LinearSolve.LinearCache{Matrix{Float64}, Vector{Float64}, Vector{Float64}, SciMLBase.NullParameters, GenericLUFactorization{LinearAlgebra.RowMaximum}, LinearAlgebra.LU{Float64, Matrix{Float64}, Vector{Int64}}, LinearSolve.InvPreconditioner{LinearAlgebra.Diagonal{Float64, Vector{Float64}}}, LinearAlgebra.Diagonal{Float64, Vector{Float64}}, Float64, Nothing}, FiniteDiff.JacobianCache{Vector{Float64}, Vector{Float64}, Vector{Float64}, Vector{Float64}, UnitRange{Int64}, Nothing, Val{:forward}(), Float64}, FiniteDiff.GradientCache{Nothing, Vector{Float64}, Vector{Float64}, Float64, Val{:forward}(), Float64, Val{true}()}, Float64, Rosenbrock23{1, false, GenericLUFactorization{LinearAlgebra.RowMaximum}, typeof(OrdinaryDiffEq.DEFAULT_PRECS), Val{:forward}, true, nothing}, Nothing}}, OrdinaryDiffEq.AutoSwitchCache{Tsit5{typeof(OrdinaryDiffEq.trivial_limiter!), typeof(OrdinaryDiffEq.trivial_limiter!), Static.False}, Rosenbrock23{0, false, Nothing, typeof(OrdinaryDiffEq.DEFAULT_PRECS), Val{:forward}, true, nothing}, Rational{Int64}, Int64}}}, DiffEqBase.DEStats, Vector{Int64}}, p::Vector{Real}, ts::LinRange{Float64, Int64})\n",
      "   @ Main ./none:0\n",
      " [7] top-level scope\n",
      "   @ /workspaces/JuliaMBD/examples/testfile.ipynb:2"
     ]
    }
   ],
   "source": [
    "ts = LinRange(0, 1, 100)\n",
    "results = m.ofunc(sol, params, ts)"
   ]
  },
  {
   "cell_type": "code",
   "execution_count": 634,
   "metadata": {},
   "outputs": [
    {
     "data": {
      "text/plain": [
       "0.0"
      ]
     },
     "metadata": {},
     "output_type": "display_data"
    }
   ],
   "source": [
    "sol(1)[1]"
   ]
  },
  {
   "cell_type": "code",
   "execution_count": null,
   "metadata": {},
   "outputs": [],
   "source": []
  }
 ],
 "metadata": {
  "kernelspec": {
   "display_name": "Julia 1.8.3",
   "language": "julia",
   "name": "julia-1.8"
  },
  "language_info": {
   "file_extension": ".jl",
   "mimetype": "application/julia",
   "name": "julia",
   "version": "1.8.3"
  }
 },
 "nbformat": 4,
 "nbformat_minor": 2
}
