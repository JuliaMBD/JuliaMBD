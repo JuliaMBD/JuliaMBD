{
 "cells": [
  {
   "cell_type": "code",
   "execution_count": null,
   "id": "eafbc6ee-2ac0-4f4f-97c4-cdd648605582",
   "metadata": {},
   "outputs": [],
   "source": [
    "# using Pkg\n",
    "# Pkg.add(url = \"https://github.com/JuliaReliab/JuliaMBD.git\")\n",
    "using Pkg\n",
    "Pkg.update()"
   ]
  },
  {
   "cell_type": "code",
   "execution_count": null,
   "id": "f4e6e62d-cb0b-40c1-8283-3e47859a7fc6",
   "metadata": {},
   "outputs": [],
   "source": [
    "# using Pkg\n",
    "# Pkg.add(\"DifferentialEquations\")\n",
    "# Pkg.add(\"Plots\")\n",
    "using DifferentialEquations\n",
    "using Plots"
   ]
  },
  {
   "cell_type": "code",
   "execution_count": null,
   "id": "2d81d0bf-6961-4d34-be5b-952b63b2369f",
   "metadata": {},
   "outputs": [],
   "source": [
    "using JuliaMBD\n",
    "import JuliaMBD: expr, expr_initial, get_inports, get_outports"
   ]
  },
  {
   "cell_type": "code",
   "execution_count": null,
   "id": "c0f2a13a-c95c-4944-b378-bd6a67d00b71",
   "metadata": {},
   "outputs": [],
   "source": [
    "module DCMotorDiskModule\n",
    "\n",
    "using JuliaMBD\n",
    "import JuliaMBD: expr, expr_initial, get_inports, get_outports\n",
    "\n",
    "@model DCMotorDisk begin\n",
    "    ## モータ特性\n",
    "    @parameter begin\n",
    "        R::Float64     # 電機抵抗\n",
    "        L::Float64     # インダクタンス\n",
    "        K_e::Float64   # 逆起電力定数\n",
    "        K_tau::Float64 # トルク定数\n",
    "        J_M::Float64   # 慣性モーメント\n",
    "    end\n",
    "        \n",
    "    ## ディスク特性\n",
    "    @parameter begin\n",
    "        J_I::Float64 # 慣性モーメント\n",
    "        D::Float64   # 粘性減衰係数\n",
    "    end\n",
    "    \n",
    "    @block begin\n",
    "        in1 = InBlock(:v_M) # 印加電圧\n",
    "        int = Integrator(:s1, outport=OutPort(:i_M))\n",
    "        int1 = Integrator(:s2, outport=OutPort(:omega))\n",
    "        gain = Gain(K=:(1/L))\n",
    "        gain1 = Gain(K=:K_tau)\n",
    "        gain2 = Gain(K=:(1/(J_M+J_I)))\n",
    "        gain3 = Gain(K=:D)\n",
    "        gain4 = Gain(K=:K_e)\n",
    "        gain5 = Gain(K=:R)\n",
    "        out1 = OutBlock(:out1)\n",
    "        out2 = OutBlock(:out2)\n",
    "        sum1 = Add(inports=[InPort(), InPort(), InPort()], signs=[:+, :-, :-])\n",
    "        sub = Add(inports=[InPort(), InPort()], signs=[:+, :-])\n",
    "    end\n",
    "    \n",
    "    @scope begin\n",
    "        int\n",
    "        int1\n",
    "    end\n",
    "\n",
    "    in1 => sum1.inports[1]\n",
    "    gain4 => sum1.inports[2]\n",
    "    gain5 => sum1.inports[3]\n",
    "    sum1 => gain => int => [gain1, gain5, out2]\n",
    "    gain1 => sub.inports[1]\n",
    "    gain3 => sub.inports[2]\n",
    "    sub => gain2 => int1 => [gain3, gain4, out1]\n",
    "end\n",
    "end"
   ]
  },
  {
   "cell_type": "code",
   "execution_count": null,
   "id": "d9dc5930-acbf-4cda-bf5e-ee198c1500d6",
   "metadata": {},
   "outputs": [],
   "source": [
    "module TestDCMotorDiskModule\n",
    "\n",
    "using JuliaMBD\n",
    "import JuliaMBD: expr, expr_initial, get_inports, get_outports\n",
    "\n",
    "import Main.DCMotorDiskModule: DCMotorDisk, DCMotorDiskFunction, DCMotorDiskInitialFunction\n",
    "\n",
    "@model TestDCMotorDisk begin\n",
    "    @parameter begin\n",
    "        R::Float64 = 5.7\n",
    "        L::Float64 = 0.2\n",
    "        K_e::Float64 = 7.16e-2\n",
    "        K_tau::Float64 = 7.2e-2\n",
    "        J_M::Float64 = 0.11e-3\n",
    "        J_I::Float64 = 1.3e-3\n",
    "        D::Float64 = 6.0e-5\n",
    "        v0::Float64 = 24.0\n",
    "    end\n",
    "\n",
    "    @block begin\n",
    "        motor_and_disk = DCMotorDisk()\n",
    "        step = Step(steptime = 1, finalvalue = :v0, outport=OutPort(:v_M))\n",
    "    end\n",
    "    \n",
    "    @scope step \n",
    "    \n",
    "    step => motor_and_disk.v_M\n",
    "end\n",
    "\n",
    "end"
   ]
  },
  {
   "cell_type": "code",
   "execution_count": null,
   "id": "c303639f-efdf-4d3b-ae8e-4cfa19dd111c",
   "metadata": {},
   "outputs": [],
   "source": [
    "m = Main.TestDCMotorDiskModule.TestDCMotorDisk()"
   ]
  },
  {
   "cell_type": "code",
   "execution_count": null,
   "id": "d785e89e-c691-4338-8513-b806bfd21a96",
   "metadata": {},
   "outputs": [],
   "source": [
    "@time results = simulate(m, (0.0, 10.0));"
   ]
  },
  {
   "cell_type": "code",
   "execution_count": null,
   "id": "b6b64cad-e89c-42d2-bbaa-82788aa3f152",
   "metadata": {},
   "outputs": [],
   "source": [
    "results.graph"
   ]
  },
  {
   "cell_type": "code",
   "execution_count": null,
   "id": "a379392c",
   "metadata": {},
   "outputs": [],
   "source": []
  }
 ],
 "metadata": {
  "kernelspec": {
   "display_name": "Julia 1.7.3",
   "language": "julia",
   "name": "julia-1.7"
  },
  "language_info": {
   "file_extension": ".jl",
   "mimetype": "application/julia",
   "name": "julia",
   "version": "1.7.3"
  }
 },
 "nbformat": 4,
 "nbformat_minor": 5
}
