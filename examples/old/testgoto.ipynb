{
 "cells": [
  {
   "cell_type": "code",
   "execution_count": 1,
   "metadata": {},
   "outputs": [
    {
     "data": {
      "text/plain": [
       "Main.JuliaMBD"
      ]
     },
     "metadata": {},
     "output_type": "display_data"
    }
   ],
   "source": [
    "include(\"../../src/JuliaMBD.jl\")"
   ]
  },
  {
   "cell_type": "code",
   "execution_count": 2,
   "metadata": {},
   "outputs": [],
   "source": [
    "using Plots\n",
    "using DifferentialEquations\n",
    "using .JuliaMBD\n",
    "using .JuliaMBD.Diagram"
   ]
  },
  {
   "cell_type": "code",
   "execution_count": 3,
   "metadata": {},
   "outputs": [
    {
     "data": {
      "text/plain": [
       "m1 (generic function with 1 method)"
      ]
     },
     "metadata": {},
     "output_type": "display_data"
    }
   ],
   "source": [
    "@model m1 begin\n",
    "    @block begin\n",
    "        con = Constant(value=1)#, out=Outport(:constantout))\n",
    "        goto = Goto(tag=:a, in=InPort(:gotoin), out=OutPort(:gotoout))\n",
    "        from = From(tag=:a, in=InPort(:fromin), out=OutPort(:fromout))\n",
    "        gain = Gain(K=1, in=InPort(:gainin), out=OutPort(:gainout))\n",
    "        from2 = From(tag=:x, in=InPort(:fromin1), out=OutPort(:fromout1))\n",
    "        gain2 = Gain(K=1, in=InPort(:gainin2), out=OutPort(:gainout2))\n",
    "    end\n",
    "    @connect begin\n",
    "        con.out => goto.in\n",
    "        from.out => gain.in\n",
    "        from2.out => gain2.in\n",
    "    end\n",
    "end"
   ]
  },
  {
   "cell_type": "code",
   "execution_count": 4,
   "metadata": {},
   "outputs": [
    {
     "ename": "ErrorException",
     "evalue": "Did not find Goto tag x",
     "output_type": "error",
     "traceback": [
      "Did not find Goto tag x\n",
      "\n",
      "Stacktrace:\n",
      " [1] error(s::String)\n",
      "   @ Base ./error.jl:35\n",
      " [2] prev(x::Main.JuliaMBD.FromSignal)\n",
      "   @ Main.JuliaMBD /workspaces/JuliaMBD.jl/src/_compile.jl:33\n",
      " [3] _allblocks(blk::Main.JuliaMBD.FromSignal, visited::Set{Main.JuliaMBD.AbstractComponent})\n",
      "   @ Main.JuliaMBD /workspaces/JuliaMBD.jl/src/_compile.jl:112\n",
      " [4] _allblocks(blk::InPort{Any}, visited::Set{Main.JuliaMBD.AbstractComponent}) (repeats 2 times)\n",
      "   @ Main.JuliaMBD /workspaces/JuliaMBD.jl/src/_compile.jl:113\n",
      " [5] allcomponents(b::SubSystemBlock)\n",
      "   @ Main.JuliaMBD /workspaces/JuliaMBD.jl/src/_compile.jl:89\n",
      " [6] top-level scope\n",
      "   @ /workspaces/JuliaMBD.jl/examples/old/testgoto.ipynb:3"
     ]
    }
   ],
   "source": [
    "b = m1()\n",
    "JuliaMBD.connecttag(b.blocks)\n",
    "for x = JuliaMBD.tsort(JuliaMBD.allcomponents(b))\n",
    "    println(JuliaMBD._expr(x))\n",
    "end"
   ]
  },
  {
   "cell_type": "code",
   "execution_count": 6,
   "metadata": {},
   "outputs": [
    {
     "data": {
      "text/plain": [
       "\"Block(Goto)\""
      ]
     },
     "metadata": {},
     "output_type": "display_data"
    }
   ],
   "source": [
    "b = Goto(tag=:a)"
   ]
  },
  {
   "cell_type": "code",
   "execution_count": 10,
   "metadata": {},
   "outputs": [
    {
     "data": {
      "text/plain": [
       ":(())"
      ]
     },
     "metadata": {},
     "output_type": "display_data"
    }
   ],
   "source": [
    "JuliaMBD._expr(b.outports[1].outs[1])"
   ]
  },
  {
   "cell_type": "code",
   "execution_count": 5,
   "metadata": {},
   "outputs": [
    {
     "data": {
      "text/plain": [
       "Dict{Symbol, Vector{Main.JuliaMBD.AbstractPortBlock}} with 1 entry:\n",
       "  :a => []"
      ]
     },
     "metadata": {},
     "output_type": "display_data"
    }
   ],
   "source": [
    "JuliaMBD.gotoports"
   ]
  },
  {
   "cell_type": "code",
   "execution_count": 3,
   "metadata": {},
   "outputs": [
    {
     "data": {
      "text/plain": [
       "RLC (generic function with 1 method)"
      ]
     },
     "metadata": {},
     "output_type": "display_data"
    }
   ],
   "source": [
    "## RLC\n",
    "\n",
    "@model RLC begin\n",
    "    @parameter begin\n",
    "        R\n",
    "        L\n",
    "        C\n",
    "    end\n",
    "    @xmlmodel(\"RLC.drawio\")\n",
    "end"
   ]
  },
  {
   "cell_type": "code",
   "execution_count": 4,
   "metadata": {},
   "outputs": [
    {
     "data": {
      "text/plain": [
       "Test (generic function with 1 method)"
      ]
     },
     "metadata": {},
     "output_type": "display_data"
    }
   ],
   "source": [
    "## RLC test\n",
    "\n",
    "@model Test begin\n",
    "    @parameter begin\n",
    "        R\n",
    "        L\n",
    "        C\n",
    "        voltage\n",
    "    end\n",
    "\n",
    "    @block begin\n",
    "        system = RLC(R=R, L=L, C=C)\n",
    "        source = Step(steptime=0.1, finalvalue=voltage)\n",
    "    end\n",
    "\n",
    "    @connect begin\n",
    "        source.out => system.in\n",
    "    end\n",
    "\n",
    "    @scope begin\n",
    "        source.out => v\n",
    "        system.out => i\n",
    "    end\n",
    "end"
   ]
  },
  {
   "cell_type": "code",
   "execution_count": 5,
   "metadata": {},
   "outputs": [
    {
     "name": "stderr",
     "output_type": "stream",
     "text": [
      "┌ Warning: No goto tag jumpprefix_y\n",
      "└ @ Main.JuliaMBD /workspaces/JuliaMBD.jl/src/_compile.jl:33\n",
      "┌ Warning: No goto tag jumpprefix_y\n",
      "└ @ Main.JuliaMBD /workspaces/JuliaMBD.jl/src/_compile.jl:33\n"
     ]
    },
    {
     "name": "stderr",
     "output_type": "stream",
     "text": [
      "┌ Warning: No goto tag jumpprefix_y\n",
      "└ @ Main.JuliaMBD /workspaces/JuliaMBD.jl/src/_compile.jl:33\n"
     ]
    },
    {
     "ename": "UndefVarError",
     "evalue": "UndefVarError: jumpprefix_y not defined",
     "output_type": "error",
     "traceback": [
      "UndefVarError: jumpprefix_y not defined\n",
      "\n",
      "Stacktrace:\n",
      " [1] #Test_ifunc#13\n",
      "   @ ./none:0 [inlined]\n",
      " [2] (::var\"#18#19\")(p::Tuple{Int64, Float64, Float64, Int64})\n",
      "   @ Main ./none:0\n",
      " [3] odesolve(blk::Main.JuliaMBD.ODEModel, params::Tuple{Int64, Float64, Float64, Int64}, tspan::Tuple{Int64, Int64}; alg::Tsit5{typeof(OrdinaryDiffEq.trivial_limiter!), typeof(OrdinaryDiffEq.trivial_limiter!), Static.False}, kwargs::Base.Pairs{Symbol, Union{}, Tuple{}, NamedTuple{(), Tuple{}}})\n",
      "   @ Main.JuliaMBD /workspaces/JuliaMBD.jl/src/_ode.jl:39\n",
      " [4] simulate(blk::Main.JuliaMBD.ODEModel; tspan::Tuple{Int64, Int64}, parameters::Tuple{}, n::Int64, alg::Tsit5{typeof(OrdinaryDiffEq.trivial_limiter!), typeof(OrdinaryDiffEq.trivial_limiter!), Static.False}, kwargs::Base.Pairs{Symbol, Union{}, Tuple{}, NamedTuple{(), Tuple{}}})\n",
      "   @ Main.JuliaMBD /workspaces/JuliaMBD.jl/src/_ode.jl:54\n",
      " [5] top-level scope\n",
      "   @ /workspaces/JuliaMBD.jl/examples/old/testgoto.ipynb:2"
     ]
    }
   ],
   "source": [
    "m = @compile Test(R=10, L=100e-3, C=10e-6, voltage=5)\n",
    "result = JuliaMBD.simulate(m, tspan=(0,1))\n",
    "plot(result)\n"
   ]
  },
  {
   "cell_type": "code",
   "execution_count": 3,
   "metadata": {},
   "outputs": [
    {
     "data": {
      "text/plain": [
       "m2 (generic function with 1 method)"
      ]
     },
     "metadata": {},
     "output_type": "display_data"
    }
   ],
   "source": [
    "@model m2 begin\n",
    "    @block begin\n",
    "        con = Ramp(slope=1)\n",
    "        tri = TrigonometricFunction()\n",
    "    end\n",
    "    @connect begin\n",
    "        con.out => tri.in\n",
    "    end\n",
    "end"
   ]
  },
  {
   "cell_type": "code",
   "execution_count": 4,
   "metadata": {},
   "outputs": [
    {
     "data": {
      "text/plain": [
       "\"Block(m2)\""
      ]
     },
     "metadata": {},
     "output_type": "display_data"
    }
   ],
   "source": [
    "b = m2()"
   ]
  },
  {
   "cell_type": "code",
   "execution_count": 5,
   "metadata": {},
   "outputs": [
    {
     "data": {
      "text/plain": [
       ":(function m2_sfunc(; time = 0)\n",
       "      var\"##318\" = 0.0\n",
       "      var\"##317\" = 1\n",
       "      begin\n",
       "          var\"##320\" = time\n",
       "      end\n",
       "      var\"##316\" = var\"##320\"\n",
       "      var\"##319\" = 0.0\n",
       "      begin\n",
       "          \u001b[90m#= /workspaces/JuliaMBD.jl/src/predefined/Sources/Ramp.jl:24 =#\u001b[39m\n",
       "          var\"##315\" = if var\"##316\" < var\"##318\"\n",
       "                  \u001b[90m#= /workspaces/JuliaMBD.jl/src/predefined/Sources/Ramp.jl:25 =#\u001b[39m\n",
       "                  var\"##319\"\n",
       "              else\n",
       "                  \u001b[90m#= /workspaces/JuliaMBD.jl/src/predefined/Sources/Ramp.jl:27 =#\u001b[39m\n",
       "                  var\"##317\" * (var\"##316\" - var\"##318\") + var\"##319\"\n",
       "              end\n",
       "      end\n",
       "      begin\n",
       "          var\"##323\" = var\"##315\"\n",
       "      end\n",
       "      var\"##321\" = var\"##323\"\n",
       "      var\"##322\" = sin(var\"##321\")\n",
       "      begin\n",
       "      end\n",
       "      ()\n",
       "  end)"
      ]
     },
     "metadata": {},
     "output_type": "display_data"
    }
   ],
   "source": [
    "JuliaMBD.expr_sfunc(b)"
   ]
  },
  {
   "cell_type": "code",
   "execution_count": null,
   "metadata": {},
   "outputs": [],
   "source": []
  }
 ],
 "metadata": {
  "kernelspec": {
   "display_name": "Julia 1.8.3",
   "language": "julia",
   "name": "julia-1.8"
  },
  "language_info": {
   "file_extension": ".jl",
   "mimetype": "application/julia",
   "name": "julia",
   "version": "1.8.3"
  }
 },
 "nbformat": 4,
 "nbformat_minor": 2
}
