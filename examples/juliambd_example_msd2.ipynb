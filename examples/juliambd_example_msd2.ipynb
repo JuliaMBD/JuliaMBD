{
 "cells": [
  {
   "cell_type": "code",
   "execution_count": null,
   "id": "eafbc6ee-2ac0-4f4f-97c4-cdd648605582",
   "metadata": {},
   "outputs": [],
   "source": [
    "# using Pkg\n",
    "# Pkg.add(url = \"https://github.com/JuliaReliab/JuliaMBD.git\", rev=\"develop\")\n",
    "using Pkg\n",
    "Pkg.update()"
   ]
  },
  {
   "cell_type": "code",
   "execution_count": null,
   "id": "f4e6e62d-cb0b-40c1-8283-3e47859a7fc6",
   "metadata": {},
   "outputs": [],
   "source": [
    "# using Pkg\n",
    "# Pkg.add(\"DifferentialEquations\")\n",
    "# using Pkg\n",
    "# Pkg.add(\"Plots\")\n",
    "using DifferentialEquations\n",
    "using Plots"
   ]
  },
  {
   "cell_type": "code",
   "execution_count": null,
   "id": "2d81d0bf-6961-4d34-be5b-952b63b2369f",
   "metadata": {},
   "outputs": [],
   "source": [
    "using JuliaMBD\n",
    "import JuliaMBD: expr, expr_initial, get_inports, get_outports"
   ]
  },
  {
   "cell_type": "code",
   "execution_count": null,
   "id": "d9dc5930-acbf-4cda-bf5e-ee198c1500d6",
   "metadata": {},
   "outputs": [],
   "source": [
    "module MyModule\n",
    "\n",
    "using JuliaMBD\n",
    "import JuliaMBD: expr, expr_initial, get_inports, get_outports\n",
    "\n",
    "@model MSD begin\n",
    "    @parameter begin\n",
    "        M::Float64\n",
    "        D::Float64\n",
    "        k::Float64\n",
    "        g = 9.8\n",
    "    end\n",
    "    @block begin\n",
    "        in1 = InBlock(:in1)\n",
    "        out1 = OutBlock(:out1)\n",
    "        constant1 = Constant(:(M*g))\n",
    "        gain1 = Gain(:D)\n",
    "        gain2 = Gain(:k)\n",
    "        gain3 = Gain(:(1/M))\n",
    "        int1 = Integrator(:s1)\n",
    "        int2 = Integrator(:s2, initialcondition=:(M*g/k))\n",
    "        add = Add(inports=[InPort(), InPort(), InPort(), InPort()], signs=[:+, :+, :-, :-])\n",
    "    end\n",
    "\n",
    "    in1 => add.inports[1]\n",
    "    constant1 => add.inports[2]\n",
    "    gain1 => add.inports[3]\n",
    "    gain2 => add.inports[4]\n",
    "    add => gain3 => int1 => [int2, gain1]\n",
    "    int2 => [gain2, out1]\n",
    "end\n",
    "\n",
    "@model TestBlock begin\n",
    "    @parameter begin\n",
    "        M::Float64 = 10.0\n",
    "        D::Float64 = 10.0\n",
    "        k::Float64 = 10.0\n",
    "        f::Float64 = 10.0\n",
    "        p_cycle::Float64 = 20.0\n",
    "        p_width::Float64 = 50.0\n",
    "    end\n",
    "    @block begin\n",
    "        msd = MSD(out1=OutPort(:x))\n",
    "        pulse = PulseGenerator(amplitude=:f, period=:p_cycle, pulsewidth=:p_width, phasedelay=10.0, outport=OutPort(:F))\n",
    "    end\n",
    "\n",
    "    @scope begin\n",
    "        pulse\n",
    "        msd.out1\n",
    "    end\n",
    "\n",
    "    pulse => msd.in1\n",
    "end\n",
    "\n",
    "end"
   ]
  },
  {
   "cell_type": "code",
   "execution_count": null,
   "id": "e360ffe5-8a64-49a4-98c3-8e40b175e4e5",
   "metadata": {},
   "outputs": [],
   "source": [
    "?MyModule.TestBlockFunction # check interface of systemfunction"
   ]
  },
  {
   "cell_type": "code",
   "execution_count": null,
   "id": "cf092c95-211a-4ef8-baca-f9bf08b5b9fe",
   "metadata": {},
   "outputs": [],
   "source": [
    "MyModule.TestBlockFunction(time=1, s1in=0, s2in=0) # check interface of systemfunction"
   ]
  },
  {
   "cell_type": "code",
   "execution_count": null,
   "id": "4faebd5d-b34c-42a9-a168-f7b505b674b5",
   "metadata": {},
   "outputs": [],
   "source": [
    "MyModule.TestBlockInitialFunction(time=1, s1in=0, s2in=0) # check interface of systemfunction"
   ]
  },
  {
   "cell_type": "code",
   "execution_count": null,
   "id": "f90e6eb8-ac02-483a-abe2-d41150c94eef",
   "metadata": {},
   "outputs": [],
   "source": [
    "function ifunc()\n",
    "    result = MyModule.TestBlockInitialFunction(time=0.0, s1in=0.0, s2in=0.0)\n",
    "    [result.s1out, result.s2out]\n",
    "end\n",
    "\n",
    "function sfunc(du, u, p, t)\n",
    "    result = MyModule.TestBlockFunction(time=t, s1in=u[1], s2in=u[2])\n",
    "    (du[1], du[2]) = (result.s1out, result.s2out)\n",
    "end"
   ]
  },
  {
   "cell_type": "code",
   "execution_count": null,
   "id": "b1e97eb5-b43b-4be0-a5c6-529ae97a48ef",
   "metadata": {},
   "outputs": [],
   "source": [
    "@time begin\n",
    "    iv = ifunc()\n",
    "    problem = ODEProblem(sfunc, iv, (0.0, 60.0))\n",
    "    solution = solve(problem)\n",
    "\n",
    "    tt = LinRange(0, 60.0, 1000)\n",
    "    result = [MyModule.TestBlockFunction(time=t, s1in=solution(t)[1], s2in=solution(t)[2]) for t = tt]\n",
    "    F = [x.scope_F for x = result]\n",
    "    x = [x.scope_x for x = result]\n",
    "    plot(tt, [F, x], layout=(2,1), leg=false)\n",
    "end"
   ]
  },
  {
   "cell_type": "code",
   "execution_count": null,
   "id": "435fa21d-3e0c-4f36-a3a0-3b84c07b890d",
   "metadata": {},
   "outputs": [],
   "source": []
  }
 ],
 "metadata": {
  "kernelspec": {
   "display_name": "Julia 1.7.3",
   "language": "julia",
   "name": "julia-1.7"
  },
  "language_info": {
   "file_extension": ".jl",
   "mimetype": "application/julia",
   "name": "julia",
   "version": "1.7.3"
  }
 },
 "nbformat": 4,
 "nbformat_minor": 5
}
