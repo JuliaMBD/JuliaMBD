{
 "cells": [
  {
   "cell_type": "code",
   "execution_count": null,
   "id": "eafbc6ee-2ac0-4f4f-97c4-cdd648605582",
   "metadata": {},
   "outputs": [],
   "source": [
    "# using Pkg\n",
    "# Pkg.add(url = \"https://github.com/JuliaReliab/JuliaMBD.git\", rev=\"develop\")\n",
    "using Pkg\n",
    "Pkg.update()"
   ]
  },
  {
   "cell_type": "code",
   "execution_count": null,
   "id": "f4e6e62d-cb0b-40c1-8283-3e47859a7fc6",
   "metadata": {},
   "outputs": [],
   "source": [
    "# using Pkg\n",
    "# Pkg.add(\"DifferentialEquations\")\n",
    "# using Pkg\n",
    "# Pkg.add(\"Plots\")\n",
    "using DifferentialEquations\n",
    "using Plots"
   ]
  },
  {
   "cell_type": "code",
   "execution_count": null,
   "id": "2d81d0bf-6961-4d34-be5b-952b63b2369f",
   "metadata": {},
   "outputs": [],
   "source": [
    "using JuliaMBD\n",
    "import JuliaMBD: expr, expr_initial, get_inports, get_outports"
   ]
  },
  {
   "cell_type": "code",
   "execution_count": null,
   "id": "d9dc5930-acbf-4cda-bf5e-ee198c1500d6",
   "metadata": {},
   "outputs": [],
   "source": [
    "module MyModule\n",
    "\n",
    "using JuliaMBD\n",
    "import JuliaMBD: expr, expr_initial, get_inports, get_outports\n",
    "\n",
    "@model MSD begin\n",
    "    @parameter begin\n",
    "        M::Float64\n",
    "        D::Float64\n",
    "        k::Float64\n",
    "        g = 9.8\n",
    "    end\n",
    "    @block begin\n",
    "        in1 = InBlock(:in1)\n",
    "        out1 = OutBlock(:out1)\n",
    "        constant1 = Constant(:(M*g))\n",
    "        gain1 = Gain(:D)\n",
    "        gain2 = Gain(:k)\n",
    "        gain3 = Gain(:(1/M))\n",
    "        int1 = Integrator(:s1)\n",
    "        int2 = Integrator(:s2, initialcondition=:(M*g/k))\n",
    "        add = Add(inports=[InPort(), InPort(), InPort(), InPort()], signs=[:+, :+, :-, :-])\n",
    "    end\n",
    "    \n",
    "    in1 => add.inports[1]\n",
    "    constant1 => add.inports[2]\n",
    "    gain1 => add.inports[3]\n",
    "    gain2 => add.inports[4]\n",
    "    add => gain3 => int1 => [int2, gain1]\n",
    "    int2 => [gain2, out1]\n",
    "end\n",
    "\n",
    " @model TestBlock begin\n",
    "    @parameter begin\n",
    "        M::Float64\n",
    "        D::Float64\n",
    "        k::Float64\n",
    "        f::Float64\n",
    "        p_cycle::Float64\n",
    "        p_width::Float64\n",
    "    end\n",
    "    @block begin\n",
    "        msd = MSD(out1=OutPort(:x))\n",
    "        pulse = PulseGenerator(amplitude=:f, period=:p_cycle, pulsewidth=:p_width, phasedelay=10.0, outport=OutPort(:F))\n",
    "    end\n",
    "\n",
    "    @scope begin\n",
    "        pulse\n",
    "        msd.out1\n",
    "    end\n",
    "\n",
    "    pulse => msd.in1\n",
    "end\n",
    "\n",
    "end"
   ]
  },
  {
   "cell_type": "code",
   "execution_count": null,
   "id": "b54fc823-0aa2-4d31-8ce6-3c98129094cf",
   "metadata": {},
   "outputs": [],
   "source": [
    "m = Main.MyModule.TestBlock(M=10.0, D=10.0, k=18.0, f=1.0, p_cycle=20.0, p_width=50.0)"
   ]
  },
  {
   "cell_type": "code",
   "execution_count": null,
   "id": "9583a088-2a88-4b7e-bbe6-4729f53eadf1",
   "metadata": {},
   "outputs": [],
   "source": [
    "@time results = simulate(m, (0, 100.0), n=100);"
   ]
  },
  {
   "cell_type": "code",
   "execution_count": null,
   "id": "824e9981-4ff4-4d9c-b33c-5dfbd5545508",
   "metadata": {},
   "outputs": [],
   "source": [
    "results.graph"
   ]
  },
  {
   "cell_type": "code",
   "execution_count": null,
   "id": "01ba25e5-e14b-4280-97bf-03f75918e1b3",
   "metadata": {},
   "outputs": [],
   "source": []
  }
 ],
 "metadata": {
  "kernelspec": {
   "display_name": "Julia 1.7.3",
   "language": "julia",
   "name": "julia-1.7"
  },
  "language_info": {
   "file_extension": ".jl",
   "mimetype": "application/julia",
   "name": "julia",
   "version": "1.7.3"
  }
 },
 "nbformat": 4,
 "nbformat_minor": 5
}
