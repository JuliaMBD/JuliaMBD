{
 "cells": [
  {
   "cell_type": "code",
   "execution_count": 101,
   "metadata": {},
   "outputs": [
    {
     "name": "stderr",
     "output_type": "stream",
     "text": [
      "WARNING: replacing module JuliaMBD.\n"
     ]
    },
    {
     "data": {
      "text/plain": [
       "Main.JuliaMBD"
      ]
     },
     "metadata": {},
     "output_type": "display_data"
    }
   ],
   "source": [
    "include(\"../src/JuliaMBD.jl\")"
   ]
  },
  {
   "cell_type": "code",
   "execution_count": 102,
   "metadata": {},
   "outputs": [],
   "source": [
    "import .JuliaMBD"
   ]
  },
  {
   "cell_type": "code",
   "execution_count": 103,
   "metadata": {},
   "outputs": [
    {
     "data": {
      "text/plain": [
       "\"Line(##377)\""
      ]
     },
     "metadata": {},
     "output_type": "display_data"
    }
   ],
   "source": [
    "b = JuliaMBD.SimpleBlock(:test, JuliaMBD.GainBlockType)\n",
    "pout = JuliaMBD.OutPort(:a, Float64)\n",
    "pin = JuliaMBD.InPort(:b, Float64)\n",
    "JuliaMBD.set!(b, pout.name, pout)\n",
    "JuliaMBD.set!(b, pin.name, pin)\n",
    "pext = JuliaMBD.OutPort(:ex)\n",
    "JuliaMBD.LineSignal(pext, pin, \"s(t)\")"
   ]
  },
  {
   "cell_type": "code",
   "execution_count": 104,
   "metadata": {},
   "outputs": [
    {
     "data": {
      "text/plain": [
       "5-element Vector{Main.JuliaMBD.AbstractComponent}:\n",
       " \"OutPort(ex)\"\n",
       " \"Line(##377)\"\n",
       " \"InPort(b)\"\n",
       " \"Block(test)\"\n",
       " \"OutPort(a)\""
      ]
     },
     "metadata": {},
     "output_type": "display_data"
    }
   ],
   "source": [
    "JuliaMBD.tsort(JuliaMBD.allcomponents(b))"
   ]
  },
  {
   "cell_type": "code",
   "execution_count": 105,
   "metadata": {},
   "outputs": [
    {
     "data": {
      "text/plain": [
       "\"Block(Gain)\""
      ]
     },
     "metadata": {},
     "output_type": "display_data"
    }
   ],
   "source": [
    "bb = JuliaMBD.Gain()"
   ]
  },
  {
   "cell_type": "code",
   "execution_count": 106,
   "metadata": {},
   "outputs": [
    {
     "data": {
      "text/plain": [
       "\"Line(##383)\""
      ]
     },
     "metadata": {},
     "output_type": "display_data"
    }
   ],
   "source": [
    "b1 = JuliaMBD.Inport(:t, Float64)\n",
    "b2 = JuliaMBD.Gain(in=JuliaMBD.InPort(:gainin), out=JuliaMBD.OutPort(:gainout))\n",
    "b3 = JuliaMBD.Outport(:y, Float64)\n",
    "JuliaMBD.ConstSignal(:K, b2.env[:K])\n",
    "JuliaMBD.LineSignal(b1.outports[1], b2.env[:in], \"s(t)\")\n",
    "JuliaMBD.LineSignal(b2.env[:out], b3.inports[1], \"s(t)\")"
   ]
  },
  {
   "cell_type": "code",
   "execution_count": 107,
   "metadata": {},
   "outputs": [
    {
     "data": {
      "text/plain": [
       "13-element Vector{Main.JuliaMBD.AbstractComponent}:\n",
       " Main.JuliaMBD.ConstSignal{Any}(:K, Any, \"Parameter(##381)\")\n",
       " \"Parameter(##381)\"\n",
       " \"InPort(t)\"\n",
       " \"Block(t)\"\n",
       " \"OutPort(out)\"\n",
       " \"Line(##382)\"\n",
       " \"InPort(gainin)\"\n",
       " \"Block(Gain)\"\n",
       " \"OutPort(gainout)\"\n",
       " \"Line(##383)\"\n",
       " \"InPort(in)\"\n",
       " \"Block(y)\"\n",
       " \"OutPort(y)\""
      ]
     },
     "metadata": {},
     "output_type": "display_data"
    }
   ],
   "source": [
    "JuliaMBD.tsort(JuliaMBD.allcomponents(b3))"
   ]
  },
  {
   "cell_type": "code",
   "execution_count": 108,
   "metadata": {},
   "outputs": [
    {
     "data": {
      "text/plain": [
       "13-element Vector{Any}:\n",
       " :K\n",
       " :(var\"##381\" = K)\n",
       " :(())\n",
       " :(out = (Float64)(t))\n",
       " quote\n",
       "    var\"##382\" = out\n",
       "end\n",
       " Symbol(\"##382\")\n",
       " :(gainin = var\"##382\")\n",
       " :(gainout = var\"##381\" * gainin)\n",
       " quote\n",
       "    var\"##383\" = gainout\n",
       "end\n",
       " Symbol(\"##383\")\n",
       " :(in = var\"##383\")\n",
       " :(y = (Float64)(in))\n",
       " quote\n",
       "end"
      ]
     },
     "metadata": {},
     "output_type": "display_data"
    }
   ],
   "source": [
    "expr = [JuliaMBD._expr(m) for m = JuliaMBD.tsort(JuliaMBD.allcomponents(b3))]\n",
    "    "
   ]
  },
  {
   "cell_type": "code",
   "execution_count": 45,
   "metadata": {},
   "outputs": [
    {
     "data": {
      "text/plain": [
       "Sys1 (generic function with 1 method)"
      ]
     },
     "metadata": {},
     "output_type": "display_data"
    }
   ],
   "source": [
    "function Sys1()\n",
    "    b = JuliaMBD.SubSystemBlock(:Sys1)\n",
    "    b1 = JuliaMBD.Inport(:t, Float64)\n",
    "    JuliaMBD.set!(b, b1.name, b1)\n",
    "    b2 = JuliaMBD.Gain()\n",
    "    JuliaMBD.set!(b, b2.name, b2)\n",
    "    b3 = JuliaMBD.Outport(:y, Float64)\n",
    "    JuliaMBD.set!(b, b3.name, b3)\n",
    "    JuliaMBD.LineSignal(b1.outports[1], b2.env[:in], \"s(t)\")\n",
    "    JuliaMBD.LineSignal(b2.env[:out], b3.inports[1], \"s(t)\")\n",
    "    b\n",
    "end\n"
   ]
  },
  {
   "cell_type": "code",
   "execution_count": 46,
   "metadata": {},
   "outputs": [
    {
     "data": {
      "text/plain": [
       "\"Block(Sys1)\""
      ]
     },
     "metadata": {},
     "output_type": "display_data"
    }
   ],
   "source": [
    "b = Sys1()"
   ]
  },
  {
   "cell_type": "code",
   "execution_count": 47,
   "metadata": {},
   "outputs": [
    {
     "data": {
      "text/plain": [
       "\"Line(##326)\""
      ]
     },
     "metadata": {},
     "output_type": "display_data"
    }
   ],
   "source": [
    "p = JuliaMBD.OutPort(:t)\n",
    "JuliaMBD.LineSignal(p, b.inports[1], \"s(t)\")"
   ]
  },
  {
   "cell_type": "code",
   "execution_count": 48,
   "metadata": {},
   "outputs": [
    {
     "data": {
      "text/plain": [
       "13-element Vector{Any}:\n",
       " quote\n",
       "    var\"##326\" = t\n",
       "end\n",
       " Symbol(\"##326\")\n",
       " :(t = (Float64)(var\"##326\"))\n",
       " :(out = (Float64)(t))\n",
       " quote\n",
       "    var\"##324\" = out\n",
       "end\n",
       " Symbol(\"##324\")\n",
       " :(in = var\"##324\")\n",
       " :(out = K * in)\n",
       " quote\n",
       "    var\"##325\" = out\n",
       "end\n",
       " Symbol(\"##325\")\n",
       " :(in = var\"##325\")\n",
       " :(y = (Float64)(in))\n",
       " quote\n",
       "end"
      ]
     },
     "metadata": {},
     "output_type": "display_data"
    }
   ],
   "source": [
    "expr = [JuliaMBD._expr(m) for m = JuliaMBD.tsort(JuliaMBD.allcomponents(p))]\n"
   ]
  },
  {
   "cell_type": "code",
   "execution_count": 49,
   "metadata": {},
   "outputs": [
    {
     "data": {
      "text/plain": [
       "\"Line(##328)\""
      ]
     },
     "metadata": {},
     "output_type": "display_data"
    }
   ],
   "source": [
    "b = JuliaMBD.Integrator()\n",
    "JuliaMBD.LineSignal(b.env[:out], b.env[:in], \"s(t)\")"
   ]
  },
  {
   "cell_type": "code",
   "execution_count": 50,
   "metadata": {},
   "outputs": [
    {
     "data": {
      "text/plain": [
       "11-element Vector{Main.JuliaMBD.AbstractComponent}:\n",
       " \"InPort(in)\"\n",
       " \"Block(out)\"\n",
       " \"OutPort(out)\"\n",
       " \"Line(##328)\"\n",
       " \"InPort(in)\"\n",
       " \"Block(in)\"\n",
       " \"OutPort(out)\"\n",
       " \"Line(##327)\"\n",
       " \"InPort(sin)\"\n",
       " \"Block(IntegratorInner)\"\n",
       " \"OutPort(sout)\""
      ]
     },
     "metadata": {},
     "output_type": "display_data"
    }
   ],
   "source": [
    "JuliaMBD.tsort(JuliaMBD.allcomponents(b.env[:in]))"
   ]
  },
  {
   "cell_type": "code",
   "execution_count": 51,
   "metadata": {},
   "outputs": [
    {
     "data": {
      "text/plain": [
       "11-element Vector{Any}:\n",
       " :(())\n",
       " :(out = in)\n",
       " quote\n",
       "    var\"##328\" = out\n",
       "end\n",
       " Symbol(\"##328\")\n",
       " :(in = var\"##328\")\n",
       " :(out = in)\n",
       " quote\n",
       "    var\"##327\" = out\n",
       "end\n",
       " Symbol(\"##327\")\n",
       " :(sin = var\"##327\")\n",
       " :(sout = sin)\n",
       " quote\n",
       "end"
      ]
     },
     "metadata": {},
     "output_type": "display_data"
    }
   ],
   "source": [
    "expr = [JuliaMBD._expr(m) for m = JuliaMBD.tsort(JuliaMBD.allcomponents(b.env[:in]))]\n"
   ]
  },
  {
   "cell_type": "code",
   "execution_count": 31,
   "metadata": {},
   "outputs": [
    {
     "data": {
      "text/plain": [
       "\"Block(Add)\""
      ]
     },
     "metadata": {},
     "output_type": "display_data"
    }
   ],
   "source": [
    "b = JuliaMBD.Add(signs=[:+, :-])"
   ]
  },
  {
   "cell_type": "code",
   "execution_count": 32,
   "metadata": {},
   "outputs": [
    {
     "data": {
      "text/plain": [
       "2-element Vector{Main.JuliaMBD.AbstractInPortBlock}:\n",
       " \"InPort(in1)\"\n",
       " \"InPort(in2)\""
      ]
     },
     "metadata": {},
     "output_type": "display_data"
    }
   ],
   "source": [
    "b.inports"
   ]
  },
  {
   "cell_type": "code",
   "execution_count": null,
   "metadata": {},
   "outputs": [],
   "source": []
  }
 ],
 "metadata": {
  "kernelspec": {
   "display_name": "Julia 1.8.3",
   "language": "julia",
   "name": "julia-1.8"
  },
  "language_info": {
   "file_extension": ".jl",
   "mimetype": "application/julia",
   "name": "julia",
   "version": "1.8.3"
  }
 },
 "nbformat": 4,
 "nbformat_minor": 2
}
