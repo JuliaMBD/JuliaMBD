{
 "cells": [
  {
   "cell_type": "code",
   "execution_count": 554,
   "metadata": {},
   "outputs": [
    {
     "name": "stderr",
     "output_type": "stream",
     "text": [
      "WARNING: replacing module JuliaMBD.\n"
     ]
    },
    {
     "data": {
      "text/plain": [
       "Main.JuliaMBD"
      ]
     },
     "metadata": {},
     "output_type": "display_data"
    }
   ],
   "source": [
    "include(\"../src/JuliaMBD.jl\")"
   ]
  },
  {
   "cell_type": "code",
   "execution_count": 320,
   "metadata": {},
   "outputs": [],
   "source": [
    "import .JuliaMBD"
   ]
  },
  {
   "cell_type": "code",
   "execution_count": 263,
   "metadata": {},
   "outputs": [
    {
     "data": {
      "text/plain": [
       "\"Line(##627)\""
      ]
     },
     "metadata": {},
     "output_type": "display_data"
    }
   ],
   "source": [
    "b = JuliaMBD.SimpleBlock(:test)\n",
    "pout = JuliaMBD.OutPort(:a, Float64)\n",
    "pin = JuliaMBD.InPort(:b, Float64)\n",
    "JuliaMBD.set!(b, pout.name, pout)\n",
    "JuliaMBD.set!(b, pin.name, pin)\n",
    "pext = JuliaMBD.OutPort(:ex)\n",
    "JuliaMBD.LineSignal(pext, pin, \"s(t)\")"
   ]
  },
  {
   "cell_type": "code",
   "execution_count": 264,
   "metadata": {},
   "outputs": [
    {
     "data": {
      "text/plain": [
       "4-element Vector{Main.JuliaMBD.AbstractComponent}:\n",
       " \"OutPort(ex)\"\n",
       " \"InPort(b)\"\n",
       " \"Block(test)\"\n",
       " \"OutPort(a)\""
      ]
     },
     "metadata": {},
     "output_type": "display_data"
    }
   ],
   "source": [
    "JuliaMBD.tsort(JuliaMBD.allcomponents(b))"
   ]
  },
  {
   "cell_type": "code",
   "execution_count": 265,
   "metadata": {},
   "outputs": [
    {
     "data": {
      "text/plain": [
       "\"Block(Gain)\""
      ]
     },
     "metadata": {},
     "output_type": "display_data"
    }
   ],
   "source": [
    "bb = JuliaMBD.Gain()"
   ]
  },
  {
   "cell_type": "code",
   "execution_count": 266,
   "metadata": {},
   "outputs": [
    {
     "data": {
      "text/plain": [
       "\"Line(##635)\""
      ]
     },
     "metadata": {},
     "output_type": "display_data"
    }
   ],
   "source": [
    "b1 = JuliaMBD.Inport(:t, Float64)\n",
    "b2 = JuliaMBD.Gain(in=JuliaMBD.InPort(:gainin), out=JuliaMBD.OutPort(:gainout))\n",
    "b3 = JuliaMBD.Outport(:y, Float64)\n",
    "JuliaMBD.ConstSignal(:K, b2.env[:K])\n",
    "JuliaMBD.LineSignal(b1.outports[1], b2.env[:in], \"s(t)\")\n",
    "JuliaMBD.LineSignal(b2.env[:out], b3.inports[1], \"s(t)\")"
   ]
  },
  {
   "cell_type": "code",
   "execution_count": 267,
   "metadata": {},
   "outputs": [
    {
     "data": {
      "text/plain": [
       "10-element Vector{Main.JuliaMBD.AbstractComponent}:\n",
       " \"Parameter(##632)\"\n",
       " \"InPort(t)\"\n",
       " \"Block(Inport)\"\n",
       " \"OutPort(##631)\"\n",
       " \"InPort(gainin)\"\n",
       " \"Block(Gain)\"\n",
       " \"OutPort(gainout)\"\n",
       " \"InPort(##633)\"\n",
       " \"Block(Outport)\"\n",
       " \"OutPort(y)\""
      ]
     },
     "metadata": {},
     "output_type": "display_data"
    }
   ],
   "source": [
    "JuliaMBD.tsort(JuliaMBD.allcomponents(b3))"
   ]
  },
  {
   "cell_type": "code",
   "execution_count": 268,
   "metadata": {},
   "outputs": [
    {
     "data": {
      "text/plain": [
       "10-element Vector{Expr}:\n",
       " :(var\"##632\" = K)\n",
       " :(())\n",
       " :(var\"##631\" = (Float64)(t))\n",
       " quote\n",
       "    var\"##634\" = var\"##631\"\n",
       "end\n",
       " :(gainin = var\"##634\")\n",
       " :(gainout = var\"##632\" * gainin)\n",
       " quote\n",
       "    var\"##635\" = gainout\n",
       "end\n",
       " :(var\"##633\" = var\"##635\")\n",
       " :(y = (Float64)(var\"##633\"))\n",
       " quote\n",
       "end"
      ]
     },
     "metadata": {},
     "output_type": "display_data"
    }
   ],
   "source": [
    "expr = [JuliaMBD._expr(m) for m = JuliaMBD.tsort(JuliaMBD.allcomponents(b3))]\n",
    "    "
   ]
  },
  {
   "cell_type": "code",
   "execution_count": 293,
   "metadata": {},
   "outputs": [
    {
     "data": {
      "text/plain": [
       "Sys1 (generic function with 1 method)"
      ]
     },
     "metadata": {},
     "output_type": "display_data"
    }
   ],
   "source": [
    "function Sys1()\n",
    "    b = JuliaMBD.SubSystemBlock(:Sys1)\n",
    "    b1 = JuliaMBD.Inport(:t, Float64)\n",
    "    b2 = JuliaMBD.Gain(K = JuliaMBD.ParameterPort(:K, Float64))\n",
    "    b3 = JuliaMBD.Outport(:y, Float64)\n",
    "    JuliaMBD.add!(b, b1)\n",
    "    JuliaMBD.add!(b, b2)\n",
    "    JuliaMBD.add!(b, b3)\n",
    "    JuliaMBD.set!(b, :K, b2.env[:K])\n",
    "    JuliaMBD.LineSignal(b1.env[:out], b2.env[:in], \"s(t)\")\n",
    "    JuliaMBD.LineSignal(b2.env[:out], b3.env[:in], \"s(t)\")\n",
    "    b\n",
    "end\n"
   ]
  },
  {
   "cell_type": "code",
   "execution_count": 294,
   "metadata": {},
   "outputs": [
    {
     "data": {
      "text/plain": [
       "\"Block(Sys1)\""
      ]
     },
     "metadata": {},
     "output_type": "display_data"
    }
   ],
   "source": [
    "b = Sys1()"
   ]
  },
  {
   "cell_type": "code",
   "execution_count": 295,
   "metadata": {},
   "outputs": [
    {
     "data": {
      "text/plain": [
       ":(function Sys1_systemfunction(t::Float64; K::Float64)\n",
       "      ()\n",
       "      ()\n",
       "      var\"##692\" = (Float64)(t)\n",
       "      begin\n",
       "          var\"##696\" = var\"##692\"\n",
       "      end\n",
       "      var\"##693\" = var\"##696\"\n",
       "      var\"##694\" = K * var\"##693\"\n",
       "      begin\n",
       "          var\"##697\" = var\"##694\"\n",
       "      end\n",
       "      var\"##695\" = var\"##697\"\n",
       "      y = (Float64)(var\"##695\")\n",
       "      begin\n",
       "      end\n",
       "      (y = (Float64)(y),)\n",
       "  end)"
      ]
     },
     "metadata": {},
     "output_type": "display_data"
    }
   ],
   "source": [
    "expr = JuliaMBD.expr_function(b)"
   ]
  },
  {
   "cell_type": "code",
   "execution_count": 283,
   "metadata": {},
   "outputs": [
    {
     "data": {
      "text/plain": [
       "Sys2 (generic function with 1 method)"
      ]
     },
     "metadata": {},
     "output_type": "display_data"
    }
   ],
   "source": [
    "function Sys2()\n",
    "    b = JuliaMBD.SubSystemBlock(:Sys2)\n",
    "    b1 = JuliaMBD.Inport(:t, Float64)\n",
    "    b2 = Sys1()\n",
    "    b3 = JuliaMBD.Outport(:y, Float64)\n",
    "    JuliaMBD.add!(b, b1)\n",
    "    JuliaMBD.add!(b, b2)\n",
    "    JuliaMBD.add!(b, b3)\n",
    "    JuliaMBD.LineSignal(b1.env[:out], b2.env[:t], \"s(t)\")\n",
    "    JuliaMBD.LineSignal(b2.env[:y], b3.env[:in], \"s(t)\")\n",
    "    b\n",
    "end\n"
   ]
  },
  {
   "cell_type": "code",
   "execution_count": 284,
   "metadata": {},
   "outputs": [
    {
     "data": {
      "text/plain": [
       "\"Block(Sys2)\""
      ]
     },
     "metadata": {},
     "output_type": "display_data"
    }
   ],
   "source": [
    "bb = Sys2()"
   ]
  },
  {
   "cell_type": "code",
   "execution_count": 285,
   "metadata": {},
   "outputs": [
    {
     "data": {
      "text/plain": [
       ":(function Sys2_systemfunction(t::Float64; )\n",
       "      ()\n",
       "      var\"##667\" = (Float64)(t)\n",
       "      begin\n",
       "          var\"##676\" = var\"##667\"\n",
       "      end\n",
       "      t = (Float64)(var\"##676\")\n",
       "      var\"##668\" = (Float64)(t)\n",
       "      begin\n",
       "          var\"##673\" = var\"##668\"\n",
       "      end\n",
       "      var\"##669\" = K\n",
       "      var\"##670\" = var\"##673\"\n",
       "      var\"##671\" = var\"##669\" * var\"##670\"\n",
       "      begin\n",
       "          var\"##674\" = var\"##671\"\n",
       "      end\n",
       "      var\"##672\" = var\"##674\"\n",
       "      y = (Float64)(var\"##672\")\n",
       "      begin\n",
       "          var\"##677\" = (Float64)(y)\n",
       "      end\n",
       "      var\"##675\" = var\"##677\"\n",
       "      y = (Float64)(var\"##675\")\n",
       "      begin\n",
       "      end\n",
       "      (y = (Float64)(y),)\n",
       "  end)"
      ]
     },
     "metadata": {},
     "output_type": "display_data"
    }
   ],
   "source": [
    "JuliaMBD.expr_function(bb)"
   ]
  },
  {
   "cell_type": "code",
   "execution_count": 236,
   "metadata": {},
   "outputs": [
    {
     "ename": "MethodError",
     "evalue": "MethodError: no method matching allcomponents(::Main.JuliaMBD.OutPort{Any})\nClosest candidates are:\n  allcomponents(!Matched::Main.JuliaMBD.AbstractCompositeBlock) at /workspaces/JuliaMBD/src/_tsort.jl:26\n  allcomponents(!Matched::Main.JuliaMBD.AbstractComponent) at /workspaces/JuliaMBD/src/_tsort.jl:37",
     "output_type": "error",
     "traceback": [
      "MethodError: no method matching allcomponents(::Main.JuliaMBD.OutPort{Any})\n",
      "Closest candidates are:\n",
      "  allcomponents(!Matched::Main.JuliaMBD.AbstractCompositeBlock) at /workspaces/JuliaMBD/src/_tsort.jl:26\n",
      "  allcomponents(!Matched::Main.JuliaMBD.AbstractComponent) at /workspaces/JuliaMBD/src/_tsort.jl:37\n",
      "\n",
      "Stacktrace:\n",
      " [1] top-level scope\n",
      "   @ /workspaces/JuliaMBD/examples/testfile.ipynb:1"
     ]
    }
   ],
   "source": [
    "expr = [JuliaMBD._expr(m) for m = JuliaMBD.tsort(JuliaMBD.allcomponents(p))]\n"
   ]
  },
  {
   "cell_type": "code",
   "execution_count": 249,
   "metadata": {},
   "outputs": [
    {
     "data": {
      "text/plain": [
       "\"Line(##610)\""
      ]
     },
     "metadata": {},
     "output_type": "display_data"
    }
   ],
   "source": [
    "b = JuliaMBD.Integrator(in=JuliaMBD.InPort(:in), sin=JuliaMBD.OutPort(:sin), sout=JuliaMBD.OutPort(:sout))\n",
    "JuliaMBD.LineSignal(b.env[:out], b.env[:in], \"s(t)\")"
   ]
  },
  {
   "cell_type": "code",
   "execution_count": 250,
   "metadata": {},
   "outputs": [
    {
     "data": {
      "text/plain": [
       "6-element Vector{Main.JuliaMBD.AbstractComponent}:\n",
       " \"OutPort(sin)\"\n",
       " \"Parameter(initialcondition)\"\n",
       " \"InPort(in)\"\n",
       " \"Parameter(saturationlimits)\"\n",
       " \"Block(Integrator)\"\n",
       " \"OutPort(sout)\""
      ]
     },
     "metadata": {},
     "output_type": "display_data"
    }
   ],
   "source": [
    "JuliaMBD.tsort(JuliaMBD.allcomponents(b.env[:in]))"
   ]
  },
  {
   "cell_type": "code",
   "execution_count": 239,
   "metadata": {},
   "outputs": [
    {
     "data": {
      "text/plain": [
       "11-element Vector{Expr}:\n",
       " :(())\n",
       " :(out = var\"##594\")\n",
       " :(())\n",
       " quote\n",
       "    var\"##598\" = out\n",
       "end\n",
       " :(())\n",
       " :(in = var\"##598\")\n",
       " :(var\"##593\" = in)\n",
       " quote\n",
       "    var\"##597\" = var\"##593\"\n",
       "end\n",
       " :(var\"##595\" = var\"##597\")\n",
       " :(var\"##596\" = var\"##595\")\n",
       " quote\n",
       "end"
      ]
     },
     "metadata": {},
     "output_type": "display_data"
    }
   ],
   "source": [
    "expr = [JuliaMBD._expr(m) for m = JuliaMBD.tsort(JuliaMBD.allcomponents(b.env[:in]))]\n"
   ]
  },
  {
   "cell_type": "code",
   "execution_count": 240,
   "metadata": {},
   "outputs": [
    {
     "data": {
      "text/plain": [
       "\"Block(Add)\""
      ]
     },
     "metadata": {},
     "output_type": "display_data"
    }
   ],
   "source": [
    "b = JuliaMBD.Add(signs=[:+, :-])"
   ]
  },
  {
   "cell_type": "code",
   "execution_count": 241,
   "metadata": {},
   "outputs": [
    {
     "data": {
      "text/plain": [
       "2-element Vector{Main.JuliaMBD.AbstractInPortBlock}:\n",
       " \"InPort(##600)\"\n",
       " \"InPort(##601)\""
      ]
     },
     "metadata": {},
     "output_type": "display_data"
    }
   ],
   "source": [
    "b.inports"
   ]
  },
  {
   "cell_type": "code",
   "execution_count": 555,
   "metadata": {},
   "outputs": [
    {
     "data": {
      "text/plain": [
       "RLC (generic function with 1 method)"
      ]
     },
     "metadata": {},
     "output_type": "display_data"
    }
   ],
   "source": [
    "## RLC\n",
    "\n",
    "function RLC(;R = :R, L = :L, C = :C)\n",
    "    b = JuliaMBD.SubSystemBlock(:RLC)\n",
    "    JuliaMBD.addparameter!(b, :R, R)\n",
    "    JuliaMBD.addparameter!(b, :L, L)\n",
    "    JuliaMBD.addparameter!(b, :C, C)\n",
    "    int1 = JuliaMBD.Integrator(sin = JuliaMBD.OutPort(:int1sin), sout = JuliaMBD.OutPort(:int1sout))\n",
    "    int2 = JuliaMBD.Integrator(sin = JuliaMBD.OutPort(:int2sin), sout = JuliaMBD.OutPort(:int2sout))\n",
    "    in1 = JuliaMBD.Inport(:in1)\n",
    "    out1 = JuliaMBD.Outport(:out1)\n",
    "    gain1 = JuliaMBD.Gain()\n",
    "    gain2 = JuliaMBD.Gain()\n",
    "    gain3 = JuliaMBD.Gain()\n",
    "    sum1 = JuliaMBD.Add(signs=[:+, :-, :-])\n",
    "    JuliaMBD.add!(b, int1)\n",
    "    JuliaMBD.add!(b, int2)\n",
    "    JuliaMBD.add!(b, in1)\n",
    "    JuliaMBD.add!(b, out1)\n",
    "    JuliaMBD.add!(b, gain1)\n",
    "    JuliaMBD.add!(b, gain2)\n",
    "    JuliaMBD.add!(b, gain3)\n",
    "    JuliaMBD.add!(b, sum1)\n",
    "    JuliaMBD.ConstSignal(:R, gain1.env[:K])\n",
    "    JuliaMBD.ConstSignal(:(1/C), gain2.env[:K])\n",
    "    JuliaMBD.ConstSignal(:(1/L), gain3.env[:K])\n",
    "    JuliaMBD.ConstSignal(:R, int1.env[:initialcondition])\n",
    "    JuliaMBD.ConstSignal(:(C/L), int2.env[:initialcondition])\n",
    "    JuliaMBD.LineSignal(in1.env[:out], sum1.env[:in1], \"\")\n",
    "    JuliaMBD.LineSignal(gain1.env[:out], sum1.env[:in2], \"\")\n",
    "    JuliaMBD.LineSignal(int1.env[:out], sum1.env[:in3], \"\")\n",
    "    JuliaMBD.LineSignal(sum1.env[:out], gain3.env[:in], \"\")\n",
    "    JuliaMBD.LineSignal(gain3.env[:out], int2.env[:in], \"\")\n",
    "    JuliaMBD.LineSignal(int2.env[:out], out1.env[:in], \"\")\n",
    "    JuliaMBD.LineSignal(int2.env[:out], gain1.env[:in], \"\")\n",
    "    JuliaMBD.LineSignal(int2.env[:out], gain2.env[:in], \"\")\n",
    "    JuliaMBD.LineSignal(gain2.env[:out], int1.env[:in], \"\")\n",
    "    JuliaMBD.addscope!(b, :gain1, gain1.env[:out])\n",
    "    b\n",
    "end"
   ]
  },
  {
   "cell_type": "code",
   "execution_count": 561,
   "metadata": {},
   "outputs": [
    {
     "data": {
      "text/plain": [
       "RLCTest (generic function with 1 method)"
      ]
     },
     "metadata": {},
     "output_type": "display_data"
    }
   ],
   "source": [
    "## RLC test\n",
    "\n",
    "function RLCTest(;R = :R, L = :L, C = :C, voltage = :voltage)\n",
    "    b = JuliaMBD.SubSystemBlock(:RLCTest)\n",
    "    JuliaMBD.addparameter!(b, :R, R)\n",
    "    JuliaMBD.addparameter!(b, :L, L)\n",
    "    JuliaMBD.addparameter!(b, :C, C)\n",
    "    JuliaMBD.addparameter!(b, :voltage, voltage)\n",
    "    system = RLC(R=R, L=L, C=C)\n",
    "    source = JuliaMBD.Step()\n",
    "    JuliaMBD.LineSignal(b.timeport, source.env[:time], \"\")\n",
    "    JuliaMBD.ConstSignal(0.1, source.env[:steptime])\n",
    "    JuliaMBD.ConstSignal(0.0, source.env[:initialvalue])\n",
    "    JuliaMBD.ConstSignal(voltage, source.env[:finalvalue])\n",
    "    JuliaMBD.add!(b, system)\n",
    "    JuliaMBD.add!(b, source)\n",
    "    JuliaMBD.LineSignal(source.env[:out], system.env[:in1], \"\")\n",
    "    b\n",
    "end"
   ]
  },
  {
   "cell_type": "code",
   "execution_count": 562,
   "metadata": {},
   "outputs": [
    {
     "data": {
      "text/plain": [
       "\"Block(RLCTest)\""
      ]
     },
     "metadata": {},
     "output_type": "display_data"
    }
   ],
   "source": [
    "b = RLC() #R=10, L=100e-3, C=100e-6)\n",
    "b = RLCTest(R=10, L=100e-3, C=100e-6, voltage=5)"
   ]
  },
  {
   "cell_type": "code",
   "execution_count": 563,
   "metadata": {},
   "outputs": [
    {
     "data": {
      "text/plain": [
       ":(function RLCTest_sfunc(int1sin, int2sin; R = 10, L = 0.1, C = 0.0001, voltage = 5, time = 0)\n",
       "      var\"##2638\" = 0.0\n",
       "      begin\n",
       "          var\"##2628\" = int1sin\n",
       "      end\n",
       "      begin\n",
       "          var\"##2631\" = int2sin\n",
       "          var\"##2632\" = int2sin\n",
       "          var\"##2633\" = int2sin\n",
       "      end\n",
       "      var\"##2612\" = var\"##2631\"\n",
       "      var\"##2614\" = var\"##2632\"\n",
       "      ()\n",
       "      var\"##2616\" = 1 / C\n",
       "      ()\n",
       "      var\"##2613\" = R\n",
       "      var\"##2615\" = var\"##2613\" * var\"##2614\"\n",
       "      begin\n",
       "          var\"##2627\" = var\"##2615\"\n",
       "      end\n",
       "      var\"##2624\" = var\"##2627\"\n",
       "      begin\n",
       "          var\"##2640\" = time\n",
       "      end\n",
       "      var\"##2636\" = var\"##2640\"\n",
       "      var\"##2619\" = 1 / L\n",
       "      var\"##2625\" = var\"##2628\"\n",
       "      var\"##2637\" = 0.1\n",
       "      var\"##2608\" = C / L\n",
       "      var\"##2617\" = var\"##2633\"\n",
       "      var\"##2618\" = var\"##2616\" * var\"##2617\"\n",
       "      var\"##2639\" = 5\n",
       "      begin\n",
       "          \u001b[90m#= /workspaces/JuliaMBD/src/predefined/Sources/Step.jl:23 =#\u001b[39m\n",
       "          if var\"##2636\" < var\"##2637\"\n",
       "              \u001b[90m#= /workspaces/JuliaMBD/src/predefined/Sources/Step.jl:24 =#\u001b[39m\n",
       "              var\"##2638\"\n",
       "          else\n",
       "              \u001b[90m#= /workspaces/JuliaMBD/src/predefined/Sources/Step.jl:26 =#\u001b[39m\n",
       "              var\"##2639\"\n",
       "          end\n",
       "      end\n",
       "      begin\n",
       "          var\"##2634\" = var\"##2618\"\n",
       "      end\n",
       "      var\"##2607\" = var\"##2634\"\n",
       "      begin\n",
       "          var\"##2641\" = var\"##2635\"\n",
       "      end\n",
       "      in1 = var\"##2641\"\n",
       "      var\"##2611\" = in1\n",
       "      begin\n",
       "          var\"##2626\" = var\"##2611\"\n",
       "      end\n",
       "      var\"##2623\" = var\"##2626\"\n",
       "      out1 = var\"##2612\"\n",
       "      begin\n",
       "      end\n",
       "      var\"##2605\" = R\n",
       "      int1sout = var\"##2607\"\n",
       "      begin\n",
       "      end\n",
       "      var\"##2622\" = ((0 + var\"##2623\") - var\"##2624\") - var\"##2625\"\n",
       "      begin\n",
       "          var\"##2629\" = var\"##2622\"\n",
       "      end\n",
       "      var\"##2620\" = var\"##2629\"\n",
       "      var\"##2621\" = var\"##2619\" * var\"##2620\"\n",
       "      begin\n",
       "          var\"##2630\" = var\"##2621\"\n",
       "      end\n",
       "      var\"##2610\" = var\"##2630\"\n",
       "      int2sout = var\"##2610\"\n",
       "      begin\n",
       "      end\n",
       "      (int1sout, int2sout)\n",
       "  end)"
      ]
     },
     "metadata": {},
     "output_type": "display_data"
    }
   ],
   "source": [
    "JuliaMBD.expr_sfunc(b)"
   ]
  },
  {
   "cell_type": "code",
   "execution_count": 528,
   "metadata": {},
   "outputs": [
    {
     "data": {
      "text/plain": [
       ":(function RLCTest_ofunc(int1sin, int2sin; R = 10, L = 0.1, C = 0.0001, voltage = 5, time = 0)\n",
       "      begin\n",
       "          var\"##2350\" = int1sin\n",
       "      end\n",
       "      ()\n",
       "      var\"##2359\" = 0.1\n",
       "      var\"##2341\" = 1 / L\n",
       "      begin\n",
       "          var\"##2353\" = int2sin\n",
       "          var\"##2354\" = int2sin\n",
       "          var\"##2355\" = int2sin\n",
       "      end\n",
       "      var\"##2334\" = var\"##2353\"\n",
       "      out1 = var\"##2334\"\n",
       "      ()\n",
       "      ()\n",
       "      var\"##2339\" = var\"##2355\"\n",
       "      begin\n",
       "      end\n",
       "      ()\n",
       "      var\"##2338\" = 1 / C\n",
       "      var\"##2340\" = var\"##2338\" * var\"##2339\"\n",
       "      var\"##2336\" = var\"##2354\"\n",
       "      var\"##2361\" = 5\n",
       "      begin\n",
       "          var\"##2362\" = time\n",
       "      end\n",
       "      var\"##2358\" = var\"##2362\"\n",
       "      begin\n",
       "          \u001b[90m#= /workspaces/JuliaMBD/src/predefined/Sources/Step.jl:23 =#\u001b[39m\n",
       "          if var\"##2358\" < var\"##2359\"\n",
       "              \u001b[90m#= /workspaces/JuliaMBD/src/predefined/Sources/Step.jl:24 =#\u001b[39m\n",
       "              var\"##2360\"\n",
       "          else\n",
       "              \u001b[90m#= /workspaces/JuliaMBD/src/predefined/Sources/Step.jl:26 =#\u001b[39m\n",
       "              var\"##2361\"\n",
       "          end\n",
       "      end\n",
       "      begin\n",
       "          var\"##2363\" = var\"##2357\"\n",
       "      end\n",
       "      var\"##2335\" = R\n",
       "      var\"##2337\" = var\"##2335\" * var\"##2336\"\n",
       "      begin\n",
       "          var\"##2356\" = var\"##2340\"\n",
       "      end\n",
       "      var\"##2331\" = var\"##2356\"\n",
       "      in1 = var\"##2363\"\n",
       "      var\"##2333\" = in1\n",
       "      begin\n",
       "          var\"##2348\" = var\"##2333\"\n",
       "      end\n",
       "      var\"##2345\" = var\"##2348\"\n",
       "      var\"##2347\" = var\"##2350\"\n",
       "      ()\n",
       "      int1sout = var\"##2331\"\n",
       "      begin\n",
       "      end\n",
       "      begin\n",
       "          var\"##2349\" = var\"##2337\"\n",
       "      end\n",
       "      var\"##2346\" = var\"##2349\"\n",
       "      var\"##2344\" = ((0 + var\"##2345\") - var\"##2346\") - var\"##2347\"\n",
       "      begin\n",
       "          var\"##2351\" = var\"##2344\"\n",
       "      end\n",
       "      var\"##2342\" = var\"##2351\"\n",
       "      var\"##2343\" = var\"##2341\" * var\"##2342\"\n",
       "      begin\n",
       "          var\"##2352\" = var\"##2343\"\n",
       "      end\n",
       "      var\"##2332\" = var\"##2352\"\n",
       "      int2sout = var\"##2332\"\n",
       "      begin\n",
       "      end\n",
       "      (gain1 = var\"##2337\",)\n",
       "  end)"
      ]
     },
     "metadata": {},
     "output_type": "display_data"
    }
   ],
   "source": [
    "JuliaMBD.expr_ofunc(b)"
   ]
  },
  {
   "cell_type": "code",
   "execution_count": 529,
   "metadata": {},
   "outputs": [
    {
     "data": {
      "text/plain": [
       ":((x, p, ts)->begin\n",
       "          result = [RLCTest_ofunc(dx[1], dx[2], R = p[1], L = p[2], C = p[3], voltage = p[4], time = t) for t = ts]\n",
       "          Dict(:gain1 => [u.gain1 for u = result])\n",
       "      end)"
      ]
     },
     "metadata": {},
     "output_type": "display_data"
    }
   ],
   "source": [
    "JuliaMBD.expr_odemodel_ofunc(b)"
   ]
  },
  {
   "cell_type": "code",
   "execution_count": 564,
   "metadata": {},
   "outputs": [
    {
     "data": {
      "text/plain": [
       ":(function RLCTest_ifunc(; R = 10, L = 0.1, C = 0.0001, voltage = 5, time = 0, int1sin = 0, int2sin = 0)\n",
       "      var\"##2638\" = 0.0\n",
       "      begin\n",
       "          var\"##2628\" = int1sin\n",
       "      end\n",
       "      begin\n",
       "          var\"##2631\" = int2sin\n",
       "          var\"##2632\" = int2sin\n",
       "          var\"##2633\" = int2sin\n",
       "      end\n",
       "      var\"##2612\" = var\"##2631\"\n",
       "      var\"##2614\" = var\"##2632\"\n",
       "      ()\n",
       "      var\"##2616\" = 1 / C\n",
       "      ()\n",
       "      var\"##2613\" = R\n",
       "      var\"##2615\" = var\"##2613\" * var\"##2614\"\n",
       "      begin\n",
       "          var\"##2627\" = var\"##2615\"\n",
       "      end\n",
       "      var\"##2624\" = var\"##2627\"\n",
       "      begin\n",
       "          var\"##2640\" = time\n",
       "      end\n",
       "      var\"##2636\" = var\"##2640\"\n",
       "      var\"##2619\" = 1 / L\n",
       "      var\"##2625\" = var\"##2628\"\n",
       "      var\"##2637\" = 0.1\n",
       "      var\"##2608\" = C / L\n",
       "      var\"##2617\" = var\"##2633\"\n",
       "      var\"##2618\" = var\"##2616\" * var\"##2617\"\n",
       "      var\"##2639\" = 5\n",
       "      begin\n",
       "          \u001b[90m#= /workspaces/JuliaMBD/src/predefined/Sources/Step.jl:23 =#\u001b[39m\n",
       "          if var\"##2636\" < var\"##2637\"\n",
       "              \u001b[90m#= /workspaces/JuliaMBD/src/predefined/Sources/Step.jl:24 =#\u001b[39m\n",
       "              var\"##2638\"\n",
       "          else\n",
       "              \u001b[90m#= /workspaces/JuliaMBD/src/predefined/Sources/Step.jl:26 =#\u001b[39m\n",
       "              var\"##2639\"\n",
       "          end\n",
       "      end\n",
       "      begin\n",
       "          var\"##2634\" = var\"##2618\"\n",
       "      end\n",
       "      var\"##2607\" = var\"##2634\"\n",
       "      begin\n",
       "          var\"##2641\" = var\"##2635\"\n",
       "      end\n",
       "      in1 = var\"##2641\"\n",
       "      var\"##2611\" = in1\n",
       "      begin\n",
       "          var\"##2626\" = var\"##2611\"\n",
       "      end\n",
       "      var\"##2623\" = var\"##2626\"\n",
       "      out1 = var\"##2612\"\n",
       "      begin\n",
       "      end\n",
       "      var\"##2605\" = R\n",
       "      int1sout = var\"##2605\"\n",
       "      begin\n",
       "      end\n",
       "      var\"##2622\" = ((0 + var\"##2623\") - var\"##2624\") - var\"##2625\"\n",
       "      begin\n",
       "          var\"##2629\" = var\"##2622\"\n",
       "      end\n",
       "      var\"##2620\" = var\"##2629\"\n",
       "      var\"##2621\" = var\"##2619\" * var\"##2620\"\n",
       "      begin\n",
       "          var\"##2630\" = var\"##2621\"\n",
       "      end\n",
       "      var\"##2610\" = var\"##2630\"\n",
       "      int2sout = var\"##2608\"\n",
       "      begin\n",
       "      end\n",
       "      [int1sout, int2sout]\n",
       "  end)"
      ]
     },
     "metadata": {},
     "output_type": "display_data"
    }
   ],
   "source": [
    "eval(JuliaMBD.expr_ifunc(b))\n",
    "JuliaMBD.expr_ifunc(b)"
   ]
  },
  {
   "cell_type": "code",
   "execution_count": 565,
   "metadata": {},
   "outputs": [
    {
     "ename": "UndefVarError",
     "evalue": "UndefVarError: ##2635 not defined",
     "output_type": "error",
     "traceback": [
      "UndefVarError: ##2635 not defined\n",
      "\n",
      "Stacktrace:\n",
      " [1] #RLCTest_ifunc#161\n",
      "   @ /workspaces/JuliaMBD/src/predefined/Sources/Step.jl:26 [inlined]\n",
      " [2] RLCTest_ifunc(; R::Int64, L::Float64, C::Float64, voltage::Int64, time::Int64, int1sin::Int64, int2sin::Int64)\n",
      "   @ Main ./none:0\n",
      " [3] top-level scope\n",
      "   @ /workspaces/JuliaMBD/examples/testfile.ipynb:1"
     ]
    }
   ],
   "source": [
    "RLCTest_ifunc(R=10, L=1.0, C=2.0)"
   ]
  },
  {
   "cell_type": "code",
   "execution_count": 412,
   "metadata": {},
   "outputs": [],
   "source": [
    "using DifferentialEquations"
   ]
  },
  {
   "cell_type": "code",
   "execution_count": 430,
   "metadata": {},
   "outputs": [
    {
     "data": {
      "text/plain": [
       "\u001b[38;2;86;182;194mODEProblem\u001b[0m with uType \u001b[38;2;86;182;194mVector{Int64}\u001b[0m and tType \u001b[38;2;86;182;194mInt64\u001b[0m. In-place: \u001b[38;2;86;182;194mtrue\u001b[0m\n",
       "timespan: (0, 1)\n",
       "u0: 2-element Vector{Int64}:\n",
       " 0\n",
       " 0"
      ]
     },
     "metadata": {},
     "output_type": "display_data"
    }
   ],
   "source": [
    "ODEProblem(f, [0,0], (0,1), [10, 100e-3, 100e-6])"
   ]
  },
  {
   "cell_type": "code",
   "execution_count": null,
   "metadata": {},
   "outputs": [],
   "source": []
  }
 ],
 "metadata": {
  "kernelspec": {
   "display_name": "Julia 1.8.3",
   "language": "julia",
   "name": "julia-1.8"
  },
  "language_info": {
   "file_extension": ".jl",
   "mimetype": "application/julia",
   "name": "julia",
   "version": "1.8.3"
  }
 },
 "nbformat": 4,
 "nbformat_minor": 2
}
