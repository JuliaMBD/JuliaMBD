{
 "cells": [
  {
   "cell_type": "code",
   "execution_count": 235,
   "metadata": {},
   "outputs": [
    {
     "name": "stderr",
     "output_type": "stream",
     "text": [
      "WARNING: replacing module JuliaMBD.\n"
     ]
    },
    {
     "data": {
      "text/plain": [
       "Main.JuliaMBD"
      ]
     },
     "metadata": {},
     "output_type": "display_data"
    }
   ],
   "source": [
    "include(\"../src/JuliaMBD.jl\")"
   ]
  },
  {
   "cell_type": "code",
   "execution_count": 207,
   "metadata": {},
   "outputs": [],
   "source": [
    "import .JuliaMBD"
   ]
  },
  {
   "cell_type": "code",
   "execution_count": 209,
   "metadata": {},
   "outputs": [
    {
     "data": {
      "text/plain": [
       "\"Line(##535)\""
      ]
     },
     "metadata": {},
     "output_type": "display_data"
    }
   ],
   "source": [
    "b = JuliaMBD.SimpleBlock(:test)\n",
    "pout = JuliaMBD.OutPort(:a, Float64)\n",
    "pin = JuliaMBD.InPort(:b, Float64)\n",
    "JuliaMBD.set!(b, pout.name, pout)\n",
    "JuliaMBD.set!(b, pin.name, pin)\n",
    "pext = JuliaMBD.OutPort(:ex)\n",
    "JuliaMBD.LineSignal(pext, pin, \"s(t)\")"
   ]
  },
  {
   "cell_type": "code",
   "execution_count": 210,
   "metadata": {},
   "outputs": [
    {
     "data": {
      "text/plain": [
       "4-element Vector{Main.JuliaMBD.AbstractComponent}:\n",
       " \"OutPort(ex)\"\n",
       " \"InPort(b)\"\n",
       " \"Block(test)\"\n",
       " \"OutPort(a)\""
      ]
     },
     "metadata": {},
     "output_type": "display_data"
    }
   ],
   "source": [
    "JuliaMBD.tsort(JuliaMBD.allcomponents(b))"
   ]
  },
  {
   "cell_type": "code",
   "execution_count": 211,
   "metadata": {},
   "outputs": [
    {
     "data": {
      "text/plain": [
       "\"Block(Gain)\""
      ]
     },
     "metadata": {},
     "output_type": "display_data"
    }
   ],
   "source": [
    "bb = JuliaMBD.Gain()"
   ]
  },
  {
   "cell_type": "code",
   "execution_count": 216,
   "metadata": {},
   "outputs": [
    {
     "data": {
      "text/plain": [
       "\"Line(##548)\""
      ]
     },
     "metadata": {},
     "output_type": "display_data"
    }
   ],
   "source": [
    "b1 = JuliaMBD.Inport(:t, Float64)\n",
    "b2 = JuliaMBD.Gain(in=JuliaMBD.InPort(:gainin), out=JuliaMBD.OutPort(:gainout))\n",
    "b3 = JuliaMBD.Outport(:y, Float64)\n",
    "JuliaMBD.ConstSignal(:K, b2.env[:K])\n",
    "JuliaMBD.LineSignal(b1.outports[1], b2.env[:in], \"s(t)\")\n",
    "JuliaMBD.LineSignal(b2.env[:out], b3.inports[1], \"s(t)\")"
   ]
  },
  {
   "cell_type": "code",
   "execution_count": 217,
   "metadata": {},
   "outputs": [
    {
     "data": {
      "text/plain": [
       "10-element Vector{Main.JuliaMBD.AbstractComponent}:\n",
       " \"InPort(t)\"\n",
       " \"Block(Inport)\"\n",
       " \"OutPort(##544)\"\n",
       " \"InPort(gainin)\"\n",
       " \"Parameter(##545)\"\n",
       " \"Block(Gain)\"\n",
       " \"OutPort(gainout)\"\n",
       " \"InPort(##546)\"\n",
       " \"Block(Outport)\"\n",
       " \"OutPort(y)\""
      ]
     },
     "metadata": {},
     "output_type": "display_data"
    }
   ],
   "source": [
    "JuliaMBD.tsort(JuliaMBD.allcomponents(b3))"
   ]
  },
  {
   "cell_type": "code",
   "execution_count": 218,
   "metadata": {},
   "outputs": [
    {
     "data": {
      "text/plain": [
       "10-element Vector{Expr}:\n",
       " :(())\n",
       " :(var\"##544\" = (Float64)(t))\n",
       " quote\n",
       "    var\"##547\" = var\"##544\"\n",
       "end\n",
       " :(gainin = var\"##547\")\n",
       " :(var\"##545\" = K)\n",
       " :(gainout = var\"##545\" * gainin)\n",
       " quote\n",
       "    var\"##548\" = gainout\n",
       "end\n",
       " :(var\"##546\" = var\"##548\")\n",
       " :(y = (Float64)(var\"##546\"))\n",
       " quote\n",
       "end"
      ]
     },
     "metadata": {},
     "output_type": "display_data"
    }
   ],
   "source": [
    "expr = [JuliaMBD._expr(m) for m = JuliaMBD.tsort(JuliaMBD.allcomponents(b3))]\n",
    "    "
   ]
  },
  {
   "cell_type": "code",
   "execution_count": 227,
   "metadata": {},
   "outputs": [
    {
     "data": {
      "text/plain": [
       "Sys1 (generic function with 1 method)"
      ]
     },
     "metadata": {},
     "output_type": "display_data"
    }
   ],
   "source": [
    "function Sys1()\n",
    "    b = JuliaMBD.SubSystemBlock(:Sys1)\n",
    "    K = JuliaMBD.ParameterPort(:K)\n",
    "    b1 = JuliaMBD.Inport(:t, Float64)\n",
    "    b2 = JuliaMBD.Gain()\n",
    "    b3 = JuliaMBD.Outport(:y, Float64)\n",
    "    JuliaMBD.add!(b, K)\n",
    "    JuliaMBD.add!(b, b1)\n",
    "    JuliaMBD.add!(b, b2)\n",
    "    JuliaMBD.add!(b, b3)\n",
    "    JuliaMBD.LineSignal(b1.env[:out], b2.env[:in], \"s(t)\")\n",
    "    JuliaMBD.LineSignal(b2.env[:out], b3.env[:in], \"s(t)\")\n",
    "    JuliaMBD.ConstSignal(:K, b2.env[:K])\n",
    "    b.env[:K] = :K\n",
    "    b\n",
    "end\n"
   ]
  },
  {
   "cell_type": "code",
   "execution_count": 228,
   "metadata": {},
   "outputs": [
    {
     "data": {
      "text/plain": [
       "\"Block(Sys1)\""
      ]
     },
     "metadata": {},
     "output_type": "display_data"
    }
   ],
   "source": [
    "b = Sys1()"
   ]
  },
  {
   "cell_type": "code",
   "execution_count": 229,
   "metadata": {},
   "outputs": [
    {
     "data": {
      "text/plain": [
       ":(function Sys1_systemfunction(t::Float64; K::Any = K)\n",
       "      ()\n",
       "      var\"##570\" = (Float64)(t)\n",
       "      begin\n",
       "          var\"##575\" = var\"##570\"\n",
       "      end\n",
       "      var\"##572\" = var\"##575\"\n",
       "      var\"##571\" = K\n",
       "      var\"##573\" = var\"##571\" * var\"##572\"\n",
       "      begin\n",
       "          var\"##576\" = var\"##573\"\n",
       "      end\n",
       "      var\"##574\" = var\"##576\"\n",
       "      y = (Float64)(var\"##574\")\n",
       "      begin\n",
       "      end\n",
       "      (y = (Float64)(y),)\n",
       "  end)"
      ]
     },
     "metadata": {},
     "output_type": "display_data"
    }
   ],
   "source": [
    "expr = JuliaMBD.expr_function(b)"
   ]
  },
  {
   "cell_type": "code",
   "execution_count": 230,
   "metadata": {},
   "outputs": [
    {
     "data": {
      "text/plain": [
       "Sys2 (generic function with 1 method)"
      ]
     },
     "metadata": {},
     "output_type": "display_data"
    }
   ],
   "source": [
    "function Sys2()\n",
    "    b = JuliaMBD.SubSystemBlock(:Sys2)\n",
    "    b1 = JuliaMBD.Inport(:t, Float64)\n",
    "    b2 = Sys1()\n",
    "    b3 = JuliaMBD.Outport(:y, Float64)\n",
    "    JuliaMBD.add!(b, b1)\n",
    "    JuliaMBD.add!(b, b2)\n",
    "    JuliaMBD.add!(b, b3)\n",
    "    JuliaMBD.LineSignal(b1.env[:out], b2.env[:t], \"s(t)\")\n",
    "    JuliaMBD.LineSignal(b2.env[:y], b3.env[:in], \"s(t)\")\n",
    "    b\n",
    "end\n"
   ]
  },
  {
   "cell_type": "code",
   "execution_count": 231,
   "metadata": {},
   "outputs": [
    {
     "data": {
      "text/plain": [
       "\"Block(Sys2)\""
      ]
     },
     "metadata": {},
     "output_type": "display_data"
    }
   ],
   "source": [
    "bb = Sys2()"
   ]
  },
  {
   "cell_type": "code",
   "execution_count": 232,
   "metadata": {},
   "outputs": [
    {
     "data": {
      "text/plain": [
       ":(function Sys2_systemfunction(t::Float64; )\n",
       "      ()\n",
       "      var\"##577\" = (Float64)(t)\n",
       "      begin\n",
       "          var\"##586\" = var\"##577\"\n",
       "      end\n",
       "      var\"##579\" = K\n",
       "      t = (Float64)(var\"##586\")\n",
       "      var\"##578\" = (Float64)(t)\n",
       "      begin\n",
       "          var\"##583\" = var\"##578\"\n",
       "      end\n",
       "      var\"##580\" = var\"##583\"\n",
       "      var\"##581\" = var\"##579\" * var\"##580\"\n",
       "      begin\n",
       "          var\"##584\" = var\"##581\"\n",
       "      end\n",
       "      var\"##582\" = var\"##584\"\n",
       "      y = (Float64)(var\"##582\")\n",
       "      begin\n",
       "          var\"##587\" = (Float64)(y)\n",
       "      end\n",
       "      var\"##585\" = var\"##587\"\n",
       "      y = (Float64)(var\"##585\")\n",
       "      begin\n",
       "      end\n",
       "      (y = (Float64)(y),)\n",
       "  end)"
      ]
     },
     "metadata": {},
     "output_type": "display_data"
    }
   ],
   "source": [
    "JuliaMBD.expr_function(bb)"
   ]
  },
  {
   "cell_type": "code",
   "execution_count": 236,
   "metadata": {},
   "outputs": [
    {
     "ename": "MethodError",
     "evalue": "MethodError: no method matching allcomponents(::Main.JuliaMBD.OutPort{Any})\nClosest candidates are:\n  allcomponents(!Matched::Main.JuliaMBD.AbstractCompositeBlock) at /workspaces/JuliaMBD/src/_tsort.jl:26\n  allcomponents(!Matched::Main.JuliaMBD.AbstractComponent) at /workspaces/JuliaMBD/src/_tsort.jl:37",
     "output_type": "error",
     "traceback": [
      "MethodError: no method matching allcomponents(::Main.JuliaMBD.OutPort{Any})\n",
      "Closest candidates are:\n",
      "  allcomponents(!Matched::Main.JuliaMBD.AbstractCompositeBlock) at /workspaces/JuliaMBD/src/_tsort.jl:26\n",
      "  allcomponents(!Matched::Main.JuliaMBD.AbstractComponent) at /workspaces/JuliaMBD/src/_tsort.jl:37\n",
      "\n",
      "Stacktrace:\n",
      " [1] top-level scope\n",
      "   @ /workspaces/JuliaMBD/examples/testfile.ipynb:1"
     ]
    }
   ],
   "source": [
    "expr = [JuliaMBD._expr(m) for m = JuliaMBD.tsort(JuliaMBD.allcomponents(p))]\n"
   ]
  },
  {
   "cell_type": "code",
   "execution_count": 237,
   "metadata": {},
   "outputs": [
    {
     "data": {
      "text/plain": [
       "\"Line(##598)\""
      ]
     },
     "metadata": {},
     "output_type": "display_data"
    }
   ],
   "source": [
    "b = JuliaMBD.Integrator()\n",
    "JuliaMBD.LineSignal(b.env[:out], b.env[:in], \"s(t)\")"
   ]
  },
  {
   "cell_type": "code",
   "execution_count": 238,
   "metadata": {},
   "outputs": [
    {
     "data": {
      "text/plain": [
       "11-element Vector{Main.JuliaMBD.AbstractComponent}:\n",
       " \"InPort(##594)\"\n",
       " \"Block(Outport)\"\n",
       " \"Parameter(initialcondition)\"\n",
       " \"OutPort(out)\"\n",
       " \"Parameter(saturationlimits)\"\n",
       " \"InPort(in)\"\n",
       " \"Block(Inport)\"\n",
       " \"OutPort(##593)\"\n",
       " \"InPort(##595)\"\n",
       " \"Block(IntegratorInner)\"\n",
       " \"OutPort(##596)\""
      ]
     },
     "metadata": {},
     "output_type": "display_data"
    }
   ],
   "source": [
    "JuliaMBD.tsort(JuliaMBD.allcomponents(b.env[:in]))"
   ]
  },
  {
   "cell_type": "code",
   "execution_count": 239,
   "metadata": {},
   "outputs": [
    {
     "data": {
      "text/plain": [
       "11-element Vector{Expr}:\n",
       " :(())\n",
       " :(out = var\"##594\")\n",
       " :(())\n",
       " quote\n",
       "    var\"##598\" = out\n",
       "end\n",
       " :(())\n",
       " :(in = var\"##598\")\n",
       " :(var\"##593\" = in)\n",
       " quote\n",
       "    var\"##597\" = var\"##593\"\n",
       "end\n",
       " :(var\"##595\" = var\"##597\")\n",
       " :(var\"##596\" = var\"##595\")\n",
       " quote\n",
       "end"
      ]
     },
     "metadata": {},
     "output_type": "display_data"
    }
   ],
   "source": [
    "expr = [JuliaMBD._expr(m) for m = JuliaMBD.tsort(JuliaMBD.allcomponents(b.env[:in]))]\n"
   ]
  },
  {
   "cell_type": "code",
   "execution_count": 240,
   "metadata": {},
   "outputs": [
    {
     "data": {
      "text/plain": [
       "\"Block(Add)\""
      ]
     },
     "metadata": {},
     "output_type": "display_data"
    }
   ],
   "source": [
    "b = JuliaMBD.Add(signs=[:+, :-])"
   ]
  },
  {
   "cell_type": "code",
   "execution_count": 241,
   "metadata": {},
   "outputs": [
    {
     "data": {
      "text/plain": [
       "2-element Vector{Main.JuliaMBD.AbstractInPortBlock}:\n",
       " \"InPort(##600)\"\n",
       " \"InPort(##601)\""
      ]
     },
     "metadata": {},
     "output_type": "display_data"
    }
   ],
   "source": [
    "b.inports"
   ]
  },
  {
   "cell_type": "code",
   "execution_count": null,
   "metadata": {},
   "outputs": [],
   "source": []
  }
 ],
 "metadata": {
  "kernelspec": {
   "display_name": "Julia 1.8.3",
   "language": "julia",
   "name": "julia-1.8"
  },
  "language_info": {
   "file_extension": ".jl",
   "mimetype": "application/julia",
   "name": "julia",
   "version": "1.8.3"
  }
 },
 "nbformat": 4,
 "nbformat_minor": 2
}
