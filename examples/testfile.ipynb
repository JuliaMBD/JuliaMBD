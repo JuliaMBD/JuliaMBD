{
 "cells": [
  {
   "cell_type": "code",
   "execution_count": 391,
   "metadata": {},
   "outputs": [
    {
     "name": "stderr",
     "output_type": "stream",
     "text": [
      "WARNING: replacing module JuliaMBD.\n"
     ]
    },
    {
     "data": {
      "text/plain": [
       "Main.JuliaMBD"
      ]
     },
     "metadata": {},
     "output_type": "display_data"
    }
   ],
   "source": [
    "include(\"../src/JuliaMBD.jl\")"
   ]
  },
  {
   "cell_type": "code",
   "execution_count": 320,
   "metadata": {},
   "outputs": [],
   "source": [
    "import .JuliaMBD"
   ]
  },
  {
   "cell_type": "code",
   "execution_count": 263,
   "metadata": {},
   "outputs": [
    {
     "data": {
      "text/plain": [
       "\"Line(##627)\""
      ]
     },
     "metadata": {},
     "output_type": "display_data"
    }
   ],
   "source": [
    "b = JuliaMBD.SimpleBlock(:test)\n",
    "pout = JuliaMBD.OutPort(:a, Float64)\n",
    "pin = JuliaMBD.InPort(:b, Float64)\n",
    "JuliaMBD.set!(b, pout.name, pout)\n",
    "JuliaMBD.set!(b, pin.name, pin)\n",
    "pext = JuliaMBD.OutPort(:ex)\n",
    "JuliaMBD.LineSignal(pext, pin, \"s(t)\")"
   ]
  },
  {
   "cell_type": "code",
   "execution_count": 264,
   "metadata": {},
   "outputs": [
    {
     "data": {
      "text/plain": [
       "4-element Vector{Main.JuliaMBD.AbstractComponent}:\n",
       " \"OutPort(ex)\"\n",
       " \"InPort(b)\"\n",
       " \"Block(test)\"\n",
       " \"OutPort(a)\""
      ]
     },
     "metadata": {},
     "output_type": "display_data"
    }
   ],
   "source": [
    "JuliaMBD.tsort(JuliaMBD.allcomponents(b))"
   ]
  },
  {
   "cell_type": "code",
   "execution_count": 265,
   "metadata": {},
   "outputs": [
    {
     "data": {
      "text/plain": [
       "\"Block(Gain)\""
      ]
     },
     "metadata": {},
     "output_type": "display_data"
    }
   ],
   "source": [
    "bb = JuliaMBD.Gain()"
   ]
  },
  {
   "cell_type": "code",
   "execution_count": 266,
   "metadata": {},
   "outputs": [
    {
     "data": {
      "text/plain": [
       "\"Line(##635)\""
      ]
     },
     "metadata": {},
     "output_type": "display_data"
    }
   ],
   "source": [
    "b1 = JuliaMBD.Inport(:t, Float64)\n",
    "b2 = JuliaMBD.Gain(in=JuliaMBD.InPort(:gainin), out=JuliaMBD.OutPort(:gainout))\n",
    "b3 = JuliaMBD.Outport(:y, Float64)\n",
    "JuliaMBD.ConstSignal(:K, b2.env[:K])\n",
    "JuliaMBD.LineSignal(b1.outports[1], b2.env[:in], \"s(t)\")\n",
    "JuliaMBD.LineSignal(b2.env[:out], b3.inports[1], \"s(t)\")"
   ]
  },
  {
   "cell_type": "code",
   "execution_count": 267,
   "metadata": {},
   "outputs": [
    {
     "data": {
      "text/plain": [
       "10-element Vector{Main.JuliaMBD.AbstractComponent}:\n",
       " \"Parameter(##632)\"\n",
       " \"InPort(t)\"\n",
       " \"Block(Inport)\"\n",
       " \"OutPort(##631)\"\n",
       " \"InPort(gainin)\"\n",
       " \"Block(Gain)\"\n",
       " \"OutPort(gainout)\"\n",
       " \"InPort(##633)\"\n",
       " \"Block(Outport)\"\n",
       " \"OutPort(y)\""
      ]
     },
     "metadata": {},
     "output_type": "display_data"
    }
   ],
   "source": [
    "JuliaMBD.tsort(JuliaMBD.allcomponents(b3))"
   ]
  },
  {
   "cell_type": "code",
   "execution_count": 268,
   "metadata": {},
   "outputs": [
    {
     "data": {
      "text/plain": [
       "10-element Vector{Expr}:\n",
       " :(var\"##632\" = K)\n",
       " :(())\n",
       " :(var\"##631\" = (Float64)(t))\n",
       " quote\n",
       "    var\"##634\" = var\"##631\"\n",
       "end\n",
       " :(gainin = var\"##634\")\n",
       " :(gainout = var\"##632\" * gainin)\n",
       " quote\n",
       "    var\"##635\" = gainout\n",
       "end\n",
       " :(var\"##633\" = var\"##635\")\n",
       " :(y = (Float64)(var\"##633\"))\n",
       " quote\n",
       "end"
      ]
     },
     "metadata": {},
     "output_type": "display_data"
    }
   ],
   "source": [
    "expr = [JuliaMBD._expr(m) for m = JuliaMBD.tsort(JuliaMBD.allcomponents(b3))]\n",
    "    "
   ]
  },
  {
   "cell_type": "code",
   "execution_count": 293,
   "metadata": {},
   "outputs": [
    {
     "data": {
      "text/plain": [
       "Sys1 (generic function with 1 method)"
      ]
     },
     "metadata": {},
     "output_type": "display_data"
    }
   ],
   "source": [
    "function Sys1()\n",
    "    b = JuliaMBD.SubSystemBlock(:Sys1)\n",
    "    b1 = JuliaMBD.Inport(:t, Float64)\n",
    "    b2 = JuliaMBD.Gain(K = JuliaMBD.ParameterPort(:K, Float64))\n",
    "    b3 = JuliaMBD.Outport(:y, Float64)\n",
    "    JuliaMBD.add!(b, b1)\n",
    "    JuliaMBD.add!(b, b2)\n",
    "    JuliaMBD.add!(b, b3)\n",
    "    JuliaMBD.set!(b, :K, b2.env[:K])\n",
    "    JuliaMBD.LineSignal(b1.env[:out], b2.env[:in], \"s(t)\")\n",
    "    JuliaMBD.LineSignal(b2.env[:out], b3.env[:in], \"s(t)\")\n",
    "    b\n",
    "end\n"
   ]
  },
  {
   "cell_type": "code",
   "execution_count": 294,
   "metadata": {},
   "outputs": [
    {
     "data": {
      "text/plain": [
       "\"Block(Sys1)\""
      ]
     },
     "metadata": {},
     "output_type": "display_data"
    }
   ],
   "source": [
    "b = Sys1()"
   ]
  },
  {
   "cell_type": "code",
   "execution_count": 295,
   "metadata": {},
   "outputs": [
    {
     "data": {
      "text/plain": [
       ":(function Sys1_systemfunction(t::Float64; K::Float64)\n",
       "      ()\n",
       "      ()\n",
       "      var\"##692\" = (Float64)(t)\n",
       "      begin\n",
       "          var\"##696\" = var\"##692\"\n",
       "      end\n",
       "      var\"##693\" = var\"##696\"\n",
       "      var\"##694\" = K * var\"##693\"\n",
       "      begin\n",
       "          var\"##697\" = var\"##694\"\n",
       "      end\n",
       "      var\"##695\" = var\"##697\"\n",
       "      y = (Float64)(var\"##695\")\n",
       "      begin\n",
       "      end\n",
       "      (y = (Float64)(y),)\n",
       "  end)"
      ]
     },
     "metadata": {},
     "output_type": "display_data"
    }
   ],
   "source": [
    "expr = JuliaMBD.expr_function(b)"
   ]
  },
  {
   "cell_type": "code",
   "execution_count": 283,
   "metadata": {},
   "outputs": [
    {
     "data": {
      "text/plain": [
       "Sys2 (generic function with 1 method)"
      ]
     },
     "metadata": {},
     "output_type": "display_data"
    }
   ],
   "source": [
    "function Sys2()\n",
    "    b = JuliaMBD.SubSystemBlock(:Sys2)\n",
    "    b1 = JuliaMBD.Inport(:t, Float64)\n",
    "    b2 = Sys1()\n",
    "    b3 = JuliaMBD.Outport(:y, Float64)\n",
    "    JuliaMBD.add!(b, b1)\n",
    "    JuliaMBD.add!(b, b2)\n",
    "    JuliaMBD.add!(b, b3)\n",
    "    JuliaMBD.LineSignal(b1.env[:out], b2.env[:t], \"s(t)\")\n",
    "    JuliaMBD.LineSignal(b2.env[:y], b3.env[:in], \"s(t)\")\n",
    "    b\n",
    "end\n"
   ]
  },
  {
   "cell_type": "code",
   "execution_count": 284,
   "metadata": {},
   "outputs": [
    {
     "data": {
      "text/plain": [
       "\"Block(Sys2)\""
      ]
     },
     "metadata": {},
     "output_type": "display_data"
    }
   ],
   "source": [
    "bb = Sys2()"
   ]
  },
  {
   "cell_type": "code",
   "execution_count": 285,
   "metadata": {},
   "outputs": [
    {
     "data": {
      "text/plain": [
       ":(function Sys2_systemfunction(t::Float64; )\n",
       "      ()\n",
       "      var\"##667\" = (Float64)(t)\n",
       "      begin\n",
       "          var\"##676\" = var\"##667\"\n",
       "      end\n",
       "      t = (Float64)(var\"##676\")\n",
       "      var\"##668\" = (Float64)(t)\n",
       "      begin\n",
       "          var\"##673\" = var\"##668\"\n",
       "      end\n",
       "      var\"##669\" = K\n",
       "      var\"##670\" = var\"##673\"\n",
       "      var\"##671\" = var\"##669\" * var\"##670\"\n",
       "      begin\n",
       "          var\"##674\" = var\"##671\"\n",
       "      end\n",
       "      var\"##672\" = var\"##674\"\n",
       "      y = (Float64)(var\"##672\")\n",
       "      begin\n",
       "          var\"##677\" = (Float64)(y)\n",
       "      end\n",
       "      var\"##675\" = var\"##677\"\n",
       "      y = (Float64)(var\"##675\")\n",
       "      begin\n",
       "      end\n",
       "      (y = (Float64)(y),)\n",
       "  end)"
      ]
     },
     "metadata": {},
     "output_type": "display_data"
    }
   ],
   "source": [
    "JuliaMBD.expr_function(bb)"
   ]
  },
  {
   "cell_type": "code",
   "execution_count": 236,
   "metadata": {},
   "outputs": [
    {
     "ename": "MethodError",
     "evalue": "MethodError: no method matching allcomponents(::Main.JuliaMBD.OutPort{Any})\nClosest candidates are:\n  allcomponents(!Matched::Main.JuliaMBD.AbstractCompositeBlock) at /workspaces/JuliaMBD/src/_tsort.jl:26\n  allcomponents(!Matched::Main.JuliaMBD.AbstractComponent) at /workspaces/JuliaMBD/src/_tsort.jl:37",
     "output_type": "error",
     "traceback": [
      "MethodError: no method matching allcomponents(::Main.JuliaMBD.OutPort{Any})\n",
      "Closest candidates are:\n",
      "  allcomponents(!Matched::Main.JuliaMBD.AbstractCompositeBlock) at /workspaces/JuliaMBD/src/_tsort.jl:26\n",
      "  allcomponents(!Matched::Main.JuliaMBD.AbstractComponent) at /workspaces/JuliaMBD/src/_tsort.jl:37\n",
      "\n",
      "Stacktrace:\n",
      " [1] top-level scope\n",
      "   @ /workspaces/JuliaMBD/examples/testfile.ipynb:1"
     ]
    }
   ],
   "source": [
    "expr = [JuliaMBD._expr(m) for m = JuliaMBD.tsort(JuliaMBD.allcomponents(p))]\n"
   ]
  },
  {
   "cell_type": "code",
   "execution_count": 249,
   "metadata": {},
   "outputs": [
    {
     "data": {
      "text/plain": [
       "\"Line(##610)\""
      ]
     },
     "metadata": {},
     "output_type": "display_data"
    }
   ],
   "source": [
    "b = JuliaMBD.Integrator(in=JuliaMBD.InPort(:in), sin=JuliaMBD.OutPort(:sin), sout=JuliaMBD.OutPort(:sout))\n",
    "JuliaMBD.LineSignal(b.env[:out], b.env[:in], \"s(t)\")"
   ]
  },
  {
   "cell_type": "code",
   "execution_count": 250,
   "metadata": {},
   "outputs": [
    {
     "data": {
      "text/plain": [
       "6-element Vector{Main.JuliaMBD.AbstractComponent}:\n",
       " \"OutPort(sin)\"\n",
       " \"Parameter(initialcondition)\"\n",
       " \"InPort(in)\"\n",
       " \"Parameter(saturationlimits)\"\n",
       " \"Block(Integrator)\"\n",
       " \"OutPort(sout)\""
      ]
     },
     "metadata": {},
     "output_type": "display_data"
    }
   ],
   "source": [
    "JuliaMBD.tsort(JuliaMBD.allcomponents(b.env[:in]))"
   ]
  },
  {
   "cell_type": "code",
   "execution_count": 239,
   "metadata": {},
   "outputs": [
    {
     "data": {
      "text/plain": [
       "11-element Vector{Expr}:\n",
       " :(())\n",
       " :(out = var\"##594\")\n",
       " :(())\n",
       " quote\n",
       "    var\"##598\" = out\n",
       "end\n",
       " :(())\n",
       " :(in = var\"##598\")\n",
       " :(var\"##593\" = in)\n",
       " quote\n",
       "    var\"##597\" = var\"##593\"\n",
       "end\n",
       " :(var\"##595\" = var\"##597\")\n",
       " :(var\"##596\" = var\"##595\")\n",
       " quote\n",
       "end"
      ]
     },
     "metadata": {},
     "output_type": "display_data"
    }
   ],
   "source": [
    "expr = [JuliaMBD._expr(m) for m = JuliaMBD.tsort(JuliaMBD.allcomponents(b.env[:in]))]\n"
   ]
  },
  {
   "cell_type": "code",
   "execution_count": 240,
   "metadata": {},
   "outputs": [
    {
     "data": {
      "text/plain": [
       "\"Block(Add)\""
      ]
     },
     "metadata": {},
     "output_type": "display_data"
    }
   ],
   "source": [
    "b = JuliaMBD.Add(signs=[:+, :-])"
   ]
  },
  {
   "cell_type": "code",
   "execution_count": 241,
   "metadata": {},
   "outputs": [
    {
     "data": {
      "text/plain": [
       "2-element Vector{Main.JuliaMBD.AbstractInPortBlock}:\n",
       " \"InPort(##600)\"\n",
       " \"InPort(##601)\""
      ]
     },
     "metadata": {},
     "output_type": "display_data"
    }
   ],
   "source": [
    "b.inports"
   ]
  },
  {
   "cell_type": "code",
   "execution_count": 392,
   "metadata": {},
   "outputs": [
    {
     "data": {
      "text/plain": [
       "RLC (generic function with 1 method)"
      ]
     },
     "metadata": {},
     "output_type": "display_data"
    }
   ],
   "source": [
    "## RLC\n",
    "\n",
    "function RLC(;R = :R, L = :L, C = :C)\n",
    "    b = JuliaMBD.SubSystemBlock(:RLC)\n",
    "    JuliaMBD.addparameter!(b, :R, R)\n",
    "    JuliaMBD.addparameter!(b, :L, L)\n",
    "    JuliaMBD.addparameter!(b, :C, C)\n",
    "    int1 = JuliaMBD.Integrator(sin = JuliaMBD.OutPort(:int1sin), sout = JuliaMBD.OutPort(:int1sout))\n",
    "    int2 = JuliaMBD.Integrator(sin = JuliaMBD.OutPort(:int2sin), sout = JuliaMBD.OutPort(:int2sout))\n",
    "    in1 = JuliaMBD.Inport(:in1)\n",
    "    out1 = JuliaMBD.Outport(:out1)\n",
    "    gain1 = JuliaMBD.Gain()\n",
    "    gain2 = JuliaMBD.Gain()\n",
    "    gain3 = JuliaMBD.Gain()\n",
    "    sum1 = JuliaMBD.Add(signs=[:+, :-, :-])\n",
    "    JuliaMBD.add!(b, int1)\n",
    "    JuliaMBD.add!(b, int2)\n",
    "    JuliaMBD.add!(b, in1)\n",
    "    JuliaMBD.add!(b, out1)\n",
    "    JuliaMBD.add!(b, gain1)\n",
    "    JuliaMBD.add!(b, gain2)\n",
    "    JuliaMBD.add!(b, gain3)\n",
    "    JuliaMBD.add!(b, sum1)\n",
    "    JuliaMBD.ConstSignal(:R, gain1.env[:K])\n",
    "    JuliaMBD.ConstSignal(:(1/C), gain2.env[:K])\n",
    "    JuliaMBD.ConstSignal(:(1/L), gain3.env[:K])\n",
    "    JuliaMBD.LineSignal(in1.env[:out], sum1.env[:in1], \"\")\n",
    "    JuliaMBD.LineSignal(gain1.env[:out], sum1.env[:in2], \"\")\n",
    "    JuliaMBD.LineSignal(int1.env[:out], sum1.env[:in3], \"\")\n",
    "    JuliaMBD.LineSignal(sum1.env[:out], gain3.env[:in], \"\")\n",
    "    JuliaMBD.LineSignal(gain3.env[:out], int2.env[:in], \"\")\n",
    "    JuliaMBD.LineSignal(int2.env[:out], out1.env[:in], \"\")\n",
    "    JuliaMBD.LineSignal(int2.env[:out], gain1.env[:in], \"\")\n",
    "    JuliaMBD.LineSignal(int2.env[:out], gain2.env[:in], \"\")\n",
    "    JuliaMBD.LineSignal(gain2.env[:out], int1.env[:in], \"\")\n",
    "    b\n",
    "end"
   ]
  },
  {
   "cell_type": "code",
   "execution_count": 398,
   "metadata": {},
   "outputs": [
    {
     "data": {
      "text/plain": [
       "RLCTest (generic function with 1 method)"
      ]
     },
     "metadata": {},
     "output_type": "display_data"
    }
   ],
   "source": [
    "## RLC test\n",
    "\n",
    "function RLCTest(;R = :R, L = :L, C = :C, voltage = :voltage)\n",
    "    b = JuliaMBD.SubSystemBlock(:RLCTest)\n",
    "    JuliaMBD.addparameter!(b, :R, R)\n",
    "    JuliaMBD.addparameter!(b, :L, L)\n",
    "    JuliaMBD.addparameter!(b, :C, C)\n",
    "    JuliaMBD.addparameter!(b, :voltage, voltage)\n",
    "    system = RLC(R=R, L=L, C=C)\n",
    "    source = JuliaMBD.Step()\n",
    "    JuliaMBD.LineSignal(b.timeport, source.env[:time], \"\")\n",
    "    JuliaMBD.ConstSignal(0.1, source.env[:steptime])\n",
    "    JuliaMBD.ConstSignal(voltage, source.env[:finalvalue])\n",
    "    JuliaMBD.add!(b, system)\n",
    "    JuliaMBD.add!(b, source)\n",
    "    JuliaMBD.LineSignal(source.env[:out], system.env[:in1], \"\")\n",
    "    b\n",
    "end"
   ]
  },
  {
   "cell_type": "code",
   "execution_count": 399,
   "metadata": {},
   "outputs": [
    {
     "data": {
      "text/plain": [
       "\"Block(RLCTest)\""
      ]
     },
     "metadata": {},
     "output_type": "display_data"
    }
   ],
   "source": [
    "b = RLC() #R=10, L=100e-3, C=100e-6)\n",
    "b = RLCTest(R=10, L=100e-3, C=100e-6, voltage=5)"
   ]
  },
  {
   "cell_type": "code",
   "execution_count": 400,
   "metadata": {},
   "outputs": [
    {
     "data": {
      "text/plain": [
       ":(function RLCTest_sfunc(int1sin, int2sin; R = 10, L = 0.1, C = 0.0001, voltage = 5, time = time, time = 0)\n",
       "      ()\n",
       "      ()\n",
       "      ()\n",
       "      begin\n",
       "          var\"##1580\" = int1sin\n",
       "      end\n",
       "      ()\n",
       "      begin\n",
       "          var\"##1583\" = int2sin\n",
       "          var\"##1584\" = int2sin\n",
       "          var\"##1585\" = int2sin\n",
       "      end\n",
       "      var\"##1566\" = var\"##1584\"\n",
       "      var\"##1571\" = 1 / L\n",
       "      var\"##1589\" = 0.1\n",
       "      var\"##1588\" = var\"##1592\"\n",
       "      ()\n",
       "      var\"##1564\" = var\"##1583\"\n",
       "      out1 = var\"##1564\"\n",
       "      begin\n",
       "      end\n",
       "      var\"##1565\" = R\n",
       "      var\"##1567\" = var\"##1565\" * var\"##1566\"\n",
       "      begin\n",
       "          var\"##1579\" = var\"##1567\"\n",
       "      end\n",
       "      var\"##1576\" = var\"##1579\"\n",
       "      ()\n",
       "      var\"##1569\" = var\"##1585\"\n",
       "      var\"##1577\" = var\"##1580\"\n",
       "      var\"##1591\" = 5\n",
       "      begin\n",
       "          \u001b[90m#= /workspaces/JuliaMBD/src/predefined/Sources/Step.jl:23 =#\u001b[39m\n",
       "          if var\"##1588\" < var\"##1589\"\n",
       "              \u001b[90m#= /workspaces/JuliaMBD/src/predefined/Sources/Step.jl:24 =#\u001b[39m\n",
       "              var\"##1590\"\n",
       "          else\n",
       "              \u001b[90m#= /workspaces/JuliaMBD/src/predefined/Sources/Step.jl:26 =#\u001b[39m\n",
       "              var\"##1591\"\n",
       "          end\n",
       "      end\n",
       "      begin\n",
       "          var\"##1593\" = var\"##1587\"\n",
       "      end\n",
       "      in1 = var\"##1593\"\n",
       "      var\"##1563\" = in1\n",
       "      begin\n",
       "          var\"##1578\" = var\"##1563\"\n",
       "      end\n",
       "      var\"##1575\" = var\"##1578\"\n",
       "      var\"##1574\" = ((0 + var\"##1575\") - var\"##1576\") - var\"##1577\"\n",
       "      begin\n",
       "          var\"##1581\" = var\"##1574\"\n",
       "      end\n",
       "      var\"##1568\" = 1 / C\n",
       "      var\"##1570\" = var\"##1568\" * var\"##1569\"\n",
       "      begin\n",
       "          var\"##1586\" = var\"##1570\"\n",
       "      end\n",
       "      var\"##1561\" = var\"##1586\"\n",
       "      int1sout = var\"##1561\"\n",
       "      begin\n",
       "      end\n",
       "      var\"##1572\" = var\"##1581\"\n",
       "      var\"##1573\" = var\"##1571\" * var\"##1572\"\n",
       "      begin\n",
       "          var\"##1582\" = var\"##1573\"\n",
       "      end\n",
       "      var\"##1562\" = var\"##1582\"\n",
       "      int2sout = var\"##1562\"\n",
       "      begin\n",
       "      end\n",
       "      (int1sout = int1sout, int2sout = int2sout)\n",
       "  end)"
      ]
     },
     "metadata": {},
     "output_type": "display_data"
    }
   ],
   "source": [
    "JuliaMBD.expr_sfunc(b)"
   ]
  },
  {
   "cell_type": "code",
   "execution_count": 401,
   "metadata": {},
   "outputs": [
    {
     "data": {
      "text/plain": [
       ":((dx, x, p, t)->begin\n",
       "          (x[1], x[2]) = RLCTest_sfunc(dx[1], dx[2], R = p[1], L = p[2], C = p[3], voltage = p[4], time = p[5], time = t)\n",
       "      end)"
      ]
     },
     "metadata": {},
     "output_type": "display_data"
    }
   ],
   "source": [
    "JuliaMBD.expr_odemodel_sfunc(b)"
   ]
  },
  {
   "cell_type": "code",
   "execution_count": null,
   "metadata": {},
   "outputs": [],
   "source": []
  }
 ],
 "metadata": {
  "kernelspec": {
   "display_name": "Julia 1.8.3",
   "language": "julia",
   "name": "julia-1.8"
  },
  "language_info": {
   "file_extension": ".jl",
   "mimetype": "application/julia",
   "name": "julia",
   "version": "1.8.3"
  }
 },
 "nbformat": 4,
 "nbformat_minor": 2
}
