{
 "cells": [
  {
   "cell_type": "code",
   "execution_count": 124,
   "metadata": {},
   "outputs": [
    {
     "name": "stderr",
     "output_type": "stream",
     "text": [
      "WARNING: replacing module JuliaMBD.\n"
     ]
    },
    {
     "data": {
      "text/plain": [
       "Main.JuliaMBD"
      ]
     },
     "metadata": {},
     "output_type": "display_data"
    }
   ],
   "source": [
    "include(\"../src/JuliaMBD.jl\")"
   ]
  },
  {
   "cell_type": "code",
   "execution_count": 125,
   "metadata": {},
   "outputs": [],
   "source": [
    "import .JuliaMBD"
   ]
  },
  {
   "cell_type": "code",
   "execution_count": 126,
   "metadata": {},
   "outputs": [
    {
     "data": {
      "text/plain": [
       "\"Line(##399)\""
      ]
     },
     "metadata": {},
     "output_type": "display_data"
    }
   ],
   "source": [
    "b = JuliaMBD.SimpleBlock(:test, JuliaMBD.GainBlockType)\n",
    "pout = JuliaMBD.OutPort(:a, Float64)\n",
    "pin = JuliaMBD.InPort(:b, Float64)\n",
    "JuliaMBD.set!(b, pout.name, pout)\n",
    "JuliaMBD.set!(b, pin.name, pin)\n",
    "pext = JuliaMBD.OutPort(:ex)\n",
    "JuliaMBD.LineSignal(pext, pin, \"s(t)\")"
   ]
  },
  {
   "cell_type": "code",
   "execution_count": 127,
   "metadata": {},
   "outputs": [
    {
     "data": {
      "text/plain": [
       "4-element Vector{Main.JuliaMBD.AbstractComponent}:\n",
       " \"OutPort(ex)\"\n",
       " \"InPort(b)\"\n",
       " \"Block(test)\"\n",
       " \"OutPort(a)\""
      ]
     },
     "metadata": {},
     "output_type": "display_data"
    }
   ],
   "source": [
    "JuliaMBD.tsort(JuliaMBD.allcomponents(b))"
   ]
  },
  {
   "cell_type": "code",
   "execution_count": 128,
   "metadata": {},
   "outputs": [
    {
     "data": {
      "text/plain": [
       "\"Block(Gain)\""
      ]
     },
     "metadata": {},
     "output_type": "display_data"
    }
   ],
   "source": [
    "bb = JuliaMBD.Gain()"
   ]
  },
  {
   "cell_type": "code",
   "execution_count": 129,
   "metadata": {},
   "outputs": [
    {
     "data": {
      "text/plain": [
       "\"Line(##407)\""
      ]
     },
     "metadata": {},
     "output_type": "display_data"
    }
   ],
   "source": [
    "b1 = JuliaMBD.Inport(:t, Float64)\n",
    "b2 = JuliaMBD.Gain(in=JuliaMBD.InPort(:gainin), out=JuliaMBD.OutPort(:gainout))\n",
    "b3 = JuliaMBD.Outport(:y, Float64)\n",
    "JuliaMBD.ConstSignal(:K, b2.env[:K])\n",
    "JuliaMBD.LineSignal(b1.outports[1], b2.env[:in], \"s(t)\")\n",
    "JuliaMBD.LineSignal(b2.env[:out], b3.inports[1], \"s(t)\")"
   ]
  },
  {
   "cell_type": "code",
   "execution_count": 130,
   "metadata": {},
   "outputs": [
    {
     "data": {
      "text/plain": [
       "10-element Vector{Main.JuliaMBD.AbstractComponent}:\n",
       " \"InPort(t)\"\n",
       " \"Block(t)\"\n",
       " \"OutPort(##403)\"\n",
       " \"Parameter(##404)\"\n",
       " \"InPort(gainin)\"\n",
       " \"Block(Gain)\"\n",
       " \"OutPort(gainout)\"\n",
       " \"InPort(##405)\"\n",
       " \"Block(y)\"\n",
       " \"OutPort(y)\""
      ]
     },
     "metadata": {},
     "output_type": "display_data"
    }
   ],
   "source": [
    "JuliaMBD.tsort(JuliaMBD.allcomponents(b3))"
   ]
  },
  {
   "cell_type": "code",
   "execution_count": 131,
   "metadata": {},
   "outputs": [
    {
     "data": {
      "text/plain": [
       "10-element Vector{Expr}:\n",
       " :(())\n",
       " :(var\"##403\" = (Float64)(t))\n",
       " quote\n",
       "    var\"##406\" = var\"##403\"\n",
       "end\n",
       " :(var\"##404\" = K)\n",
       " :(gainin = var\"##406\")\n",
       " :(gainout = var\"##404\" * gainin)\n",
       " quote\n",
       "    var\"##407\" = gainout\n",
       "end\n",
       " :(var\"##405\" = var\"##407\")\n",
       " :(y = (Float64)(var\"##405\"))\n",
       " quote\n",
       "end"
      ]
     },
     "metadata": {},
     "output_type": "display_data"
    }
   ],
   "source": [
    "expr = [JuliaMBD._expr(m) for m = JuliaMBD.tsort(JuliaMBD.allcomponents(b3))]\n",
    "    "
   ]
  },
  {
   "cell_type": "code",
   "execution_count": 132,
   "metadata": {},
   "outputs": [
    {
     "data": {
      "text/plain": [
       "Sys1 (generic function with 1 method)"
      ]
     },
     "metadata": {},
     "output_type": "display_data"
    }
   ],
   "source": [
    "function Sys1()\n",
    "    b = JuliaMBD.SubSystemBlock(:Sys1)\n",
    "    b1 = JuliaMBD.Inport(:t, Float64)\n",
    "    b2 = JuliaMBD.Gain()\n",
    "    b3 = JuliaMBD.Outport(:y, Float64)\n",
    "    JuliaMBD.set!(b, b1.name, b1)\n",
    "    JuliaMBD.set!(b, b2.name, b2)\n",
    "    JuliaMBD.set!(b, b3.name, b3)\n",
    "    JuliaMBD.LineSignal(b1.env[:out], b2.env[:in], \"s(t)\")\n",
    "    JuliaMBD.LineSignal(b2.env[:out], b3.env[:in], \"s(t)\")\n",
    "    JuliaMBD.ConstSignal(:K, b2.env[:K])\n",
    "    b\n",
    "end\n"
   ]
  },
  {
   "cell_type": "code",
   "execution_count": 133,
   "metadata": {},
   "outputs": [
    {
     "data": {
      "text/plain": [
       "\"Block(Sys1)\""
      ]
     },
     "metadata": {},
     "output_type": "display_data"
    }
   ],
   "source": [
    "b = Sys1()"
   ]
  },
  {
   "cell_type": "code",
   "execution_count": 134,
   "metadata": {},
   "outputs": [
    {
     "data": {
      "text/plain": [
       "\"Line(##415)\""
      ]
     },
     "metadata": {},
     "output_type": "display_data"
    }
   ],
   "source": [
    "p = JuliaMBD.OutPort(:t)\n",
    "JuliaMBD.LineSignal(p, b.inports[1], \"s(t)\")"
   ]
  },
  {
   "cell_type": "code",
   "execution_count": 135,
   "metadata": {},
   "outputs": [
    {
     "data": {
      "text/plain": [
       "11-element Vector{Expr}:\n",
       " quote\n",
       "    var\"##415\" = t\n",
       "end\n",
       " :(t = (Float64)(var\"##415\"))\n",
       " :(var\"##408\" = (Float64)(t))\n",
       " quote\n",
       "    var\"##413\" = var\"##408\"\n",
       "end\n",
       " :(var\"##410\" = var\"##413\")\n",
       " :(())\n",
       " :(var\"##411\" = var\"##409\" * var\"##410\")\n",
       " quote\n",
       "    var\"##414\" = var\"##411\"\n",
       "end\n",
       " :(var\"##412\" = var\"##414\")\n",
       " :(y = (Float64)(var\"##412\"))\n",
       " quote\n",
       "end"
      ]
     },
     "metadata": {},
     "output_type": "display_data"
    }
   ],
   "source": [
    "expr = [JuliaMBD._expr(m) for m = JuliaMBD.tsort(JuliaMBD.allcomponents(p))]\n"
   ]
  },
  {
   "cell_type": "code",
   "execution_count": 121,
   "metadata": {},
   "outputs": [
    {
     "data": {
      "text/plain": [
       "\"Line(##398)\""
      ]
     },
     "metadata": {},
     "output_type": "display_data"
    }
   ],
   "source": [
    "b = JuliaMBD.Integrator()\n",
    "JuliaMBD.LineSignal(b.env[:out], b.env[:in], \"s(t)\")"
   ]
  },
  {
   "cell_type": "code",
   "execution_count": 122,
   "metadata": {},
   "outputs": [
    {
     "data": {
      "text/plain": [
       "11-element Vector{Main.JuliaMBD.AbstractComponent}:\n",
       " \"InPort(in)\"\n",
       " \"Block(out)\"\n",
       " \"OutPort(out)\"\n",
       " \"Parameter(saturationlimits)\"\n",
       " \"Parameter(initialcondition)\"\n",
       " \"InPort(in)\"\n",
       " \"Block(in)\"\n",
       " \"OutPort(out)\"\n",
       " \"InPort(sin)\"\n",
       " \"Block(IntegratorInner)\"\n",
       " \"OutPort(sout)\""
      ]
     },
     "metadata": {},
     "output_type": "display_data"
    }
   ],
   "source": [
    "JuliaMBD.tsort(JuliaMBD.allcomponents(b.env[:in]))"
   ]
  },
  {
   "cell_type": "code",
   "execution_count": 123,
   "metadata": {},
   "outputs": [
    {
     "data": {
      "text/plain": [
       "11-element Vector{Expr}:\n",
       " :(())\n",
       " :(out = in)\n",
       " quote\n",
       "    var\"##398\" = out\n",
       "end\n",
       " :(())\n",
       " :(())\n",
       " :(in = var\"##398\")\n",
       " :(out = in)\n",
       " quote\n",
       "    var\"##397\" = out\n",
       "end\n",
       " :(sin = var\"##397\")\n",
       " :(sout = sin)\n",
       " quote\n",
       "end"
      ]
     },
     "metadata": {},
     "output_type": "display_data"
    }
   ],
   "source": [
    "expr = [JuliaMBD._expr(m) for m = JuliaMBD.tsort(JuliaMBD.allcomponents(b.env[:in]))]\n"
   ]
  },
  {
   "cell_type": "code",
   "execution_count": 31,
   "metadata": {},
   "outputs": [
    {
     "data": {
      "text/plain": [
       "\"Block(Add)\""
      ]
     },
     "metadata": {},
     "output_type": "display_data"
    }
   ],
   "source": [
    "b = JuliaMBD.Add(signs=[:+, :-])"
   ]
  },
  {
   "cell_type": "code",
   "execution_count": 32,
   "metadata": {},
   "outputs": [
    {
     "data": {
      "text/plain": [
       "2-element Vector{Main.JuliaMBD.AbstractInPortBlock}:\n",
       " \"InPort(in1)\"\n",
       " \"InPort(in2)\""
      ]
     },
     "metadata": {},
     "output_type": "display_data"
    }
   ],
   "source": [
    "b.inports"
   ]
  },
  {
   "cell_type": "code",
   "execution_count": null,
   "metadata": {},
   "outputs": [],
   "source": []
  }
 ],
 "metadata": {
  "kernelspec": {
   "display_name": "Julia 1.8.3",
   "language": "julia",
   "name": "julia-1.8"
  },
  "language_info": {
   "file_extension": ".jl",
   "mimetype": "application/julia",
   "name": "julia",
   "version": "1.8.3"
  }
 },
 "nbformat": 4,
 "nbformat_minor": 2
}
