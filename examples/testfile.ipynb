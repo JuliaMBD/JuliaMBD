{
 "cells": [
  {
   "cell_type": "code",
   "execution_count": 286,
   "metadata": {},
   "outputs": [
    {
     "name": "stderr",
     "output_type": "stream",
     "text": [
      "WARNING: replacing module JuliaMBD.\n"
     ]
    },
    {
     "data": {
      "text/plain": [
       "Main.JuliaMBD"
      ]
     },
     "metadata": {},
     "output_type": "display_data"
    }
   ],
   "source": [
    "include(\"../src/JuliaMBD.jl\")"
   ]
  },
  {
   "cell_type": "code",
   "execution_count": 262,
   "metadata": {},
   "outputs": [],
   "source": [
    "import .JuliaMBD"
   ]
  },
  {
   "cell_type": "code",
   "execution_count": 263,
   "metadata": {},
   "outputs": [
    {
     "data": {
      "text/plain": [
       "\"Line(##627)\""
      ]
     },
     "metadata": {},
     "output_type": "display_data"
    }
   ],
   "source": [
    "b = JuliaMBD.SimpleBlock(:test)\n",
    "pout = JuliaMBD.OutPort(:a, Float64)\n",
    "pin = JuliaMBD.InPort(:b, Float64)\n",
    "JuliaMBD.set!(b, pout.name, pout)\n",
    "JuliaMBD.set!(b, pin.name, pin)\n",
    "pext = JuliaMBD.OutPort(:ex)\n",
    "JuliaMBD.LineSignal(pext, pin, \"s(t)\")"
   ]
  },
  {
   "cell_type": "code",
   "execution_count": 264,
   "metadata": {},
   "outputs": [
    {
     "data": {
      "text/plain": [
       "4-element Vector{Main.JuliaMBD.AbstractComponent}:\n",
       " \"OutPort(ex)\"\n",
       " \"InPort(b)\"\n",
       " \"Block(test)\"\n",
       " \"OutPort(a)\""
      ]
     },
     "metadata": {},
     "output_type": "display_data"
    }
   ],
   "source": [
    "JuliaMBD.tsort(JuliaMBD.allcomponents(b))"
   ]
  },
  {
   "cell_type": "code",
   "execution_count": 265,
   "metadata": {},
   "outputs": [
    {
     "data": {
      "text/plain": [
       "\"Block(Gain)\""
      ]
     },
     "metadata": {},
     "output_type": "display_data"
    }
   ],
   "source": [
    "bb = JuliaMBD.Gain()"
   ]
  },
  {
   "cell_type": "code",
   "execution_count": 266,
   "metadata": {},
   "outputs": [
    {
     "data": {
      "text/plain": [
       "\"Line(##635)\""
      ]
     },
     "metadata": {},
     "output_type": "display_data"
    }
   ],
   "source": [
    "b1 = JuliaMBD.Inport(:t, Float64)\n",
    "b2 = JuliaMBD.Gain(in=JuliaMBD.InPort(:gainin), out=JuliaMBD.OutPort(:gainout))\n",
    "b3 = JuliaMBD.Outport(:y, Float64)\n",
    "JuliaMBD.ConstSignal(:K, b2.env[:K])\n",
    "JuliaMBD.LineSignal(b1.outports[1], b2.env[:in], \"s(t)\")\n",
    "JuliaMBD.LineSignal(b2.env[:out], b3.inports[1], \"s(t)\")"
   ]
  },
  {
   "cell_type": "code",
   "execution_count": 267,
   "metadata": {},
   "outputs": [
    {
     "data": {
      "text/plain": [
       "10-element Vector{Main.JuliaMBD.AbstractComponent}:\n",
       " \"Parameter(##632)\"\n",
       " \"InPort(t)\"\n",
       " \"Block(Inport)\"\n",
       " \"OutPort(##631)\"\n",
       " \"InPort(gainin)\"\n",
       " \"Block(Gain)\"\n",
       " \"OutPort(gainout)\"\n",
       " \"InPort(##633)\"\n",
       " \"Block(Outport)\"\n",
       " \"OutPort(y)\""
      ]
     },
     "metadata": {},
     "output_type": "display_data"
    }
   ],
   "source": [
    "JuliaMBD.tsort(JuliaMBD.allcomponents(b3))"
   ]
  },
  {
   "cell_type": "code",
   "execution_count": 268,
   "metadata": {},
   "outputs": [
    {
     "data": {
      "text/plain": [
       "10-element Vector{Expr}:\n",
       " :(var\"##632\" = K)\n",
       " :(())\n",
       " :(var\"##631\" = (Float64)(t))\n",
       " quote\n",
       "    var\"##634\" = var\"##631\"\n",
       "end\n",
       " :(gainin = var\"##634\")\n",
       " :(gainout = var\"##632\" * gainin)\n",
       " quote\n",
       "    var\"##635\" = gainout\n",
       "end\n",
       " :(var\"##633\" = var\"##635\")\n",
       " :(y = (Float64)(var\"##633\"))\n",
       " quote\n",
       "end"
      ]
     },
     "metadata": {},
     "output_type": "display_data"
    }
   ],
   "source": [
    "expr = [JuliaMBD._expr(m) for m = JuliaMBD.tsort(JuliaMBD.allcomponents(b3))]\n",
    "    "
   ]
  },
  {
   "cell_type": "code",
   "execution_count": 290,
   "metadata": {},
   "outputs": [
    {
     "data": {
      "text/plain": [
       "Sys1 (generic function with 1 method)"
      ]
     },
     "metadata": {},
     "output_type": "display_data"
    }
   ],
   "source": [
    "function Sys1()\n",
    "    b = JuliaMBD.SubSystemBlock(:Sys1)\n",
    "    b1 = JuliaMBD.Inport(:t, Float64)\n",
    "    b2 = JuliaMBD.Gain()\n",
    "    b3 = JuliaMBD.Outport(:y, Float64)\n",
    "    JuliaMBD.add!(b, b1)\n",
    "    JuliaMBD.add!(b, b2)\n",
    "    JuliaMBD.add!(b, b3)\n",
    "    JuliaMBD.set!(b, :K, b2.env[:K])\n",
    "    JuliaMBD.LineSignal(b1.env[:out], b2.env[:in], \"s(t)\")\n",
    "    JuliaMBD.LineSignal(b2.env[:out], b3.env[:in], \"s(t)\")\n",
    "    b\n",
    "end\n"
   ]
  },
  {
   "cell_type": "code",
   "execution_count": 291,
   "metadata": {},
   "outputs": [
    {
     "data": {
      "text/plain": [
       "\"Block(Sys1)\""
      ]
     },
     "metadata": {},
     "output_type": "display_data"
    }
   ],
   "source": [
    "b = Sys1()"
   ]
  },
  {
   "cell_type": "code",
   "execution_count": 292,
   "metadata": {},
   "outputs": [
    {
     "data": {
      "text/plain": [
       ":(function Sys1_systemfunction(t::Float64; var\"##686\"::Any)\n",
       "      ()\n",
       "      ()\n",
       "      var\"##685\" = (Float64)(t)\n",
       "      begin\n",
       "          var\"##690\" = var\"##685\"\n",
       "      end\n",
       "      var\"##687\" = var\"##690\"\n",
       "      var\"##688\" = var\"##686\" * var\"##687\"\n",
       "      begin\n",
       "          var\"##691\" = var\"##688\"\n",
       "      end\n",
       "      var\"##689\" = var\"##691\"\n",
       "      y = (Float64)(var\"##689\")\n",
       "      begin\n",
       "      end\n",
       "      (y = (Float64)(y),)\n",
       "  end)"
      ]
     },
     "metadata": {},
     "output_type": "display_data"
    }
   ],
   "source": [
    "expr = JuliaMBD.expr_function(b)"
   ]
  },
  {
   "cell_type": "code",
   "execution_count": 283,
   "metadata": {},
   "outputs": [
    {
     "data": {
      "text/plain": [
       "Sys2 (generic function with 1 method)"
      ]
     },
     "metadata": {},
     "output_type": "display_data"
    }
   ],
   "source": [
    "function Sys2()\n",
    "    b = JuliaMBD.SubSystemBlock(:Sys2)\n",
    "    b1 = JuliaMBD.Inport(:t, Float64)\n",
    "    b2 = Sys1()\n",
    "    b3 = JuliaMBD.Outport(:y, Float64)\n",
    "    JuliaMBD.add!(b, b1)\n",
    "    JuliaMBD.add!(b, b2)\n",
    "    JuliaMBD.add!(b, b3)\n",
    "    JuliaMBD.LineSignal(b1.env[:out], b2.env[:t], \"s(t)\")\n",
    "    JuliaMBD.LineSignal(b2.env[:y], b3.env[:in], \"s(t)\")\n",
    "    b\n",
    "end\n"
   ]
  },
  {
   "cell_type": "code",
   "execution_count": 284,
   "metadata": {},
   "outputs": [
    {
     "data": {
      "text/plain": [
       "\"Block(Sys2)\""
      ]
     },
     "metadata": {},
     "output_type": "display_data"
    }
   ],
   "source": [
    "bb = Sys2()"
   ]
  },
  {
   "cell_type": "code",
   "execution_count": 285,
   "metadata": {},
   "outputs": [
    {
     "data": {
      "text/plain": [
       ":(function Sys2_systemfunction(t::Float64; )\n",
       "      ()\n",
       "      var\"##667\" = (Float64)(t)\n",
       "      begin\n",
       "          var\"##676\" = var\"##667\"\n",
       "      end\n",
       "      t = (Float64)(var\"##676\")\n",
       "      var\"##668\" = (Float64)(t)\n",
       "      begin\n",
       "          var\"##673\" = var\"##668\"\n",
       "      end\n",
       "      var\"##669\" = K\n",
       "      var\"##670\" = var\"##673\"\n",
       "      var\"##671\" = var\"##669\" * var\"##670\"\n",
       "      begin\n",
       "          var\"##674\" = var\"##671\"\n",
       "      end\n",
       "      var\"##672\" = var\"##674\"\n",
       "      y = (Float64)(var\"##672\")\n",
       "      begin\n",
       "          var\"##677\" = (Float64)(y)\n",
       "      end\n",
       "      var\"##675\" = var\"##677\"\n",
       "      y = (Float64)(var\"##675\")\n",
       "      begin\n",
       "      end\n",
       "      (y = (Float64)(y),)\n",
       "  end)"
      ]
     },
     "metadata": {},
     "output_type": "display_data"
    }
   ],
   "source": [
    "JuliaMBD.expr_function(bb)"
   ]
  },
  {
   "cell_type": "code",
   "execution_count": 236,
   "metadata": {},
   "outputs": [
    {
     "ename": "MethodError",
     "evalue": "MethodError: no method matching allcomponents(::Main.JuliaMBD.OutPort{Any})\nClosest candidates are:\n  allcomponents(!Matched::Main.JuliaMBD.AbstractCompositeBlock) at /workspaces/JuliaMBD/src/_tsort.jl:26\n  allcomponents(!Matched::Main.JuliaMBD.AbstractComponent) at /workspaces/JuliaMBD/src/_tsort.jl:37",
     "output_type": "error",
     "traceback": [
      "MethodError: no method matching allcomponents(::Main.JuliaMBD.OutPort{Any})\n",
      "Closest candidates are:\n",
      "  allcomponents(!Matched::Main.JuliaMBD.AbstractCompositeBlock) at /workspaces/JuliaMBD/src/_tsort.jl:26\n",
      "  allcomponents(!Matched::Main.JuliaMBD.AbstractComponent) at /workspaces/JuliaMBD/src/_tsort.jl:37\n",
      "\n",
      "Stacktrace:\n",
      " [1] top-level scope\n",
      "   @ /workspaces/JuliaMBD/examples/testfile.ipynb:1"
     ]
    }
   ],
   "source": [
    "expr = [JuliaMBD._expr(m) for m = JuliaMBD.tsort(JuliaMBD.allcomponents(p))]\n"
   ]
  },
  {
   "cell_type": "code",
   "execution_count": 249,
   "metadata": {},
   "outputs": [
    {
     "data": {
      "text/plain": [
       "\"Line(##610)\""
      ]
     },
     "metadata": {},
     "output_type": "display_data"
    }
   ],
   "source": [
    "b = JuliaMBD.Integrator(in=JuliaMBD.InPort(:in), sin=JuliaMBD.OutPort(:sin), sout=JuliaMBD.OutPort(:sout))\n",
    "JuliaMBD.LineSignal(b.env[:out], b.env[:in], \"s(t)\")"
   ]
  },
  {
   "cell_type": "code",
   "execution_count": 250,
   "metadata": {},
   "outputs": [
    {
     "data": {
      "text/plain": [
       "6-element Vector{Main.JuliaMBD.AbstractComponent}:\n",
       " \"OutPort(sin)\"\n",
       " \"Parameter(initialcondition)\"\n",
       " \"InPort(in)\"\n",
       " \"Parameter(saturationlimits)\"\n",
       " \"Block(Integrator)\"\n",
       " \"OutPort(sout)\""
      ]
     },
     "metadata": {},
     "output_type": "display_data"
    }
   ],
   "source": [
    "JuliaMBD.tsort(JuliaMBD.allcomponents(b.env[:in]))"
   ]
  },
  {
   "cell_type": "code",
   "execution_count": 239,
   "metadata": {},
   "outputs": [
    {
     "data": {
      "text/plain": [
       "11-element Vector{Expr}:\n",
       " :(())\n",
       " :(out = var\"##594\")\n",
       " :(())\n",
       " quote\n",
       "    var\"##598\" = out\n",
       "end\n",
       " :(())\n",
       " :(in = var\"##598\")\n",
       " :(var\"##593\" = in)\n",
       " quote\n",
       "    var\"##597\" = var\"##593\"\n",
       "end\n",
       " :(var\"##595\" = var\"##597\")\n",
       " :(var\"##596\" = var\"##595\")\n",
       " quote\n",
       "end"
      ]
     },
     "metadata": {},
     "output_type": "display_data"
    }
   ],
   "source": [
    "expr = [JuliaMBD._expr(m) for m = JuliaMBD.tsort(JuliaMBD.allcomponents(b.env[:in]))]\n"
   ]
  },
  {
   "cell_type": "code",
   "execution_count": 240,
   "metadata": {},
   "outputs": [
    {
     "data": {
      "text/plain": [
       "\"Block(Add)\""
      ]
     },
     "metadata": {},
     "output_type": "display_data"
    }
   ],
   "source": [
    "b = JuliaMBD.Add(signs=[:+, :-])"
   ]
  },
  {
   "cell_type": "code",
   "execution_count": 241,
   "metadata": {},
   "outputs": [
    {
     "data": {
      "text/plain": [
       "2-element Vector{Main.JuliaMBD.AbstractInPortBlock}:\n",
       " \"InPort(##600)\"\n",
       " \"InPort(##601)\""
      ]
     },
     "metadata": {},
     "output_type": "display_data"
    }
   ],
   "source": [
    "b.inports"
   ]
  },
  {
   "cell_type": "code",
   "execution_count": null,
   "metadata": {},
   "outputs": [],
   "source": []
  }
 ],
 "metadata": {
  "kernelspec": {
   "display_name": "Julia 1.8.3",
   "language": "julia",
   "name": "julia-1.8"
  },
  "language_info": {
   "file_extension": ".jl",
   "mimetype": "application/julia",
   "name": "julia",
   "version": "1.8.3"
  }
 },
 "nbformat": 4,
 "nbformat_minor": 2
}
